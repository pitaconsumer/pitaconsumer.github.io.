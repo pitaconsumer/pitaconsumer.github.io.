{
  "nbformat": 4,
  "nbformat_minor": 0,
  "metadata": {
    "colab": {
      "name": "MQ_assessment_weather_of_szeged.ipynb",
      "provenance": [],
      "collapsed_sections": [],
      "include_colab_link": true
    },
    "kernelspec": {
      "name": "python3",
      "display_name": "Python 3"
    },
    "language_info": {
      "name": "python"
    }
  },
  "cells": [
    {
      "cell_type": "markdown",
      "metadata": {
        "id": "view-in-github",
        "colab_type": "text"
      },
      "source": [
        "<a href=\"https://colab.research.google.com/github/pitaconsumer/pitaconsumer.github.io./blob/master/MQ_assessment_weather_of_szeged.ipynb\" target=\"_parent\"><img src=\"https://colab.research.google.com/assets/colab-badge.svg\" alt=\"Open In Colab\"/></a>"
      ]
    },
    {
      "cell_type": "markdown",
      "metadata": {
        "id": "FqGwBA9TUunW"
      },
      "source": [
        "# Weather in Szeged, Hungary\n",
        "\n",
        "Pull from the `weatherinszeged` database on the thinkful server.\n",
        "\n",
        "Metadata here: https://www.kaggle.com/budincsevity/szeged-weather \n",
        "\n",
        "Use data from 2011-2015 for this study.\n",
        "\n",
        "Metadata includes information about units of the variables."
      ]
    },
    {
      "cell_type": "markdown",
      "metadata": {
        "id": "qWh3vxqZTUUe"
      },
      "source": [
        "Home planning: \n",
        "* I need to properly size my heating and cooling system. What are the summer and winter design temperature values for my area? The HVAC contractor would like these temperatures in Farenheit. (Summer value is the temperature where only 1% of the hours in the year are hotter, winter is where only 1% of the hours are colder.)\n",
        "    * Compare the 2011 and 2015 temperatures. How much of a difference is there, and is it statistically significant? Why are we asking about this?\n",
        "* Should I consider a small wind energy turbine for power? (If average annual wind speed is below 5 meters per second, it's generally not a good investment.)"
      ]
    },
    {
      "cell_type": "markdown",
      "metadata": {
        "id": "woIqBEWO2wMT"
      },
      "source": [
        "**Step 1: Open Data**"
      ]
    },
    {
      "cell_type": "code",
      "metadata": {
        "id": "ao7zA36k6HEq"
      },
      "source": [
        "#Pull in sqlalchemy for SQL database access\n",
        "import pandas as pd\n",
        "import numpy as np\n",
        "import matplotlib.pyplot as plt\n",
        "import seaborn as sns\n",
        "\n",
        "from sqlalchemy import create_engine\n",
        "from scipy import stats\n"
      ],
      "execution_count": 2,
      "outputs": []
    },
    {
      "cell_type": "code",
      "metadata": {
        "id": "bpTer41d4Lsz"
      },
      "source": [
        "#Define Confidence Interval for t-test\n",
        "def conf_int(s1, s2):\n",
        "    s1n = s1.shape[0]\n",
        "    s2n = s2.shape[0]\n",
        "    s1mean = s1.mean()\n",
        "    s2mean = s2.mean()\n",
        "    s1var = s1.var()\n",
        "    s2var = s2.var()\n",
        "    std_err_diff = np.sqrt((s1var/s1n)+(s2var/s2n))\n",
        "    mean_diff = s1mean - s2mean\n",
        "    margin_of_error = 1.96 * std_err_diff\n",
        "    ci_lower = mean_diff - margin_of_error\n",
        "    ci_upper = mean_diff + margin_of_error\n",
        "    return ci_lower, ci_upper"
      ],
      "execution_count": 3,
      "outputs": []
    },
    {
      "cell_type": "code",
      "metadata": {
        "id": "jJ4JUvKx4g0Q"
      },
      "source": [
        "def conf_int_1samp(s1):\n",
        "    s1n = s1.shape[0]\n",
        "    s1mean = s1.mean()\n",
        "    s1var = s1.var()\n",
        "    std_err = np.sqrt(s1var) / np.sqrt(s1n)\n",
        "    margin_of_error = 1.96 * std_err\n",
        "    ci_lower = s1mean - margin_of_error\n",
        "    ci_upper = s1mean + margin_of_error\n",
        "    return ci_lower, ci_upper"
      ],
      "execution_count": 4,
      "outputs": []
    },
    {
      "cell_type": "code",
      "metadata": {
        "colab": {
          "base_uri": "https://localhost:8080/"
        },
        "id": "oTTPiZ5b4lYc",
        "outputId": "409ec0e3-3b81-4725-a49c-84e091e8ac50"
      },
      "source": [
        "#Open database\n",
        "user = 'dabc_student'\n",
        "pwd = '7*.8G9QH21'\n",
        "host = '142.93.121.174'\n",
        "port = '5432'\n",
        "db = 'weatherinszeged'\n",
        "\n",
        "engine = create_engine(f'postgresql://{user}:{pwd}@{host}:{port}/{db}')"
      ],
      "execution_count": 5,
      "outputs": [
        {
          "output_type": "stream",
          "text": [
            "/usr/local/lib/python3.7/dist-packages/psycopg2/__init__.py:144: UserWarning: The psycopg2 wheel package will be renamed from release 2.8; in order to keep installing from binary please use \"pip install psycopg2-binary\" instead. For details see: <http://initd.org/psycopg/docs/install.html#binary-install-from-pypi>.\n",
            "  \"\"\")\n"
          ],
          "name": "stderr"
        }
      ]
    },
    {
      "cell_type": "code",
      "metadata": {
        "id": "5xI6JNDW4xVs"
      },
      "source": [
        "sql = \"\"\"\n",
        "SELECT *\n",
        "FROM weatherinszeged\n",
        "WHERE date BETWEEN '2011-01-01' AND '2015-12-31'\n",
        "ORDER BY 1;\n",
        "\"\"\""
      ],
      "execution_count": 6,
      "outputs": []
    },
    {
      "cell_type": "code",
      "metadata": {
        "id": "g2Ge9sOt41gx"
      },
      "source": [
        "weather = pd.read_sql(sql=sql, con=engine)\n",
        "\n",
        "engine.dispose()"
      ],
      "execution_count": 9,
      "outputs": []
    },
    {
      "cell_type": "markdown",
      "metadata": {
        "id": "nH3-IzVv4LdO"
      },
      "source": [
        "Step 2: Explore Data"
      ]
    },
    {
      "cell_type": "code",
      "metadata": {
        "colab": {
          "base_uri": "https://localhost:8080/",
          "height": 162
        },
        "id": "bSJrWHuC4Rev",
        "outputId": "f544b735-a5fc-43f2-c568-311c5c3cab7a"
      },
      "source": [
        "print(weather.shape)\n",
        "weather.head(2)"
      ],
      "execution_count": 10,
      "outputs": [
        {
          "output_type": "stream",
          "text": [
            "(43798, 12)\n"
          ],
          "name": "stdout"
        },
        {
          "output_type": "execute_result",
          "data": {
            "text/html": [
              "<div>\n",
              "<style scoped>\n",
              "    .dataframe tbody tr th:only-of-type {\n",
              "        vertical-align: middle;\n",
              "    }\n",
              "\n",
              "    .dataframe tbody tr th {\n",
              "        vertical-align: top;\n",
              "    }\n",
              "\n",
              "    .dataframe thead th {\n",
              "        text-align: right;\n",
              "    }\n",
              "</style>\n",
              "<table border=\"1\" class=\"dataframe\">\n",
              "  <thead>\n",
              "    <tr style=\"text-align: right;\">\n",
              "      <th></th>\n",
              "      <th>date</th>\n",
              "      <th>summary</th>\n",
              "      <th>preciptype</th>\n",
              "      <th>temperature</th>\n",
              "      <th>apparenttemperature</th>\n",
              "      <th>humidity</th>\n",
              "      <th>windspeed</th>\n",
              "      <th>windbearing</th>\n",
              "      <th>visibility</th>\n",
              "      <th>loudcover</th>\n",
              "      <th>pressure</th>\n",
              "      <th>dailysummary</th>\n",
              "    </tr>\n",
              "  </thead>\n",
              "  <tbody>\n",
              "    <tr>\n",
              "      <th>0</th>\n",
              "      <td>2011-01-01 00:00:00+00:00</td>\n",
              "      <td>Overcast</td>\n",
              "      <td>snow</td>\n",
              "      <td>-7.100000</td>\n",
              "      <td>-7.100000</td>\n",
              "      <td>0.96</td>\n",
              "      <td>3.8962</td>\n",
              "      <td>195.0</td>\n",
              "      <td>3.9123</td>\n",
              "      <td>0.0</td>\n",
              "      <td>1025.25</td>\n",
              "      <td>Foggy starting overnight.</td>\n",
              "    </tr>\n",
              "    <tr>\n",
              "      <th>1</th>\n",
              "      <td>2011-01-01 01:00:00+00:00</td>\n",
              "      <td>Overcast</td>\n",
              "      <td>snow</td>\n",
              "      <td>-7.061111</td>\n",
              "      <td>-7.061111</td>\n",
              "      <td>1.00</td>\n",
              "      <td>3.2039</td>\n",
              "      <td>171.0</td>\n",
              "      <td>3.4132</td>\n",
              "      <td>0.0</td>\n",
              "      <td>1025.07</td>\n",
              "      <td>Foggy starting overnight.</td>\n",
              "    </tr>\n",
              "  </tbody>\n",
              "</table>\n",
              "</div>"
            ],
            "text/plain": [
              "                       date   summary  ... pressure               dailysummary\n",
              "0 2011-01-01 00:00:00+00:00  Overcast  ...  1025.25  Foggy starting overnight.\n",
              "1 2011-01-01 01:00:00+00:00  Overcast  ...  1025.07  Foggy starting overnight.\n",
              "\n",
              "[2 rows x 12 columns]"
            ]
          },
          "metadata": {
            "tags": []
          },
          "execution_count": 10
        }
      ]
    },
    {
      "cell_type": "code",
      "metadata": {
        "colab": {
          "base_uri": "https://localhost:8080/"
        },
        "id": "W4F7Bz5k5DSN",
        "outputId": "ecf30be9-a16b-45b3-8419-3f338331cd29"
      },
      "source": [
        "weather.dtypes\n",
        "#We have mainly float64/numeric data\n"
      ],
      "execution_count": 11,
      "outputs": [
        {
          "output_type": "execute_result",
          "data": {
            "text/plain": [
              "date                   datetime64[ns, UTC]\n",
              "summary                             object\n",
              "preciptype                          object\n",
              "temperature                        float64\n",
              "apparenttemperature                float64\n",
              "humidity                           float64\n",
              "windspeed                          float64\n",
              "windbearing                        float64\n",
              "visibility                         float64\n",
              "loudcover                          float64\n",
              "pressure                           float64\n",
              "dailysummary                        object\n",
              "dtype: object"
            ]
          },
          "metadata": {
            "tags": []
          },
          "execution_count": 11
        }
      ]
    },
    {
      "cell_type": "markdown",
      "metadata": {
        "id": "kH_ZQcyG4Rqo"
      },
      "source": [
        "**Step 3: Clean Data**"
      ]
    },
    {
      "cell_type": "code",
      "metadata": {
        "id": "8VlbSMSR5LDQ"
      },
      "source": [
        "#Convert Fahrenheit to Celsius by multiplying by 9/5 and adding 32\n",
        "weather['temperature_F'] = (weather['temperature'] * (9/5)) + 32\n",
        "weather['apparent_temperature_F'] = (weather['apparenttemperature'] * (9/5)) + 32\n",
        "weather['windspeed_mps'] = weather['windspeed'] / 3.6\n",
        "weather['windspeed_mph'] = weather['windspeed'] / 1.609"
      ],
      "execution_count": 12,
      "outputs": []
    },
    {
      "cell_type": "markdown",
      "metadata": {
        "id": "qvpWFsm86W1M"
      },
      "source": [
        "**Step 4: Visualize Data**"
      ]
    },
    {
      "cell_type": "code",
      "metadata": {
        "colab": {
          "base_uri": "https://localhost:8080/",
          "height": 350
        },
        "id": "3zK1Lu4l53rn",
        "outputId": "afb9d5a8-86a8-4b15-eb62-858976074e3a"
      },
      "source": [
        "#Plot Temperature over time ('date')\n",
        "plt.figure(figsize=(15,5))\n",
        "sns.lineplot(x='date', y='temperature_F', data=weather)\n",
        "plt.title('Temperature over Time')\n",
        "plt.show()"
      ],
      "execution_count": 13,
      "outputs": [
        {
          "output_type": "display_data",
          "data": {
            "image/png": "[encoded data removed]",
            "text/plain": [
              "<Figure size 1080x360 with 1 Axes>"
            ]
          },
          "metadata": {
            "tags": [],
            "needs_background": "light"
          }
        }
      ]
    },
    {
      "cell_type": "code",
      "metadata": {
        "colab": {
          "base_uri": "https://localhost:8080/"
        },
        "id": "vLY_rdcm93DH",
        "outputId": "5ef2ed93-cd42-4f5b-c6dc-b45ff43f42f8"
      },
      "source": [
        "#Create degree sign\n",
        "degree_sign = u'\\N{DEGREE SIGN}'\n",
        "print(degree_sign)"
      ],
      "execution_count": 20,
      "outputs": [
        {
          "output_type": "stream",
          "text": [
            "°\n"
          ],
          "name": "stdout"
        }
      ]
    },
    {
      "cell_type": "code",
      "metadata": {
        "colab": {
          "base_uri": "https://localhost:8080/"
        },
        "id": "Ljv3N0_a6cTv",
        "outputId": "05a89636-59c0-4b24-fa5f-78a4f5a031a2"
      },
      "source": [
        "#Visualize Winter Versus Summer by splitting into percentiles\n",
        "winter_design_temp = np.percentile(weather['temperature_F'], 1)\n",
        "summer_design_temp = np.percentile(weather['temperature_F'], 99)\n",
        "\n",
        "#insert degree sign\n",
        "print(f'Winter design temp: {winter_design_temp:.0f}{degree_sign} F \\nSummer design temp: {summer_design_temp:.0f}{degree_sign} F')\n"
      ],
      "execution_count": 22,
      "outputs": [
        {
          "output_type": "stream",
          "text": [
            "Winter design temp: 18° F \n",
            "Summer design temp: 93° F\n"
          ],
          "name": "stdout"
        }
      ]
    },
    {
      "cell_type": "code",
      "metadata": {
        "colab": {
          "base_uri": "https://localhost:8080/",
          "height": 265
        },
        "id": "vx6jYQyn7MRY",
        "outputId": "a6aa3c43-8773-48d1-868f-52e3eff8bdb3"
      },
      "source": [
        "#Plot winter and summer design temperatures from the 1st and 99th percentiles of the temperature histogram. \n",
        "plt.hist(weather['temperature_F'], bins=40)\n",
        "plt.axvline(winter_design_temp, c='k')\n",
        "plt.axvline(summer_design_temp, c='k')\n",
        "plt.show()"
      ],
      "execution_count": 18,
      "outputs": [
        {
          "output_type": "display_data",
          "data": {
            "image/png": "[encoded data removed]",
            "text/plain": [
              "<Figure size 432x288 with 1 Axes>"
            ]
          },
          "metadata": {
            "tags": [],
            "needs_background": "light"
          }
        }
      ]
    },
    {
      "cell_type": "markdown",
      "metadata": {
        "id": "axEJxeUN-XOe"
      },
      "source": [
        "Analysis: \n",
        "The split between 1st and 99th percentiles will allow the contractor to appropriately size the heating and cooling systems. We are using 2011-2015 data for this, so the extremes of any specific year have less of an affect on my results. However, there might be overall trends in temperature that change over time - that could possibly affect our results. Let's compare the average temperatures between our beginning and ending years and see if there's a significant difference."
      ]
    },
    {
      "cell_type": "code",
      "metadata": {
        "id": "6La91UoH-RsF"
      },
      "source": [
        "#Split data into 2 time periods: beginning, 2011 and end, 2015 timestamps\n",
        "weather_2011 = weather.loc[weather['date'] <= '2011-12-31']\n",
        "weather_2015 = weather.loc[(weather['date'] >= '2015-01-01') & (weather['date'] <= '2015-12-31')]"
      ],
      "execution_count": 23,
      "outputs": []
    },
    {
      "cell_type": "code",
      "metadata": {
        "colab": {
          "base_uri": "https://localhost:8080/",
          "height": 265
        },
        "id": "_M1Xdqlb_A-a",
        "outputId": "e70bcf2e-7b14-467d-b5dc-81dd0a4ad7ed"
      },
      "source": [
        "#Visualize\n",
        "sns.boxenplot(data=[weather_2011['temperature_F'], weather_2015['temperature_F']])\n",
        "plt.show()"
      ],
      "execution_count": 24,
      "outputs": [
        {
          "output_type": "display_data",
          "data": {
            "image/png": "[encoded data removed]",
            "text/plain": [
              "<Figure size 432x288 with 1 Axes>"
            ]
          },
          "metadata": {
            "tags": [],
            "needs_background": "light"
          }
        }
      ]
    },
    {
      "cell_type": "code",
      "metadata": {
        "colab": {
          "base_uri": "https://localhost:8080/"
        },
        "id": "DkkJctFe-Rwl",
        "outputId": "eeceda3d-7060-4759-cfc8-31b7ed2c2e57"
      },
      "source": [
        "#Run a t-test to see if signficant difference due to randomness\n",
        "stats.ttest_ind(weather_2011['temperature_F'], weather_2015['temperature_F'])"
      ],
      "execution_count": 25,
      "outputs": [
        {
          "output_type": "execute_result",
          "data": {
            "text/plain": [
              "Ttest_indResult(statistic=-5.449802489911195, pvalue=5.110836582308576e-08)"
            ]
          },
          "metadata": {
            "tags": []
          },
          "execution_count": 25
        }
      ]
    },
    {
      "cell_type": "markdown",
      "metadata": {
        "id": "2qDCQ6Fy_n_S"
      },
      "source": [
        "Our p-value is less than .001. Review Confidence Interval. \n"
      ]
    },
    {
      "cell_type": "code",
      "metadata": {
        "colab": {
          "base_uri": "https://localhost:8080/"
        },
        "id": "8BkTCG2E_t1V",
        "outputId": "ba9c6d17-b2ab-4c7d-f8e3-e8706561c308"
      },
      "source": [
        "#noted confidence upper and low bound\n",
        "lower, upper = conf_int(weather_2015['temperature_F'], weather_2011['temperature_F'])\n",
        "print(f'The difference in means at the 95% confidence level is between {lower:.2f} and {upper:.2f} degrees Farenheit.')"
      ],
      "execution_count": 26,
      "outputs": [
        {
          "output_type": "stream",
          "text": [
            "The difference in means at the 95% confidence level is between 0.93 and 1.97 degrees Farenheit.\n"
          ],
          "name": "stdout"
        }
      ]
    },
    {
      "cell_type": "markdown",
      "metadata": {
        "id": "bJYKeZZ0ACD3"
      },
      "source": [
        "Accordingly,with a p value of much smaller than 0.05, the difference in means is statistically significant. \n",
        "\n",
        "The actual difference in means is not very large. See how 2015 is between 1 and 2 degrees F hotter than 2011? This shouldn't make a huge difference in our estimates for winter and summer design temperatures."
      ]
    },
    {
      "cell_type": "markdown",
      "metadata": {
        "id": "VFkBpcxyAPeH"
      },
      "source": [
        "*Issue 2: Should we consider a small wind energy turbine for power? (If average annual wind speed is below 5 meters per second, it's generally not a good investment.)*\n",
        "\n",
        "Null Hypothesis: There is no difference between the mean wind speed and the required wind speed of 5.0 meters per second."
      ]
    },
    {
      "cell_type": "code",
      "metadata": {
        "colab": {
          "base_uri": "https://localhost:8080/"
        },
        "id": "MQyw6roHAO9V",
        "outputId": "71e36e55-c8e9-4020-c5ce-a35760a80e1e"
      },
      "source": [
        "#Calculate average wind speed in meters per second\n",
        "avg_mps = weather['windspeed_mps'].mean()\n",
        "print(f'Annual average wind speed {avg_mps:.2f} meters per second')\n",
        "print(f'Target annual average wind speed 5.0 meters per second')\n"
      ],
      "execution_count": 27,
      "outputs": [
        {
          "output_type": "stream",
          "text": [
            "Annual average wind speed 2.97 meters per second\n",
            "Target annual average wind speed 5.0 meters per second\n"
          ],
          "name": "stdout"
        }
      ]
    },
    {
      "cell_type": "code",
      "metadata": {
        "colab": {
          "base_uri": "https://localhost:8080/",
          "height": 265
        },
        "id": "1rWnW1B3AMGJ",
        "outputId": "b5e85900-5d1c-496c-9aeb-60bb82f133b5"
      },
      "source": [
        "#Plot\n",
        "plt.hist(weather['windspeed_mps'], bins=20)\n",
        "plt.axvline(avg_mps, c='r')\n",
        "plt.axvline(5.0, c='k')\n",
        "plt.show()"
      ],
      "execution_count": 28,
      "outputs": [
        {
          "output_type": "display_data",
          "data": {
            "image/png": "[encoded data removed]",
            "text/plain": [
              "<Figure size 432x288 with 1 Axes>"
            ]
          },
          "metadata": {
            "tags": [],
            "needs_background": "light"
          }
        }
      ]
    },
    {
      "cell_type": "markdown",
      "metadata": {
        "id": "MW60-UYVAomi"
      },
      "source": [
        "Run a t-test to review if significant difference compared to 5 mps."
      ]
    },
    {
      "cell_type": "code",
      "metadata": {
        "colab": {
          "base_uri": "https://localhost:8080/"
        },
        "id": "qiHz3vh4AtmE",
        "outputId": "5fc9bbd2-643d-4b2b-ce1b-02ec7d50922e"
      },
      "source": [
        "stats.ttest_1samp(weather['windspeed_mps'], 5.0)"
      ],
      "execution_count": 29,
      "outputs": [
        {
          "output_type": "execute_result",
          "data": {
            "text/plain": [
              "Ttest_1sampResult(statistic=-220.75543592600232, pvalue=0.0)"
            ]
          },
          "metadata": {
            "tags": []
          },
          "execution_count": 29
        }
      ]
    },
    {
      "cell_type": "code",
      "metadata": {
        "colab": {
          "base_uri": "https://localhost:8080/"
        },
        "id": "Mv92FiyAA9v_",
        "outputId": "edd51302-ecab-48a6-f855-3dce51c64467"
      },
      "source": [
        "#Using our established CI att 95%, check upper and lower\n",
        "lower, upper = conf_int_1samp(weather['windspeed_mps'])\n",
        "print(f'The population mean at the 95% confidence level is between {lower:.2f} and {upper:.2f} meters per second.')"
      ],
      "execution_count": 31,
      "outputs": [
        {
          "output_type": "stream",
          "text": [
            "The population mean at the 95% confidence level is between 2.95 and 2.98 meters per second.\n"
          ],
          "name": "stdout"
        }
      ]
    },
    {
      "cell_type": "markdown",
      "metadata": {
        "id": "HivHJkleBdSv"
      },
      "source": [
        "Response\n",
        "*   The average annual wind speed in the area is far too low (2.95 to 2.98 mps) for a wind power system. \n",
        "\n",
        "*   The p value for the 1 sample t test is so low it registers as 0.\n",
        "*   Therefre, we should reject the null of no difference between the mean and the required wind speed of 5.0 meters per second. The population mean wind speed is only about 2.95 to 2.98 mps.\n",
        "\n"
      ]
    }
  ]
}