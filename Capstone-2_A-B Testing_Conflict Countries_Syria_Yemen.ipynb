{
 "cells": [
  {
   "cell_type": "markdown",
   "metadata": {},
   "source": [
    "# A/B Testing: Conflict Countries' Rate of Sexual Violence"
   ]
  },
  {
   "cell_type": "markdown",
   "metadata": {},
   "source": [
    "## Introduction\n",
    "Since the Vietnam War, we see how conflicts take many forms and involve different actors that develop within the country, or organize as rebel forces that gain support from other countries--unwittinglty, or not. In 2010, Syria was an authoritarian regime with a population of 20.4 million split between urban and rural areas. Since its 2011 political uprisings turned proxy war, Syria's population has fallen to an estimated 17.3 million because the conflict turned violent, and thereby causing over 5 million to seek refugee. [Source: https://www.worldometers.info/world-population/syria-population/] One could argue that Syria's conflict has exploded to the extent that warrants the most investigation into war crimes, like assassinations, chemical weapons use, and state implemented sexual violence compared to other similar conflicts. Aside from the Iraq War in 2004, the Syrian conflict represents the worst violence--not just in the region--but globally since the Balkan Crisis of the 1990's. "
   ]
  },
  {
   "cell_type": "markdown",
   "metadata": {},
   "source": [
    "## Background\n",
    "For example, the Balkans Crisis resulted from in the dissolution of Yugoslavia wher simultaneous independence struggles among six provinces sought their own states. However, this struggle devolved into certain states implementing ethnic cleansing measures to influence which countries succeeded in asserting independence based on population numbers. As a result, certain states carried out human rights abuses and sexual violence crimes, which skyrocketed into war crimes to the point of warranting global intervention by the North Atlantic Treaty Organization (NATO). Even NATO intervention did not curtail the abuses as other countries, like Russia, intervened by supplying military assistance. \n",
    "\n",
    "Between 1992 to 1995, the conflict erupted into outright genocide resulting in the death of over 200,000 people, 2.3 million fleeing their homes--the largest modern refugee crisis since World War II--and a record number of sexually based offenses, according to the international nonprofit the Borgen Project and the United Nations High Commission for Refugees. [Sources: https://borgenproject.org/10-facts-about-the-bosnian-genocide/ and   https://www.unhcr.org/3ae6a0c58.pdf]\n",
    "\n",
    "Since the dissolution of Yugoslavia, several conflicts erupted globally. In particular, the Syrian conflict has also morphed into Refugee Crisis that mirrors the internal and external dynamics witnessed after Yugoslavia's dissolution morphed into the Balkans Crisis followed by the Bosnian Genocide. The Syrian siuation repeats the 1990s catastrophe to that the extent that the human rights abuses, proxy actors, food shortages, and sexually based offensed carried out by state and non-state actors has produced 5.27 million Syrian refugees. [Source: https://data2.unhcr.org/en/situations/syria] This is more than double the Balkans conflict. Thus, we will test if the Syrian Crisis outpaces other conflict countries in the same time period of 2011 to 2015 regarding the sexual-violence crimes because this is noted as a warcrime, not just a casualty of war. \n",
    "\n",
    "Variables to Consider\n",
    "Countries inhabiting more of this type of actor \"Rebel\" will have higher rates of Form or prevalance of sexual violence against women during government and territorial conflict. Create a new index: a column that combines both columns (both violence and type). What other possible weak points?  Proportion of cases larger than the average. Count of the number of cases. Proportion of cases/population. Focus across 3 years.\n",
    " \n",
    "Types of conflict range between government and territorial. "
   ]
  },
  {
   "cell_type": "markdown",
   "metadata": {},
   "source": [
    "## Methodology\n",
    "1) Review dataset for descriptive statistics, missing values, and time period to select \"Group A\" and \"Group B\" for our hypothesis. \n",
    "    a) Considered selecting Syria and Yemen for A/B testing, however, sample size for both groups was relatively    small. \n",
    "        Syria cases: (Rows: 2485 - 2474) + (Rows: 9206-9199) + (Rows: 9246-9239)= 11+7+7 = 25 cases \n",
    "        Yemen cases: (Rows: 625-594) = 31 cases\n",
    "    b) Selected Syria cases between 2011 and 2015 for 'Group A' and selected for 'Group B': all other conflict countries in same time period to control for other global dynamics and power players intervening. 'Group A' will be represented in subset dataframe: df_Syria. 'Group B' will be represented in subset dataframe: df_world.\n",
    "\n",
    "2)  Identify independent variable to be tested in our hypothesis using the t-test for A-B testing. Our independent variable will combine the different ways the data set captures sexual violence based on type or 'form'; occurence also 'form'; and number of authentic and valid watchdog reports.  \n",
    "\n",
    "3) Create column to add country population values. Name column 'population' because we need to normalize the \"Rate of Sexual Violence\", which will be labeled as 'sex_violence'. For 'population' column, create a dictionary to populate the 'population' column. \n",
    "\n",
    "    a) Consider cases per person for Syria: is it significantly larger than cases per person in the average of all other cases? \n",
    "    b) Consider population challenge. We will pull population statistics from Food & Agricultural Organization site: http://www.fao.org/faostat/en/#data/OA. We will select only year '2013' because our test focuses on years '2011' to '2015'. Because population could drastically grow or fall during conflict across four years, we will select year '2013' as the average between our range to select and insert a population column. As a result, we will \"merge\" --rather than concatenate-- both data frames pulled from the data sets.\n",
    "\n",
    "4) Create the Sexual Violence Index, our independent variable, identified in step 2 by calculating total number of reports and counting the incidences of sexual type of crimes for the Syria subset: 'Group A'. \n",
    "a) Add the total number of international organizations' filed reports of incidences. These are captured by the top three organizations and extracled from columns showing: Department of State (label: 'state_prev'), Amnesty International (label:'aw_prev'), and Human Rights Watch (label: 'hrw_prev'). This means that each organization filed a report documenting crimes--whether sexual violence was committed by any actor types (label: 'actor_type') and the form of sexual violence observed(label: 'form').  \n",
    "b) Multiplying by the number of 'form' by the total reports and divide by country population to normalize the comparisons. \n",
    "\n",
    "5) Repeat step 4 for 'Group B', the world subset. \n",
    "\n",
    "6) Conduct an 'Independent Samples' t-test using the independent variable's t-statistic because we are comparing the means between 'Group A' and'Group B' and referring to this two-tailed t-test chart: https://towardsdatascience.com/inferential-statistics-series-t-test-using-numpy-2718f8f9bf2f\n",
    "We compare to check if null hypothesis is true. The following represent our assumptions:\n",
    "a)The samples are independently and randomly drawn.\n",
    "b)The distribution of the residuals between the two groups should follow the normal distribution.\n",
    "c)The variances between the two groups are equal."
   ]
  },
  {
   "cell_type": "markdown",
   "metadata": {},
   "source": [
    "## Data Code Book"
   ]
  },
  {
   "cell_type": "markdown",
   "metadata": {},
   "source": [
    "### Data Key: http://www.sexualviolencedata.org/wp-content/uploads/2019/10/SVAC-2.0-Coding-Manual-FINAL.pdf\n",
    "\n",
    "### Variables: \n",
    "SAMPLE DURING ACTIVE CONFLICT YEARS:\n",
    "\n",
    "The SVAC Dataset covers conflict-related sexual violence committed by the following types of\n",
    "armed conflict actors: government/state military, pro-government militias, and rebel/insurgent\n",
    "forces between 1989-2009 (SVAC 1.0), and government/state military and rebel/insurgent forces\n",
    "for 2010-2015 (SVAC 2.0). We include only sexual violence by armed groups against individuals\n",
    "outside their own organization.\n",
    "\n",
    "All actors listed in the SVAC 2.0 Dataset are involved in state-based conflicts as defined by the\n",
    "UCDP/PRIO Armed Conflict Database. Peacekeeper and civilian perpetrators are not included as\n",
    "actors in the dataset. We also do not include non-state actors (both rebel groups and PGMs)\n",
    "involved in violence that is not part of a conflict with the government.\n",
    "\n",
    "The original SVAC Dataset covered armed conflict active in the years 1989-2009, as defined by\n",
    "the UCDP/PRIO Armed Conflict Database. The SVAC 2.0 update adds the years 2010-2015.\n",
    "Therefore, the SVAC 2.0 Dataset includes all conflicts active in the years 1989-2015. The\n",
    "additional six-year period includes 92 conflicts in 49 countries that were either active or within five\n",
    "years of cessation. We collected data for all years of active conflict (defined by 25 battle deaths or\n",
    "more per year) and for the five years post-conflict. Beyond this post-conflict time period,\n",
    "“peacetime” sexual violence is outside the scope of the project. We also code “interim” years; see\n",
    "definition of this variable below. \n",
    "\n",
    "Variables\n",
    "For compatibility and ease of integration with widely used existing datasets, we include a number\n",
    "of general variables on region, country, year, actor ID, type of actor, and conflict ID mostly from\n",
    "the UCDP/PRIO data.\n",
    "We use a monadic conflict-actor-year data structure; we rejected a dyadic structure because many\n",
    "of the victims of sexual violence in armed conflicts are civilians, which does not lend itself easily\n",
    "to a dyadic logic. By including variables with dyad ID and conflict ID, however, analysts may\n",
    "create a dyadic structure. \n",
    "\n",
    "Sexual Violence**\n",
    "Following the definition used by the International Criminal Court (ICC)3, we use a definition of\n",
    "crimes of sexual violence which includes (1) rape,(2) sexual slavery,(3) forced prostitution,(4)\n",
    "forced pregnancy, and (5) forced sterilization/abortion. Following Elisabeth Wood (2009), we\n",
    "also include (6) sexual mutilation, and (7) sexual torture. This definition does not exclude the\n",
    "existence of female perpetrators and male victims. We focus on behaviors that involve direct force\n",
    "and/or physical violence. We exclude acts that do not go beyond verbal sexual harassment and\n",
    "abuse, including sexualized insults or verbal humiliation. \n",
    "\n",
    "actor_type \n",
    "SVAC A coding for the type of actor. More specifically, we employ\n",
    "the following scheme:\n",
    "1: State or incumbent government (in UCDP dyadic, this actor type is called 'Side A')\n",
    "2: State A2 (in UCDP dyadic, this actor type is called 'Side A2nd'). These are states supporting the state (1) involved with conflict on its territory. \n",
    "3: Rebel (in UCDP dyadic, the actor type is called 'Side B')\n",
    "4: State supporting ‘Side B’ in other country (in UCDP dyadic, this actor type is called 'SideB2nd').\n",
    "5: Second state in interstate conflict (in UCDP dyadic, this actor is called ‘Side B’).\n",
    "6: Pro-government militias (PGMs)\n",
    "\n",
    "type \n",
    "UCDP/PRIO Nominal variable with three categories:\n",
    "2: Interstate Conflict\n",
    "3: Intrastate Conflict\n",
    "4: Internationalized Internal Armed Conflict\n",
    "\n",
    "~Syria is both types of conflict: Government & Territory\n",
    "~Yemen is both types of conflict: Government & Territory\n",
    "\n",
    "**Sexual Violence Variables\n",
    "The sexual violence variables aim to capture data on two dimensions, prevalence and form.\n",
    "(1) Prevalence\n",
    "The prevalence measure gives an estimate of the relative magnitude of sexual violence perpetration\n",
    "was by the conflict actor in the particular year. This is coded according to an ordinal scale, adapted\n",
    "from Cohen (2010; 2016) and discussed in Cohen and Nordås (2014). Note that the coding is\n",
    "primarily based on the qualitative description; only secondarily do we rely on a count of estimated\n",
    "incidents. The SVAC dataset cannot be used as a means to estimate the numbers of victims.\n",
    "Prevalence = 3 (Massive) Sexual violence is likely related to the conflict, and:\n",
    "• Sexual violence was described as “systematic” or “massive” or “innumerable”\n",
    "• Actor used sexual violence as a “means of intimidation,” “instrument of control and\n",
    "punishment,” “weapon,” “tactic to terrorize the population,” “terror tactic,” “tool of war,”\n",
    "on a “massive scale”\n",
    "Note: Absent these or similar terms, a count of 1000 or more reports of sexual violence\n",
    "indicates a prevalence code of 3.\n",
    "Prevalence = 2 (Numerous) Sexual violence is likely related to the conflict, but did not meet the\n",
    "requirements for a 3 coding, and:\n",
    "• Sexual violence was described as “widespread,” “common,” “commonplace,” “extensive,”\n",
    "“frequent,” “often,” “persistent,” “recurring,” a “pattern,” a “common pattern,” or a “spree”\n",
    "• Sexual violence occurred “commonly,” “frequently,” “in large numbers,” “periodically,”\n",
    "“regularly,” “routinely,” “widely,” or on a “number of occasions;” there were “many” or\n",
    "“numerous instances”\n",
    "Note: Absent these or similar terms, a count of 25-999 reports of sexual violence indicates a\n",
    "prevalence code of 2.\n",
    "Prevalence = 1 (Isolated) Sexual violence is likely related to the conflict, but did not meet the\n",
    "requirements for a 2 or 3 coding, and:\n",
    "SVAC 2.0—November 2019 Update 10\n",
    "• There were “reports,” “isolated reports,” or “there continued to be reports” of occurrences\n",
    "of sexual violence\n",
    "Note: Absent these or similar terms, a count of less than 25 reports of sexual violence indicates\n",
    "a prevalence code of 1.\n",
    "Prevalence = 0 (None) Report issued, but no mention of rape or other sexual violence related to\n",
    "the conflict\n",
    "Note: For example, a coder finds a report covering a country in a given year but within the report\n",
    "there is no mention of rape or other sexual violence related to the conflict.\n",
    "Prevalence = -99 (BOTH No Report AND No Information) No report found and no data\n",
    "available from subsequent years, and consequentially no data. This code should be used as\n",
    "infrequently as possible."
   ]
  },
  {
   "cell_type": "markdown",
   "metadata": {},
   "source": []
  },
  {
   "cell_type": "markdown",
   "metadata": {},
   "source": []
  },
  {
   "cell_type": "markdown",
   "metadata": {},
   "source": [
    "## Hypothesis\n",
    "Hypothesis: There will be a statistical difference between 'Group A', Syria, and 'Group B', world, in rates of sexual violence against women during conflict.  \n",
    "\n",
    "Null Hypothesis: There will be no difference in Test A (Syria in state) and Test B (rest of world) in rates of Form or prevalance of sexual violence against women during conflict. This means that the means of both 'Group A' and 'Group B' will be equal."
   ]
  },
  {
   "cell_type": "markdown",
   "metadata": {},
   "source": [
    "## Code for Data Analysis"
   ]
  },
  {
   "cell_type": "code",
   "execution_count": 15,
   "metadata": {},
   "outputs": [],
   "source": [
    "import numpy as np\n",
    "import pandas as pd\n",
    "import scipy.stats\n",
    "import matplotlib.pyplot as plt\n",
    "import seaborn as sns\n",
    "%matplotlib inline"
   ]
  },
  {
   "cell_type": "code",
   "execution_count": 16,
   "metadata": {},
   "outputs": [],
   "source": [
    "#Need to convert XLS file to CSV import pandas as pd #Users⁩/⁨mehrunisaqayyum⁩/⁨Downloads/SVAC_2.0_complete_X.1.xlsx⁩',sheet_name=None)\n",
    "#df_xls.to_csv('SVAC_2.0_complete_X.1.csv'\n",
    "#df_xls2 serves as second data set for country population \n",
    "#Need to concatenate both data sets\n",
    "\n",
    "df_xls = pd.read_excel('http://www.sexualviolencedata.org/wp-content/uploads/2019/12/SVAC_2.0_complete_X.1.xlsx',dtype='object') #encoding='utf-8')\n",
    "df_xls2 = pd.read_excel('/Users/mehrunisaqayyum/Downloads/population by country.xlsx', header=1)\n",
    "\n",
    "         \n",
    "#df_xls = pd.read_excel(MacintoshHD/Users/mehrunisaqayyum/Downloads/SVAC_2.0_complete_X.1.xlsx)\n",
    "#df.to_csv('SVAC_2.0_complete_X.1.csv', index=False)"
   ]
  },
  {
   "cell_type": "code",
   "execution_count": 17,
   "metadata": {},
   "outputs": [],
   "source": [
    "df_xls2 = df_xls2[['location', 'population']]"
   ]
  },
  {
   "cell_type": "code",
   "execution_count": 18,
   "metadata": {},
   "outputs": [
    {
     "data": {
      "text/html": [
       "<div>\n",
       "<style scoped>\n",
       "    .dataframe tbody tr th:only-of-type {\n",
       "        vertical-align: middle;\n",
       "    }\n",
       "\n",
       "    .dataframe tbody tr th {\n",
       "        vertical-align: top;\n",
       "    }\n",
       "\n",
       "    .dataframe thead th {\n",
       "        text-align: right;\n",
       "    }\n",
       "</style>\n",
       "<table border=\"1\" class=\"dataframe\">\n",
       "  <thead>\n",
       "    <tr style=\"text-align: right;\">\n",
       "      <th></th>\n",
       "      <th>year</th>\n",
       "      <th>conflictid_old</th>\n",
       "      <th>conflictid_new</th>\n",
       "      <th>actor</th>\n",
       "      <th>actorid</th>\n",
       "      <th>actorid_new</th>\n",
       "      <th>actor_type</th>\n",
       "      <th>type</th>\n",
       "      <th>incomp</th>\n",
       "      <th>region</th>\n",
       "      <th>...</th>\n",
       "      <th>gwnoloc2</th>\n",
       "      <th>gwnoloc3</th>\n",
       "      <th>gwnoloc4</th>\n",
       "      <th>conflictyear</th>\n",
       "      <th>interm</th>\n",
       "      <th>postc</th>\n",
       "      <th>state_prev</th>\n",
       "      <th>ai_prev</th>\n",
       "      <th>hrw_prev</th>\n",
       "      <th>form</th>\n",
       "    </tr>\n",
       "  </thead>\n",
       "  <tbody>\n",
       "    <tr>\n",
       "      <td>0</td>\n",
       "      <td>1989</td>\n",
       "      <td>6</td>\n",
       "      <td>205</td>\n",
       "      <td>Iran</td>\n",
       "      <td>630</td>\n",
       "      <td>114</td>\n",
       "      <td>1</td>\n",
       "      <td>3</td>\n",
       "      <td>1</td>\n",
       "      <td>2</td>\n",
       "      <td>...</td>\n",
       "      <td>0</td>\n",
       "      <td>0</td>\n",
       "      <td>0</td>\n",
       "      <td>0</td>\n",
       "      <td>1</td>\n",
       "      <td>0</td>\n",
       "      <td>0</td>\n",
       "      <td>0</td>\n",
       "      <td>0</td>\n",
       "      <td>-99</td>\n",
       "    </tr>\n",
       "    <tr>\n",
       "      <td>1</td>\n",
       "      <td>1990</td>\n",
       "      <td>6</td>\n",
       "      <td>205</td>\n",
       "      <td>Iran</td>\n",
       "      <td>630</td>\n",
       "      <td>114</td>\n",
       "      <td>1</td>\n",
       "      <td>3</td>\n",
       "      <td>1</td>\n",
       "      <td>2</td>\n",
       "      <td>...</td>\n",
       "      <td>0</td>\n",
       "      <td>0</td>\n",
       "      <td>0</td>\n",
       "      <td>1</td>\n",
       "      <td>0</td>\n",
       "      <td>0</td>\n",
       "      <td>0</td>\n",
       "      <td>0</td>\n",
       "      <td>0</td>\n",
       "      <td>-99</td>\n",
       "    </tr>\n",
       "    <tr>\n",
       "      <td>2</td>\n",
       "      <td>1991</td>\n",
       "      <td>6</td>\n",
       "      <td>205</td>\n",
       "      <td>Iran</td>\n",
       "      <td>630</td>\n",
       "      <td>114</td>\n",
       "      <td>1</td>\n",
       "      <td>3</td>\n",
       "      <td>1</td>\n",
       "      <td>2</td>\n",
       "      <td>...</td>\n",
       "      <td>0</td>\n",
       "      <td>0</td>\n",
       "      <td>0</td>\n",
       "      <td>0</td>\n",
       "      <td>1</td>\n",
       "      <td>0</td>\n",
       "      <td>0</td>\n",
       "      <td>0</td>\n",
       "      <td>0</td>\n",
       "      <td>-99</td>\n",
       "    </tr>\n",
       "    <tr>\n",
       "      <td>3</td>\n",
       "      <td>1992</td>\n",
       "      <td>6</td>\n",
       "      <td>205</td>\n",
       "      <td>Iran</td>\n",
       "      <td>630</td>\n",
       "      <td>114</td>\n",
       "      <td>1</td>\n",
       "      <td>3</td>\n",
       "      <td>1</td>\n",
       "      <td>2</td>\n",
       "      <td>...</td>\n",
       "      <td>0</td>\n",
       "      <td>0</td>\n",
       "      <td>0</td>\n",
       "      <td>0</td>\n",
       "      <td>1</td>\n",
       "      <td>0</td>\n",
       "      <td>0</td>\n",
       "      <td>0</td>\n",
       "      <td>0</td>\n",
       "      <td>-99</td>\n",
       "    </tr>\n",
       "    <tr>\n",
       "      <td>4</td>\n",
       "      <td>1993</td>\n",
       "      <td>6</td>\n",
       "      <td>205</td>\n",
       "      <td>Iran</td>\n",
       "      <td>630</td>\n",
       "      <td>114</td>\n",
       "      <td>1</td>\n",
       "      <td>3</td>\n",
       "      <td>1</td>\n",
       "      <td>2</td>\n",
       "      <td>...</td>\n",
       "      <td>0</td>\n",
       "      <td>0</td>\n",
       "      <td>0</td>\n",
       "      <td>1</td>\n",
       "      <td>0</td>\n",
       "      <td>0</td>\n",
       "      <td>0</td>\n",
       "      <td>0</td>\n",
       "      <td>0</td>\n",
       "      <td>-99</td>\n",
       "    </tr>\n",
       "    <tr>\n",
       "      <td>...</td>\n",
       "      <td>...</td>\n",
       "      <td>...</td>\n",
       "      <td>...</td>\n",
       "      <td>...</td>\n",
       "      <td>...</td>\n",
       "      <td>...</td>\n",
       "      <td>...</td>\n",
       "      <td>...</td>\n",
       "      <td>...</td>\n",
       "      <td>...</td>\n",
       "      <td>...</td>\n",
       "      <td>...</td>\n",
       "      <td>...</td>\n",
       "      <td>...</td>\n",
       "      <td>...</td>\n",
       "      <td>...</td>\n",
       "      <td>...</td>\n",
       "      <td>...</td>\n",
       "      <td>...</td>\n",
       "      <td>...</td>\n",
       "      <td>...</td>\n",
       "    </tr>\n",
       "    <tr>\n",
       "      <td>9277</td>\n",
       "      <td>2015</td>\n",
       "      <td>298</td>\n",
       "      <td>13694</td>\n",
       "      <td>Libya</td>\n",
       "      <td>620</td>\n",
       "      <td>111</td>\n",
       "      <td>1</td>\n",
       "      <td>3</td>\n",
       "      <td>1</td>\n",
       "      <td>4</td>\n",
       "      <td>...</td>\n",
       "      <td>0</td>\n",
       "      <td>0</td>\n",
       "      <td>0</td>\n",
       "      <td>1</td>\n",
       "      <td>0</td>\n",
       "      <td>0</td>\n",
       "      <td>0</td>\n",
       "      <td>0</td>\n",
       "      <td>1</td>\n",
       "      <td>7</td>\n",
       "    </tr>\n",
       "    <tr>\n",
       "      <td>9278</td>\n",
       "      <td>2015</td>\n",
       "      <td>13721</td>\n",
       "      <td>13721</td>\n",
       "      <td>Algeria</td>\n",
       "      <td>615</td>\n",
       "      <td>109</td>\n",
       "      <td>1</td>\n",
       "      <td>3</td>\n",
       "      <td>1</td>\n",
       "      <td>4</td>\n",
       "      <td>...</td>\n",
       "      <td>0</td>\n",
       "      <td>0</td>\n",
       "      <td>0</td>\n",
       "      <td>1</td>\n",
       "      <td>0</td>\n",
       "      <td>0</td>\n",
       "      <td>0</td>\n",
       "      <td>0</td>\n",
       "      <td>0</td>\n",
       "      <td>-99</td>\n",
       "    </tr>\n",
       "    <tr>\n",
       "      <td>9279</td>\n",
       "      <td>2015</td>\n",
       "      <td>13721</td>\n",
       "      <td>13721</td>\n",
       "      <td>Jund al-Khilafah</td>\n",
       "      <td>5870</td>\n",
       "      <td>5870</td>\n",
       "      <td>3</td>\n",
       "      <td>3</td>\n",
       "      <td>1</td>\n",
       "      <td>4</td>\n",
       "      <td>...</td>\n",
       "      <td>0</td>\n",
       "      <td>0</td>\n",
       "      <td>0</td>\n",
       "      <td>1</td>\n",
       "      <td>0</td>\n",
       "      <td>0</td>\n",
       "      <td>0</td>\n",
       "      <td>0</td>\n",
       "      <td>0</td>\n",
       "      <td>-99</td>\n",
       "    </tr>\n",
       "    <tr>\n",
       "      <td>9280</td>\n",
       "      <td>2015</td>\n",
       "      <td>13902</td>\n",
       "      <td>13902</td>\n",
       "      <td>IS</td>\n",
       "      <td>1076</td>\n",
       "      <td>234</td>\n",
       "      <td>3</td>\n",
       "      <td>3</td>\n",
       "      <td>1</td>\n",
       "      <td>2</td>\n",
       "      <td>...</td>\n",
       "      <td>0</td>\n",
       "      <td>0</td>\n",
       "      <td>0</td>\n",
       "      <td>1</td>\n",
       "      <td>0</td>\n",
       "      <td>0</td>\n",
       "      <td>0</td>\n",
       "      <td>0</td>\n",
       "      <td>0</td>\n",
       "      <td>-99</td>\n",
       "    </tr>\n",
       "    <tr>\n",
       "      <td>9281</td>\n",
       "      <td>2015</td>\n",
       "      <td>13902</td>\n",
       "      <td>13902</td>\n",
       "      <td>Turkey</td>\n",
       "      <td>640</td>\n",
       "      <td>115</td>\n",
       "      <td>1</td>\n",
       "      <td>3</td>\n",
       "      <td>1</td>\n",
       "      <td>2</td>\n",
       "      <td>...</td>\n",
       "      <td>0</td>\n",
       "      <td>0</td>\n",
       "      <td>0</td>\n",
       "      <td>1</td>\n",
       "      <td>0</td>\n",
       "      <td>0</td>\n",
       "      <td>0</td>\n",
       "      <td>0</td>\n",
       "      <td>0</td>\n",
       "      <td>-99</td>\n",
       "    </tr>\n",
       "  </tbody>\n",
       "</table>\n",
       "<p>9282 rows × 22 columns</p>\n",
       "</div>"
      ],
      "text/plain": [
       "      year conflictid_old conflictid_new             actor actorid  \\\n",
       "0     1989              6            205              Iran     630   \n",
       "1     1990              6            205              Iran     630   \n",
       "2     1991              6            205              Iran     630   \n",
       "3     1992              6            205              Iran     630   \n",
       "4     1993              6            205              Iran     630   \n",
       "...    ...            ...            ...               ...     ...   \n",
       "9277  2015            298          13694             Libya     620   \n",
       "9278  2015          13721          13721           Algeria     615   \n",
       "9279  2015          13721          13721  Jund al-Khilafah    5870   \n",
       "9280  2015          13902          13902                IS    1076   \n",
       "9281  2015          13902          13902            Turkey     640   \n",
       "\n",
       "     actorid_new actor_type type incomp region  ... gwnoloc2 gwnoloc3  \\\n",
       "0            114          1    3      1      2  ...        0        0   \n",
       "1            114          1    3      1      2  ...        0        0   \n",
       "2            114          1    3      1      2  ...        0        0   \n",
       "3            114          1    3      1      2  ...        0        0   \n",
       "4            114          1    3      1      2  ...        0        0   \n",
       "...          ...        ...  ...    ...    ...  ...      ...      ...   \n",
       "9277         111          1    3      1      4  ...        0        0   \n",
       "9278         109          1    3      1      4  ...        0        0   \n",
       "9279        5870          3    3      1      4  ...        0        0   \n",
       "9280         234          3    3      1      2  ...        0        0   \n",
       "9281         115          1    3      1      2  ...        0        0   \n",
       "\n",
       "     gwnoloc4 conflictyear interm postc state_prev ai_prev hrw_prev form  \n",
       "0           0            0      1     0          0       0        0  -99  \n",
       "1           0            1      0     0          0       0        0  -99  \n",
       "2           0            0      1     0          0       0        0  -99  \n",
       "3           0            0      1     0          0       0        0  -99  \n",
       "4           0            1      0     0          0       0        0  -99  \n",
       "...       ...          ...    ...   ...        ...     ...      ...  ...  \n",
       "9277        0            1      0     0          0       0        1    7  \n",
       "9278        0            1      0     0          0       0        0  -99  \n",
       "9279        0            1      0     0          0       0        0  -99  \n",
       "9280        0            1      0     0          0       0        0  -99  \n",
       "9281        0            1      0     0          0       0        0  -99  \n",
       "\n",
       "[9282 rows x 22 columns]"
      ]
     },
     "execution_count": 18,
     "metadata": {},
     "output_type": "execute_result"
    }
   ],
   "source": [
    "df_xls"
   ]
  },
  {
   "cell_type": "markdown",
   "metadata": {},
   "source": [
    "### Population Data\n",
    "Reorder dataframe (df_xls) index by country name, or 'location', in alphabetical order to list population by countries more efficiently. We pulled population data from the UN data site. We selected the year 2013 because this year is the average of years 2011 and 2015. "
   ]
  },
  {
   "cell_type": "code",
   "execution_count": 19,
   "metadata": {},
   "outputs": [
    {
     "name": "stdout",
     "output_type": "stream",
     "text": [
      "      year conflictid_old conflictid_new                           actor  \\\n",
      "7305  1998            202            397  Krajina Militia AKA Marticevci   \n",
      "6700  1992            190            385                        Chetniks   \n",
      "7789  1998            218            412      Beli Orlovi (White Eagles)   \n",
      "7790  1999            218            412      Beli Orlovi (White Eagles)   \n",
      "7791  2000            218            412      Beli Orlovi (White Eagles)   \n",
      "...    ...            ...            ...                             ...   \n",
      "4315  1998            137            333    Hizb-i Islami-yi Afghanistan   \n",
      "4316  1999            137            333    Hizb-i Islami-yi Afghanistan   \n",
      "4317  2000            137            333    Hizb-i Islami-yi Afghanistan   \n",
      "4318  2002            137            333    Hizb-i Islami-yi Afghanistan   \n",
      "4641  2006            137            333                        Portugal   \n",
      "\n",
      "     actorid actorid_new actor_type type incomp region  ... gwnoloc2 gwnoloc3  \\\n",
      "7305    8059        8059          6    3      1      1  ...        0        0   \n",
      "6700    8184        8184          6    3      1      1  ...        0        0   \n",
      "7789    8015        8015          6    4      1      1  ...        0        0   \n",
      "7790    8015        8015          6    4      1      1  ...        0        0   \n",
      "7791    8015        8015          6    4      1      1  ...        0        0   \n",
      "...      ...         ...        ...  ...    ...    ...  ...      ...      ...   \n",
      "4315    1141         299          3    4      2      3  ...        0        0   \n",
      "4316    1141         299          3    4      2      3  ...        0        0   \n",
      "4317    1141         299          3    4      2      3  ...        0        0   \n",
      "4318    1141         299          3    4      2      3  ...        0        0   \n",
      "4641     235          36          2    4      2      3  ...        0        0   \n",
      "\n",
      "     gwnoloc4 conflictyear interm postc state_prev ai_prev hrw_prev form  \n",
      "7305        0            0      0     1          0       0        0  -99  \n",
      "6700        0            0      0     1          0       0        0  -99  \n",
      "7789        0            1      0     0          0       0        0  -99  \n",
      "7790        0            1      0     0          0       0        0  -99  \n",
      "7791        0            0      0     1          0       0        0  -99  \n",
      "...       ...          ...    ...   ...        ...     ...      ...  ...  \n",
      "4315        0            0      0     1          0       0        0  -99  \n",
      "4316        0            0      0     1          0       0        0  -99  \n",
      "4317        0            0      0     1          0       0        0  -99  \n",
      "4318        0            1      0     0          0       0        0  -99  \n",
      "4641        0            1      0     0          0       0        0  -99  \n",
      "\n",
      "[9282 rows x 22 columns]\n"
     ]
    }
   ],
   "source": [
    "df_xls = df_xls.sort_values(by=\"location\", ascending=False)\n",
    "print(df_xls)"
   ]
  },
  {
   "cell_type": "markdown",
   "metadata": {},
   "source": [
    "### Combine Data Sets\n",
    "We will ceate a \"df2\" that shows how we combined both data frames. The concatenate function will not serve the purpose of combinging the data because the data sets list different rows. 'Location' column will not append right next to each country's population. Rather, we will use the \"merge\" function. Below shows the second data set, or population data set named as df_xls2, and lists populations of only countries undergoing conflict between the years 2011 and 2015 for the purpose of testing our above hypothesis.  "
   ]
  },
  {
   "cell_type": "code",
   "execution_count": 6,
   "metadata": {},
   "outputs": [
    {
     "data": {
      "text/html": [
       "<div>\n",
       "<style scoped>\n",
       "    .dataframe tbody tr th:only-of-type {\n",
       "        vertical-align: middle;\n",
       "    }\n",
       "\n",
       "    .dataframe tbody tr th {\n",
       "        vertical-align: top;\n",
       "    }\n",
       "\n",
       "    .dataframe thead th {\n",
       "        text-align: right;\n",
       "    }\n",
       "</style>\n",
       "<table border=\"1\" class=\"dataframe\">\n",
       "  <thead>\n",
       "    <tr style=\"text-align: right;\">\n",
       "      <th></th>\n",
       "      <th>location</th>\n",
       "      <th>population</th>\n",
       "    </tr>\n",
       "  </thead>\n",
       "  <tbody>\n",
       "    <tr>\n",
       "      <td>0</td>\n",
       "      <td>Afghanistan</td>\n",
       "      <td>32269589</td>\n",
       "    </tr>\n",
       "    <tr>\n",
       "      <td>1</td>\n",
       "      <td>Algeria</td>\n",
       "      <td>38140133</td>\n",
       "    </tr>\n",
       "    <tr>\n",
       "      <td>2</td>\n",
       "      <td>Angola</td>\n",
       "      <td>26015781</td>\n",
       "    </tr>\n",
       "    <tr>\n",
       "      <td>3</td>\n",
       "      <td>Azerbaijan</td>\n",
       "      <td>9385468</td>\n",
       "    </tr>\n",
       "    <tr>\n",
       "      <td>4</td>\n",
       "      <td>Bangladesh</td>\n",
       "      <td>152761418</td>\n",
       "    </tr>\n",
       "    <tr>\n",
       "      <td>...</td>\n",
       "      <td>...</td>\n",
       "      <td>...</td>\n",
       "    </tr>\n",
       "    <tr>\n",
       "      <td>77</td>\n",
       "      <td>United States of America</td>\n",
       "      <td>316400538</td>\n",
       "    </tr>\n",
       "    <tr>\n",
       "      <td>78</td>\n",
       "      <td>Uzbekistan</td>\n",
       "      <td>29932631</td>\n",
       "    </tr>\n",
       "    <tr>\n",
       "      <td>79</td>\n",
       "      <td>Venezuela</td>\n",
       "      <td>29871040</td>\n",
       "    </tr>\n",
       "    <tr>\n",
       "      <td>80</td>\n",
       "      <td>Yemen</td>\n",
       "      <td>25147109</td>\n",
       "    </tr>\n",
       "    <tr>\n",
       "      <td>81</td>\n",
       "      <td>Yemen (North Yemen)</td>\n",
       "      <td>10000000</td>\n",
       "    </tr>\n",
       "  </tbody>\n",
       "</table>\n",
       "<p>82 rows × 2 columns</p>\n",
       "</div>"
      ],
      "text/plain": [
       "                    location  population\n",
       "0                Afghanistan    32269589\n",
       "1                    Algeria    38140133\n",
       "2                     Angola    26015781\n",
       "3                 Azerbaijan     9385468\n",
       "4                 Bangladesh   152761418\n",
       "..                       ...         ...\n",
       "77  United States of America   316400538\n",
       "78                Uzbekistan    29932631\n",
       "79                 Venezuela    29871040\n",
       "80                     Yemen    25147109\n",
       "81       Yemen (North Yemen)    10000000\n",
       "\n",
       "[82 rows x 2 columns]"
      ]
     },
     "execution_count": 6,
     "metadata": {},
     "output_type": "execute_result"
    }
   ],
   "source": [
    "df_xls2"
   ]
  },
  {
   "cell_type": "code",
   "execution_count": 20,
   "metadata": {},
   "outputs": [],
   "source": [
    "merged_df = pd.merge(df_xls, df_xls2, how='inner', left_on='location', right_on='location')"
   ]
  },
  {
   "cell_type": "code",
   "execution_count": 8,
   "metadata": {},
   "outputs": [
    {
     "data": {
      "text/html": [
       "<div>\n",
       "<style scoped>\n",
       "    .dataframe tbody tr th:only-of-type {\n",
       "        vertical-align: middle;\n",
       "    }\n",
       "\n",
       "    .dataframe tbody tr th {\n",
       "        vertical-align: top;\n",
       "    }\n",
       "\n",
       "    .dataframe thead th {\n",
       "        text-align: right;\n",
       "    }\n",
       "</style>\n",
       "<table border=\"1\" class=\"dataframe\">\n",
       "  <thead>\n",
       "    <tr style=\"text-align: right;\">\n",
       "      <th></th>\n",
       "      <th>year</th>\n",
       "      <th>conflictid_old</th>\n",
       "      <th>conflictid_new</th>\n",
       "      <th>actor</th>\n",
       "      <th>actorid</th>\n",
       "      <th>actorid_new</th>\n",
       "      <th>actor_type</th>\n",
       "      <th>type</th>\n",
       "      <th>incomp</th>\n",
       "      <th>region</th>\n",
       "      <th>...</th>\n",
       "      <th>gwnoloc3</th>\n",
       "      <th>gwnoloc4</th>\n",
       "      <th>conflictyear</th>\n",
       "      <th>interm</th>\n",
       "      <th>postc</th>\n",
       "      <th>state_prev</th>\n",
       "      <th>ai_prev</th>\n",
       "      <th>hrw_prev</th>\n",
       "      <th>form</th>\n",
       "      <th>population</th>\n",
       "    </tr>\n",
       "  </thead>\n",
       "  <tbody>\n",
       "    <tr>\n",
       "      <td>0</td>\n",
       "      <td>2013</td>\n",
       "      <td>33</td>\n",
       "      <td>230</td>\n",
       "      <td>AQAP</td>\n",
       "      <td>1747</td>\n",
       "      <td>881</td>\n",
       "      <td>3</td>\n",
       "      <td>4</td>\n",
       "      <td>2</td>\n",
       "      <td>2</td>\n",
       "      <td>...</td>\n",
       "      <td>0</td>\n",
       "      <td>0</td>\n",
       "      <td>1</td>\n",
       "      <td>0</td>\n",
       "      <td>0</td>\n",
       "      <td>0</td>\n",
       "      <td>-99</td>\n",
       "      <td>0</td>\n",
       "      <td>-99</td>\n",
       "      <td>10000000</td>\n",
       "    </tr>\n",
       "    <tr>\n",
       "      <td>1</td>\n",
       "      <td>2012</td>\n",
       "      <td>33</td>\n",
       "      <td>230</td>\n",
       "      <td>AQAP</td>\n",
       "      <td>1747</td>\n",
       "      <td>881</td>\n",
       "      <td>3</td>\n",
       "      <td>4</td>\n",
       "      <td>2</td>\n",
       "      <td>2</td>\n",
       "      <td>...</td>\n",
       "      <td>0</td>\n",
       "      <td>0</td>\n",
       "      <td>1</td>\n",
       "      <td>0</td>\n",
       "      <td>0</td>\n",
       "      <td>0</td>\n",
       "      <td>0</td>\n",
       "      <td>0</td>\n",
       "      <td>-99</td>\n",
       "      <td>10000000</td>\n",
       "    </tr>\n",
       "    <tr>\n",
       "      <td>2</td>\n",
       "      <td>2015</td>\n",
       "      <td>33</td>\n",
       "      <td>230</td>\n",
       "      <td>United States of America</td>\n",
       "      <td>2</td>\n",
       "      <td>3</td>\n",
       "      <td>2</td>\n",
       "      <td>4</td>\n",
       "      <td>2</td>\n",
       "      <td>2</td>\n",
       "      <td>...</td>\n",
       "      <td>0</td>\n",
       "      <td>0</td>\n",
       "      <td>0</td>\n",
       "      <td>0</td>\n",
       "      <td>1</td>\n",
       "      <td>0</td>\n",
       "      <td>0</td>\n",
       "      <td>0</td>\n",
       "      <td>-99</td>\n",
       "      <td>10000000</td>\n",
       "    </tr>\n",
       "    <tr>\n",
       "      <td>3</td>\n",
       "      <td>2015</td>\n",
       "      <td>33</td>\n",
       "      <td>230</td>\n",
       "      <td>Jordan</td>\n",
       "      <td>663</td>\n",
       "      <td>120</td>\n",
       "      <td>4</td>\n",
       "      <td>4</td>\n",
       "      <td>2</td>\n",
       "      <td>2</td>\n",
       "      <td>...</td>\n",
       "      <td>0</td>\n",
       "      <td>0</td>\n",
       "      <td>1</td>\n",
       "      <td>0</td>\n",
       "      <td>0</td>\n",
       "      <td>0</td>\n",
       "      <td>0</td>\n",
       "      <td>0</td>\n",
       "      <td>-99</td>\n",
       "      <td>10000000</td>\n",
       "    </tr>\n",
       "    <tr>\n",
       "      <td>4</td>\n",
       "      <td>2015</td>\n",
       "      <td>33</td>\n",
       "      <td>230</td>\n",
       "      <td>Yemen (North Yemen)</td>\n",
       "      <td>678</td>\n",
       "      <td>123</td>\n",
       "      <td>1</td>\n",
       "      <td>4</td>\n",
       "      <td>2</td>\n",
       "      <td>2</td>\n",
       "      <td>...</td>\n",
       "      <td>0</td>\n",
       "      <td>0</td>\n",
       "      <td>1</td>\n",
       "      <td>0</td>\n",
       "      <td>0</td>\n",
       "      <td>0</td>\n",
       "      <td>0</td>\n",
       "      <td>0</td>\n",
       "      <td>-99</td>\n",
       "      <td>10000000</td>\n",
       "    </tr>\n",
       "    <tr>\n",
       "      <td>...</td>\n",
       "      <td>...</td>\n",
       "      <td>...</td>\n",
       "      <td>...</td>\n",
       "      <td>...</td>\n",
       "      <td>...</td>\n",
       "      <td>...</td>\n",
       "      <td>...</td>\n",
       "      <td>...</td>\n",
       "      <td>...</td>\n",
       "      <td>...</td>\n",
       "      <td>...</td>\n",
       "      <td>...</td>\n",
       "      <td>...</td>\n",
       "      <td>...</td>\n",
       "      <td>...</td>\n",
       "      <td>...</td>\n",
       "      <td>...</td>\n",
       "      <td>...</td>\n",
       "      <td>...</td>\n",
       "      <td>...</td>\n",
       "      <td>...</td>\n",
       "    </tr>\n",
       "    <tr>\n",
       "      <td>8572</td>\n",
       "      <td>1998</td>\n",
       "      <td>137</td>\n",
       "      <td>333</td>\n",
       "      <td>Hizb-i Islami-yi Afghanistan</td>\n",
       "      <td>1141</td>\n",
       "      <td>299</td>\n",
       "      <td>3</td>\n",
       "      <td>4</td>\n",
       "      <td>2</td>\n",
       "      <td>3</td>\n",
       "      <td>...</td>\n",
       "      <td>0</td>\n",
       "      <td>0</td>\n",
       "      <td>0</td>\n",
       "      <td>0</td>\n",
       "      <td>1</td>\n",
       "      <td>0</td>\n",
       "      <td>0</td>\n",
       "      <td>0</td>\n",
       "      <td>-99</td>\n",
       "      <td>32269589</td>\n",
       "    </tr>\n",
       "    <tr>\n",
       "      <td>8573</td>\n",
       "      <td>1999</td>\n",
       "      <td>137</td>\n",
       "      <td>333</td>\n",
       "      <td>Hizb-i Islami-yi Afghanistan</td>\n",
       "      <td>1141</td>\n",
       "      <td>299</td>\n",
       "      <td>3</td>\n",
       "      <td>4</td>\n",
       "      <td>2</td>\n",
       "      <td>3</td>\n",
       "      <td>...</td>\n",
       "      <td>0</td>\n",
       "      <td>0</td>\n",
       "      <td>0</td>\n",
       "      <td>0</td>\n",
       "      <td>1</td>\n",
       "      <td>0</td>\n",
       "      <td>0</td>\n",
       "      <td>0</td>\n",
       "      <td>-99</td>\n",
       "      <td>32269589</td>\n",
       "    </tr>\n",
       "    <tr>\n",
       "      <td>8574</td>\n",
       "      <td>2000</td>\n",
       "      <td>137</td>\n",
       "      <td>333</td>\n",
       "      <td>Hizb-i Islami-yi Afghanistan</td>\n",
       "      <td>1141</td>\n",
       "      <td>299</td>\n",
       "      <td>3</td>\n",
       "      <td>4</td>\n",
       "      <td>2</td>\n",
       "      <td>3</td>\n",
       "      <td>...</td>\n",
       "      <td>0</td>\n",
       "      <td>0</td>\n",
       "      <td>0</td>\n",
       "      <td>0</td>\n",
       "      <td>1</td>\n",
       "      <td>0</td>\n",
       "      <td>0</td>\n",
       "      <td>0</td>\n",
       "      <td>-99</td>\n",
       "      <td>32269589</td>\n",
       "    </tr>\n",
       "    <tr>\n",
       "      <td>8575</td>\n",
       "      <td>2002</td>\n",
       "      <td>137</td>\n",
       "      <td>333</td>\n",
       "      <td>Hizb-i Islami-yi Afghanistan</td>\n",
       "      <td>1141</td>\n",
       "      <td>299</td>\n",
       "      <td>3</td>\n",
       "      <td>4</td>\n",
       "      <td>2</td>\n",
       "      <td>3</td>\n",
       "      <td>...</td>\n",
       "      <td>0</td>\n",
       "      <td>0</td>\n",
       "      <td>1</td>\n",
       "      <td>0</td>\n",
       "      <td>0</td>\n",
       "      <td>0</td>\n",
       "      <td>0</td>\n",
       "      <td>0</td>\n",
       "      <td>-99</td>\n",
       "      <td>32269589</td>\n",
       "    </tr>\n",
       "    <tr>\n",
       "      <td>8576</td>\n",
       "      <td>2006</td>\n",
       "      <td>137</td>\n",
       "      <td>333</td>\n",
       "      <td>Portugal</td>\n",
       "      <td>235</td>\n",
       "      <td>36</td>\n",
       "      <td>2</td>\n",
       "      <td>4</td>\n",
       "      <td>2</td>\n",
       "      <td>3</td>\n",
       "      <td>...</td>\n",
       "      <td>0</td>\n",
       "      <td>0</td>\n",
       "      <td>1</td>\n",
       "      <td>0</td>\n",
       "      <td>0</td>\n",
       "      <td>0</td>\n",
       "      <td>0</td>\n",
       "      <td>0</td>\n",
       "      <td>-99</td>\n",
       "      <td>32269589</td>\n",
       "    </tr>\n",
       "  </tbody>\n",
       "</table>\n",
       "<p>8577 rows × 23 columns</p>\n",
       "</div>"
      ],
      "text/plain": [
       "      year conflictid_old conflictid_new                         actor  \\\n",
       "0     2013             33            230                          AQAP   \n",
       "1     2012             33            230                          AQAP   \n",
       "2     2015             33            230      United States of America   \n",
       "3     2015             33            230                        Jordan   \n",
       "4     2015             33            230           Yemen (North Yemen)   \n",
       "...    ...            ...            ...                           ...   \n",
       "8572  1998            137            333  Hizb-i Islami-yi Afghanistan   \n",
       "8573  1999            137            333  Hizb-i Islami-yi Afghanistan   \n",
       "8574  2000            137            333  Hizb-i Islami-yi Afghanistan   \n",
       "8575  2002            137            333  Hizb-i Islami-yi Afghanistan   \n",
       "8576  2006            137            333                      Portugal   \n",
       "\n",
       "     actorid actorid_new actor_type type incomp region  ... gwnoloc3 gwnoloc4  \\\n",
       "0       1747         881          3    4      2      2  ...        0        0   \n",
       "1       1747         881          3    4      2      2  ...        0        0   \n",
       "2          2           3          2    4      2      2  ...        0        0   \n",
       "3        663         120          4    4      2      2  ...        0        0   \n",
       "4        678         123          1    4      2      2  ...        0        0   \n",
       "...      ...         ...        ...  ...    ...    ...  ...      ...      ...   \n",
       "8572    1141         299          3    4      2      3  ...        0        0   \n",
       "8573    1141         299          3    4      2      3  ...        0        0   \n",
       "8574    1141         299          3    4      2      3  ...        0        0   \n",
       "8575    1141         299          3    4      2      3  ...        0        0   \n",
       "8576     235          36          2    4      2      3  ...        0        0   \n",
       "\n",
       "     conflictyear interm postc state_prev ai_prev hrw_prev form population  \n",
       "0               1      0     0          0     -99        0  -99   10000000  \n",
       "1               1      0     0          0       0        0  -99   10000000  \n",
       "2               0      0     1          0       0        0  -99   10000000  \n",
       "3               1      0     0          0       0        0  -99   10000000  \n",
       "4               1      0     0          0       0        0  -99   10000000  \n",
       "...           ...    ...   ...        ...     ...      ...  ...        ...  \n",
       "8572            0      0     1          0       0        0  -99   32269589  \n",
       "8573            0      0     1          0       0        0  -99   32269589  \n",
       "8574            0      0     1          0       0        0  -99   32269589  \n",
       "8575            1      0     0          0       0        0  -99   32269589  \n",
       "8576            1      0     0          0       0        0  -99   32269589  \n",
       "\n",
       "[8577 rows x 23 columns]"
      ]
     },
     "execution_count": 8,
     "metadata": {},
     "output_type": "execute_result"
    }
   ],
   "source": [
    "merged_df"
   ]
  },
  {
   "cell_type": "code",
   "execution_count": 9,
   "metadata": {},
   "outputs": [
    {
     "data": {
      "text/plain": [
       "Index(['year', 'conflictid_old', 'conflictid_new', 'actor', 'actorid',\n",
       "       'actorid_new', 'actor_type', 'type', 'incomp', 'region', 'location',\n",
       "       'gwnoloc', 'gwnoloc2', 'gwnoloc3', 'gwnoloc4', 'conflictyear', 'interm',\n",
       "       'postc', 'state_prev', 'ai_prev', 'hrw_prev', 'form', 'population'],\n",
       "      dtype='object')"
      ]
     },
     "execution_count": 9,
     "metadata": {},
     "output_type": "execute_result"
    }
   ],
   "source": [
    "merged_df.columns"
   ]
  },
  {
   "cell_type": "code",
   "execution_count": 10,
   "metadata": {},
   "outputs": [
    {
     "data": {
      "text/plain": [
       "Index(['location', 'population'], dtype='object')"
      ]
     },
     "execution_count": 10,
     "metadata": {},
     "output_type": "execute_result"
    }
   ],
   "source": [
    "df_xls2.columns"
   ]
  },
  {
   "cell_type": "markdown",
   "metadata": {},
   "source": [
    "Note how we checked to see that our newly merged data set \"merged_df\" shows the additional 'population' column."
   ]
  },
  {
   "cell_type": "markdown",
   "metadata": {},
   "source": [
    "## Data Breakdown"
   ]
  },
  {
   "cell_type": "code",
   "execution_count": 11,
   "metadata": {},
   "outputs": [
    {
     "data": {
      "text/plain": [
       "(8577, 23)"
      ]
     },
     "execution_count": 11,
     "metadata": {},
     "output_type": "execute_result"
    }
   ],
   "source": [
    "merged_df.shape"
   ]
  },
  {
   "cell_type": "code",
   "execution_count": 12,
   "metadata": {},
   "outputs": [
    {
     "data": {
      "text/plain": [
       "Int64Index([   0,    1,    2,    3,    4,    5,    6,    7,    8,    9,\n",
       "            ...\n",
       "            8567, 8568, 8569, 8570, 8571, 8572, 8573, 8574, 8575, 8576],\n",
       "           dtype='int64', length=8577)"
      ]
     },
     "execution_count": 12,
     "metadata": {},
     "output_type": "execute_result"
    }
   ],
   "source": [
    "index=merged_df.index\n",
    "index"
   ]
  },
  {
   "cell_type": "code",
   "execution_count": 13,
   "metadata": {},
   "outputs": [
    {
     "data": {
      "text/plain": [
       "year              object\n",
       "conflictid_old    object\n",
       "conflictid_new    object\n",
       "actor             object\n",
       "actorid           object\n",
       "actorid_new       object\n",
       "actor_type        object\n",
       "type              object\n",
       "incomp            object\n",
       "region            object\n",
       "location          object\n",
       "gwnoloc           object\n",
       "gwnoloc2          object\n",
       "gwnoloc3          object\n",
       "gwnoloc4          object\n",
       "conflictyear      object\n",
       "interm            object\n",
       "postc             object\n",
       "state_prev        object\n",
       "ai_prev           object\n",
       "hrw_prev          object\n",
       "form              object\n",
       "population         int64\n",
       "dtype: object"
      ]
     },
     "execution_count": 13,
     "metadata": {},
     "output_type": "execute_result"
    }
   ],
   "source": [
    "merged_df.dtypes\n",
    "            #Note that the variable \"form\" is an object. Need to transform into numeric for both subsets."
   ]
  },
  {
   "cell_type": "code",
   "execution_count": null,
   "metadata": {},
   "outputs": [],
   "source": [
    "sum(merged_df['actor_type'].isnull())"
   ]
  },
  {
   "cell_type": "code",
   "execution_count": null,
   "metadata": {},
   "outputs": [],
   "source": [
    "sum(merged_df['type'].isnull())"
   ]
  },
  {
   "cell_type": "code",
   "execution_count": null,
   "metadata": {},
   "outputs": [],
   "source": [
    "sum(merged_df['state_prev'].isnull())"
   ]
  },
  {
   "cell_type": "code",
   "execution_count": null,
   "metadata": {},
   "outputs": [],
   "source": [
    "sum(merged_df['ai_prev'].isnull())"
   ]
  },
  {
   "cell_type": "code",
   "execution_count": null,
   "metadata": {},
   "outputs": [],
   "source": [
    "sum(merged_df['hrw_prev'].isnull())"
   ]
  },
  {
   "cell_type": "code",
   "execution_count": null,
   "metadata": {},
   "outputs": [],
   "source": [
    "sum(merged_df['form'].isnull())"
   ]
  },
  {
   "cell_type": "code",
   "execution_count": 21,
   "metadata": {},
   "outputs": [
    {
     "data": {
      "text/plain": [
       "3"
      ]
     },
     "execution_count": 21,
     "metadata": {},
     "output_type": "execute_result"
    }
   ],
   "source": [
    "import statistics\n",
    "statistics.mode(merged_df['actor_type'])"
   ]
  },
  {
   "cell_type": "markdown",
   "metadata": {},
   "source": [
    "We see that the most common d types of 'actor_type'  that emerged in the conflict country cases reviewed was type 3:  'Rebel (in UCDP dyadic, the actor type is called 'Side B')'. \n",
    "\n",
    "Below we see that the most common type of conflict is the one labeled '3', or \"Intrastate Conflict\" type."
   ]
  },
  {
   "cell_type": "code",
   "execution_count": null,
   "metadata": {},
   "outputs": [],
   "source": [
    "merged_df['type'].value_counts()"
   ]
  },
  {
   "cell_type": "code",
   "execution_count": null,
   "metadata": {},
   "outputs": [],
   "source": [
    "merged_df['actor_type'].value_counts()\n"
   ]
  },
  {
   "cell_type": "markdown",
   "metadata": {},
   "source": [
    "There are six actor types. Although '3', or 'Rebel' was the most prevalent in 3,020 of the conflict country cases, 'actor_type' '6' was the second most prevalent and defined as \"Pro-government militias\" (PGMs) in 2,335 country cases. "
   ]
  },
  {
   "cell_type": "code",
   "execution_count": null,
   "metadata": {},
   "outputs": [],
   "source": [
    "merged_df['form'].value_counts()\n",
    "                            #Variable 'form' is read as a string of integers. We need to deal with the '-99' value."
   ]
  },
  {
   "cell_type": "code",
   "execution_count": null,
   "metadata": {},
   "outputs": [],
   "source": [
    "merged_df.iloc[6522:6525]['form'] "
   ]
  },
  {
   "cell_type": "code",
   "execution_count": null,
   "metadata": {},
   "outputs": [],
   "source": [
    "#df['form'] = pd.to_numeric(df['form'], errors='coerce')\n",
    "#print(df)"
   ]
  },
  {
   "cell_type": "code",
   "execution_count": null,
   "metadata": {},
   "outputs": [],
   "source": [
    "merged_df['form'].value_counts()"
   ]
  },
  {
   "cell_type": "markdown",
   "metadata": {},
   "source": [
    "## 'Sex Violence' Index \n",
    "Creat a new column 'sex_violence' as the varaible being tested in this experiment. Use in new Sex_Violence column df['form'].value_counts()"
   ]
  },
  {
   "cell_type": "markdown",
   "metadata": {},
   "source": [
    "### Creating Code: 'Crime_counts'   \n",
    "We see that the 'form' tracks both dimensions of documented sexual violence against women: 1) the number, and 2) type of Crimes. Capturing both dimensions represents a key component to create the index \"sex_violence', a.k.a, sexual violence. "
   ]
  },
  {
   "cell_type": "code",
   "execution_count": null,
   "metadata": {},
   "outputs": [],
   "source": [
    "merged_df.iloc[6522:6525]['form'] "
   ]
  },
  {
   "cell_type": "code",
   "execution_count": null,
   "metadata": {},
   "outputs": [],
   "source": [
    "crime_counts = merged_df['form'].value_counts()\n",
    "print(crime_counts)"
   ]
  },
  {
   "cell_type": "code",
   "execution_count": null,
   "metadata": {},
   "outputs": [],
   "source": [
    "df['form'] = pd.to_numeric(df['form'], errors='coerce')\n",
    "print(merged_df)"
   ]
  },
  {
   "cell_type": "code",
   "execution_count": null,
   "metadata": {},
   "outputs": [],
   "source": [
    "print(merged_df['form'].iloc[0])\n",
    "print(type(merged_df['form'].iloc[0]))"
   ]
  },
  {
   "cell_type": "code",
   "execution_count": null,
   "metadata": {},
   "outputs": [],
   "source": [
    "def my_function(x):\n",
    "    if x == -99:\n",
    "        return 1\n",
    "    else:\n",
    "        return x + 1 \n",
    "    \n",
    "#merged_df['crime_fixed_another_way'] = merged_df['form'].apply(my_function)  #substituted \"crime\" for \"form\"\n",
    "\n",
    "merged_df['crime_fixed_another_way'] = merged_df['length_of_form'].apply(lambda x: 1 if x == -99 else x+1)"
   ]
  },
  {
   "cell_type": "code",
   "execution_count": null,
   "metadata": {},
   "outputs": [],
   "source": [
    "merged_df"
   ]
  },
  {
   "cell_type": "code",
   "execution_count": null,
   "metadata": {},
   "outputs": [],
   "source": [
    "print(merged_df['crime_fixed_another_way'].iloc[2474:2485]) \n",
    "                                                        #Spot Checking Syria cases in original spreadsheet showing more than 1 crime from type"
   ]
  },
  {
   "cell_type": "code",
   "execution_count": null,
   "metadata": {},
   "outputs": [],
   "source": [
    "merged_df['length_of_form'].value_counts()"
   ]
  },
  {
   "cell_type": "code",
   "execution_count": null,
   "metadata": {},
   "outputs": [],
   "source": [
    "merged_df['crime_fixed_another_way'].value_counts()"
   ]
  },
  {
   "cell_type": "markdown",
   "metadata": {},
   "source": [
    "Tiago's Suggested Fix \n",
    "merged_df['crime_fixed_another_way'] = merged_df['form'].apply(lambda x: 1 if int(x) == -99 else int(x)+1)\n",
    "\n",
    "merged_df['number_of_crimes'].apply(len)"
   ]
  },
  {
   "cell_type": "code",
   "execution_count": null,
   "metadata": {
    "scrolled": true
   },
   "outputs": [],
   "source": [
    "merged_df.iloc[6522:6525]['form'] "
   ]
  },
  {
   "cell_type": "code",
   "execution_count": null,
   "metadata": {},
   "outputs": [],
   "source": [
    "merged_df['sex_violence'] = ((merged_df['state_prev']+ merged_df['ai_prev']+ merged_df['hrw_prev']) * merged_df['crime_fixed_another_way'])/ merged_df['population']\n",
    "print(merged_df['sex_violence'])"
   ]
  },
  {
   "cell_type": "markdown",
   "metadata": {},
   "source": [
    "We calculated the 'sex_violence' index in another way by removing the step of dividing by 'population' here and called it 'sex_violence_2' to contrast with previous index: 'sex_violence'. "
   ]
  },
  {
   "cell_type": "code",
   "execution_count": null,
   "metadata": {},
   "outputs": [],
   "source": [
    "merged_df['sex_violence_2'] = ((merged_df['state_prev']+ merged_df['ai_prev']+ merged_df['hrw_prev']) * merged_df['crime_fixed_another_way'])#~Removed Population\n",
    "print(merged_df['sex_violence_2'])"
   ]
  },
  {
   "cell_type": "markdown",
   "metadata": {},
   "source": []
  },
  {
   "cell_type": "code",
   "execution_count": null,
   "metadata": {},
   "outputs": [],
   "source": [
    "#built in like .sum() or .count(). For even greater possibilities you can use .aggregate(numpy_function). \n",
    "merged_df.groupby('location').count()"
   ]
  },
  {
   "cell_type": "code",
   "execution_count": null,
   "metadata": {},
   "outputs": [],
   "source": [
    "sns.catplot(x=\"sex_violence\", y=\"actor_type\", hue=\"year\", kind=\"swarm\", data=merged_df)\n",
    "plt.title('Sexual Violence by Actor Type')"
   ]
  },
  {
   "cell_type": "markdown",
   "metadata": {},
   "source": [
    "In our 'Sexual Violence by Actor' plot we see that there are six different 'actor types' committing different types of sexual violence, measured by 'form'. \"Type 1\" representes 'State or incumbent government (in UCDP dyadic, this actor type is called 'Side A'' while \"Type 3\" represents Rebel (in UCDP dyadic, the actor type is called 'Side B')\n",
    "\"Type 2\" represent states supporting the state \"Type 1\" involved with conflict on its territory, and highlighted as an occurrence after year 2006 and increasingly between 2011 to 2015. Syria represents this situation regarding Russia and Iran.  \n",
    "\n",
    "So we need to parse out Syria subset, or 'Group A', aside from the global sample between years 2011-2015.\n",
    "Source: https://www.dunderdata.com/blog/selecting-subsets-of-data-in-pandas-part-1"
   ]
  },
  {
   "cell_type": "markdown",
   "metadata": {},
   "source": [
    "## Group A: Syria Subset\n",
    "The next step in our experiment is to parse out Syria subset, or 'Group A', aside from the global sample between years 2011-2017.\n",
    "Source: https://www.dunderdata.com/blog/selecting-subsets-of-data-in-pandas-part-1"
   ]
  },
  {
   "cell_type": "code",
   "execution_count": null,
   "metadata": {},
   "outputs": [],
   "source": [
    "#Select from 'year' between 2011 and 2017 AND location of Syria index\n",
    "df_Syria = merged_df[(merged_df['year'] >= 2011) & (merged_df['year'] <= 2017) & (merged_df['location'] == 'Syria')]\n",
    "df_Syria"
   ]
  },
  {
   "cell_type": "markdown",
   "metadata": {},
   "source": [
    "###Summary stats for Group A\n",
    "Here we see the breakdown of summary statistics for our experiment on Syria, which is 'Group A'.  There are 28 cases between years 2011 and 2015. Unlike the U.S. Three huge entities specifically report rape or other sexual violence related to the conflict. Although the State Department shows in column 'state_prev' 18 reports mentioning sexual violent occurences, both Amnesty International('ai_prev') and Human Rights Watch ('hrw_prev) provide a higher, and the same number of reports mentioning sexual violence in Syria conflict: 23. \n",
    "\n",
    "We need the mean in 'sex_violence', our independent variable of interest, for both groups. We will use the numpy mean built-in method to calculate; shared immediately below: \n",
    "    'Group A': 1.6785714285714286\n",
    "    'Group B': -16.710108073744436"
   ]
  },
  {
   "cell_type": "code",
   "execution_count": null,
   "metadata": {},
   "outputs": [],
   "source": [
    "df_Syria.describe()"
   ]
  },
  {
   "cell_type": "code",
   "execution_count": null,
   "metadata": {},
   "outputs": [],
   "source": [
    "np.mean(df_Syria['sex_violence'])"
   ]
  },
  {
   "cell_type": "code",
   "execution_count": null,
   "metadata": {},
   "outputs": [],
   "source": [
    "np.mean(df_Syria['sex_violence_2'])"
   ]
  },
  {
   "cell_type": "code",
   "execution_count": null,
   "metadata": {},
   "outputs": [],
   "source": [
    "sns.catplot(x=\"type\", y=\"actor_type\", kind=\"swarm\", data=df_Syria)\n",
    "plt.title('Type of Conflict With Actor Intervention in Syria')"
   ]
  },
  {
   "cell_type": "markdown",
   "metadata": {},
   "source": [
    "We see that 'type' category of 'two' in conflict type is the  is missing in our 'Group A', or Syria case. Category 'two' Compare to Table: 'Type of Conflict With Actor Intervention', which has all three types."
   ]
  },
  {
   "cell_type": "markdown",
   "metadata": {},
   "source": [
    "## Group B: World\n",
    "'Group B' in this experiment represents all countries experiencing conflict between the same time period (our control of years 2011 through 2015) except Syria since Syria is our 'Group A'. 'Group B' includes 1,573 cases for comparison."
   ]
  },
  {
   "cell_type": "code",
   "execution_count": null,
   "metadata": {},
   "outputs": [],
   "source": [
    "df_world = merged_df[(merged_df['year'] >= 2011) & (merged_df['year'] <= 2017) & (merged_df['location'] != 'Syria')]\n",
    "df_world"
   ]
  },
  {
   "cell_type": "code",
   "execution_count": null,
   "metadata": {},
   "outputs": [],
   "source": [
    "df_world.describe()"
   ]
  },
  {
   "cell_type": "code",
   "execution_count": null,
   "metadata": {},
   "outputs": [],
   "source": [
    "np.mean(df_world['sex_violence'])"
   ]
  },
  {
   "cell_type": "code",
   "execution_count": null,
   "metadata": {},
   "outputs": [],
   "source": [
    "np.mean(df_world['sex_violence_2'])"
   ]
  },
  {
   "cell_type": "markdown",
   "metadata": {},
   "source": []
  },
  {
   "cell_type": "code",
   "execution_count": null,
   "metadata": {},
   "outputs": [],
   "source": [
    "sns.catplot(x=\"type\", y=\"actor_type\", kind=\"swarm\", data=df_world)\n",
    "plt.title('Type of Conflict With Actor Intervention')"
   ]
  },
  {
   "cell_type": "markdown",
   "metadata": {},
   "source": [
    "## T-Test\n",
    "Between both 'Group A', Syria, and 'Group B', world, we will run a t-test to review our hypothesis. We will run an 'Independent Samples t-test', which compares the means for two groups: 'Group A' (Syria) and 'Group B' (world). Our T-test considers that both samples have different means, variance, and sample sizes."
   ]
  },
  {
   "cell_type": "code",
   "execution_count": null,
   "metadata": {},
   "outputs": [],
   "source": [
    "from scipy import stats\n",
    "#import researchpy as rp #~ We are using 2 dataframes, Syria and world, so use researchpy.\n",
    "\n",
    "x= df_Syria['sex_violence']\n",
    "y= df_world['sex_violence']\n",
    "ttest=stats.ttest_ind(x,y)\n",
    "print ('t-test sex_violence', ttest)\n",
    "\n",
    "#researchpy.ttest(x, y, group1_name= None, group2_name= None, equal_variances= True, paired= False, correction= None)\n",
    "#print()"
   ]
  },
  {
   "cell_type": "markdown",
   "metadata": {},
   "source": [
    "We calculate a t-statistic of '1.1516' with a p-value of '0.249'"
   ]
  },
  {
   "cell_type": "markdown",
   "metadata": {},
   "source": [
    "#Conclusion"
   ]
  },
  {
   "cell_type": "markdown",
   "metadata": {},
   "source": [
    "After conducting a t-test between 'Group A' and 'Group B', we calculated a t-statistic of '1.1516'. We can reject the null hypothesis of equal means between 'Group A' and 'Group B' regarding their 'sex_violence' level at the 0.25 level. (The p-value represents the probability of getting the data above if the null hypothesis were true in the population.) Specifically: Syria's average rate of sexual violence compared to the conflict countries' average rate of sexual violence are not the same. Although the t-statistic is not very low, it is important to note that our sample size for Syria ('Group A') is 25, which is much less than the sample size of all the other conflict countries ('Group B'), which is 1451 country cases.\n",
    "\n",
    "In conclusion, the Syria's sexual violence index represents a different combination of documented watchdog reports and a higher pattern and form of sexual violence types as represtened by our constructed variable 'crime_counted_another_way', which was derived from the 'form' type and 'form' counts, or occurences of sexual violence. As a result, the Syrian crisis could represent the worst form of violence against women in conflict since the Balkans crisis and the resulting Bosnian Genocide. \n",
    "\n",
    "Other areas for review include examining the 'actor_type' carrying out the sexual violence 'sex_violence' as well as conducting an A/A test between Syria and Yemen. We propopse conducting the latter t-test because Syria and Yemen represent two Middle Eastern countries experiencing similar state and non-state actor conflict that are continuing until today and share similar sample sizes. The rates of violence may differ depending on whether there are more types of actors involved. Is there a statistical difference between these two countries with more actors than less actors.\n",
    "\n",
    "For next time: Yemen, proposed code below."
   ]
  },
  {
   "cell_type": "code",
   "execution_count": null,
   "metadata": {},
   "outputs": [],
   "source": [
    "df_Yemen = merged_df[(merged_df['year'] >= 2011) & (merged_df['year'] <= 2017) & (merged_df['location'] == 'Yemen')]\n",
    "df_Yemen"
   ]
  }
 ],
 "metadata": {
  "kernelspec": {
   "display_name": "Python 3",
   "language": "python",
   "name": "python3"
  },
  "language_info": {
   "codemirror_mode": {
    "name": "ipython",
    "version": 3
   },
   "file_extension": ".py",
   "mimetype": "text/x-python",
   "name": "python",
   "nbconvert_exporter": "python",
   "pygments_lexer": "ipython3",
   "version": "3.7.4"
  }
 },
 "nbformat": 4,
 "nbformat_minor": 2
}
