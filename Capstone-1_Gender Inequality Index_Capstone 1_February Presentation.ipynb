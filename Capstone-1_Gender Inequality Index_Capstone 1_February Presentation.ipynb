{
 "cells": [
  {
   "cell_type": "markdown",
   "metadata": {},
   "source": [
    "# Gender Inequality Index Reflects Women's Political Participation "
   ]
  },
  {
   "cell_type": "markdown",
   "metadata": {},
   "source": [
    "As of December 2019, Finland elected female Prime Minister Sanna Marina, thereby ranking 1st in the world in electing a women-led government. Finland ranks 8th in the United Nations latest global indicators: the Gender Inequality Index with a score of .058. (Switzerland ranks first in GII globally.) Meanwhile many of the Middle East & North African (MENA) countries have elected women parliamentarians, or appointed women ministers, only the Arab monarchies broke into the top 50 regarding its GII score: 1) Qatar (44th place with a score of .206); 2) Bahrain (47th place with a score of .222); 3) United Arab Emirates (49th place with a score of .232); and 4) Saudi Arabia (50th place with a score of .234). \n",
    "\n",
    "As such, Forbes Magazine argues that this highly-developed, socially-democratic economy elected its youngest female Prime Minister--along with the coalition government's four other parties each led by a woman-- because of its success in advancing gender equality. Five women leading Finland's coalition government prompt many questions about the relative factors of gender, education, political participation, civic engagement, access to information, and organizational development support. Each relate to economics development.  But does advanced economic development drive gender equality, or does gender equality drive economic development? (Source: Forbes Magazine https://www.forbes.com/sites/carmenniethammer/2019/12/12/finlands-new-government-is-young-and-led-by-women-heres-what-the-country-does-to-promote-diversity/#16dcda3235aa)\n",
    "\n",
    "Objective: To use the Gender Inequality Index from the United Nations Data set to answer analytical questions \n",
    "regarding women's political participation. For the purpose of this analysis, we will use \"Human Development Index\" to indicate the multi-dimensional aspects (health, Gross Domestic Product, and eduction) of economic development of a country's success. \n",
    "\n",
    "“Gender equality, equality between men and women…does not mean that women and men have to become the same, but that their rights, responsibilities and opportunities will not depend on whether they were born male or female. Gender equity means fairness of treatment for men and women according to their respective needs. This may include equal treatment or treatment that is different but which is considered equivalent in terms of rights, benefits, obligations, and opportunities.” –United Nations Educational, Scientific and Cultural Organization (UNESDOC)\n",
    "\n",
    "\n",
    "Note: We will define 'gender equity’ and 'gender inequality' as they are distinct and not interchangeable. (Source: https://www.pipelineequity.com/voices-for-equity/gender-equity-vs-gender-equality/) For the purposes of this analysis, we will use the term \"gender equity' to reference other columns/indices in the data set that represent health, cultural, educational, institutional marks of women's status in country: \n",
    " \"Internet users, female (% of female population)\"              \n",
    " \"Number of Women’s Orgs\" \n",
    " \"Maternal mortality ratio\"\n",
    " \"Share of seats in parliament\"                                \n",
    " \"Female Population with at least some secondary education\"\n",
    " \"Female Labour force participation rate\"\n",
    "\n",
    "\n",
    "Gender Equality: the end goal.\n",
    "Gender Equity: the means to get there.\n",
    "\n",
    "The capstone project primarily uses data from the the United Nations (UN) and added two additional columns of women's data from outside source. Specifically, the additional column \"Number of Women's Orgs\" represents the point of view that women's organizations in country represent the political, social, and cultural status of women to participate and organize. This data is self reporting and comes from Wikipedia. As such the limitation of the data is that it is self reporting and introduces bias. Also, not every organization was vetted before getting listed. \n",
    "\n",
    "Furthermore, this project added the second column, \"Internet users, female (% of female population)\", to recognize the impact technology has on information, education access and civic engagement for women in country. The Gender Inequality Index does not review women's access to safe transportation, acknowledge the harassment environment, nor the (im)mobility of women to commute for work or civic activities. The internet serves as an alternate form for employment, civic and political engagement. Therefore, we pulled data from another UN data set to represent \"Mobility & Communication\". (Source: http://hdr.undp.org/en/data#) For consistency, I drew data from the United Nations database for the same year the capstone accessed from the GII report, 2017.\n",
    "\n",
    "Since 1990, the UN has compiled a yearly data set of the Human Development Index covering 187 member countries. In 2011, the GII emerged as part of the Human Development story to highlight the loss of country achievement based on women's status (or lack of equality, e.g. participation in labor markets). The GII ranges between 0 and 1. So lower GII values indicate lower inequalities between women and men and thus lower loss to human development. Currently, only 161 countries are represented by the GII and make up our sample for the capstone project.  Source: http://hdr.undp.org/en/faq-page/gender-inequality-index-gii  \n",
    "\n",
    "I chose a UN data set compilation focusing on the Gender Inequality Index (GII) because this is used to inform the Human Development Report, which relies on the Human Development Index (HDI). As the Founder of the political-economy blog, PITAPOLICY, I am interested in factors that impact the human development story in a diverse region encompassing various ethnicities, religions, politics, resources, and human capital potential. This region stretches from Morocco; North to non-Arab Turkey; across the Levant Arab Gulf, and Iraq; and into non-Arab mountainous areas north of the Arabian Sea of Iran, Afghanistan and Pakistan. PITAPOLICY covers and stands for Politics, Impact, Technology, and Analysis for the Middle East & North Africa region (MENA)--or \"countries that consume pita bread\"-I chose a UN data set compilation focusing on the Gender Inequality Index because this is used to inform the Human Development Report, which relies on the Human Development Index (HDI). \n",
    "\n",
    "PITAPOLICY has researched refugee rights, social capital, and entrepreneurship development in authoritarian and post-conflict countries. Ultimately, the questions of development look at women's place in human and social capital development. PITAPOLICY welcomes GII as a starting point for these discussions. HDI and GII are composite indices, which could produce redundant information. This capstone will test assumptions about how gender inequality adversely impacts women's participation and status."
   ]
  },
  {
   "cell_type": "markdown",
   "metadata": {},
   "source": [
    "## Indexes Indicating Gender Equity Across 160 Countries"
   ]
  },
  {
   "cell_type": "code",
   "execution_count": 1,
   "metadata": {},
   "outputs": [
    {
     "data": {
      "text/html": [
       "<div>\n",
       "<style scoped>\n",
       "    .dataframe tbody tr th:only-of-type {\n",
       "        vertical-align: middle;\n",
       "    }\n",
       "\n",
       "    .dataframe tbody tr th {\n",
       "        vertical-align: top;\n",
       "    }\n",
       "\n",
       "    .dataframe thead th {\n",
       "        text-align: right;\n",
       "    }\n",
       "</style>\n",
       "<table border=\"1\" class=\"dataframe\">\n",
       "  <thead>\n",
       "    <tr style=\"text-align: right;\">\n",
       "      <th></th>\n",
       "      <th>HDI Rank</th>\n",
       "      <th>Category</th>\n",
       "      <th>Country</th>\n",
       "      <th>Gender Inequality Index</th>\n",
       "      <th>Gender Inequality Index Rank</th>\n",
       "      <th>Maternal mortality ratio</th>\n",
       "      <th>Adolescent birth rate</th>\n",
       "      <th>Internet users, female (% of female population)</th>\n",
       "      <th>Number of Women’s Orgs</th>\n",
       "      <th>Share of seats in parliament</th>\n",
       "      <th>Female Population with at least some secondary education</th>\n",
       "      <th>Male Population with at least some secondary education</th>\n",
       "      <th>Female Labour force participation rate</th>\n",
       "      <th>Male Labor Force Participation Rate</th>\n",
       "    </tr>\n",
       "  </thead>\n",
       "  <tbody>\n",
       "    <tr>\n",
       "      <td>0</td>\n",
       "      <td>168</td>\n",
       "      <td>Low</td>\n",
       "      <td>Afghanistan</td>\n",
       "      <td>0.653</td>\n",
       "      <td>153</td>\n",
       "      <td>396</td>\n",
       "      <td>64.5</td>\n",
       "      <td>0.59</td>\n",
       "      <td>7.0</td>\n",
       "      <td>27.4</td>\n",
       "      <td>11.4</td>\n",
       "      <td>36.9</td>\n",
       "      <td>19.5</td>\n",
       "      <td>86.7</td>\n",
       "    </tr>\n",
       "    <tr>\n",
       "      <td>1</td>\n",
       "      <td>68</td>\n",
       "      <td>High</td>\n",
       "      <td>Albania</td>\n",
       "      <td>0.238</td>\n",
       "      <td>52</td>\n",
       "      <td>29</td>\n",
       "      <td>20.7</td>\n",
       "      <td>0.236</td>\n",
       "      <td>1.0</td>\n",
       "      <td>27.9</td>\n",
       "      <td>93.1</td>\n",
       "      <td>92.8</td>\n",
       "      <td>47.2</td>\n",
       "      <td>64.9</td>\n",
       "    </tr>\n",
       "    <tr>\n",
       "      <td>2</td>\n",
       "      <td>85</td>\n",
       "      <td>High</td>\n",
       "      <td>Algeria</td>\n",
       "      <td>0.442</td>\n",
       "      <td>100</td>\n",
       "      <td>140</td>\n",
       "      <td>10.1</td>\n",
       "      <td>0.447</td>\n",
       "      <td>0.0</td>\n",
       "      <td>21.3</td>\n",
       "      <td>37.5</td>\n",
       "      <td>37.9</td>\n",
       "      <td>15.2</td>\n",
       "      <td>67.3</td>\n",
       "    </tr>\n",
       "    <tr>\n",
       "      <td>3</td>\n",
       "      <td>47</td>\n",
       "      <td>Very high</td>\n",
       "      <td>Argentina</td>\n",
       "      <td>0.358</td>\n",
       "      <td>81</td>\n",
       "      <td>52</td>\n",
       "      <td>62.8</td>\n",
       "      <td>0.355</td>\n",
       "      <td>4.0</td>\n",
       "      <td>38.9</td>\n",
       "      <td>65.9</td>\n",
       "      <td>62.8</td>\n",
       "      <td>47.3</td>\n",
       "      <td>73.2</td>\n",
       "    </tr>\n",
       "    <tr>\n",
       "      <td>4</td>\n",
       "      <td>83</td>\n",
       "      <td>High</td>\n",
       "      <td>Armenia</td>\n",
       "      <td>0.262</td>\n",
       "      <td>55</td>\n",
       "      <td>25</td>\n",
       "      <td>23.2</td>\n",
       "      <td>0.263</td>\n",
       "      <td>0.0</td>\n",
       "      <td>18.1</td>\n",
       "      <td>96.9</td>\n",
       "      <td>97.6</td>\n",
       "      <td>51.4</td>\n",
       "      <td>70.6</td>\n",
       "    </tr>\n",
       "  </tbody>\n",
       "</table>\n",
       "</div>"
      ],
      "text/plain": [
       "   HDI Rank   Category      Country  Gender Inequality Index  \\\n",
       "0       168        Low  Afghanistan                    0.653   \n",
       "1        68       High      Albania                    0.238   \n",
       "2        85       High      Algeria                    0.442   \n",
       "3        47  Very high    Argentina                    0.358   \n",
       "4        83       High      Armenia                    0.262   \n",
       "\n",
       "   Gender Inequality Index Rank Maternal mortality ratio  \\\n",
       "0                           153                      396   \n",
       "1                            52                       29   \n",
       "2                           100                      140   \n",
       "3                            81                       52   \n",
       "4                            55                       25   \n",
       "\n",
       "   Adolescent birth rate Internet users, female (% of female population)  \\\n",
       "0                   64.5                                            0.59   \n",
       "1                   20.7                                           0.236   \n",
       "2                   10.1                                           0.447   \n",
       "3                   62.8                                           0.355   \n",
       "4                   23.2                                           0.263   \n",
       "\n",
       "   Number of Women’s Orgs  Share of seats in parliament  \\\n",
       "0                     7.0                          27.4   \n",
       "1                     1.0                          27.9   \n",
       "2                     0.0                          21.3   \n",
       "3                     4.0                          38.9   \n",
       "4                     0.0                          18.1   \n",
       "\n",
       "   Female Population with at least some secondary education  \\\n",
       "0                                               11.4          \n",
       "1                                               93.1          \n",
       "2                                               37.5          \n",
       "3                                               65.9          \n",
       "4                                               96.9          \n",
       "\n",
       "   Male Population with at least some secondary education  \\\n",
       "0                                               36.9        \n",
       "1                                               92.8        \n",
       "2                                               37.9        \n",
       "3                                               62.8        \n",
       "4                                               97.6        \n",
       "\n",
       "   Female Labour force participation rate   \\\n",
       "0                                     19.5   \n",
       "1                                     47.2   \n",
       "2                                     15.2   \n",
       "3                                     47.3   \n",
       "4                                     51.4   \n",
       "\n",
       "   Male Labor Force Participation Rate  \n",
       "0                                 86.7  \n",
       "1                                 64.9  \n",
       "2                                 67.3  \n",
       "3                                 73.2  \n",
       "4                                 70.6  "
      ]
     },
     "execution_count": 1,
     "metadata": {},
     "output_type": "execute_result"
    }
   ],
   "source": [
    "#Show Data from Gender Inequality Data set (GII) concatenates UN data and Female Internet Usage by Country\n",
    "import pandas as pd\n",
    "gender_file = '/Users/mehrunisaqayyum/Downloads/GII_Capstone.csv'\n",
    "df = pd.read_csv(gender_file)\n",
    "df.head()"
   ]
  },
  {
   "cell_type": "code",
   "execution_count": 2,
   "metadata": {},
   "outputs": [
    {
     "data": {
      "text/plain": [
       "Index(['HDI Rank', 'Category', 'Country', 'Gender Inequality Index',\n",
       "       'Gender Inequality Index Rank', 'Maternal mortality ratio',\n",
       "       'Adolescent birth rate',\n",
       "       'Internet users, female (% of female population)',\n",
       "       'Number of Women’s Orgs', 'Share of seats in parliament',\n",
       "       'Female Population with at least some secondary education',\n",
       "       'Male Population with at least some secondary education',\n",
       "       'Female Labour force participation rate ',\n",
       "       'Male Labor Force Participation Rate'],\n",
       "      dtype='object')"
      ]
     },
     "execution_count": 2,
     "metadata": {},
     "output_type": "execute_result"
    }
   ],
   "source": [
    "df.columns"
   ]
  },
  {
   "cell_type": "code",
   "execution_count": 3,
   "metadata": {},
   "outputs": [
    {
     "name": "stdout",
     "output_type": "stream",
     "text": [
      "<class 'pandas.core.frame.DataFrame'>\n",
      "RangeIndex: 160 entries, 0 to 159\n",
      "Data columns (total 14 columns):\n",
      "HDI Rank                                                    160 non-null int64\n",
      "Category                                                    160 non-null object\n",
      "Country                                                     160 non-null object\n",
      "Gender Inequality Index                                     160 non-null float64\n",
      "Gender Inequality Index Rank                                160 non-null int64\n",
      "Maternal mortality ratio                                    160 non-null object\n",
      "Adolescent birth rate                                       160 non-null float64\n",
      "Internet users, female (% of female population)             160 non-null object\n",
      "Number of Women’s Orgs                                      92 non-null float64\n",
      "Share of seats in parliament                                160 non-null float64\n",
      "Female Population with at least some secondary education    160 non-null float64\n",
      "Male Population with at least some secondary education      160 non-null float64\n",
      "Female Labour force participation rate                      160 non-null float64\n",
      "Male Labor Force Participation Rate                         160 non-null float64\n",
      "dtypes: float64(8), int64(2), object(4)\n",
      "memory usage: 17.6+ KB\n"
     ]
    }
   ],
   "source": [
    "df.info()"
   ]
  },
  {
   "cell_type": "code",
   "execution_count": 4,
   "metadata": {},
   "outputs": [],
   "source": [
    "# Convert \"Gender Inequality Index\" data type from object to numeric (float64)\n",
    "df['Gender Inequality Index'] = df['Gender Inequality Index'].astype(float, errors='ignore')"
   ]
  },
  {
   "cell_type": "code",
   "execution_count": 5,
   "metadata": {},
   "outputs": [
    {
     "name": "stdout",
     "output_type": "stream",
     "text": [
      "     HDI Rank   Category                             Country  \\\n",
      "0         168        Low                         Afghanistan   \n",
      "1          68       High                             Albania   \n",
      "2          85       High                             Algeria   \n",
      "3          47  Very high                           Argentina   \n",
      "4          83       High                             Armenia   \n",
      "..        ...        ...                                 ...   \n",
      "155        78       High  Venezuela (Bolivarian Republic of)   \n",
      "156       116     Medium                            Viet Nam   \n",
      "157       178        Low                               Yemen   \n",
      "158       144     Medium                              Zambia   \n",
      "159       156        Low                            Zimbabwe   \n",
      "\n",
      "     Gender Inequality Index  Gender Inequality Index Rank  \\\n",
      "0                      0.653                           153   \n",
      "1                      0.238                            52   \n",
      "2                      0.442                           100   \n",
      "3                      0.358                            81   \n",
      "4                      0.262                            55   \n",
      "..                       ...                           ...   \n",
      "155                    0.454                           105   \n",
      "156                    0.304                            67   \n",
      "157                    0.834                           160   \n",
      "158                    0.517                           125   \n",
      "159                    0.534                           128   \n",
      "\n",
      "    Maternal mortality ratio  Adolescent birth rate  \\\n",
      "0                        396                   64.5   \n",
      "1                         29                   20.7   \n",
      "2                        140                   10.1   \n",
      "3                         52                   62.8   \n",
      "4                         25                   23.2   \n",
      "..                       ...                    ...   \n",
      "155                       95                   85.3   \n",
      "156                       54                   27.3   \n",
      "157                      385                   60.4   \n",
      "158                      224                   82.8   \n",
      "159                      443                  104.1   \n",
      "\n",
      "     Internet users, female (% of female population)  Number of Women’s Orgs  \\\n",
      "0                                              0.590                     7.0   \n",
      "1                                              0.236                     1.0   \n",
      "2                                              0.447                     0.0   \n",
      "3                                              0.355                     4.0   \n",
      "4                                              0.263                     0.0   \n",
      "..                                               ...                     ...   \n",
      "155                                            0.459                     NaN   \n",
      "156                                            0.318                     NaN   \n",
      "157                                            0.835                     2.0   \n",
      "158                                            0.543                     1.0   \n",
      "159                                            0.528                     NaN   \n",
      "\n",
      "     Share of seats in parliament  \\\n",
      "0                            27.4   \n",
      "1                            27.9   \n",
      "2                            21.3   \n",
      "3                            38.9   \n",
      "4                            18.1   \n",
      "..                            ...   \n",
      "155                          22.2   \n",
      "156                          26.7   \n",
      "157                           0.5   \n",
      "158                          18.0   \n",
      "159                          36.2   \n",
      "\n",
      "     Female Population with at least some secondary education  \\\n",
      "0                                                 11.4          \n",
      "1                                                 93.1          \n",
      "2                                                 37.5          \n",
      "3                                                 65.9          \n",
      "4                                                 96.9          \n",
      "..                                                 ...          \n",
      "155                                               71.7          \n",
      "156                                               66.2          \n",
      "157                                               18.7          \n",
      "158                                               39.2          \n",
      "159                                               55.9          \n",
      "\n",
      "     Male Population with at least some secondary education  \\\n",
      "0                                                 36.9        \n",
      "1                                                 92.8        \n",
      "2                                                 37.9        \n",
      "3                                                 62.8        \n",
      "4                                                 97.6        \n",
      "..                                                 ...        \n",
      "155                                               66.6        \n",
      "156                                               77.7        \n",
      "157                                               34.8        \n",
      "158                                               52.4        \n",
      "159                                               66.3        \n",
      "\n",
      "     Female Labour force participation rate   \\\n",
      "0                                       19.5   \n",
      "1                                       47.2   \n",
      "2                                       15.2   \n",
      "3                                       47.3   \n",
      "4                                       51.4   \n",
      "..                                       ...   \n",
      "155                                     50.2   \n",
      "156                                     73.2   \n",
      "157                                      6.0   \n",
      "158                                     70.1   \n",
      "159                                     78.5   \n",
      "\n",
      "     Male Labor Force Participation Rate  \n",
      "0                                   86.7  \n",
      "1                                   64.9  \n",
      "2                                   67.3  \n",
      "3                                   73.2  \n",
      "4                                   70.6  \n",
      "..                                   ...  \n",
      "155                                 77.4  \n",
      "156                                 83.5  \n",
      "157                                 69.6  \n",
      "158                                 79.7  \n",
      "159                                 89.1  \n",
      "\n",
      "[160 rows x 14 columns]\n"
     ]
    },
    {
     "data": {
      "text/plain": [
       "HDI Rank                                                      int64\n",
       "Category                                                     object\n",
       "Country                                                      object\n",
       "Gender Inequality Index                                     float64\n",
       "Gender Inequality Index Rank                                  int64\n",
       "Maternal mortality ratio                                     object\n",
       "Adolescent birth rate                                       float64\n",
       "Internet users, female (% of female population)             float64\n",
       "Number of Women’s Orgs                                      float64\n",
       "Share of seats in parliament                                float64\n",
       "Female Population with at least some secondary education    float64\n",
       "Male Population with at least some secondary education      float64\n",
       "Female Labour force participation rate                      float64\n",
       "Male Labor Force Participation Rate                         float64\n",
       "dtype: object"
      ]
     },
     "execution_count": 5,
     "metadata": {},
     "output_type": "execute_result"
    }
   ],
   "source": [
    "#Need to convert object data type from 'Internet users, female (% of female population)'to numeric datatype\n",
    "\n",
    "df['Internet users, female (% of female population)'] = pd.to_numeric(df['Internet users, female (% of female population)'],errors='coerce')\n",
    "\n",
    "print(df)\n",
    "df.dtypes"
   ]
  },
  {
   "cell_type": "code",
   "execution_count": 6,
   "metadata": {},
   "outputs": [
    {
     "name": "stdout",
     "output_type": "stream",
     "text": [
      "<class 'pandas.core.frame.DataFrame'>\n",
      "RangeIndex: 160 entries, 0 to 159\n",
      "Data columns (total 14 columns):\n",
      "HDI Rank                                                    160 non-null int64\n",
      "Category                                                    160 non-null object\n",
      "Country                                                     160 non-null object\n",
      "Gender Inequality Index                                     160 non-null float64\n",
      "Gender Inequality Index Rank                                160 non-null int64\n",
      "Maternal mortality ratio                                    160 non-null object\n",
      "Adolescent birth rate                                       160 non-null float64\n",
      "Internet users, female (% of female population)             158 non-null float64\n",
      "Number of Women’s Orgs                                      92 non-null float64\n",
      "Share of seats in parliament                                160 non-null float64\n",
      "Female Population with at least some secondary education    160 non-null float64\n",
      "Male Population with at least some secondary education      160 non-null float64\n",
      "Female Labour force participation rate                      160 non-null float64\n",
      "Male Labor Force Participation Rate                         160 non-null float64\n",
      "dtypes: float64(9), int64(2), object(3)\n",
      "memory usage: 17.6+ KB\n"
     ]
    }
   ],
   "source": [
    "df.info()"
   ]
  },
  {
   "cell_type": "markdown",
   "metadata": {},
   "source": [
    "###  Summary Statistics for Three Key Indicators\n",
    "#We saw in previous outputs that both 'Gender Inequality Index' and 'Rank' and'Female Labor Force...' data types were OBJECTS. We needed to convert into float or integers."
   ]
  },
  {
   "cell_type": "code",
   "execution_count": 7,
   "metadata": {},
   "outputs": [],
   "source": [
    "df['Internet users, female (% of female population)'] = pd.to_numeric(df['Internet users, female (% of female population)'],errors='coerce')\n"
   ]
  },
  {
   "cell_type": "code",
   "execution_count": 8,
   "metadata": {},
   "outputs": [
    {
     "data": {
      "text/plain": [
       "0.345392405063291"
      ]
     },
     "execution_count": 8,
     "metadata": {},
     "output_type": "execute_result"
    }
   ],
   "source": [
    "#Calculate the mean of 'Internet users, female' using numpby per 1/10/20 feedback.\n",
    "import statistics\n",
    "import numpy as np\n",
    "\n",
    "np.mean(df['Internet users, female (% of female population)'])\n",
    "\n",
    "#Mean of \"Internet users, female (% of female population\" is 0.34539"
   ]
  },
  {
   "cell_type": "markdown",
   "metadata": {},
   "source": [
    "We see that approximately 35 percent of the female global population use the internet for work, education, entertainment or civically engaging. This implies that women are not necessarily accessing the internet for information as much as men. "
   ]
  },
  {
   "cell_type": "code",
   "execution_count": 9,
   "metadata": {},
   "outputs": [
    {
     "data": {
      "text/plain": [
       "20.0"
      ]
     },
     "execution_count": 9,
     "metadata": {},
     "output_type": "execute_result"
    }
   ],
   "source": [
    "np.mean(df['Share of seats in parliament'])\n",
    "#Mean of Share of Seats is 22.20124223602484\n",
    "np.median(df['Share of seats in parliament'])\n",
    "#Median of Share of Seats is 20\n",
    "#Mode is line 146"
   ]
  },
  {
   "cell_type": "markdown",
   "metadata": {},
   "source": [
    "To measure political participation of women at national lavel, we calculated the mean and median for \"Share of Seats in Parliament\" held by women to be 22.2 and 20, respectively."
   ]
  },
  {
   "cell_type": "code",
   "execution_count": 10,
   "metadata": {},
   "outputs": [
    {
     "data": {
      "image/png": "[encoded data removed]",
      "text/plain": [
       "<Figure size 432x288 with 1 Axes>"
      ]
     },
     "metadata": {
      "needs_background": "light"
     },
     "output_type": "display_data"
    }
   ],
   "source": [
    "#Look at Number of Women's Orgs\n",
    "%matplotlib inline\n",
    "import matplotlib.pyplot as plt\n",
    "\n",
    "plt.hist(\"Number of Women’s Orgs\", bins=40, color='purple')\n",
    "plt.hist(\"Share of seats in parliament\", bins=40, color='pink')\n",
    "plt.title('Number of Organizations for Women')\n",
    "plt.xlabel('Random Values')\n",
    "plt.show()"
   ]
  },
  {
   "cell_type": "code",
   "execution_count": 11,
   "metadata": {
    "scrolled": true
   },
   "outputs": [
    {
     "data": {
      "text/plain": [
       "51.56875000000001"
      ]
     },
     "execution_count": 11,
     "metadata": {},
     "output_type": "execute_result"
    }
   ],
   "source": [
    "#Calculate MEAN \"Female Labour force participation rate \"\n",
    "np.mean(df['Female Labour force participation rate ']) \n",
    "#Mean is 51.56 percent"
   ]
  },
  {
   "cell_type": "markdown",
   "metadata": {},
   "source": [
    "We see that the mean rate of women participating in the global workforce is a little over 50 percent. However, this number does not reflect informal work or part-time work. "
   ]
  },
  {
   "cell_type": "code",
   "execution_count": 12,
   "metadata": {},
   "outputs": [
    {
     "data": {
      "text/plain": [
       "52.6"
      ]
     },
     "execution_count": 12,
     "metadata": {},
     "output_type": "execute_result"
    }
   ],
   "source": [
    "#Calculate MEDIAN \"Female Labour force participation rate \"\n",
    "np.median(df['Female Labour force participation rate '])"
   ]
  },
  {
   "cell_type": "markdown",
   "metadata": {},
   "source": [
    "Capstone focuses on GII, so we must convert object data type into numeric in line 65 so we can obtain descriptive statistics for this primary variable of interest. According to line 66, the mean of GII scores is .349, which is between the \"High\" and \"Medium\" Human Development Index categories that capstone will focus on in third analytical question."
   ]
  },
  {
   "cell_type": "code",
   "execution_count": 13,
   "metadata": {},
   "outputs": [
    {
     "name": "stdout",
     "output_type": "stream",
     "text": [
      "     HDI Rank   Category                             Country  \\\n",
      "0         168        Low                         Afghanistan   \n",
      "1          68       High                             Albania   \n",
      "2          85       High                             Algeria   \n",
      "3          47  Very high                           Argentina   \n",
      "4          83       High                             Armenia   \n",
      "..        ...        ...                                 ...   \n",
      "155        78       High  Venezuela (Bolivarian Republic of)   \n",
      "156       116     Medium                            Viet Nam   \n",
      "157       178        Low                               Yemen   \n",
      "158       144     Medium                              Zambia   \n",
      "159       156        Low                            Zimbabwe   \n",
      "\n",
      "     Gender Inequality Index  Gender Inequality Index Rank  \\\n",
      "0                      0.653                           153   \n",
      "1                      0.238                            52   \n",
      "2                      0.442                           100   \n",
      "3                      0.358                            81   \n",
      "4                      0.262                            55   \n",
      "..                       ...                           ...   \n",
      "155                    0.454                           105   \n",
      "156                    0.304                            67   \n",
      "157                    0.834                           160   \n",
      "158                    0.517                           125   \n",
      "159                    0.534                           128   \n",
      "\n",
      "    Maternal mortality ratio  Adolescent birth rate  \\\n",
      "0                        396                   64.5   \n",
      "1                         29                   20.7   \n",
      "2                        140                   10.1   \n",
      "3                         52                   62.8   \n",
      "4                         25                   23.2   \n",
      "..                       ...                    ...   \n",
      "155                       95                   85.3   \n",
      "156                       54                   27.3   \n",
      "157                      385                   60.4   \n",
      "158                      224                   82.8   \n",
      "159                      443                  104.1   \n",
      "\n",
      "     Internet users, female (% of female population)  Number of Women’s Orgs  \\\n",
      "0                                              0.590                     7.0   \n",
      "1                                              0.236                     1.0   \n",
      "2                                              0.447                     0.0   \n",
      "3                                              0.355                     4.0   \n",
      "4                                              0.263                     0.0   \n",
      "..                                               ...                     ...   \n",
      "155                                            0.459                     NaN   \n",
      "156                                            0.318                     NaN   \n",
      "157                                            0.835                     2.0   \n",
      "158                                            0.543                     1.0   \n",
      "159                                            0.528                     NaN   \n",
      "\n",
      "     Share of seats in parliament  \\\n",
      "0                            27.4   \n",
      "1                            27.9   \n",
      "2                            21.3   \n",
      "3                            38.9   \n",
      "4                            18.1   \n",
      "..                            ...   \n",
      "155                          22.2   \n",
      "156                          26.7   \n",
      "157                           0.5   \n",
      "158                          18.0   \n",
      "159                          36.2   \n",
      "\n",
      "     Female Population with at least some secondary education  \\\n",
      "0                                                 11.4          \n",
      "1                                                 93.1          \n",
      "2                                                 37.5          \n",
      "3                                                 65.9          \n",
      "4                                                 96.9          \n",
      "..                                                 ...          \n",
      "155                                               71.7          \n",
      "156                                               66.2          \n",
      "157                                               18.7          \n",
      "158                                               39.2          \n",
      "159                                               55.9          \n",
      "\n",
      "     Male Population with at least some secondary education  \\\n",
      "0                                                 36.9        \n",
      "1                                                 92.8        \n",
      "2                                                 37.9        \n",
      "3                                                 62.8        \n",
      "4                                                 97.6        \n",
      "..                                                 ...        \n",
      "155                                               66.6        \n",
      "156                                               77.7        \n",
      "157                                               34.8        \n",
      "158                                               52.4        \n",
      "159                                               66.3        \n",
      "\n",
      "     Female Labour force participation rate   \\\n",
      "0                                       19.5   \n",
      "1                                       47.2   \n",
      "2                                       15.2   \n",
      "3                                       47.3   \n",
      "4                                       51.4   \n",
      "..                                       ...   \n",
      "155                                     50.2   \n",
      "156                                     73.2   \n",
      "157                                      6.0   \n",
      "158                                     70.1   \n",
      "159                                     78.5   \n",
      "\n",
      "     Male Labor Force Participation Rate  \n",
      "0                                   86.7  \n",
      "1                                   64.9  \n",
      "2                                   67.3  \n",
      "3                                   73.2  \n",
      "4                                   70.6  \n",
      "..                                   ...  \n",
      "155                                 77.4  \n",
      "156                                 83.5  \n",
      "157                                 69.6  \n",
      "158                                 79.7  \n",
      "159                                 89.1  \n",
      "\n",
      "[160 rows x 14 columns]\n"
     ]
    }
   ],
   "source": [
    "df['Gender Inequality Index'] = df['Gender Inequality Index'].astype(float, errors='ignore')\n",
    "type(df['Gender Inequality Index'][0])\n",
    "print(df)\n"
   ]
  },
  {
   "cell_type": "code",
   "execution_count": 14,
   "metadata": {},
   "outputs": [
    {
     "data": {
      "text/plain": [
       "0.3497"
      ]
     },
     "execution_count": 14,
     "metadata": {},
     "output_type": "execute_result"
    }
   ],
   "source": [
    "np.mean(df['Gender Inequality Index'])"
   ]
  },
  {
   "cell_type": "markdown",
   "metadata": {},
   "source": [
    "## First Analytical Question: "
   ]
  },
  {
   "cell_type": "markdown",
   "metadata": {},
   "source": [
    "To what extent does a Country's low GII correlate with a higher share of women holding seats in parliament? Is there a linear relationship? We see in line 37 that GII and Share of Women in Parliament is not a one to one relationship. Actually, we see that the highest shares of seats held by women in parliament actually are in countries scoring above .25 and even socring higher than .40 as indicated by pink dots in upper center within the figure."
   ]
  },
  {
   "cell_type": "code",
   "execution_count": 15,
   "metadata": {},
   "outputs": [
    {
     "data": {
      "image/png": "[encoded data removed]",
      "text/plain": [
       "<Figure size 432x288 with 1 Axes>"
      ]
     },
     "metadata": {
      "needs_background": "light"
     },
     "output_type": "display_data"
    }
   ],
   "source": [
    "#Let's analyze by creating Scatterplot of \"Gender Inequality Index\" on x-axis versus \"Share of seats in parliament\" on y-axis.\n",
    "\n",
    "%matplotlib inline\n",
    "import matplotlib.pyplot as plt\n",
    "import numpy as np\n",
    "\n",
    "plt.scatter(x=df['Gender Inequality Index'], y=df['Share of seats in parliament'], color='pink')\n",
    "plt.xlabel('Gender Inequality Index')\n",
    "plt.ylabel('Share of Women in Parliament')\n",
    "plt.title('GII Relation With Number of Women in Parliament')\n",
    "\n",
    "plt.show()"
   ]
  },
  {
   "cell_type": "markdown",
   "metadata": {},
   "source": [
    "## Second Analytical Question:"
   ]
  },
  {
   "cell_type": "markdown",
   "metadata": {},
   "source": [
    "What's the Relationship of Number of Women's Organizations in Country relative to their Female Labor Force Participation?\n",
    "We see from our scatterplot entitled: \"Number of Women's Organizations Related to Labor Participation\" that it's not a linear relationship. Just because a country has a high number of women's organizations, as indicated by the x-axis, does not mean that the labor participation rate among women, as indicated by the y-axis is higher than mean of \"female labour force participation rate\", 51.56 percent. Countries with over 35 women's organizations have similar participation rates as countries with less than 10 women's organizations."
   ]
  },
  {
   "cell_type": "code",
   "execution_count": 16,
   "metadata": {},
   "outputs": [
    {
     "data": {
      "image/png": "[encoded data removed]",
      "text/plain": [
       "<Figure size 432x288 with 1 Axes>"
      ]
     },
     "metadata": {
      "needs_background": "light"
     },
     "output_type": "display_data"
    }
   ],
   "source": [
    "#Analyze by creating Scatterplot of 'Number of Women's Orgs' versus \"Female Labour Force Participation\" noting that\n",
    "#the data for organizations is from another source.\n",
    "plt.scatter(x=df[\"Number of Women’s Orgs\"], y=df['Female Labour force participation rate '], color='purple')\n",
    "plt.xlabel(\"Number of Women’s Orgs\")\n",
    "plt.ylabel('Female Labour force participation rate')\n",
    "plt.title(\"Number of Women's Organizations Related to Labor Participation\")\n",
    "\n",
    "plt.show()"
   ]
  },
  {
   "cell_type": "markdown",
   "metadata": {},
   "source": [
    "## Third Analytical Question: "
   ]
  },
  {
   "cell_type": "markdown",
   "metadata": {},
   "source": [
    "Is there a statistically significant difference between \"High\" and \"Medium\" developed countries regarding their GII?\n",
    "GII scores do not necessarily cluster together across \"Very High\", \"High\", \"Medium\", and \"Low\" Human development groups regarding Gender Inequality Index.\n",
    "\n",
    "1-Very high human development GII average score\t0.170\n",
    "2-High human development GII average score\t0.289\n",
    "3-Medium human development GII average score\t0.489\n",
    "4-Low human development\tGII average score  0.586\n",
    "Capstone identifies two populations (country) groups: \"high and \"medium\" to compare their GII scores."
   ]
  },
  {
   "cell_type": "code",
   "execution_count": 17,
   "metadata": {},
   "outputs": [
    {
     "name": "stdout",
     "output_type": "stream",
     "text": [
      "     HDI Rank Category                                    Country  \\\n",
      "1          68     High                                    Albania   \n",
      "2          85     High                                    Algeria   \n",
      "4          83     High                                    Armenia   \n",
      "7          80     High                                 Azerbaijan   \n",
      "14        106     High                                     Belize   \n",
      "18         77     High                     Bosnia and Herzegovina   \n",
      "19        101     High                                   Botswana   \n",
      "20         79     High                                     Brazil   \n",
      "31         86     High                                      China   \n",
      "32         90     High                                   Colombia   \n",
      "35         63     High                                 Costa Rica   \n",
      "38         73     High                                       Cuba   \n",
      "42         94     High                         Dominican Republic   \n",
      "43         86     High                                    Ecuador   \n",
      "49         92     High                                       Fiji   \n",
      "52        110     High                                      Gabon   \n",
      "54         70     High                                    Georgia   \n",
      "66         60     High                 Iran (Islamic Republic of)   \n",
      "71         97     High                                    Jamaica   \n",
      "73         95     High                                     Jordan   \n",
      "81         80     High                                    Lebanon   \n",
      "84        108     High                                      Libya   \n",
      "89        101     High                                   Maldives   \n",
      "93         65     High                                  Mauritius   \n",
      "94         74     High                                     Mexico   \n",
      "95        112     High                      Moldova (Republic of)   \n",
      "96         92     High                                   Mongolia   \n",
      "110        66     High                                     Panama   \n",
      "112       110     High                                   Paraguay   \n",
      "113        89     High                                       Peru   \n",
      "121        90     High                                Saint Lucia   \n",
      "122       104     High                                      Samoa   \n",
      "126        67     High                                     Serbia   \n",
      "133        76     High                                  Sri Lanka   \n",
      "135       100     High                                   Suriname   \n",
      "141        83     High                                   Thailand   \n",
      "142        80     High  The former Yugoslav Republic of Macedonia   \n",
      "144        98     High                                      Tonga   \n",
      "145        69     High                        Trinidad and Tobago   \n",
      "146        95     High                                    Tunisia   \n",
      "147        64     High                                     Turkey   \n",
      "149        88     High                                    Ukraine   \n",
      "154       105     High                                 Uzbekistan   \n",
      "155        78     High         Venezuela (Bolivarian Republic of)   \n",
      "\n",
      "     Gender Inequality Index  Gender Inequality Index Rank  \\\n",
      "1                      0.238                            52   \n",
      "2                      0.442                           100   \n",
      "4                      0.262                            55   \n",
      "7                      0.318                            71   \n",
      "14                     0.386                            89   \n",
      "18                     0.166                            37   \n",
      "19                     0.434                            98   \n",
      "20                     0.407                            94   \n",
      "31                     0.152                            36   \n",
      "32                     0.383                            87   \n",
      "35                     0.300                            64   \n",
      "38                     0.301                            65   \n",
      "42                     0.451                           103   \n",
      "43                     0.385                            88   \n",
      "49                     0.352                            79   \n",
      "52                     0.534                           128   \n",
      "54                     0.350                            78   \n",
      "66                     0.461                           109   \n",
      "71                     0.412                            95   \n",
      "73                     0.460                           108   \n",
      "81                     0.381                            85   \n",
      "84                     0.170                            38   \n",
      "89                     0.343                            76   \n",
      "93                     0.373                            84   \n",
      "94                     0.343                            76   \n",
      "95                     0.226                            48   \n",
      "96                     0.301                            65   \n",
      "110                    0.461                           109   \n",
      "112                    0.467                           113   \n",
      "113                    0.368                            83   \n",
      "121                    0.333                            74   \n",
      "122                    0.365                            82   \n",
      "126                    0.181                            40   \n",
      "133                    0.354                            80   \n",
      "135                    0.441                            99   \n",
      "141                    0.393                            93   \n",
      "142                    0.149                            35   \n",
      "144                    0.416                            96   \n",
      "145                    0.324                            73   \n",
      "146                    0.298                            63   \n",
      "147                    0.317                            69   \n",
      "149                    0.285                            61   \n",
      "154                    0.274                            59   \n",
      "155                    0.454                           105   \n",
      "\n",
      "    Maternal mortality ratio  Adolescent birth rate  \\\n",
      "1                         29                   20.7   \n",
      "2                        140                   10.1   \n",
      "4                         25                   23.2   \n",
      "7                         25                   53.5   \n",
      "14                        28                   63.5   \n",
      "18                        11                   10.0   \n",
      "19                       129                   30.0   \n",
      "20                        44                   61.6   \n",
      "31                        27                    6.4   \n",
      "32                        64                   47.5   \n",
      "35                        25                   53.5   \n",
      "38                        39                   43.6   \n",
      "42                        92                   95.0   \n",
      "43                        64                   73.9   \n",
      "49                        30                   43.9   \n",
      "52                       291                   95.3   \n",
      "54                        36                   45.9   \n",
      "66                        25                   25.0   \n",
      "71                        89                   52.8   \n",
      "73                        58                   22.4   \n",
      "81                        15                   11.8   \n",
      "84                         9                    5.7   \n",
      "89                        68                    5.8   \n",
      "93                        53                   26.6   \n",
      "94                        38                   60.3   \n",
      "95                        23                   22.0   \n",
      "96                        44                   23.6   \n",
      "110                       94                   81.8   \n",
      "112                      132                   55.7   \n",
      "113                       68                   47.5   \n",
      "121                       48                   40.5   \n",
      "122                       51                   23.9   \n",
      "126                       17                   18.9   \n",
      "133                       30                   14.1   \n",
      "135                      155                   46.0   \n",
      "141                       20                   51.9   \n",
      "142                        8                   16.2   \n",
      "144                      124                   14.7   \n",
      "145                       63                   30.1   \n",
      "146                       62                    7.7   \n",
      "147                       16                   25.8   \n",
      "149                       24                   23.8   \n",
      "154                       36                   16.5   \n",
      "155                       95                   85.3   \n",
      "\n",
      "    Internet users, female (% of female population)  Number of Women’s Orgs  \\\n",
      "1                                             0.236                     1.0   \n",
      "2                                             0.447                     0.0   \n",
      "4                                             0.263                     0.0   \n",
      "7                                             0.318                     0.0   \n",
      "14                                            0.393                     1.0   \n",
      "18                                                0                     0.0   \n",
      "19                                            0.466                     0.0   \n",
      "20                                            0.404                     0.0   \n",
      "31                                            0.164                     1.0   \n",
      "32                                            0.411                     0.0   \n",
      "35                                            0.303                     0.0   \n",
      "38                                            0.133                     2.0   \n",
      "42                0.454\\n0.390\\n0.452\\n0.398\\n0.110                     NaN   \n",
      "43                                            0.390                     NaN   \n",
      "49                                            0.367                     NaN   \n",
      "52                                            0.537                     NaN   \n",
      "54                                            0.354                     NaN   \n",
      "66                                            0.488                     1.0   \n",
      "71                                            0.408                     NaN   \n",
      "73                                            0.471                     NaN   \n",
      "81                                            0.395                     NaN   \n",
      "84                                            0.173                     NaN   \n",
      "89                                            0.375                     NaN   \n",
      "93                                            0.373                     NaN   \n",
      "94                                            0.346                     NaN   \n",
      "95                                            0.232                     NaN   \n",
      "96                                            0.494                     NaN   \n",
      "110                                           0.462                     NaN   \n",
      "112                                           0.485                     NaN   \n",
      "113                                           0.383                     NaN   \n",
      "121                                           0.336                     NaN   \n",
      "122                                           0.369                     NaN   \n",
      "126                                           0.168                     NaN   \n",
      "133                                           0.381                     NaN   \n",
      "135                                           0.467                     NaN   \n",
      "141                                           0.386                     2.0   \n",
      "142                                           0.167                     1.0   \n",
      "144                                           0.419                     NaN   \n",
      "145                                           0.327                     NaN   \n",
      "146                                           0.299                     NaN   \n",
      "147                                           0.321                     2.0   \n",
      "149                                           0.289                     1.0   \n",
      "154                                           0.303                     NaN   \n",
      "155                                           0.459                     NaN   \n",
      "\n",
      "     Share of seats in parliament  \\\n",
      "1                            27.9   \n",
      "2                            21.3   \n",
      "4                            18.1   \n",
      "7                            16.8   \n",
      "14                           11.1   \n",
      "18                           19.3   \n",
      "19                            9.5   \n",
      "20                           11.3   \n",
      "31                           24.2   \n",
      "32                           19.8   \n",
      "35                           35.1   \n",
      "38                           48.9   \n",
      "42                           24.3   \n",
      "43                           38.0   \n",
      "49                           16.0   \n",
      "52                           17.4   \n",
      "54                           16.0   \n",
      "66                            5.9   \n",
      "71                           19.0   \n",
      "73                           15.4   \n",
      "81                            3.1   \n",
      "84                           16.0   \n",
      "89                            5.9   \n",
      "93                           11.6   \n",
      "94                           41.4   \n",
      "95                           22.8   \n",
      "96                           17.1   \n",
      "110                          18.3   \n",
      "112                          16.0   \n",
      "113                          27.7   \n",
      "121                          20.7   \n",
      "122                          10.0   \n",
      "126                          34.4   \n",
      "133                           5.8   \n",
      "135                          25.5   \n",
      "141                           4.8   \n",
      "142                          37.5   \n",
      "144                           7.7   \n",
      "145                          30.1   \n",
      "146                          31.3   \n",
      "147                          14.6   \n",
      "149                          12.3   \n",
      "154                          16.4   \n",
      "155                          22.2   \n",
      "\n",
      "     Female Population with at least some secondary education  \\\n",
      "1                                                 93.1          \n",
      "2                                                 37.5          \n",
      "4                                                 96.9          \n",
      "7                                                 93.8          \n",
      "14                                                78.9          \n",
      "18                                                71.7          \n",
      "19                                                88.8          \n",
      "20                                                61.0          \n",
      "31                                                74.0          \n",
      "32                                                51.1          \n",
      "35                                                53.8          \n",
      "38                                                86.7          \n",
      "42                                                58.6          \n",
      "43                                                52.1          \n",
      "49                                                77.3          \n",
      "52                                                65.6          \n",
      "54                                                95.1          \n",
      "66                                                65.8          \n",
      "71                                                69.9          \n",
      "73                                                81.4          \n",
      "81                                                53.0          \n",
      "84                                                69.4          \n",
      "89                                                44.9          \n",
      "93                                                64.3          \n",
      "94                                                57.8          \n",
      "95                                                95.5          \n",
      "96                                                91.2          \n",
      "110                                               72.7          \n",
      "112                                               47.0          \n",
      "113                                               57.1          \n",
      "121                                               48.2          \n",
      "122                                               79.1          \n",
      "126                                               84.6          \n",
      "133                                               82.6          \n",
      "135                                               58.7          \n",
      "141                                               42.4          \n",
      "142                                               40.5          \n",
      "144                                               92.7          \n",
      "145                                               74.4          \n",
      "146                                               41.2          \n",
      "147                                               44.9          \n",
      "149                                               94.5          \n",
      "154                                               99.9          \n",
      "155                                               71.7          \n",
      "\n",
      "     Male Population with at least some secondary education  \\\n",
      "1                                                 92.8        \n",
      "2                                                 37.9        \n",
      "4                                                 97.6        \n",
      "7                                                 97.5        \n",
      "14                                                78.4        \n",
      "18                                                88.7        \n",
      "19                                                89.6        \n",
      "20                                                57.7        \n",
      "31                                                82.0        \n",
      "32                                                49.2        \n",
      "35                                                51.9        \n",
      "38                                                88.9        \n",
      "42                                                54.4        \n",
      "43                                                52.2        \n",
      "49                                                68.3        \n",
      "52                                                49.8        \n",
      "54                                                96.0        \n",
      "66                                                70.9        \n",
      "71                                                62.4        \n",
      "73                                                85.8        \n",
      "81                                                55.4        \n",
      "84                                                45.0        \n",
      "89                                                49.3        \n",
      "93                                                67.3        \n",
      "94                                                61.0        \n",
      "95                                                97.4        \n",
      "96                                                86.3        \n",
      "110                                               68.4        \n",
      "112                                               49.2        \n",
      "113                                               67.5        \n",
      "121                                               42.0        \n",
      "122                                               71.6        \n",
      "126                                               93.0        \n",
      "133                                               83.1        \n",
      "135                                               57.8        \n",
      "141                                               47.5        \n",
      "142                                               56.0        \n",
      "144                                               92.3        \n",
      "145                                               69.1        \n",
      "146                                               52.7        \n",
      "147                                               66.0        \n",
      "149                                               95.6        \n",
      "154                                               99.9        \n",
      "155                                               66.6        \n",
      "\n",
      "     Female Labour force participation rate   \\\n",
      "1                                       47.2   \n",
      "2                                       15.2   \n",
      "4                                       51.4   \n",
      "7                                       62.9   \n",
      "14                                      53.2   \n",
      "18                                      35.2   \n",
      "19                                      65.6   \n",
      "20                                      53.2   \n",
      "31                                      61.5   \n",
      "32                                      58.8   \n",
      "35                                      45.3   \n",
      "38                                      41.5   \n",
      "42                                      54.4   \n",
      "43                                      55.4   \n",
      "49                                      40.8   \n",
      "52                                      42.9   \n",
      "54                                      57.9   \n",
      "66                                      16.8   \n",
      "71                                      57.3   \n",
      "73                                      14.0   \n",
      "81                                      23.2   \n",
      "84                                      25.8   \n",
      "89                                      42.9   \n",
      "93                                      45.1   \n",
      "94                                      44.1   \n",
      "95                                      39.5   \n",
      "96                                      52.7   \n",
      "110                                     52.8   \n",
      "112                                     56.6   \n",
      "113                                     69.0   \n",
      "121                                     61.2   \n",
      "122                                     23.7   \n",
      "126                                     45.9   \n",
      "133                                     35.1   \n",
      "135                                     41.8   \n",
      "141                                     60.5   \n",
      "142                                     42.5   \n",
      "144                                     45.2   \n",
      "145                                     51.0   \n",
      "146                                     24.3   \n",
      "147                                     32.4   \n",
      "149                                     46.9   \n",
      "154                                     53.8   \n",
      "155                                     50.2   \n",
      "\n",
      "     Male Labor Force Participation Rate  \n",
      "1                                   64.9  \n",
      "2                                   67.3  \n",
      "4                                   70.6  \n",
      "7                                   69.5  \n",
      "14                                  81.3  \n",
      "18                                  58.7  \n",
      "19                                  78.4  \n",
      "20                                  74.7  \n",
      "31                                  76.1  \n",
      "32                                  82.6  \n",
      "35                                  73.9  \n",
      "38                                  67.3  \n",
      "42                                  79.5  \n",
      "43                                  81.3  \n",
      "49                                  75.4  \n",
      "52                                  59.4  \n",
      "54                                  78.8  \n",
      "66                                  71.4  \n",
      "71                                  77.4  \n",
      "73                                  63.7  \n",
      "81                                  71.1  \n",
      "84                                  79.0  \n",
      "89                                  82.1  \n",
      "93                                  72.7  \n",
      "94                                  79.0  \n",
      "95                                  45.8  \n",
      "96                                  66.2  \n",
      "110                                 81.2  \n",
      "112                                 83.9  \n",
      "113                                 84.5  \n",
      "121                                 75.9  \n",
      "122                                 38.9  \n",
      "126                                 61.7  \n",
      "133                                 74.1  \n",
      "135                                 65.3  \n",
      "141                                 77.3  \n",
      "142                                 67.6  \n",
      "144                                 74.2  \n",
      "145                                 73.7  \n",
      "146                                 70.6  \n",
      "147                                 71.9  \n",
      "149                                 63.0  \n",
      "154                                 77.9  \n",
      "155                                 77.4  \n"
     ]
    }
   ],
   "source": [
    "#Attempt 2 for Q3 \n",
    "#Moving from hardcode; Select if 'High' from \"Category\" to Select by index number \n",
    "import numpy as np\n",
    "import pandas as pd\n",
    "import scipy\n",
    "import matplotlib.pyplot as plt\n",
    "%matplotlib inline\n",
    "\n",
    "#don't need b/c it's resetting df = pd.DataFrame() Instead, we need to call our datafile 'gender_file'\n",
    "#use print (countryA_df) to identify only 'High' developed countries\n",
    "\n",
    "gender_file = '/Users/mehrunisaqayyum/Downloads/GII_Capstone.csv'\n",
    "df = pd.read_csv(gender_file)\n",
    "countryA_df = df[df.Category == 'High']\n",
    "print (countryA_df)"
   ]
  },
  {
   "cell_type": "markdown",
   "metadata": {},
   "source": [
    "### Correction: Using Built-In Method of Mean for High Development Category"
   ]
  },
  {
   "cell_type": "code",
   "execution_count": 18,
   "metadata": {},
   "outputs": [
    {
     "data": {
      "text/plain": [
       "86.11363636363636"
      ]
     },
     "execution_count": 18,
     "metadata": {},
     "output_type": "execute_result"
    }
   ],
   "source": [
    "#Calculate the HDI for 'High' development or \"countryA\"\n",
    "np.mean(countryA_df['HDI Rank'])"
   ]
  },
  {
   "cell_type": "code",
   "execution_count": 19,
   "metadata": {},
   "outputs": [
    {
     "data": {
      "text/plain": [
       "0.3457045454545455"
      ]
     },
     "execution_count": 19,
     "metadata": {},
     "output_type": "execute_result"
    }
   ],
   "source": [
    "#Calculate the GII for 'High' development or \"countryA\"\n",
    "np.mean(countryA_df['Gender Inequality Index'])"
   ]
  },
  {
   "cell_type": "markdown",
   "metadata": {},
   "source": [
    "### Correction: Using Built-In Method of Standard Deviation for High Development Category"
   ]
  },
  {
   "cell_type": "code",
   "execution_count": 20,
   "metadata": {},
   "outputs": [
    {
     "data": {
      "text/plain": [
       "0.09407186257162956"
      ]
     },
     "execution_count": 20,
     "metadata": {},
     "output_type": "execute_result"
    }
   ],
   "source": [
    "#fix the countryA Standard Deviaton\n",
    "np.std(countryA_df['Gender Inequality Index'] ,ddof=1) \n",
    "#Standard deviation = 0.09"
   ]
  },
  {
   "cell_type": "markdown",
   "metadata": {},
   "source": [
    "### Correction: Using Built-In Method of Mean for Medium Development Category"
   ]
  },
  {
   "cell_type": "code",
   "execution_count": 21,
   "metadata": {},
   "outputs": [
    {
     "name": "stdout",
     "output_type": "stream",
     "text": [
      "     HDI Rank Category                           Country  \\\n",
      "10        136   Medium                        Bangladesh   \n",
      "16        134   Medium                            Bhutan   \n",
      "17        118   Medium  Bolivia (Plurinational State of)   \n",
      "25        146   Medium                          Cambodia   \n",
      "26        151   Medium                          Cameroon   \n",
      "33        137   Medium                             Congo   \n",
      "44        115   Medium                             Egypt   \n",
      "45        121   Medium                       El Salvador   \n",
      "47        144   Medium             Eswatini (Kingdom of)   \n",
      "56        140   Medium                             Ghana   \n",
      "58        127   Medium                         Guatemala   \n",
      "59        125   Medium                            Guyana   \n",
      "61        133   Medium                          Honduras   \n",
      "64        130   Medium                             India   \n",
      "65        116   Medium                         Indonesia   \n",
      "67        120   Medium                              Iraq   \n",
      "75        142   Medium                             Kenya   \n",
      "78        122   Medium                        Kyrgyzstan   \n",
      "79        139   Medium  Lao People's Democratic Republic   \n",
      "98        123   Medium                           Morocco   \n",
      "100       148   Medium                           Myanmar   \n",
      "101       129   Medium                           Namibia   \n",
      "102       149   Medium                             Nepal   \n",
      "105       124   Medium                         Nicaragua   \n",
      "109       150   Medium                          Pakistan   \n",
      "114       113   Medium                       Philippines   \n",
      "123       143   Medium             Sao Tome and Principe   \n",
      "131       113   Medium                      South Africa   \n",
      "139       127   Medium                        Tajikistan   \n",
      "156       116   Medium                          Viet Nam   \n",
      "158       144   Medium                            Zambia   \n",
      "\n",
      "     Gender Inequality Index  Gender Inequality Index Rank  \\\n",
      "10                     0.542                           134   \n",
      "16                     0.476                           117   \n",
      "17                     0.450                           102   \n",
      "25                     0.473                           116   \n",
      "26                     0.569                           141   \n",
      "33                     0.578                           143   \n",
      "44                     0.449                           101   \n",
      "45                     0.392                            91   \n",
      "47                     0.569                           141   \n",
      "56                     0.538                           131   \n",
      "58                     0.493                           120   \n",
      "59                     0.504                           122   \n",
      "61                     0.461                           109   \n",
      "64                     0.524                           127   \n",
      "65                     0.453                           104   \n",
      "67                     0.506                           123   \n",
      "75                     0.549                           137   \n",
      "78                     0.392                            91   \n",
      "79                     0.461                           109   \n",
      "98                     0.482                           119   \n",
      "100                    0.456                           106   \n",
      "101                    0.472                           115   \n",
      "102                    0.480                           118   \n",
      "105                    0.456                           106   \n",
      "109                    0.541                           133   \n",
      "114                    0.427                            97   \n",
      "123                    0.538                           131   \n",
      "131                    0.389                            90   \n",
      "139                    0.317                            69   \n",
      "156                    0.304                            67   \n",
      "158                    0.517                           125   \n",
      "\n",
      "    Maternal mortality ratio  Adolescent birth rate  \\\n",
      "10                       176                   83.5   \n",
      "16                       148                   20.3   \n",
      "17                       206                   68.1   \n",
      "25                       161                   50.2   \n",
      "26                       596                  105.8   \n",
      "33                       442                  111.8   \n",
      "44                        33                   50.0   \n",
      "45                        54                   69.5   \n",
      "47                       389                   77.0   \n",
      "56                       319                   66.6   \n",
      "58                        88                   70.9   \n",
      "59                       229                   85.8   \n",
      "61                       129                   70.8   \n",
      "64                       174                   23.1   \n",
      "65                       126                   47.4   \n",
      "67                        50                   80.1   \n",
      "75                       510                   80.5   \n",
      "78                        76                   38.1   \n",
      "79                       197                   62.6   \n",
      "98                       121                   31.1   \n",
      "100                      178                   28.7   \n",
      "101                      265                   73.8   \n",
      "102                      258                   60.5   \n",
      "105                      150                   85.4   \n",
      "109                      178                   36.9   \n",
      "114                      114                   60.5   \n",
      "123                      156                   94.8   \n",
      "131                      138                   42.8   \n",
      "139                       32                   36.4   \n",
      "156                       54                   27.3   \n",
      "158                      224                   82.8   \n",
      "\n",
      "    Internet users, female (% of female population)  Number of Women’s Orgs  \\\n",
      "10                                            0.538                     4.0   \n",
      "16                                            0.484                     0.0   \n",
      "17                                            0.448                     1.0   \n",
      "25                                            0.476                     0.0   \n",
      "26                                            0.572                     0.0   \n",
      "33                                            0.580                     0.0   \n",
      "44                                            0.452                     2.0   \n",
      "45                                            0.398                     NaN   \n",
      "47                                            0.571                     NaN   \n",
      "56                                            0.543                     1.0   \n",
      "58                                            0.495                     NaN   \n",
      "59                                                0                     NaN   \n",
      "61                                                0                     NaN   \n",
      "64                                            0.522                    10.0   \n",
      "65                                            0.453                     6.0   \n",
      "67                                            0.544                     4.0   \n",
      "75                                            0.548                     1.0   \n",
      "78                                            0.389                     NaN   \n",
      "79                                            0.465                     NaN   \n",
      "98                                            0.460                     1.0   \n",
      "100                                           0.488                     3.0   \n",
      "101                                           0.373                     1.0   \n",
      "102                                           0.488                     4.0   \n",
      "105                                           0.458                     1.0   \n",
      "109                                           0.549                     NaN   \n",
      "114                                           0.427                     1.0   \n",
      "123                                           0.536                     NaN   \n",
      "131                                           0.424                     1.0   \n",
      "139                                           0.374                     NaN   \n",
      "156                                           0.318                     NaN   \n",
      "158                                           0.543                     1.0   \n",
      "\n",
      "     Share of seats in parliament  \\\n",
      "10                           20.3   \n",
      "16                            8.3   \n",
      "17                           51.8   \n",
      "25                           18.5   \n",
      "26                           27.1   \n",
      "33                           14.0   \n",
      "44                           14.9   \n",
      "45                           32.1   \n",
      "47                           14.7   \n",
      "56                           12.7   \n",
      "58                           12.7   \n",
      "59                           31.9   \n",
      "61                           25.8   \n",
      "64                           11.6   \n",
      "65                           19.8   \n",
      "67                           25.3   \n",
      "75                           23.3   \n",
      "78                           19.2   \n",
      "79                           27.5   \n",
      "98                           18.4   \n",
      "100                          10.2   \n",
      "101                          36.3   \n",
      "102                          29.6   \n",
      "105                          45.7   \n",
      "109                          20.0   \n",
      "114                          29.1   \n",
      "123                          18.2   \n",
      "131                          41.0   \n",
      "139                          20.0   \n",
      "156                          26.7   \n",
      "158                          18.0   \n",
      "\n",
      "     Female Population with at least some secondary education  \\\n",
      "10                                                44.0          \n",
      "16                                                 6.0          \n",
      "17                                                50.5          \n",
      "25                                                15.1          \n",
      "26                                                32.5          \n",
      "33                                                46.7          \n",
      "44                                                58.2          \n",
      "45                                                42.2          \n",
      "47                                                30.0          \n",
      "56                                                54.6          \n",
      "58                                                38.4          \n",
      "59                                                70.9          \n",
      "61                                                36.8          \n",
      "64                                                39.0          \n",
      "65                                                44.5          \n",
      "67                                                38.7          \n",
      "75                                                29.2          \n",
      "78                                                98.6          \n",
      "79                                                33.6          \n",
      "98                                                28.0          \n",
      "100                                               28.7          \n",
      "101                                               39.9          \n",
      "102                                               27.3          \n",
      "105                                               48.3          \n",
      "109                                               27.0          \n",
      "114                                               76.6          \n",
      "123                                               31.1          \n",
      "131                                               74.2          \n",
      "139                                               98.9          \n",
      "156                                               66.2          \n",
      "158                                               39.2          \n",
      "\n",
      "     Male Population with at least some secondary education  \\\n",
      "10                                                48.2        \n",
      "16                                                13.7        \n",
      "17                                                59.5        \n",
      "25                                                28.1        \n",
      "26                                                39.2        \n",
      "33                                                51.0        \n",
      "44                                                70.7        \n",
      "45                                                47.9        \n",
      "47                                                32.7        \n",
      "56                                                70.4        \n",
      "58                                                37.2        \n",
      "59                                                55.5        \n",
      "61                                                33.5        \n",
      "64                                                63.5        \n",
      "65                                                53.2        \n",
      "67                                                56.7        \n",
      "75                                                36.6        \n",
      "78                                                98.3        \n",
      "79                                                45.2        \n",
      "98                                                34.8        \n",
      "100                                               22.3        \n",
      "101                                               41.0        \n",
      "102                                               43.1        \n",
      "105                                               46.6        \n",
      "109                                               47.3        \n",
      "114                                               72.4        \n",
      "123                                               45.2        \n",
      "131                                               77.4        \n",
      "139                                               87.0        \n",
      "156                                               77.7        \n",
      "158                                               52.4        \n",
      "\n",
      "     Female Labour force participation rate   \\\n",
      "10                                      33.0   \n",
      "16                                      58.0   \n",
      "17                                      55.2   \n",
      "25                                      80.9   \n",
      "26                                      71.2   \n",
      "33                                      67.4   \n",
      "44                                      22.2   \n",
      "45                                      47.0   \n",
      "47                                      42.7   \n",
      "56                                      74.8   \n",
      "58                                      40.6   \n",
      "59                                      40.7   \n",
      "61                                      50.9   \n",
      "64                                      27.2   \n",
      "65                                      50.7   \n",
      "67                                      18.7   \n",
      "75                                      62.4   \n",
      "78                                      48.2   \n",
      "79                                      76.9   \n",
      "98                                      25.0   \n",
      "100                                     51.3   \n",
      "101                                     58.5   \n",
      "102                                     82.7   \n",
      "105                                     50.3   \n",
      "109                                     24.9   \n",
      "114                                     49.6   \n",
      "123                                     41.3   \n",
      "131                                     47.9   \n",
      "139                                     45.5   \n",
      "156                                     73.2   \n",
      "158                                     70.1   \n",
      "\n",
      "     Male Labor Force Participation Rate  \n",
      "10                                  79.8  \n",
      "16                                  74.3  \n",
      "17                                  79.9  \n",
      "25                                  88.7  \n",
      "26                                  81.2  \n",
      "33                                  72.0  \n",
      "44                                  73.7  \n",
      "45                                  78.8  \n",
      "47                                  67.2  \n",
      "56                                  79.2  \n",
      "58                                  85.0  \n",
      "59                                  74.6  \n",
      "61                                  85.8  \n",
      "64                                  78.8  \n",
      "65                                  81.8  \n",
      "67                                  74.1  \n",
      "75                                  68.5  \n",
      "78                                  75.7  \n",
      "79                                  79.7  \n",
      "98                                  74.1  \n",
      "100                                 79.9  \n",
      "101                                 65.2  \n",
      "102                                 85.9  \n",
      "105                                 84.0  \n",
      "109                                 82.7  \n",
      "114                                 75.1  \n",
      "123                                 75.4  \n",
      "131                                 62.0  \n",
      "139                                 73.3  \n",
      "156                                 83.5  \n",
      "158                                 79.7  \n"
     ]
    }
   ],
   "source": [
    "countryB_df = df[df.Category == 'Medium']\n",
    "print (countryB_df)"
   ]
  },
  {
   "cell_type": "code",
   "execution_count": 22,
   "metadata": {},
   "outputs": [
    {
     "data": {
      "text/plain": [
       "131.4516129032258"
      ]
     },
     "execution_count": 22,
     "metadata": {},
     "output_type": "execute_result"
    }
   ],
   "source": [
    "#Calculate the mean Human Development Index Score among 'Medium' development or \"countryB\"\n",
    "np.mean(countryB_df['HDI Rank'])"
   ]
  },
  {
   "cell_type": "code",
   "execution_count": 23,
   "metadata": {},
   "outputs": [
    {
     "data": {
      "text/plain": [
       "0.47606451612903217"
      ]
     },
     "execution_count": 23,
     "metadata": {},
     "output_type": "execute_result"
    }
   ],
   "source": [
    "#Calculate the GII for 'Medium' development or \"countryB\"\n",
    "np.mean(countryB_df['Gender Inequality Index'])"
   ]
  },
  {
   "cell_type": "markdown",
   "metadata": {},
   "source": [
    "### Correction: Using Built-In Method of Standard Deviation for Medium Development Category"
   ]
  },
  {
   "cell_type": "code",
   "execution_count": 24,
   "metadata": {},
   "outputs": [
    {
     "data": {
      "text/plain": [
       "0.06769191753026893"
      ]
     },
     "execution_count": 24,
     "metadata": {},
     "output_type": "execute_result"
    }
   ],
   "source": [
    "#Calculate Standard Deviation for second country group population \"Medium\" Human Development category.\n",
    "np.std(countryB_df['Gender Inequality Index'], ddof=1) \n",
    " \n",
    "# .0676 = Standard Deviation for \"Medium Human Development Index\" category; where Medium development is closer together \n",
    "#displaying less variance. "
   ]
  },
  {
   "cell_type": "code",
   "execution_count": 25,
   "metadata": {},
   "outputs": [
    {
     "name": "stdout",
     "output_type": "stream",
     "text": [
      "2.159090909090909\n",
      "5.064516129032258\n",
      "1.1066571658127138\n",
      "1.5436756276135994\n",
      "2.905425219941349\n"
     ]
    },
    {
     "data": {
      "image/png": "[encoded data removed]",
      "text/plain": [
       "<Figure size 432x288 with 1 Axes>"
      ]
     },
     "metadata": {
      "needs_background": "light"
     },
     "output_type": "display_data"
    }
   ],
   "source": [
    "# Sample size is 161 for histogram of 'High' and 'Medium' HDI countries\n",
    "countryA = np.random.binomial(10, 0.2, 161)\n",
    "countryB = np.random.binomial(10,0.5, 161) \n",
    "\n",
    "sample1 = np.random.choice(countryA, 44, replace=True)\n",
    "sample2 = np.random.choice(countryB, 31, replace=True)\n",
    "\n",
    "print(sample1.mean())\n",
    "print(sample2.mean())\n",
    "print(sample1.std())\n",
    "print(sample2.std())\n",
    "\n",
    "# Compute the difference between the two sample means.\n",
    "diff=sample2.mean( ) -sample1.mean()\n",
    "print(diff)\n",
    "\n",
    "plt.hist(sample1, alpha=0.5, label='High HDI category', color = 'red') \n",
    "plt.hist(sample2, alpha=0.5, label='Medium HDI category', color = 'blue') \n",
    "plt.legend(loc='upper right') \n",
    "plt.show()"
   ]
  },
  {
   "cell_type": "markdown",
   "metadata": {},
   "source": [
    "Note overlap of purple particularly between 3 and 4. High and Medium Human Development Index categories overlap in their GII scores. Does this mean there's a threshhold that's easier for top tier medium HDI countries to cross over into high HDI category if they improve their GII scores within 1 standard deviation?"
   ]
  },
  {
   "cell_type": "code",
   "execution_count": 26,
   "metadata": {},
   "outputs": [
    {
     "name": "stdout",
     "output_type": "stream",
     "text": [
      "8.979056886858134\n"
     ]
    }
   ],
   "source": [
    "# T-Test Attempt needs standard error.\n",
    "# Calculate the standard error of the sampling distribution of the difference of the means\n",
    "size = np.array([len(sample1), len(sample2)])\n",
    "sd = np.array([sample1.std(), sample2.std()])\n",
    "\n",
    "# The squared standard deviations are divided by the sample size and summed, then we take\n",
    "# the square root of the sum. \n",
    "diff_se = (sum(sd ** 2 / size)) ** 0.5  \n",
    "\n",
    "#The difference between the means divided by the standard error: T-value.  \n",
    "print(diff/diff_se)"
   ]
  },
  {
   "cell_type": "code",
   "execution_count": 27,
   "metadata": {},
   "outputs": [
    {
     "name": "stdout",
     "output_type": "stream",
     "text": [
      "Ttest_indResult(statistic=8.844518643012147, pvalue=7.364873698118382e-12)\n"
     ]
    }
   ],
   "source": [
    "from scipy.stats import ttest_ind\n",
    "print(ttest_ind(sample2, sample1, equal_var=False))"
   ]
  },
  {
   "cell_type": "markdown",
   "metadata": {},
   "source": [
    "## Concluding Remarks:"
   ]
  },
  {
   "cell_type": "markdown",
   "metadata": {},
   "source": [
    "The T-value = 9.16 and the p-value is less than .000000000004  Therefore we reject Null hypothesis that the two samples are the same. The p-value in the test above is really small, so we can be fairly confident that the difference in means is not coicidental. We see that the difference is due to a real difference in the population and not due to variability in the samples.\n",
    "\n",
    "Although the capstone results showed that over half of the women, on average participate in the workforce, we did not run t-tests to compare if countries with lower GII scores correlate with higher or lower than average female workforce participation. Given this information, we could develop hypotheses about how gender equity afford more labor choices and if gender inequalities push women to seek certain types of work.\n",
    "\n",
    "The capstone could have more rigorously explored the \"Internet users, female (% of female population)\", which represents access to information and how they may grow and leverage other social capital opportunities to increase their economic or political participation. \n",
    "\n",
    "Also, we could have dug deeper into the \"Share of Parliament Seats\" index by running additional t-test across regions that fit within the same HDI category to address regional or cultural biases. For example, next time, I would like to focus in on Arab and MENA regions since they do not rank in the \"Very High\" HDI category but vary more in their HDI scores than their GII scores. To address the UN data limitation of not referencing local and civic engagement, we would have to concontenate the data set to include data sources tracking number of women running for local office, holding municipal seats, and registered number of women's organizations from a more robust data source tracking women's empowerment, such as regional organizing councils or international nongovernmental organizations, like Vital Voices."
   ]
  }
 ],
 "metadata": {
  "kernelspec": {
   "display_name": "Python 3",
   "language": "python",
   "name": "python3"
  },
  "language_info": {
   "codemirror_mode": {
    "name": "ipython",
    "version": 3
   },
   "file_extension": ".py",
   "mimetype": "text/x-python",
   "name": "python",
   "nbconvert_exporter": "python",
   "pygments_lexer": "ipython3",
   "version": "3.7.4"
  }
 },
 "nbformat": 4,
 "nbformat_minor": 2
}
