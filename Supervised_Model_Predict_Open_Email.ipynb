{
  "nbformat": 4,
  "nbformat_minor": 0,
  "metadata": {
    "colab": {
      "name": "Supervised_Model_Predict_Open_Email.ipynb",
      "provenance": [],
      "authorship_tag": "ABX9TyN9iVD9PXe98Qkc8ZmCedIQ",
      "include_colab_link": true
    },
    "kernelspec": {
      "display_name": "Python 3",
      "name": "python3"
    },
    "language_info": {
      "name": "python"
    }
  },
  "cells": [
    {
      "cell_type": "markdown",
      "metadata": {
        "id": "view-in-github",
        "colab_type": "text"
      },
      "source": [
        "<a href=\"https://colab.research.google.com/github/pitaconsumer/pitaconsumer.github.io./blob/master/Supervised_Model_Predict_Open_Email.ipynb\" target=\"_parent\"><img src=\"https://colab.research.google.com/assets/colab-badge.svg\" alt=\"Open In Colab\"/></a>"
      ]
    },
    {
      "cell_type": "markdown",
      "metadata": {
        "id": "8v0M6NugWsyd"
      },
      "source": [
        "**Objective: **\n",
        "Generate at least 2 features to predict whether email opened or not."
      ]
    },
    {
      "cell_type": "code",
      "metadata": {
        "id": "ye7_C7_QV9lA"
      },
      "source": [
        "import numpy as np\n",
        "import pandas as pd\n",
        "import seaborn as sns\n",
        "import scipy as sp\n",
        "import matplotlib.pyplot as plt\n",
        "from sklearn.preprocessing import LabelEncoder #Transform categorical features"
      ],
      "execution_count": null,
      "outputs": []
    },
    {
      "cell_type": "code",
      "metadata": {
        "colab": {
          "base_uri": "https://localhost:8080/"
        },
        "id": "ETxKg3V_YFi-",
        "outputId": "5834c457-82f3-43c8-f555-6cae10d877fb"
      },
      "source": [
        "#Need to Mount\n",
        "from google.colab import drive\n",
        "drive.mount('/content/drive')\n",
        "\n"
      ],
      "execution_count": null,
      "outputs": [
        {
          "output_type": "stream",
          "text": [
            "Drive already mounted at /content/drive; to attempt to forcibly remount, call drive.mount(\"/content/drive\", force_remount=True).\n"
          ],
          "name": "stdout"
        }
      ]
    },
    {
      "cell_type": "markdown",
      "metadata": {
        "id": "pCzt1aki_6LP"
      },
      "source": [
        "**Step 1: Open Data**"
      ]
    },
    {
      "cell_type": "code",
      "metadata": {
        "colab": {
          "base_uri": "https://localhost:8080/",
          "height": 419
        },
        "id": "IpPHOhFEW82H",
        "outputId": "26e3b67f-0d66-46a6-fe0c-8308641cbe0c"
      },
      "source": [
        "#Open file\n",
        "email_file = ('/content/data_set.csv.gz') #/Users/mehrunisaqayyum/Downloads/data_set.csv.gz')\n",
        "df = pd.read_csv(email_file)\n",
        "df"
      ],
      "execution_count": null,
      "outputs": [
        {
          "output_type": "execute_result",
          "data": {
            "text/html": [
              "<div>\n",
              "<style scoped>\n",
              "    .dataframe tbody tr th:only-of-type {\n",
              "        vertical-align: middle;\n",
              "    }\n",
              "\n",
              "    .dataframe tbody tr th {\n",
              "        vertical-align: top;\n",
              "    }\n",
              "\n",
              "    .dataframe thead th {\n",
              "        text-align: right;\n",
              "    }\n",
              "</style>\n",
              "<table border=\"1\" class=\"dataframe\">\n",
              "  <thead>\n",
              "    <tr style=\"text-align: right;\">\n",
              "      <th></th>\n",
              "      <th>email</th>\n",
              "      <th>subscribed_date</th>\n",
              "      <th>segments</th>\n",
              "      <th>previous_opens</th>\n",
              "      <th>was_opened</th>\n",
              "    </tr>\n",
              "  </thead>\n",
              "  <tbody>\n",
              "    <tr>\n",
              "      <th>0</th>\n",
              "      <td>32960@spam.com</td>\n",
              "      <td>2020-10-05</td>\n",
              "      <td>[\"b\", \"d\", \"a\"]</td>\n",
              "      <td>0</td>\n",
              "      <td>OPENED</td>\n",
              "    </tr>\n",
              "    <tr>\n",
              "      <th>1</th>\n",
              "      <td>22200@robots.com</td>\n",
              "      <td>2020-11-17</td>\n",
              "      <td>[\"c\"]</td>\n",
              "      <td>4</td>\n",
              "      <td>NOT OPENED</td>\n",
              "    </tr>\n",
              "    <tr>\n",
              "      <th>2</th>\n",
              "      <td>39516@spam.com</td>\n",
              "      <td>2020-07-01</td>\n",
              "      <td>[\"d\", \"c\"]</td>\n",
              "      <td>1</td>\n",
              "      <td>NaN</td>\n",
              "    </tr>\n",
              "    <tr>\n",
              "      <th>3</th>\n",
              "      <td>6980@realpeople.com</td>\n",
              "      <td>2020-09-06</td>\n",
              "      <td>[\"b\", \"c\"]</td>\n",
              "      <td>0</td>\n",
              "      <td>NOT OPENED</td>\n",
              "    </tr>\n",
              "    <tr>\n",
              "      <th>4</th>\n",
              "      <td>88430@spam.com</td>\n",
              "      <td>2020-09-03</td>\n",
              "      <td>[\"b\"]</td>\n",
              "      <td>5</td>\n",
              "      <td>NOT OPENED</td>\n",
              "    </tr>\n",
              "    <tr>\n",
              "      <th>...</th>\n",
              "      <td>...</td>\n",
              "      <td>...</td>\n",
              "      <td>...</td>\n",
              "      <td>...</td>\n",
              "      <td>...</td>\n",
              "    </tr>\n",
              "    <tr>\n",
              "      <th>99995</th>\n",
              "      <td>43775@robots.com</td>\n",
              "      <td>2020-07-05</td>\n",
              "      <td>[]</td>\n",
              "      <td>2</td>\n",
              "      <td>NOT OPENED</td>\n",
              "    </tr>\n",
              "    <tr>\n",
              "      <th>99996</th>\n",
              "      <td>9186@spam.com</td>\n",
              "      <td>2020-07-19</td>\n",
              "      <td>[]</td>\n",
              "      <td>8</td>\n",
              "      <td>NOT OPENED</td>\n",
              "    </tr>\n",
              "    <tr>\n",
              "      <th>99997</th>\n",
              "      <td>18464@realpeople.com</td>\n",
              "      <td>2020-03-05</td>\n",
              "      <td>[\"a\", \"b\", \"d\"]</td>\n",
              "      <td>0</td>\n",
              "      <td>NOT OPENED</td>\n",
              "    </tr>\n",
              "    <tr>\n",
              "      <th>99998</th>\n",
              "      <td>55503@spam.com</td>\n",
              "      <td>2020-04-06</td>\n",
              "      <td>[]</td>\n",
              "      <td>3</td>\n",
              "      <td>NOT OPENED</td>\n",
              "    </tr>\n",
              "    <tr>\n",
              "      <th>99999</th>\n",
              "      <td>4348@robots.com</td>\n",
              "      <td>2021-02-06</td>\n",
              "      <td>[]</td>\n",
              "      <td>5</td>\n",
              "      <td>NOT OPENED</td>\n",
              "    </tr>\n",
              "  </tbody>\n",
              "</table>\n",
              "<p>100000 rows × 5 columns</p>\n",
              "</div>"
            ],
            "text/plain": [
              "                      email subscribed_date  ... previous_opens  was_opened\n",
              "0            32960@spam.com      2020-10-05  ...              0      OPENED\n",
              "1          22200@robots.com      2020-11-17  ...              4  NOT OPENED\n",
              "2            39516@spam.com      2020-07-01  ...              1         NaN\n",
              "3       6980@realpeople.com      2020-09-06  ...              0  NOT OPENED\n",
              "4            88430@spam.com      2020-09-03  ...              5  NOT OPENED\n",
              "...                     ...             ...  ...            ...         ...\n",
              "99995      43775@robots.com      2020-07-05  ...              2  NOT OPENED\n",
              "99996         9186@spam.com      2020-07-19  ...              8  NOT OPENED\n",
              "99997  18464@realpeople.com      2020-03-05  ...              0  NOT OPENED\n",
              "99998        55503@spam.com      2020-04-06  ...              3  NOT OPENED\n",
              "99999       4348@robots.com      2021-02-06  ...              5  NOT OPENED\n",
              "\n",
              "[100000 rows x 5 columns]"
            ]
          },
          "metadata": {
            "tags": []
          },
          "execution_count": 3
        }
      ]
    },
    {
      "cell_type": "markdown",
      "metadata": {
        "id": "tJ7UrIbmq7CT"
      },
      "source": [
        "**Step 2: Explore Data**"
      ]
    },
    {
      "cell_type": "code",
      "metadata": {
        "colab": {
          "base_uri": "https://localhost:8080/"
        },
        "id": "XZ6xReWNgWz4",
        "outputId": "6d79c5a6-e77d-4540-c85c-256a1ae1df51"
      },
      "source": [
        "df.columns"
      ],
      "execution_count": null,
      "outputs": [
        {
          "output_type": "execute_result",
          "data": {
            "text/plain": [
              "Index(['email', 'subscribed_date', 'segments', 'previous_opens', 'was_opened'], dtype='object')"
            ]
          },
          "metadata": {
            "tags": []
          },
          "execution_count": 4
        }
      ]
    },
    {
      "cell_type": "markdown",
      "metadata": {
        "id": "bJXC3q0bG28a"
      },
      "source": [
        "*Visualize Heatmap*"
      ]
    },
    {
      "cell_type": "code",
      "metadata": {
        "id": "aepZt6ebABD9"
      },
      "source": [
        ""
      ],
      "execution_count": null,
      "outputs": []
    },
    {
      "cell_type": "code",
      "metadata": {
        "id": "UN-5aeB1q-PY"
      },
      "source": [
        "\n",
        "#(pd.crosstab([df.make, df.num_doors], [df.body_style, df.drive_wheels]),cmap=\"YlGnBu\", annot=True, cbar=False)\n",
        "#sns.heatmap.pd.crosstab([target_by_maga.Advertiser_Name,target_by_maga.Geo_Targeting_Included], [target_by_maga.Ad_Type, target_by_maga.Spend_Range_Min_USD]),cmap=\"YlGnBu\", annot=True, cbar=False)"
      ],
      "execution_count": null,
      "outputs": []
    },
    {
      "cell_type": "code",
      "metadata": {
        "colab": {
          "base_uri": "https://localhost:8080/"
        },
        "id": "xRDz_Vl1geNr",
        "outputId": "ecc2986c-6598-457c-e959-c9ec18ef9b1b"
      },
      "source": [
        "df.subscribed_date.dtype"
      ],
      "execution_count": null,
      "outputs": [
        {
          "output_type": "execute_result",
          "data": {
            "text/plain": [
              "dtype('O')"
            ]
          },
          "metadata": {
            "tags": []
          },
          "execution_count": 6
        }
      ]
    },
    {
      "cell_type": "code",
      "metadata": {
        "colab": {
          "base_uri": "https://localhost:8080/",
          "height": 173
        },
        "id": "yM9tSJVLlB9R",
        "outputId": "2536b0a9-a9ce-4a70-9118-b60c3e15b2c6"
      },
      "source": [
        "df.describe()"
      ],
      "execution_count": null,
      "outputs": [
        {
          "output_type": "execute_result",
          "data": {
            "text/html": [
              "<div>\n",
              "<style scoped>\n",
              "    .dataframe tbody tr th:only-of-type {\n",
              "        vertical-align: middle;\n",
              "    }\n",
              "\n",
              "    .dataframe tbody tr th {\n",
              "        vertical-align: top;\n",
              "    }\n",
              "\n",
              "    .dataframe thead th {\n",
              "        text-align: right;\n",
              "    }\n",
              "</style>\n",
              "<table border=\"1\" class=\"dataframe\">\n",
              "  <thead>\n",
              "    <tr style=\"text-align: right;\">\n",
              "      <th></th>\n",
              "      <th>email</th>\n",
              "      <th>subscribed_date</th>\n",
              "      <th>segments</th>\n",
              "      <th>previous_opens</th>\n",
              "      <th>was_opened</th>\n",
              "    </tr>\n",
              "  </thead>\n",
              "  <tbody>\n",
              "    <tr>\n",
              "      <th>count</th>\n",
              "      <td>98996</td>\n",
              "      <td>98949</td>\n",
              "      <td>99031</td>\n",
              "      <td>98934</td>\n",
              "      <td>98981</td>\n",
              "    </tr>\n",
              "    <tr>\n",
              "      <th>unique</th>\n",
              "      <td>83756</td>\n",
              "      <td>434</td>\n",
              "      <td>49</td>\n",
              "      <td>37</td>\n",
              "      <td>10</td>\n",
              "    </tr>\n",
              "    <tr>\n",
              "      <th>top</th>\n",
              "      <td>a</td>\n",
              "      <td>2020-03-03</td>\n",
              "      <td>[]</td>\n",
              "      <td>0</td>\n",
              "      <td>NOT OPENED</td>\n",
              "    </tr>\n",
              "    <tr>\n",
              "      <th>freq</th>\n",
              "      <td>137</td>\n",
              "      <td>283</td>\n",
              "      <td>24688</td>\n",
              "      <td>9012</td>\n",
              "      <td>78688</td>\n",
              "    </tr>\n",
              "  </tbody>\n",
              "</table>\n",
              "</div>"
            ],
            "text/plain": [
              "        email subscribed_date segments previous_opens  was_opened\n",
              "count   98996           98949    99031          98934       98981\n",
              "unique  83756             434       49             37          10\n",
              "top         a      2020-03-03       []              0  NOT OPENED\n",
              "freq      137             283    24688           9012       78688"
            ]
          },
          "metadata": {
            "tags": []
          },
          "execution_count": 5
        }
      ]
    },
    {
      "cell_type": "code",
      "metadata": {
        "colab": {
          "base_uri": "https://localhost:8080/"
        },
        "id": "BEMJ5hMtYSKM",
        "outputId": "4a264636-a871-4d65-b7f3-38c51f69fd41"
      },
      "source": [
        "#Look for missing values\n",
        "df.isnull().sum()"
      ],
      "execution_count": null,
      "outputs": [
        {
          "output_type": "execute_result",
          "data": {
            "text/plain": [
              "email              1004\n",
              "subscribed_date    1051\n",
              "segments            969\n",
              "previous_opens     1066\n",
              "was_opened         1019\n",
              "dtype: int64"
            ]
          },
          "metadata": {
            "tags": []
          },
          "execution_count": 6
        }
      ]
    },
    {
      "cell_type": "code",
      "metadata": {
        "colab": {
          "base_uri": "https://localhost:8080/"
        },
        "id": "1h_o52etleok",
        "outputId": "111ffafc-f6d8-4c18-8ba5-922f23e61714"
      },
      "source": [
        "df.value_counts('was_opened')"
      ],
      "execution_count": null,
      "outputs": [
        {
          "output_type": "execute_result",
          "data": {
            "text/plain": [
              "was_opened\n",
              "NOT OPENED    78688\n",
              "OPENED        19282\n",
              "synthetic       138\n",
              "I'm             137\n",
              "a               133\n",
              "Help            127\n",
              "set             126\n",
              "stuck           125\n",
              "in              114\n",
              "data            111\n",
              "dtype: int64"
            ]
          },
          "metadata": {
            "tags": []
          },
          "execution_count": 7
        }
      ]
    },
    {
      "cell_type": "markdown",
      "metadata": {
        "id": "oBmh92sTllft"
      },
      "source": [
        "We see that 19,282 opened. But 78,688 'NOT OPENED'"
      ]
    },
    {
      "cell_type": "code",
      "metadata": {
        "colab": {
          "base_uri": "https://localhost:8080/",
          "height": 265
        },
        "id": "RUvmc8ABmJUN",
        "outputId": "bbd37588-f3d8-4dd0-c2c8-a77baa288fad"
      },
      "source": [
        "#Plot values outside of 'NOT OPENED' & \"OPENED\"\n",
        "df['was_opened'].hist()\n",
        "plt.show()"
      ],
      "execution_count": null,
      "outputs": [
        {
          "output_type": "display_data",
          "data": {
            "image/png": "[encoded data removed]",
            "text/plain": [
              "<Figure size 432x288 with 1 Axes>"
            ]
          },
          "metadata": {
            "tags": [],
            "needs_background": "light"
          }
        }
      ]
    },
    {
      "cell_type": "markdown",
      "metadata": {
        "id": "lCcB_icG22Ti"
      },
      "source": [
        "**Step 3: Clean Data**\n",
        "*Phase 1*"
      ]
    },
    {
      "cell_type": "code",
      "metadata": {
        "colab": {
          "base_uri": "https://localhost:8080/",
          "height": 419
        },
        "id": "TmaoNt4HeeYv",
        "outputId": "7bbcb9bf-aded-4542-e55d-0ee75f966a57"
      },
      "source": [
        "#Clean 'was_opened' | Splice rows for only 'NOT OPENED' and 'OPENED\n",
        "df_not_open = df[(df.was_opened == 'NOT OPENED')] # & (df.was_opened == 'OPENED')]\n",
        "df_not_open"
      ],
      "execution_count": null,
      "outputs": [
        {
          "output_type": "execute_result",
          "data": {
            "text/html": [
              "<div>\n",
              "<style scoped>\n",
              "    .dataframe tbody tr th:only-of-type {\n",
              "        vertical-align: middle;\n",
              "    }\n",
              "\n",
              "    .dataframe tbody tr th {\n",
              "        vertical-align: top;\n",
              "    }\n",
              "\n",
              "    .dataframe thead th {\n",
              "        text-align: right;\n",
              "    }\n",
              "</style>\n",
              "<table border=\"1\" class=\"dataframe\">\n",
              "  <thead>\n",
              "    <tr style=\"text-align: right;\">\n",
              "      <th></th>\n",
              "      <th>email</th>\n",
              "      <th>subscribed_date</th>\n",
              "      <th>segments</th>\n",
              "      <th>previous_opens</th>\n",
              "      <th>was_opened</th>\n",
              "    </tr>\n",
              "  </thead>\n",
              "  <tbody>\n",
              "    <tr>\n",
              "      <th>1</th>\n",
              "      <td>22200@robots.com</td>\n",
              "      <td>2020-11-17</td>\n",
              "      <td>[\"c\"]</td>\n",
              "      <td>4</td>\n",
              "      <td>NOT OPENED</td>\n",
              "    </tr>\n",
              "    <tr>\n",
              "      <th>3</th>\n",
              "      <td>6980@realpeople.com</td>\n",
              "      <td>2020-09-06</td>\n",
              "      <td>[\"b\", \"c\"]</td>\n",
              "      <td>0</td>\n",
              "      <td>NOT OPENED</td>\n",
              "    </tr>\n",
              "    <tr>\n",
              "      <th>4</th>\n",
              "      <td>88430@spam.com</td>\n",
              "      <td>2020-09-03</td>\n",
              "      <td>[\"b\"]</td>\n",
              "      <td>5</td>\n",
              "      <td>NOT OPENED</td>\n",
              "    </tr>\n",
              "    <tr>\n",
              "      <th>5</th>\n",
              "      <td>31472@robots.com</td>\n",
              "      <td>2020-06-27</td>\n",
              "      <td>[\"d\"]</td>\n",
              "      <td>4</td>\n",
              "      <td>NOT OPENED</td>\n",
              "    </tr>\n",
              "    <tr>\n",
              "      <th>6</th>\n",
              "      <td>29063@robots.com</td>\n",
              "      <td>2020-02-10</td>\n",
              "      <td>[]</td>\n",
              "      <td>10</td>\n",
              "      <td>NOT OPENED</td>\n",
              "    </tr>\n",
              "    <tr>\n",
              "      <th>...</th>\n",
              "      <td>...</td>\n",
              "      <td>...</td>\n",
              "      <td>...</td>\n",
              "      <td>...</td>\n",
              "      <td>...</td>\n",
              "    </tr>\n",
              "    <tr>\n",
              "      <th>99995</th>\n",
              "      <td>43775@robots.com</td>\n",
              "      <td>2020-07-05</td>\n",
              "      <td>[]</td>\n",
              "      <td>2</td>\n",
              "      <td>NOT OPENED</td>\n",
              "    </tr>\n",
              "    <tr>\n",
              "      <th>99996</th>\n",
              "      <td>9186@spam.com</td>\n",
              "      <td>2020-07-19</td>\n",
              "      <td>[]</td>\n",
              "      <td>8</td>\n",
              "      <td>NOT OPENED</td>\n",
              "    </tr>\n",
              "    <tr>\n",
              "      <th>99997</th>\n",
              "      <td>18464@realpeople.com</td>\n",
              "      <td>2020-03-05</td>\n",
              "      <td>[\"a\", \"b\", \"d\"]</td>\n",
              "      <td>0</td>\n",
              "      <td>NOT OPENED</td>\n",
              "    </tr>\n",
              "    <tr>\n",
              "      <th>99998</th>\n",
              "      <td>55503@spam.com</td>\n",
              "      <td>2020-04-06</td>\n",
              "      <td>[]</td>\n",
              "      <td>3</td>\n",
              "      <td>NOT OPENED</td>\n",
              "    </tr>\n",
              "    <tr>\n",
              "      <th>99999</th>\n",
              "      <td>4348@robots.com</td>\n",
              "      <td>2021-02-06</td>\n",
              "      <td>[]</td>\n",
              "      <td>5</td>\n",
              "      <td>NOT OPENED</td>\n",
              "    </tr>\n",
              "  </tbody>\n",
              "</table>\n",
              "<p>78688 rows × 5 columns</p>\n",
              "</div>"
            ],
            "text/plain": [
              "                      email subscribed_date  ... previous_opens  was_opened\n",
              "1          22200@robots.com      2020-11-17  ...              4  NOT OPENED\n",
              "3       6980@realpeople.com      2020-09-06  ...              0  NOT OPENED\n",
              "4            88430@spam.com      2020-09-03  ...              5  NOT OPENED\n",
              "5          31472@robots.com      2020-06-27  ...              4  NOT OPENED\n",
              "6          29063@robots.com      2020-02-10  ...             10  NOT OPENED\n",
              "...                     ...             ...  ...            ...         ...\n",
              "99995      43775@robots.com      2020-07-05  ...              2  NOT OPENED\n",
              "99996         9186@spam.com      2020-07-19  ...              8  NOT OPENED\n",
              "99997  18464@realpeople.com      2020-03-05  ...              0  NOT OPENED\n",
              "99998        55503@spam.com      2020-04-06  ...              3  NOT OPENED\n",
              "99999       4348@robots.com      2021-02-06  ...              5  NOT OPENED\n",
              "\n",
              "[78688 rows x 5 columns]"
            ]
          },
          "metadata": {
            "tags": []
          },
          "execution_count": 9
        }
      ]
    },
    {
      "cell_type": "code",
      "metadata": {
        "colab": {
          "base_uri": "https://localhost:8080/",
          "height": 419
        },
        "id": "xgkByBB0kboY",
        "outputId": "35f6b867-1bdc-4b76-d1cd-b3f6c0615782"
      },
      "source": [
        "#set with opened emails \n",
        "df_open = df[(df.was_opened == 'OPENED')]\n",
        "df_open"
      ],
      "execution_count": null,
      "outputs": [
        {
          "output_type": "execute_result",
          "data": {
            "text/html": [
              "<div>\n",
              "<style scoped>\n",
              "    .dataframe tbody tr th:only-of-type {\n",
              "        vertical-align: middle;\n",
              "    }\n",
              "\n",
              "    .dataframe tbody tr th {\n",
              "        vertical-align: top;\n",
              "    }\n",
              "\n",
              "    .dataframe thead th {\n",
              "        text-align: right;\n",
              "    }\n",
              "</style>\n",
              "<table border=\"1\" class=\"dataframe\">\n",
              "  <thead>\n",
              "    <tr style=\"text-align: right;\">\n",
              "      <th></th>\n",
              "      <th>email</th>\n",
              "      <th>subscribed_date</th>\n",
              "      <th>segments</th>\n",
              "      <th>previous_opens</th>\n",
              "      <th>was_opened</th>\n",
              "    </tr>\n",
              "  </thead>\n",
              "  <tbody>\n",
              "    <tr>\n",
              "      <th>0</th>\n",
              "      <td>32960@spam.com</td>\n",
              "      <td>2020-10-05</td>\n",
              "      <td>[\"b\", \"d\", \"a\"]</td>\n",
              "      <td>0</td>\n",
              "      <td>OPENED</td>\n",
              "    </tr>\n",
              "    <tr>\n",
              "      <th>12</th>\n",
              "      <td>9714@realpeople.com</td>\n",
              "      <td>2020-07-11</td>\n",
              "      <td>[\"d\", \"a\", \"b\"]</td>\n",
              "      <td>6</td>\n",
              "      <td>OPENED</td>\n",
              "    </tr>\n",
              "    <tr>\n",
              "      <th>18</th>\n",
              "      <td>42556@realpeople.com</td>\n",
              "      <td>2021-01-26</td>\n",
              "      <td>[\"a\", \"c\", \"d\"]</td>\n",
              "      <td>7</td>\n",
              "      <td>OPENED</td>\n",
              "    </tr>\n",
              "    <tr>\n",
              "      <th>23</th>\n",
              "      <td>56675@realpeople.com</td>\n",
              "      <td>2020-04-07</td>\n",
              "      <td>[\"c\", \"b\"]</td>\n",
              "      <td>6</td>\n",
              "      <td>OPENED</td>\n",
              "    </tr>\n",
              "    <tr>\n",
              "      <th>25</th>\n",
              "      <td>69099@spam.com</td>\n",
              "      <td>2020-10-18</td>\n",
              "      <td>[\"b\"]</td>\n",
              "      <td>1</td>\n",
              "      <td>OPENED</td>\n",
              "    </tr>\n",
              "    <tr>\n",
              "      <th>...</th>\n",
              "      <td>...</td>\n",
              "      <td>...</td>\n",
              "      <td>...</td>\n",
              "      <td>...</td>\n",
              "      <td>...</td>\n",
              "    </tr>\n",
              "    <tr>\n",
              "      <th>99978</th>\n",
              "      <td>23113@realpeople.com</td>\n",
              "      <td>2020-12-20</td>\n",
              "      <td>[\"d\", \"b\", \"c\"]</td>\n",
              "      <td>2</td>\n",
              "      <td>OPENED</td>\n",
              "    </tr>\n",
              "    <tr>\n",
              "      <th>99981</th>\n",
              "      <td>55158@realpeople.com</td>\n",
              "      <td>2020-09-15</td>\n",
              "      <td>[\"d\", \"c\", \"b\"]</td>\n",
              "      <td>stuck</td>\n",
              "      <td>OPENED</td>\n",
              "    </tr>\n",
              "    <tr>\n",
              "      <th>99988</th>\n",
              "      <td>82197@spam.com</td>\n",
              "      <td>2020-05-04</td>\n",
              "      <td>[\"a\"]</td>\n",
              "      <td>10</td>\n",
              "      <td>OPENED</td>\n",
              "    </tr>\n",
              "    <tr>\n",
              "      <th>99992</th>\n",
              "      <td>79325@spam.com</td>\n",
              "      <td>2020-12-31</td>\n",
              "      <td>[\"d\", \"c\", \"a\"]</td>\n",
              "      <td>2</td>\n",
              "      <td>OPENED</td>\n",
              "    </tr>\n",
              "    <tr>\n",
              "      <th>99993</th>\n",
              "      <td>70054@realpeople.com</td>\n",
              "      <td>2020-05-02</td>\n",
              "      <td>[]</td>\n",
              "      <td>7</td>\n",
              "      <td>OPENED</td>\n",
              "    </tr>\n",
              "  </tbody>\n",
              "</table>\n",
              "<p>19282 rows × 5 columns</p>\n",
              "</div>"
            ],
            "text/plain": [
              "                      email subscribed_date  ... previous_opens was_opened\n",
              "0            32960@spam.com      2020-10-05  ...              0     OPENED\n",
              "12      9714@realpeople.com      2020-07-11  ...              6     OPENED\n",
              "18     42556@realpeople.com      2021-01-26  ...              7     OPENED\n",
              "23     56675@realpeople.com      2020-04-07  ...              6     OPENED\n",
              "25           69099@spam.com      2020-10-18  ...              1     OPENED\n",
              "...                     ...             ...  ...            ...        ...\n",
              "99978  23113@realpeople.com      2020-12-20  ...              2     OPENED\n",
              "99981  55158@realpeople.com      2020-09-15  ...          stuck     OPENED\n",
              "99988        82197@spam.com      2020-05-04  ...             10     OPENED\n",
              "99992        79325@spam.com      2020-12-31  ...              2     OPENED\n",
              "99993  70054@realpeople.com      2020-05-02  ...              7     OPENED\n",
              "\n",
              "[19282 rows x 5 columns]"
            ]
          },
          "metadata": {
            "tags": []
          },
          "execution_count": 10
        }
      ]
    },
    {
      "cell_type": "code",
      "metadata": {
        "colab": {
          "base_uri": "https://localhost:8080/",
          "height": 419
        },
        "id": "-befiBOikm6w",
        "outputId": "3dd9338e-5ca2-40ff-9f14-e26423ce60e3"
      },
      "source": [
        "#combine closed and opened into 1 file\n",
        "df_clean = pd.concat([df_not_open,df_open],ignore_index=True, sort =True)\n",
        "df_clean"
      ],
      "execution_count": null,
      "outputs": [
        {
          "output_type": "execute_result",
          "data": {
            "text/html": [
              "<div>\n",
              "<style scoped>\n",
              "    .dataframe tbody tr th:only-of-type {\n",
              "        vertical-align: middle;\n",
              "    }\n",
              "\n",
              "    .dataframe tbody tr th {\n",
              "        vertical-align: top;\n",
              "    }\n",
              "\n",
              "    .dataframe thead th {\n",
              "        text-align: right;\n",
              "    }\n",
              "</style>\n",
              "<table border=\"1\" class=\"dataframe\">\n",
              "  <thead>\n",
              "    <tr style=\"text-align: right;\">\n",
              "      <th></th>\n",
              "      <th>email</th>\n",
              "      <th>previous_opens</th>\n",
              "      <th>segments</th>\n",
              "      <th>subscribed_date</th>\n",
              "      <th>was_opened</th>\n",
              "    </tr>\n",
              "  </thead>\n",
              "  <tbody>\n",
              "    <tr>\n",
              "      <th>0</th>\n",
              "      <td>22200@robots.com</td>\n",
              "      <td>4</td>\n",
              "      <td>[\"c\"]</td>\n",
              "      <td>2020-11-17</td>\n",
              "      <td>NOT OPENED</td>\n",
              "    </tr>\n",
              "    <tr>\n",
              "      <th>1</th>\n",
              "      <td>6980@realpeople.com</td>\n",
              "      <td>0</td>\n",
              "      <td>[\"b\", \"c\"]</td>\n",
              "      <td>2020-09-06</td>\n",
              "      <td>NOT OPENED</td>\n",
              "    </tr>\n",
              "    <tr>\n",
              "      <th>2</th>\n",
              "      <td>88430@spam.com</td>\n",
              "      <td>5</td>\n",
              "      <td>[\"b\"]</td>\n",
              "      <td>2020-09-03</td>\n",
              "      <td>NOT OPENED</td>\n",
              "    </tr>\n",
              "    <tr>\n",
              "      <th>3</th>\n",
              "      <td>31472@robots.com</td>\n",
              "      <td>4</td>\n",
              "      <td>[\"d\"]</td>\n",
              "      <td>2020-06-27</td>\n",
              "      <td>NOT OPENED</td>\n",
              "    </tr>\n",
              "    <tr>\n",
              "      <th>4</th>\n",
              "      <td>29063@robots.com</td>\n",
              "      <td>10</td>\n",
              "      <td>[]</td>\n",
              "      <td>2020-02-10</td>\n",
              "      <td>NOT OPENED</td>\n",
              "    </tr>\n",
              "    <tr>\n",
              "      <th>...</th>\n",
              "      <td>...</td>\n",
              "      <td>...</td>\n",
              "      <td>...</td>\n",
              "      <td>...</td>\n",
              "      <td>...</td>\n",
              "    </tr>\n",
              "    <tr>\n",
              "      <th>97965</th>\n",
              "      <td>23113@realpeople.com</td>\n",
              "      <td>2</td>\n",
              "      <td>[\"d\", \"b\", \"c\"]</td>\n",
              "      <td>2020-12-20</td>\n",
              "      <td>OPENED</td>\n",
              "    </tr>\n",
              "    <tr>\n",
              "      <th>97966</th>\n",
              "      <td>55158@realpeople.com</td>\n",
              "      <td>stuck</td>\n",
              "      <td>[\"d\", \"c\", \"b\"]</td>\n",
              "      <td>2020-09-15</td>\n",
              "      <td>OPENED</td>\n",
              "    </tr>\n",
              "    <tr>\n",
              "      <th>97967</th>\n",
              "      <td>82197@spam.com</td>\n",
              "      <td>10</td>\n",
              "      <td>[\"a\"]</td>\n",
              "      <td>2020-05-04</td>\n",
              "      <td>OPENED</td>\n",
              "    </tr>\n",
              "    <tr>\n",
              "      <th>97968</th>\n",
              "      <td>79325@spam.com</td>\n",
              "      <td>2</td>\n",
              "      <td>[\"d\", \"c\", \"a\"]</td>\n",
              "      <td>2020-12-31</td>\n",
              "      <td>OPENED</td>\n",
              "    </tr>\n",
              "    <tr>\n",
              "      <th>97969</th>\n",
              "      <td>70054@realpeople.com</td>\n",
              "      <td>7</td>\n",
              "      <td>[]</td>\n",
              "      <td>2020-05-02</td>\n",
              "      <td>OPENED</td>\n",
              "    </tr>\n",
              "  </tbody>\n",
              "</table>\n",
              "<p>97970 rows × 5 columns</p>\n",
              "</div>"
            ],
            "text/plain": [
              "                      email previous_opens  ... subscribed_date  was_opened\n",
              "0          22200@robots.com              4  ...      2020-11-17  NOT OPENED\n",
              "1       6980@realpeople.com              0  ...      2020-09-06  NOT OPENED\n",
              "2            88430@spam.com              5  ...      2020-09-03  NOT OPENED\n",
              "3          31472@robots.com              4  ...      2020-06-27  NOT OPENED\n",
              "4          29063@robots.com             10  ...      2020-02-10  NOT OPENED\n",
              "...                     ...            ...  ...             ...         ...\n",
              "97965  23113@realpeople.com              2  ...      2020-12-20      OPENED\n",
              "97966  55158@realpeople.com          stuck  ...      2020-09-15      OPENED\n",
              "97967        82197@spam.com             10  ...      2020-05-04      OPENED\n",
              "97968        79325@spam.com              2  ...      2020-12-31      OPENED\n",
              "97969  70054@realpeople.com              7  ...      2020-05-02      OPENED\n",
              "\n",
              "[97970 rows x 5 columns]"
            ]
          },
          "metadata": {
            "tags": []
          },
          "execution_count": 11
        }
      ]
    },
    {
      "cell_type": "code",
      "metadata": {
        "colab": {
          "base_uri": "https://localhost:8080/"
        },
        "id": "W_S-mIKlltbS",
        "outputId": "3a1eb0fa-e7a1-4d5b-c2db-72b47dae77b7"
      },
      "source": [
        " #We have Email Open Rate of 25%\n",
        "19282/78688 \n",
        "\n",
        "#Dirty record: \n",
        "# synthetic       138\n",
        "# I'm             137\n",
        "# a               133\n",
        "# Help            127\n",
        "# set             126\n",
        "# stuck           125\n",
        "# in              114\n",
        "# data            111"
      ],
      "execution_count": null,
      "outputs": [
        {
          "output_type": "execute_result",
          "data": {
            "text/plain": [
              "0.24504371695811306"
            ]
          },
          "metadata": {
            "tags": []
          },
          "execution_count": 14
        }
      ]
    },
    {
      "cell_type": "code",
      "metadata": {
        "colab": {
          "base_uri": "https://localhost:8080/"
        },
        "id": "SaiCq0-ueF9j",
        "outputId": "9d605661-3e46-4f44-d38c-cd1c55912fba"
      },
      "source": [
        "#Look for previous_open trends\n",
        "df_clean.value_counts('previous_opens')"
      ],
      "execution_count": null,
      "outputs": [
        {
          "output_type": "execute_result",
          "data": {
            "text/plain": [
              "previous_opens\n",
              "0            8847\n",
              "1            8695\n",
              "8            8685\n",
              "2            8679\n",
              "3            8677\n",
              "9            8656\n",
              "5            8627\n",
              "10           8615\n",
              "7            8586\n",
              "4            8576\n",
              "6            8526\n",
              "I'm           137\n",
              "stuck         129\n",
              "in            126\n",
              "data          120\n",
              "a             119\n",
              "set           113\n",
              "synthetic     110\n",
              "Help          110\n",
              "32             88\n",
              "16             79\n",
              "64             64\n",
              "80             58\n",
              "24             58\n",
              "40             57\n",
              "48             57\n",
              "56             39\n",
              "112            38\n",
              "72             33\n",
              "20             32\n",
              "160            31\n",
              "96             30\n",
              "144            28\n",
              "12             28\n",
              "36             27\n",
              "28             21\n",
              "128            20\n",
              "dtype: int64"
            ]
          },
          "metadata": {
            "tags": []
          },
          "execution_count": 12
        }
      ]
    },
    {
      "cell_type": "markdown",
      "metadata": {
        "id": "Er41N4D0dLqU"
      },
      "source": [
        "**Step 4: Select Feature** *Phase 1*\n",
        "\n",
        "Continue cleaning 'previous_opens' column for first selected feature."
      ]
    },
    {
      "cell_type": "code",
      "metadata": {
        "colab": {
          "base_uri": "https://localhost:8080/"
        },
        "id": "515eE_TNPd9D",
        "outputId": "b9c07d7d-ca9d-4c7c-a1c8-d9462a9c3113"
      },
      "source": [
        "#Attempt to fix parse issue w/'stuck'\n",
        "print(df_clean[pd.to_numeric(df_clean.previous_opens, errors='coerce').isnull()])"
      ],
      "execution_count": null,
      "outputs": [
        {
          "output_type": "stream",
          "text": [
            "                      email previous_opens  ... subscribed_date  was_opened\n",
            "49           34408@spam.com          stuck  ...      2020-11-07  NOT OPENED\n",
            "88      3830@realpeople.com           data  ...      2020-04-09  NOT OPENED\n",
            "177          73351@spam.com            I'm  ...      2020-10-21  NOT OPENED\n",
            "213        19583@robots.com            NaN  ...      2020-03-01  NOT OPENED\n",
            "354    36312@realpeople.com             in  ...      2020-12-18  NOT OPENED\n",
            "...                     ...            ...  ...             ...         ...\n",
            "97785        57845@spam.com              a  ...      2020-02-18      OPENED\n",
            "97813         4504@spam.com            NaN  ...      2020-09-11      OPENED\n",
            "97849  97199@realpeople.com            NaN  ...      2021-01-16      OPENED\n",
            "97913  54633@realpeople.com           data  ...      2020-04-06      OPENED\n",
            "97966  55158@realpeople.com          stuck  ...      2020-09-15      OPENED\n",
            "\n",
            "[2013 rows x 5 columns]\n"
          ],
          "name": "stdout"
        }
      ]
    },
    {
      "cell_type": "code",
      "metadata": {
        "colab": {
          "base_uri": "https://localhost:8080/"
        },
        "id": "1zGfj88lmOPS",
        "outputId": "26fe3ad3-e325-4e96-fb45-9549c39d4643"
      },
      "source": [
        "#exploring these columns & overwrite dataframe to exclude 'NA' records from target variable\n",
        "df_clean = df_clean.loc[df_clean.was_opened.notna(),['previous_opens','subscribed_date','email','was_opened']]\n",
        "df_clean.shape\n"
      ],
      "execution_count": null,
      "outputs": [
        {
          "output_type": "execute_result",
          "data": {
            "text/plain": [
              "(97970, 4)"
            ]
          },
          "metadata": {
            "tags": []
          },
          "execution_count": 14
        }
      ]
    },
    {
      "cell_type": "code",
      "metadata": {
        "colab": {
          "base_uri": "https://localhost:8080/"
        },
        "id": "GHBC0Nl1WoC0",
        "outputId": "5d753760-e093-4da5-b72f-9f09a0c8ec70"
      },
      "source": [
        "#Target is 'was_opened'\n",
        "df_clean.isnull().sum()"
      ],
      "execution_count": null,
      "outputs": [
        {
          "output_type": "execute_result",
          "data": {
            "text/plain": [
              "previous_opens     1049\n",
              "subscribed_date    1027\n",
              "email               987\n",
              "was_opened            0\n",
              "dtype: int64"
            ]
          },
          "metadata": {
            "tags": []
          },
          "execution_count": 15
        }
      ]
    },
    {
      "cell_type": "code",
      "metadata": {
        "id": "l52RQTJV0uMk"
      },
      "source": [
        "#Drop the 'subscribed_date' column: df.drop(columns=['B', 'C'])\n",
        "df_clean = df_clean.drop(columns=['subscribed_date'])"
      ],
      "execution_count": null,
      "outputs": []
    },
    {
      "cell_type": "code",
      "metadata": {
        "colab": {
          "base_uri": "https://localhost:8080/",
          "height": 419
        },
        "id": "ErxDuVCnlqAx",
        "outputId": "b41d17b6-a707-42bd-88fa-138fda51557b"
      },
      "source": [
        "#Drop NaN rows from cleaned dataframe to run through Model for prediction \n",
        "df_clean.dropna()"
      ],
      "execution_count": null,
      "outputs": [
        {
          "output_type": "execute_result",
          "data": {
            "text/html": [
              "<div>\n",
              "<style scoped>\n",
              "    .dataframe tbody tr th:only-of-type {\n",
              "        vertical-align: middle;\n",
              "    }\n",
              "\n",
              "    .dataframe tbody tr th {\n",
              "        vertical-align: top;\n",
              "    }\n",
              "\n",
              "    .dataframe thead th {\n",
              "        text-align: right;\n",
              "    }\n",
              "</style>\n",
              "<table border=\"1\" class=\"dataframe\">\n",
              "  <thead>\n",
              "    <tr style=\"text-align: right;\">\n",
              "      <th></th>\n",
              "      <th>previous_opens</th>\n",
              "      <th>email</th>\n",
              "      <th>was_opened</th>\n",
              "    </tr>\n",
              "  </thead>\n",
              "  <tbody>\n",
              "    <tr>\n",
              "      <th>0</th>\n",
              "      <td>4</td>\n",
              "      <td>22200@robots.com</td>\n",
              "      <td>NOT OPENED</td>\n",
              "    </tr>\n",
              "    <tr>\n",
              "      <th>1</th>\n",
              "      <td>0</td>\n",
              "      <td>6980@realpeople.com</td>\n",
              "      <td>NOT OPENED</td>\n",
              "    </tr>\n",
              "    <tr>\n",
              "      <th>2</th>\n",
              "      <td>5</td>\n",
              "      <td>88430@spam.com</td>\n",
              "      <td>NOT OPENED</td>\n",
              "    </tr>\n",
              "    <tr>\n",
              "      <th>3</th>\n",
              "      <td>4</td>\n",
              "      <td>31472@robots.com</td>\n",
              "      <td>NOT OPENED</td>\n",
              "    </tr>\n",
              "    <tr>\n",
              "      <th>4</th>\n",
              "      <td>10</td>\n",
              "      <td>29063@robots.com</td>\n",
              "      <td>NOT OPENED</td>\n",
              "    </tr>\n",
              "    <tr>\n",
              "      <th>...</th>\n",
              "      <td>...</td>\n",
              "      <td>...</td>\n",
              "      <td>...</td>\n",
              "    </tr>\n",
              "    <tr>\n",
              "      <th>97965</th>\n",
              "      <td>2</td>\n",
              "      <td>23113@realpeople.com</td>\n",
              "      <td>OPENED</td>\n",
              "    </tr>\n",
              "    <tr>\n",
              "      <th>97966</th>\n",
              "      <td>stuck</td>\n",
              "      <td>55158@realpeople.com</td>\n",
              "      <td>OPENED</td>\n",
              "    </tr>\n",
              "    <tr>\n",
              "      <th>97967</th>\n",
              "      <td>10</td>\n",
              "      <td>82197@spam.com</td>\n",
              "      <td>OPENED</td>\n",
              "    </tr>\n",
              "    <tr>\n",
              "      <th>97968</th>\n",
              "      <td>2</td>\n",
              "      <td>79325@spam.com</td>\n",
              "      <td>OPENED</td>\n",
              "    </tr>\n",
              "    <tr>\n",
              "      <th>97969</th>\n",
              "      <td>7</td>\n",
              "      <td>70054@realpeople.com</td>\n",
              "      <td>OPENED</td>\n",
              "    </tr>\n",
              "  </tbody>\n",
              "</table>\n",
              "<p>95946 rows × 3 columns</p>\n",
              "</div>"
            ],
            "text/plain": [
              "      previous_opens                 email  was_opened\n",
              "0                  4      22200@robots.com  NOT OPENED\n",
              "1                  0   6980@realpeople.com  NOT OPENED\n",
              "2                  5        88430@spam.com  NOT OPENED\n",
              "3                  4      31472@robots.com  NOT OPENED\n",
              "4                 10      29063@robots.com  NOT OPENED\n",
              "...              ...                   ...         ...\n",
              "97965              2  23113@realpeople.com      OPENED\n",
              "97966          stuck  55158@realpeople.com      OPENED\n",
              "97967             10        82197@spam.com      OPENED\n",
              "97968              2        79325@spam.com      OPENED\n",
              "97969              7  70054@realpeople.com      OPENED\n",
              "\n",
              "[95946 rows x 3 columns]"
            ]
          },
          "metadata": {
            "tags": []
          },
          "execution_count": 17
        }
      ]
    },
    {
      "cell_type": "code",
      "metadata": {
        "colab": {
          "base_uri": "https://localhost:8080/",
          "height": 204
        },
        "id": "WJp_Bl1I5e8F",
        "outputId": "03e4d263-81b7-40a7-edbc-e2e0497b02cb"
      },
      "source": [
        "df_clean.head()"
      ],
      "execution_count": null,
      "outputs": [
        {
          "output_type": "execute_result",
          "data": {
            "text/html": [
              "<div>\n",
              "<style scoped>\n",
              "    .dataframe tbody tr th:only-of-type {\n",
              "        vertical-align: middle;\n",
              "    }\n",
              "\n",
              "    .dataframe tbody tr th {\n",
              "        vertical-align: top;\n",
              "    }\n",
              "\n",
              "    .dataframe thead th {\n",
              "        text-align: right;\n",
              "    }\n",
              "</style>\n",
              "<table border=\"1\" class=\"dataframe\">\n",
              "  <thead>\n",
              "    <tr style=\"text-align: right;\">\n",
              "      <th></th>\n",
              "      <th>previous_opens</th>\n",
              "      <th>subscribed_date</th>\n",
              "      <th>email</th>\n",
              "      <th>was_opened</th>\n",
              "    </tr>\n",
              "  </thead>\n",
              "  <tbody>\n",
              "    <tr>\n",
              "      <th>0</th>\n",
              "      <td>4</td>\n",
              "      <td>2020-11-17</td>\n",
              "      <td>22200@robots.com</td>\n",
              "      <td>NOT OPENED</td>\n",
              "    </tr>\n",
              "    <tr>\n",
              "      <th>1</th>\n",
              "      <td>0</td>\n",
              "      <td>2020-09-06</td>\n",
              "      <td>6980@realpeople.com</td>\n",
              "      <td>NOT OPENED</td>\n",
              "    </tr>\n",
              "    <tr>\n",
              "      <th>2</th>\n",
              "      <td>5</td>\n",
              "      <td>2020-09-03</td>\n",
              "      <td>88430@spam.com</td>\n",
              "      <td>NOT OPENED</td>\n",
              "    </tr>\n",
              "    <tr>\n",
              "      <th>3</th>\n",
              "      <td>4</td>\n",
              "      <td>2020-06-27</td>\n",
              "      <td>31472@robots.com</td>\n",
              "      <td>NOT OPENED</td>\n",
              "    </tr>\n",
              "    <tr>\n",
              "      <th>4</th>\n",
              "      <td>10</td>\n",
              "      <td>2020-02-10</td>\n",
              "      <td>29063@robots.com</td>\n",
              "      <td>NOT OPENED</td>\n",
              "    </tr>\n",
              "  </tbody>\n",
              "</table>\n",
              "</div>"
            ],
            "text/plain": [
              "  previous_opens subscribed_date                email  was_opened\n",
              "0              4      2020-11-17     22200@robots.com  NOT OPENED\n",
              "1              0      2020-09-06  6980@realpeople.com  NOT OPENED\n",
              "2              5      2020-09-03       88430@spam.com  NOT OPENED\n",
              "3              4      2020-06-27     31472@robots.com  NOT OPENED\n",
              "4             10      2020-02-10     29063@robots.com  NOT OPENED"
            ]
          },
          "metadata": {
            "tags": []
          },
          "execution_count": 23
        }
      ]
    },
    {
      "cell_type": "code",
      "metadata": {
        "colab": {
          "base_uri": "https://localhost:8080/",
          "height": 235
        },
        "id": "zRX_6B8Y6P0I",
        "outputId": "560eed86-19fb-498a-b02e-3dec22db5207"
      },
      "source": [
        "df_clean.iloc[97964:97970] #stuck still in 'previous_opens'"
      ],
      "execution_count": null,
      "outputs": [
        {
          "output_type": "execute_result",
          "data": {
            "text/html": [
              "<div>\n",
              "<style scoped>\n",
              "    .dataframe tbody tr th:only-of-type {\n",
              "        vertical-align: middle;\n",
              "    }\n",
              "\n",
              "    .dataframe tbody tr th {\n",
              "        vertical-align: top;\n",
              "    }\n",
              "\n",
              "    .dataframe thead th {\n",
              "        text-align: right;\n",
              "    }\n",
              "</style>\n",
              "<table border=\"1\" class=\"dataframe\">\n",
              "  <thead>\n",
              "    <tr style=\"text-align: right;\">\n",
              "      <th></th>\n",
              "      <th>previous_opens</th>\n",
              "      <th>email</th>\n",
              "      <th>was_opened</th>\n",
              "    </tr>\n",
              "  </thead>\n",
              "  <tbody>\n",
              "    <tr>\n",
              "      <th>97964</th>\n",
              "      <td>8</td>\n",
              "      <td>9897@realpeople.com</td>\n",
              "      <td>OPENED</td>\n",
              "    </tr>\n",
              "    <tr>\n",
              "      <th>97965</th>\n",
              "      <td>2</td>\n",
              "      <td>23113@realpeople.com</td>\n",
              "      <td>OPENED</td>\n",
              "    </tr>\n",
              "    <tr>\n",
              "      <th>97966</th>\n",
              "      <td>stuck</td>\n",
              "      <td>55158@realpeople.com</td>\n",
              "      <td>OPENED</td>\n",
              "    </tr>\n",
              "    <tr>\n",
              "      <th>97967</th>\n",
              "      <td>10</td>\n",
              "      <td>82197@spam.com</td>\n",
              "      <td>OPENED</td>\n",
              "    </tr>\n",
              "    <tr>\n",
              "      <th>97968</th>\n",
              "      <td>2</td>\n",
              "      <td>79325@spam.com</td>\n",
              "      <td>OPENED</td>\n",
              "    </tr>\n",
              "    <tr>\n",
              "      <th>97969</th>\n",
              "      <td>7</td>\n",
              "      <td>70054@realpeople.com</td>\n",
              "      <td>OPENED</td>\n",
              "    </tr>\n",
              "  </tbody>\n",
              "</table>\n",
              "</div>"
            ],
            "text/plain": [
              "      previous_opens                 email was_opened\n",
              "97964              8   9897@realpeople.com     OPENED\n",
              "97965              2  23113@realpeople.com     OPENED\n",
              "97966          stuck  55158@realpeople.com     OPENED\n",
              "97967             10        82197@spam.com     OPENED\n",
              "97968              2        79325@spam.com     OPENED\n",
              "97969              7  70054@realpeople.com     OPENED"
            ]
          },
          "metadata": {
            "tags": []
          },
          "execution_count": 18
        }
      ]
    },
    {
      "cell_type": "code",
      "metadata": {
        "colab": {
          "base_uri": "https://localhost:8080/"
        },
        "id": "0TXRh2kkgBGz",
        "outputId": "a87a287b-8b20-4154-dabf-f7232b124667"
      },
      "source": [
        "df.previous_opens.dtype"
      ],
      "execution_count": null,
      "outputs": [
        {
          "output_type": "execute_result",
          "data": {
            "text/plain": [
              "dtype('O')"
            ]
          },
          "metadata": {
            "tags": []
          },
          "execution_count": 22
        }
      ]
    },
    {
      "cell_type": "code",
      "metadata": {
        "colab": {
          "base_uri": "https://localhost:8080/"
        },
        "id": "VUz50sEHQ8to",
        "outputId": "5a84f140-b70c-4b23-c81c-ae0aca10b2ff"
      },
      "source": [
        "#Print 'previous_opens' cleaned as numeric\n",
        "print(df_clean[pd.to_numeric(df_clean.previous_opens, errors='coerce').notnull()])"
      ],
      "execution_count": null,
      "outputs": [
        {
          "output_type": "stream",
          "text": [
            "       previous_opens                 email  was_opened\n",
            "0                 4.0      22200@robots.com  NOT OPENED\n",
            "1                 0.0   6980@realpeople.com  NOT OPENED\n",
            "2                 5.0        88430@spam.com  NOT OPENED\n",
            "3                 4.0      31472@robots.com  NOT OPENED\n",
            "4                10.0      29063@robots.com  NOT OPENED\n",
            "...               ...                   ...         ...\n",
            "97964             8.0   9897@realpeople.com      OPENED\n",
            "97965             2.0  23113@realpeople.com      OPENED\n",
            "97967            10.0        82197@spam.com      OPENED\n",
            "97968             2.0        79325@spam.com      OPENED\n",
            "97969             7.0  70054@realpeople.com      OPENED\n",
            "\n",
            "[95957 rows x 3 columns]\n"
          ],
          "name": "stdout"
        }
      ]
    },
    {
      "cell_type": "code",
      "metadata": {
        "colab": {
          "base_uri": "https://localhost:8080/",
          "height": 419
        },
        "id": "WN7xbS7B7TtJ",
        "outputId": "f2363cf1-8099-484e-cda0-c05bbcd53ff6"
      },
      "source": [
        "#Clean 'previous_opens'\n",
        "#df[['average_rating']] = df[['average_rating']].apply(pd.to_numeric, errors='coerce')\n",
        "df_clean[['previous_opens']] = df_clean[['previous_opens']].apply(pd.to_numeric, errors='coerce')\n",
        "df_clean"
      ],
      "execution_count": null,
      "outputs": [
        {
          "output_type": "execute_result",
          "data": {
            "text/html": [
              "<div>\n",
              "<style scoped>\n",
              "    .dataframe tbody tr th:only-of-type {\n",
              "        vertical-align: middle;\n",
              "    }\n",
              "\n",
              "    .dataframe tbody tr th {\n",
              "        vertical-align: top;\n",
              "    }\n",
              "\n",
              "    .dataframe thead th {\n",
              "        text-align: right;\n",
              "    }\n",
              "</style>\n",
              "<table border=\"1\" class=\"dataframe\">\n",
              "  <thead>\n",
              "    <tr style=\"text-align: right;\">\n",
              "      <th></th>\n",
              "      <th>previous_opens</th>\n",
              "      <th>email</th>\n",
              "      <th>was_opened</th>\n",
              "    </tr>\n",
              "  </thead>\n",
              "  <tbody>\n",
              "    <tr>\n",
              "      <th>0</th>\n",
              "      <td>4.0</td>\n",
              "      <td>22200@robots.com</td>\n",
              "      <td>NOT OPENED</td>\n",
              "    </tr>\n",
              "    <tr>\n",
              "      <th>1</th>\n",
              "      <td>0.0</td>\n",
              "      <td>6980@realpeople.com</td>\n",
              "      <td>NOT OPENED</td>\n",
              "    </tr>\n",
              "    <tr>\n",
              "      <th>2</th>\n",
              "      <td>5.0</td>\n",
              "      <td>88430@spam.com</td>\n",
              "      <td>NOT OPENED</td>\n",
              "    </tr>\n",
              "    <tr>\n",
              "      <th>3</th>\n",
              "      <td>4.0</td>\n",
              "      <td>31472@robots.com</td>\n",
              "      <td>NOT OPENED</td>\n",
              "    </tr>\n",
              "    <tr>\n",
              "      <th>4</th>\n",
              "      <td>10.0</td>\n",
              "      <td>29063@robots.com</td>\n",
              "      <td>NOT OPENED</td>\n",
              "    </tr>\n",
              "    <tr>\n",
              "      <th>...</th>\n",
              "      <td>...</td>\n",
              "      <td>...</td>\n",
              "      <td>...</td>\n",
              "    </tr>\n",
              "    <tr>\n",
              "      <th>97965</th>\n",
              "      <td>2.0</td>\n",
              "      <td>23113@realpeople.com</td>\n",
              "      <td>OPENED</td>\n",
              "    </tr>\n",
              "    <tr>\n",
              "      <th>97966</th>\n",
              "      <td>NaN</td>\n",
              "      <td>55158@realpeople.com</td>\n",
              "      <td>OPENED</td>\n",
              "    </tr>\n",
              "    <tr>\n",
              "      <th>97967</th>\n",
              "      <td>10.0</td>\n",
              "      <td>82197@spam.com</td>\n",
              "      <td>OPENED</td>\n",
              "    </tr>\n",
              "    <tr>\n",
              "      <th>97968</th>\n",
              "      <td>2.0</td>\n",
              "      <td>79325@spam.com</td>\n",
              "      <td>OPENED</td>\n",
              "    </tr>\n",
              "    <tr>\n",
              "      <th>97969</th>\n",
              "      <td>7.0</td>\n",
              "      <td>70054@realpeople.com</td>\n",
              "      <td>OPENED</td>\n",
              "    </tr>\n",
              "  </tbody>\n",
              "</table>\n",
              "<p>97970 rows × 3 columns</p>\n",
              "</div>"
            ],
            "text/plain": [
              "       previous_opens                 email  was_opened\n",
              "0                 4.0      22200@robots.com  NOT OPENED\n",
              "1                 0.0   6980@realpeople.com  NOT OPENED\n",
              "2                 5.0        88430@spam.com  NOT OPENED\n",
              "3                 4.0      31472@robots.com  NOT OPENED\n",
              "4                10.0      29063@robots.com  NOT OPENED\n",
              "...               ...                   ...         ...\n",
              "97965             2.0  23113@realpeople.com      OPENED\n",
              "97966             NaN  55158@realpeople.com      OPENED\n",
              "97967            10.0        82197@spam.com      OPENED\n",
              "97968             2.0        79325@spam.com      OPENED\n",
              "97969             7.0  70054@realpeople.com      OPENED\n",
              "\n",
              "[97970 rows x 3 columns]"
            ]
          },
          "metadata": {
            "tags": []
          },
          "execution_count": 30
        }
      ]
    },
    {
      "cell_type": "code",
      "metadata": {
        "colab": {
          "base_uri": "https://localhost:8080/",
          "height": 358
        },
        "id": "rnwAszUVu7y0",
        "outputId": "15af537a-bf10-4da1-e195-0357520d5652"
      },
      "source": [
        "# drop 'NA' from proposed feature variables\n",
        "\n",
        "df_clean = df_clean.loc[df_clean['was_opened'].notna(), [df_clean.previous_opens.notna()]]"
      ],
      "execution_count": null,
      "outputs": [
        {
          "output_type": "error",
          "ename": "ValueError",
          "evalue": "ignored",
          "traceback": [
            "\u001b[0;31m---------------------------------------------------------------------------\u001b[0m",
            "\u001b[0;31mValueError\u001b[0m                                Traceback (most recent call last)",
            "\u001b[0;32m<ipython-input-20-d99c9e125c08>\u001b[0m in \u001b[0;36m<module>\u001b[0;34m()\u001b[0m\n\u001b[1;32m      1\u001b[0m \u001b[0;31m# drop 'NA' from proposed feature variables\u001b[0m\u001b[0;34m\u001b[0m\u001b[0;34m\u001b[0m\u001b[0;34m\u001b[0m\u001b[0m\n\u001b[0;32m----> 2\u001b[0;31m \u001b[0mdf_clean\u001b[0m \u001b[0;34m=\u001b[0m \u001b[0mdf_clean\u001b[0m\u001b[0;34m.\u001b[0m\u001b[0mloc\u001b[0m\u001b[0;34m[\u001b[0m\u001b[0mdf_clean\u001b[0m\u001b[0;34m[\u001b[0m\u001b[0;34m'was_opened'\u001b[0m\u001b[0;34m]\u001b[0m\u001b[0;34m.\u001b[0m\u001b[0mnotna\u001b[0m\u001b[0;34m(\u001b[0m\u001b[0;34m)\u001b[0m\u001b[0;34m,\u001b[0m \u001b[0;34m[\u001b[0m\u001b[0mdf_clean\u001b[0m\u001b[0;34m.\u001b[0m\u001b[0mprevious_opens\u001b[0m\u001b[0;34m.\u001b[0m\u001b[0mnotna\u001b[0m\u001b[0;34m(\u001b[0m\u001b[0;34m)\u001b[0m\u001b[0;34m]\u001b[0m\u001b[0;34m]\u001b[0m\u001b[0;34m\u001b[0m\u001b[0;34m\u001b[0m\u001b[0m\n\u001b[0m",
            "\u001b[0;32m/usr/local/lib/python3.7/dist-packages/pandas/core/indexing.py\u001b[0m in \u001b[0;36m__getitem__\u001b[0;34m(self, key)\u001b[0m\n\u001b[1;32m    871\u001b[0m                     \u001b[0;31m# AttributeError for IntervalTree get_value\u001b[0m\u001b[0;34m\u001b[0m\u001b[0;34m\u001b[0m\u001b[0;34m\u001b[0m\u001b[0m\n\u001b[1;32m    872\u001b[0m                     \u001b[0;32mpass\u001b[0m\u001b[0;34m\u001b[0m\u001b[0;34m\u001b[0m\u001b[0m\n\u001b[0;32m--> 873\u001b[0;31m             \u001b[0;32mreturn\u001b[0m \u001b[0mself\u001b[0m\u001b[0;34m.\u001b[0m\u001b[0m_getitem_tuple\u001b[0m\u001b[0;34m(\u001b[0m\u001b[0mkey\u001b[0m\u001b[0;34m)\u001b[0m\u001b[0;34m\u001b[0m\u001b[0;34m\u001b[0m\u001b[0m\n\u001b[0m\u001b[1;32m    874\u001b[0m         \u001b[0;32melse\u001b[0m\u001b[0;34m:\u001b[0m\u001b[0;34m\u001b[0m\u001b[0;34m\u001b[0m\u001b[0m\n\u001b[1;32m    875\u001b[0m             \u001b[0;31m# we by definition only have the 0th axis\u001b[0m\u001b[0;34m\u001b[0m\u001b[0;34m\u001b[0m\u001b[0;34m\u001b[0m\u001b[0m\n",
            "\u001b[0;32m/usr/local/lib/python3.7/dist-packages/pandas/core/indexing.py\u001b[0m in \u001b[0;36m_getitem_tuple\u001b[0;34m(self, tup)\u001b[0m\n\u001b[1;32m   1053\u001b[0m             \u001b[0;32mreturn\u001b[0m \u001b[0mself\u001b[0m\u001b[0;34m.\u001b[0m\u001b[0m_multi_take\u001b[0m\u001b[0;34m(\u001b[0m\u001b[0mtup\u001b[0m\u001b[0;34m)\u001b[0m\u001b[0;34m\u001b[0m\u001b[0;34m\u001b[0m\u001b[0m\n\u001b[1;32m   1054\u001b[0m \u001b[0;34m\u001b[0m\u001b[0m\n\u001b[0;32m-> 1055\u001b[0;31m         \u001b[0;32mreturn\u001b[0m \u001b[0mself\u001b[0m\u001b[0;34m.\u001b[0m\u001b[0m_getitem_tuple_same_dim\u001b[0m\u001b[0;34m(\u001b[0m\u001b[0mtup\u001b[0m\u001b[0;34m)\u001b[0m\u001b[0;34m\u001b[0m\u001b[0;34m\u001b[0m\u001b[0m\n\u001b[0m\u001b[1;32m   1056\u001b[0m \u001b[0;34m\u001b[0m\u001b[0m\n\u001b[1;32m   1057\u001b[0m     \u001b[0;32mdef\u001b[0m \u001b[0m_get_label\u001b[0m\u001b[0;34m(\u001b[0m\u001b[0mself\u001b[0m\u001b[0;34m,\u001b[0m \u001b[0mlabel\u001b[0m\u001b[0;34m,\u001b[0m \u001b[0maxis\u001b[0m\u001b[0;34m:\u001b[0m \u001b[0mint\u001b[0m\u001b[0;34m)\u001b[0m\u001b[0;34m:\u001b[0m\u001b[0;34m\u001b[0m\u001b[0;34m\u001b[0m\u001b[0m\n",
            "\u001b[0;32m/usr/local/lib/python3.7/dist-packages/pandas/core/indexing.py\u001b[0m in \u001b[0;36m_getitem_tuple_same_dim\u001b[0;34m(self, tup)\u001b[0m\n\u001b[1;32m    748\u001b[0m                 \u001b[0;32mcontinue\u001b[0m\u001b[0;34m\u001b[0m\u001b[0;34m\u001b[0m\u001b[0m\n\u001b[1;32m    749\u001b[0m \u001b[0;34m\u001b[0m\u001b[0m\n\u001b[0;32m--> 750\u001b[0;31m             \u001b[0mretval\u001b[0m \u001b[0;34m=\u001b[0m \u001b[0mgetattr\u001b[0m\u001b[0;34m(\u001b[0m\u001b[0mretval\u001b[0m\u001b[0;34m,\u001b[0m \u001b[0mself\u001b[0m\u001b[0;34m.\u001b[0m\u001b[0mname\u001b[0m\u001b[0;34m)\u001b[0m\u001b[0;34m.\u001b[0m\u001b[0m_getitem_axis\u001b[0m\u001b[0;34m(\u001b[0m\u001b[0mkey\u001b[0m\u001b[0;34m,\u001b[0m \u001b[0maxis\u001b[0m\u001b[0;34m=\u001b[0m\u001b[0mi\u001b[0m\u001b[0;34m)\u001b[0m\u001b[0;34m\u001b[0m\u001b[0;34m\u001b[0m\u001b[0m\n\u001b[0m\u001b[1;32m    751\u001b[0m             \u001b[0;31m# We should never have retval.ndim < self.ndim, as that should\u001b[0m\u001b[0;34m\u001b[0m\u001b[0;34m\u001b[0m\u001b[0;34m\u001b[0m\u001b[0m\n\u001b[1;32m    752\u001b[0m             \u001b[0;31m#  be handled by the _getitem_lowerdim call above.\u001b[0m\u001b[0;34m\u001b[0m\u001b[0;34m\u001b[0m\u001b[0;34m\u001b[0m\u001b[0m\n",
            "\u001b[0;32m/usr/local/lib/python3.7/dist-packages/pandas/core/indexing.py\u001b[0m in \u001b[0;36m_getitem_axis\u001b[0;34m(self, key, axis)\u001b[0m\n\u001b[1;32m   1088\u001b[0m             \u001b[0;32mreturn\u001b[0m \u001b[0mself\u001b[0m\u001b[0;34m.\u001b[0m\u001b[0m_get_slice_axis\u001b[0m\u001b[0;34m(\u001b[0m\u001b[0mkey\u001b[0m\u001b[0;34m,\u001b[0m \u001b[0maxis\u001b[0m\u001b[0;34m=\u001b[0m\u001b[0maxis\u001b[0m\u001b[0;34m)\u001b[0m\u001b[0;34m\u001b[0m\u001b[0;34m\u001b[0m\u001b[0m\n\u001b[1;32m   1089\u001b[0m         \u001b[0;32melif\u001b[0m \u001b[0mcom\u001b[0m\u001b[0;34m.\u001b[0m\u001b[0mis_bool_indexer\u001b[0m\u001b[0;34m(\u001b[0m\u001b[0mkey\u001b[0m\u001b[0;34m)\u001b[0m\u001b[0;34m:\u001b[0m\u001b[0;34m\u001b[0m\u001b[0;34m\u001b[0m\u001b[0m\n\u001b[0;32m-> 1090\u001b[0;31m             \u001b[0;32mreturn\u001b[0m \u001b[0mself\u001b[0m\u001b[0;34m.\u001b[0m\u001b[0m_getbool_axis\u001b[0m\u001b[0;34m(\u001b[0m\u001b[0mkey\u001b[0m\u001b[0;34m,\u001b[0m \u001b[0maxis\u001b[0m\u001b[0;34m=\u001b[0m\u001b[0maxis\u001b[0m\u001b[0;34m)\u001b[0m\u001b[0;34m\u001b[0m\u001b[0;34m\u001b[0m\u001b[0m\n\u001b[0m\u001b[1;32m   1091\u001b[0m         \u001b[0;32melif\u001b[0m \u001b[0mis_list_like_indexer\u001b[0m\u001b[0;34m(\u001b[0m\u001b[0mkey\u001b[0m\u001b[0;34m)\u001b[0m\u001b[0;34m:\u001b[0m\u001b[0;34m\u001b[0m\u001b[0;34m\u001b[0m\u001b[0m\n\u001b[1;32m   1092\u001b[0m \u001b[0;34m\u001b[0m\u001b[0m\n",
            "\u001b[0;32m/usr/local/lib/python3.7/dist-packages/pandas/core/indexing.py\u001b[0m in \u001b[0;36m_getbool_axis\u001b[0;34m(self, key, axis)\u001b[0m\n\u001b[1;32m    894\u001b[0m         \u001b[0;31m# caller is responsible for ensuring non-None axis\u001b[0m\u001b[0;34m\u001b[0m\u001b[0;34m\u001b[0m\u001b[0;34m\u001b[0m\u001b[0m\n\u001b[1;32m    895\u001b[0m         \u001b[0mlabels\u001b[0m \u001b[0;34m=\u001b[0m \u001b[0mself\u001b[0m\u001b[0;34m.\u001b[0m\u001b[0mobj\u001b[0m\u001b[0;34m.\u001b[0m\u001b[0m_get_axis\u001b[0m\u001b[0;34m(\u001b[0m\u001b[0maxis\u001b[0m\u001b[0;34m)\u001b[0m\u001b[0;34m\u001b[0m\u001b[0;34m\u001b[0m\u001b[0m\n\u001b[0;32m--> 896\u001b[0;31m         \u001b[0mkey\u001b[0m \u001b[0;34m=\u001b[0m \u001b[0mcheck_bool_indexer\u001b[0m\u001b[0;34m(\u001b[0m\u001b[0mlabels\u001b[0m\u001b[0;34m,\u001b[0m \u001b[0mkey\u001b[0m\u001b[0;34m)\u001b[0m\u001b[0;34m\u001b[0m\u001b[0;34m\u001b[0m\u001b[0m\n\u001b[0m\u001b[1;32m    897\u001b[0m         \u001b[0minds\u001b[0m \u001b[0;34m=\u001b[0m \u001b[0mkey\u001b[0m\u001b[0;34m.\u001b[0m\u001b[0mnonzero\u001b[0m\u001b[0;34m(\u001b[0m\u001b[0;34m)\u001b[0m\u001b[0;34m[\u001b[0m\u001b[0;36m0\u001b[0m\u001b[0;34m]\u001b[0m\u001b[0;34m\u001b[0m\u001b[0;34m\u001b[0m\u001b[0m\n\u001b[1;32m    898\u001b[0m         \u001b[0;32mreturn\u001b[0m \u001b[0mself\u001b[0m\u001b[0;34m.\u001b[0m\u001b[0mobj\u001b[0m\u001b[0;34m.\u001b[0m\u001b[0m_take_with_is_copy\u001b[0m\u001b[0;34m(\u001b[0m\u001b[0minds\u001b[0m\u001b[0;34m,\u001b[0m \u001b[0maxis\u001b[0m\u001b[0;34m=\u001b[0m\u001b[0maxis\u001b[0m\u001b[0;34m)\u001b[0m\u001b[0;34m\u001b[0m\u001b[0;34m\u001b[0m\u001b[0m\n",
            "\u001b[0;32m/usr/local/lib/python3.7/dist-packages/pandas/core/indexing.py\u001b[0m in \u001b[0;36mcheck_bool_indexer\u001b[0;34m(index, key)\u001b[0m\n\u001b[1;32m   2192\u001b[0m         \u001b[0;31m# GH 33924\u001b[0m\u001b[0;34m\u001b[0m\u001b[0;34m\u001b[0m\u001b[0;34m\u001b[0m\u001b[0m\n\u001b[1;32m   2193\u001b[0m         \u001b[0;31m# key may contain nan elements, check_array_indexer needs bool array\u001b[0m\u001b[0;34m\u001b[0m\u001b[0;34m\u001b[0m\u001b[0;34m\u001b[0m\u001b[0m\n\u001b[0;32m-> 2194\u001b[0;31m         \u001b[0mresult\u001b[0m \u001b[0;34m=\u001b[0m \u001b[0mpd_array\u001b[0m\u001b[0;34m(\u001b[0m\u001b[0mresult\u001b[0m\u001b[0;34m,\u001b[0m \u001b[0mdtype\u001b[0m\u001b[0;34m=\u001b[0m\u001b[0mbool\u001b[0m\u001b[0;34m)\u001b[0m\u001b[0;34m\u001b[0m\u001b[0;34m\u001b[0m\u001b[0m\n\u001b[0m\u001b[1;32m   2195\u001b[0m     \u001b[0;32mreturn\u001b[0m \u001b[0mcheck_array_indexer\u001b[0m\u001b[0;34m(\u001b[0m\u001b[0mindex\u001b[0m\u001b[0;34m,\u001b[0m \u001b[0mresult\u001b[0m\u001b[0;34m)\u001b[0m\u001b[0;34m\u001b[0m\u001b[0;34m\u001b[0m\u001b[0m\n\u001b[1;32m   2196\u001b[0m \u001b[0;34m\u001b[0m\u001b[0m\n",
            "\u001b[0;32m/usr/local/lib/python3.7/dist-packages/pandas/core/construction.py\u001b[0m in \u001b[0;36marray\u001b[0;34m(data, dtype, copy)\u001b[0m\n\u001b[1;32m    333\u001b[0m         \u001b[0;32mreturn\u001b[0m \u001b[0mTimedeltaArray\u001b[0m\u001b[0;34m.\u001b[0m\u001b[0m_from_sequence\u001b[0m\u001b[0;34m(\u001b[0m\u001b[0mdata\u001b[0m\u001b[0;34m,\u001b[0m \u001b[0mdtype\u001b[0m\u001b[0;34m=\u001b[0m\u001b[0mdtype\u001b[0m\u001b[0;34m,\u001b[0m \u001b[0mcopy\u001b[0m\u001b[0;34m=\u001b[0m\u001b[0mcopy\u001b[0m\u001b[0;34m)\u001b[0m\u001b[0;34m\u001b[0m\u001b[0;34m\u001b[0m\u001b[0m\n\u001b[1;32m    334\u001b[0m \u001b[0;34m\u001b[0m\u001b[0m\n\u001b[0;32m--> 335\u001b[0;31m     \u001b[0mresult\u001b[0m \u001b[0;34m=\u001b[0m \u001b[0mPandasArray\u001b[0m\u001b[0;34m.\u001b[0m\u001b[0m_from_sequence\u001b[0m\u001b[0;34m(\u001b[0m\u001b[0mdata\u001b[0m\u001b[0;34m,\u001b[0m \u001b[0mdtype\u001b[0m\u001b[0;34m=\u001b[0m\u001b[0mdtype\u001b[0m\u001b[0;34m,\u001b[0m \u001b[0mcopy\u001b[0m\u001b[0;34m=\u001b[0m\u001b[0mcopy\u001b[0m\u001b[0;34m)\u001b[0m\u001b[0;34m\u001b[0m\u001b[0;34m\u001b[0m\u001b[0m\n\u001b[0m\u001b[1;32m    336\u001b[0m     \u001b[0;32mreturn\u001b[0m \u001b[0mresult\u001b[0m\u001b[0;34m\u001b[0m\u001b[0;34m\u001b[0m\u001b[0m\n\u001b[1;32m    337\u001b[0m \u001b[0;34m\u001b[0m\u001b[0m\n",
            "\u001b[0;32m/usr/local/lib/python3.7/dist-packages/pandas/core/arrays/numpy_.py\u001b[0m in \u001b[0;36m_from_sequence\u001b[0;34m(cls, scalars, dtype, copy)\u001b[0m\n\u001b[1;32m    185\u001b[0m         \u001b[0;32mif\u001b[0m \u001b[0mcopy\u001b[0m \u001b[0;32mand\u001b[0m \u001b[0mresult\u001b[0m \u001b[0;32mis\u001b[0m \u001b[0mscalars\u001b[0m\u001b[0;34m:\u001b[0m\u001b[0;34m\u001b[0m\u001b[0;34m\u001b[0m\u001b[0m\n\u001b[1;32m    186\u001b[0m             \u001b[0mresult\u001b[0m \u001b[0;34m=\u001b[0m \u001b[0mresult\u001b[0m\u001b[0;34m.\u001b[0m\u001b[0mcopy\u001b[0m\u001b[0;34m(\u001b[0m\u001b[0;34m)\u001b[0m\u001b[0;34m\u001b[0m\u001b[0;34m\u001b[0m\u001b[0m\n\u001b[0;32m--> 187\u001b[0;31m         \u001b[0;32mreturn\u001b[0m \u001b[0mcls\u001b[0m\u001b[0;34m(\u001b[0m\u001b[0mresult\u001b[0m\u001b[0;34m)\u001b[0m\u001b[0;34m\u001b[0m\u001b[0;34m\u001b[0m\u001b[0m\n\u001b[0m\u001b[1;32m    188\u001b[0m \u001b[0;34m\u001b[0m\u001b[0m\n\u001b[1;32m    189\u001b[0m     \u001b[0;34m@\u001b[0m\u001b[0mclassmethod\u001b[0m\u001b[0;34m\u001b[0m\u001b[0;34m\u001b[0m\u001b[0m\n",
            "\u001b[0;32m/usr/local/lib/python3.7/dist-packages/pandas/core/arrays/numpy_.py\u001b[0m in \u001b[0;36m__init__\u001b[0;34m(self, values, copy)\u001b[0m\n\u001b[1;32m    169\u001b[0m \u001b[0;34m\u001b[0m\u001b[0m\n\u001b[1;32m    170\u001b[0m         \u001b[0;32mif\u001b[0m \u001b[0mvalues\u001b[0m\u001b[0;34m.\u001b[0m\u001b[0mndim\u001b[0m \u001b[0;34m!=\u001b[0m \u001b[0;36m1\u001b[0m\u001b[0;34m:\u001b[0m\u001b[0;34m\u001b[0m\u001b[0;34m\u001b[0m\u001b[0m\n\u001b[0;32m--> 171\u001b[0;31m             \u001b[0;32mraise\u001b[0m \u001b[0mValueError\u001b[0m\u001b[0;34m(\u001b[0m\u001b[0;34m\"PandasArray must be 1-dimensional.\"\u001b[0m\u001b[0;34m)\u001b[0m\u001b[0;34m\u001b[0m\u001b[0;34m\u001b[0m\u001b[0m\n\u001b[0m\u001b[1;32m    172\u001b[0m \u001b[0;34m\u001b[0m\u001b[0m\n\u001b[1;32m    173\u001b[0m         \u001b[0;32mif\u001b[0m \u001b[0mcopy\u001b[0m\u001b[0;34m:\u001b[0m\u001b[0;34m\u001b[0m\u001b[0;34m\u001b[0m\u001b[0m\n",
            "\u001b[0;31mValueError\u001b[0m: PandasArray must be 1-dimensional."
          ]
        }
      ]
    },
    {
      "cell_type": "code",
      "metadata": {
        "id": "wyoyKUZErnbJ",
        "colab": {
          "base_uri": "https://localhost:8080/",
          "height": 384
        },
        "outputId": "836fc003-38ca-469c-d0f0-c4e43a94f64a"
      },
      "source": [
        "#Regression Plot\n",
        "r_plot = sns.relplot(x='previous_opens', y= 'was_opened', data=df_clean)\n"
      ],
      "execution_count": null,
      "outputs": [
        {
          "output_type": "display_data",
          "data": {
            "image/png": "[encoded data removed]",
            "text/plain": [
              "<Figure size 360x360 with 1 Axes>"
            ]
          },
          "metadata": {
            "tags": [],
            "needs_background": "light"
          }
        }
      ]
    },
    {
      "cell_type": "code",
      "metadata": {
        "id": "1zJ5qKRvrrNT"
      },
      "source": [
        "#Select all rows with any null\n",
        "df_any_null = df_clean[pd.isnull(df_clean).any(axis=1)]\n",
        "df_any_null"
      ],
      "execution_count": null,
      "outputs": []
    },
    {
      "cell_type": "code",
      "metadata": {
        "id": "ttI_J1xcQuAC"
      },
      "source": [
        "#Bad ones we should eliminate from 'previous_opens'\n",
        "print(df_clean[pd.to_numeric(df_clean.previous_opens, errors='coerce').isnull()])"
      ],
      "execution_count": null,
      "outputs": []
    },
    {
      "cell_type": "code",
      "metadata": {
        "colab": {
          "base_uri": "https://localhost:8080/",
          "height": 265
        },
        "id": "dS_pz2Egfjme",
        "outputId": "e9b56ac7-31de-4c9f-dfaf-dbea65f72b85"
      },
      "source": [
        "df_clean['was_opened'].hist()\n",
        "plt.show()"
      ],
      "execution_count": null,
      "outputs": [
        {
          "output_type": "display_data",
          "data": {
            "image/png": "[encoded data removed]",
            "text/plain": [
              "<Figure size 432x288 with 1 Axes>"
            ]
          },
          "metadata": {
            "tags": [],
            "needs_background": "light"
          }
        }
      ]
    },
    {
      "cell_type": "code",
      "metadata": {
        "colab": {
          "base_uri": "https://localhost:8080/",
          "height": 297
        },
        "id": "lRuJPOKfeUek",
        "outputId": "ac439bb2-4d04-412c-c1db-b8821bf78c0e"
      },
      "source": [
        "sns.countplot(y='previous_opens', data=df)"
      ],
      "execution_count": null,
      "outputs": [
        {
          "output_type": "execute_result",
          "data": {
            "text/plain": [
              "<matplotlib.axes._subplots.AxesSubplot at 0x7f7cec2aeb50>"
            ]
          },
          "metadata": {
            "tags": []
          },
          "execution_count": 32
        },
        {
          "output_type": "display_data",
          "data": {
            "image/png": "[encoded data removed]",
            "text/plain": [
              "<Figure size 432x288 with 1 Axes>"
            ]
          },
          "metadata": {
            "tags": [],
            "needs_background": "light"
          }
        }
      ]
    },
    {
      "cell_type": "markdown",
      "metadata": {
        "id": "2Jg9ocM9dPQu"
      },
      "source": [
        "**Step 4: Select Feature**  *Phase 2*\n",
        "* Requirement: At least one of the two features selected must relate to the email address.\n",
        "* Clean 'Email' column  noting instance of 'spam' to develop 2nd feature"
      ]
    },
    {
      "cell_type": "markdown",
      "metadata": {
        "id": "tf6XJ_Z-j6m1"
      },
      "source": [
        "If domain contains spam.com, then bad record, won't likely open, so can be used to detect.\n"
      ]
    },
    {
      "cell_type": "code",
      "metadata": {
        "colab": {
          "base_uri": "https://localhost:8080/"
        },
        "id": "ZgoF4dLFdiOM",
        "outputId": "864d7f00-baa8-4494-ba01-8cc53cc92b3d"
      },
      "source": [
        "#Select 'email' as feature and review 'spam' string\n",
        "df_clean['email']"
      ],
      "execution_count": null,
      "outputs": [
        {
          "output_type": "execute_result",
          "data": {
            "text/plain": [
              "0            22200@robots.com\n",
              "1         6980@realpeople.com\n",
              "2              88430@spam.com\n",
              "3            31472@robots.com\n",
              "4            29063@robots.com\n",
              "                 ...         \n",
              "97965    23113@realpeople.com\n",
              "97966    55158@realpeople.com\n",
              "97967          82197@spam.com\n",
              "97968          79325@spam.com\n",
              "97969    70054@realpeople.com\n",
              "Name: email, Length: 97970, dtype: object"
            ]
          },
          "metadata": {
            "tags": []
          },
          "execution_count": 33
        }
      ]
    },
    {
      "cell_type": "code",
      "metadata": {
        "colab": {
          "base_uri": "https://localhost:8080/",
          "height": 215
        },
        "id": "5XgszlRfVOfM",
        "outputId": "86930e76-2cee-4e56-b663-7e7e84000b80"
      },
      "source": [
        "#Suggested: df['domain'] = df['email'].str.split('@').str[1]\n",
        "#df = pd.DataFrame(df.col) \n",
        "df_clean['domain'] = df_clean['email'].str.split(\"@\")[1].split(\".\")[0] \n",
        "print(df_clean)"
      ],
      "execution_count": null,
      "outputs": [
        {
          "output_type": "error",
          "ename": "AttributeError",
          "evalue": "ignored",
          "traceback": [
            "\u001b[0;31m---------------------------------------------------------------------------\u001b[0m",
            "\u001b[0;31mAttributeError\u001b[0m                            Traceback (most recent call last)",
            "\u001b[0;32m<ipython-input-34-378277e7bffa>\u001b[0m in \u001b[0;36m<module>\u001b[0;34m()\u001b[0m\n\u001b[1;32m      1\u001b[0m \u001b[0;31m#Suggested: df['domain'] = df['email'].str.split('@').str[1]\u001b[0m\u001b[0;34m\u001b[0m\u001b[0;34m\u001b[0m\u001b[0;34m\u001b[0m\u001b[0m\n\u001b[1;32m      2\u001b[0m \u001b[0;31m#df = pd.DataFrame(df.col)\u001b[0m\u001b[0;34m\u001b[0m\u001b[0;34m\u001b[0m\u001b[0;34m\u001b[0m\u001b[0m\n\u001b[0;32m----> 3\u001b[0;31m \u001b[0mdf_clean\u001b[0m\u001b[0;34m[\u001b[0m\u001b[0;34m'domain'\u001b[0m\u001b[0;34m]\u001b[0m \u001b[0;34m=\u001b[0m \u001b[0mdf_clean\u001b[0m\u001b[0;34m[\u001b[0m\u001b[0;34m'email'\u001b[0m\u001b[0;34m]\u001b[0m\u001b[0;34m.\u001b[0m\u001b[0mstr\u001b[0m\u001b[0;34m.\u001b[0m\u001b[0msplit\u001b[0m\u001b[0;34m(\u001b[0m\u001b[0;34m\"@\"\u001b[0m\u001b[0;34m)\u001b[0m\u001b[0;34m[\u001b[0m\u001b[0;36m1\u001b[0m\u001b[0;34m]\u001b[0m\u001b[0;34m.\u001b[0m\u001b[0msplit\u001b[0m\u001b[0;34m(\u001b[0m\u001b[0;34m\".\"\u001b[0m\u001b[0;34m)\u001b[0m\u001b[0;34m[\u001b[0m\u001b[0;36m0\u001b[0m\u001b[0;34m]\u001b[0m\u001b[0;34m\u001b[0m\u001b[0;34m\u001b[0m\u001b[0m\n\u001b[0m\u001b[1;32m      4\u001b[0m \u001b[0mprint\u001b[0m\u001b[0;34m(\u001b[0m\u001b[0mdf_clean\u001b[0m\u001b[0;34m)\u001b[0m\u001b[0;34m\u001b[0m\u001b[0;34m\u001b[0m\u001b[0m\n",
            "\u001b[0;31mAttributeError\u001b[0m: 'list' object has no attribute 'split'"
          ]
        }
      ]
    },
    {
      "cell_type": "code",
      "metadata": {
        "colab": {
          "base_uri": "https://localhost:8080/",
          "height": 232
        },
        "id": "-09-DyCOS5LZ",
        "outputId": "136dc9bd-2995-443f-ca9f-38cbbc60b9b9"
      },
      "source": [
        "#Contains spam in domain to retrieve those specific records\n",
        "## From: df['domain'] = df['email'].str.split('@').str[1]\n",
        "df_clean[['domain']] = pd.DataFrame['email']({'email':['spam']})"
      ],
      "execution_count": null,
      "outputs": [
        {
          "output_type": "error",
          "ename": "TypeError",
          "evalue": "ignored",
          "traceback": [
            "\u001b[0;31m---------------------------------------------------------------------------\u001b[0m",
            "\u001b[0;31mTypeError\u001b[0m                                 Traceback (most recent call last)",
            "\u001b[0;32m<ipython-input-37-1cf2c56484e4>\u001b[0m in \u001b[0;36m<module>\u001b[0;34m()\u001b[0m\n\u001b[1;32m      1\u001b[0m \u001b[0;31m#Contains spam in domain to retrieve those specific records\u001b[0m\u001b[0;34m\u001b[0m\u001b[0;34m\u001b[0m\u001b[0;34m\u001b[0m\u001b[0m\n\u001b[1;32m      2\u001b[0m \u001b[0;31m## From: df['domain'] = df['email'].str.split('@').str[1]\u001b[0m\u001b[0;34m\u001b[0m\u001b[0;34m\u001b[0m\u001b[0;34m\u001b[0m\u001b[0m\n\u001b[0;32m----> 3\u001b[0;31m \u001b[0mdf_clean\u001b[0m\u001b[0;34m[\u001b[0m\u001b[0;34m[\u001b[0m\u001b[0;34m'domain'\u001b[0m\u001b[0;34m]\u001b[0m\u001b[0;34m]\u001b[0m \u001b[0;34m=\u001b[0m \u001b[0mpd\u001b[0m\u001b[0;34m.\u001b[0m\u001b[0mDataFrame\u001b[0m\u001b[0;34m[\u001b[0m\u001b[0;34m'email'\u001b[0m\u001b[0;34m]\u001b[0m\u001b[0;34m(\u001b[0m\u001b[0;34m{\u001b[0m\u001b[0;34m'email'\u001b[0m\u001b[0;34m:\u001b[0m\u001b[0;34m[\u001b[0m\u001b[0;34m'spam'\u001b[0m\u001b[0;34m]\u001b[0m\u001b[0;34m}\u001b[0m\u001b[0;34m)\u001b[0m\u001b[0;34m\u001b[0m\u001b[0;34m\u001b[0m\u001b[0m\n\u001b[0m\u001b[1;32m      4\u001b[0m \u001b[0;34m\u001b[0m\u001b[0m\n\u001b[1;32m      5\u001b[0m \u001b[0;34m\u001b[0m\u001b[0m\n",
            "\u001b[0;31mTypeError\u001b[0m: 'type' object is not subscriptable"
          ]
        }
      ]
    },
    {
      "cell_type": "code",
      "metadata": {
        "colab": {
          "base_uri": "https://localhost:8080/",
          "height": 164
        },
        "id": "vqQREPdV-536",
        "outputId": "bb2df6d1-7b3c-4c24-c5af-a6d8aad2dd45"
      },
      "source": [
        "df_clean[['domain']] = df_clean['email'].str.split(\"@\")[1].split(\".\")[0]"
      ],
      "execution_count": null,
      "outputs": [
        {
          "output_type": "error",
          "ename": "AttributeError",
          "evalue": "ignored",
          "traceback": [
            "\u001b[0;31m---------------------------------------------------------------------------\u001b[0m",
            "\u001b[0;31mAttributeError\u001b[0m                            Traceback (most recent call last)",
            "\u001b[0;32m<ipython-input-38-7bc81d5f7ea6>\u001b[0m in \u001b[0;36m<module>\u001b[0;34m()\u001b[0m\n\u001b[0;32m----> 1\u001b[0;31m \u001b[0mdf_clean\u001b[0m\u001b[0;34m[\u001b[0m\u001b[0;34m[\u001b[0m\u001b[0;34m'domain'\u001b[0m\u001b[0;34m]\u001b[0m\u001b[0;34m]\u001b[0m \u001b[0;34m=\u001b[0m \u001b[0mdf_clean\u001b[0m\u001b[0;34m[\u001b[0m\u001b[0;34m'email'\u001b[0m\u001b[0;34m]\u001b[0m\u001b[0;34m.\u001b[0m\u001b[0mstr\u001b[0m\u001b[0;34m.\u001b[0m\u001b[0msplit\u001b[0m\u001b[0;34m(\u001b[0m\u001b[0;34m\"@\"\u001b[0m\u001b[0;34m)\u001b[0m\u001b[0;34m[\u001b[0m\u001b[0;36m1\u001b[0m\u001b[0;34m]\u001b[0m\u001b[0;34m.\u001b[0m\u001b[0msplit\u001b[0m\u001b[0;34m(\u001b[0m\u001b[0;34m\".\"\u001b[0m\u001b[0;34m)\u001b[0m\u001b[0;34m[\u001b[0m\u001b[0;36m0\u001b[0m\u001b[0;34m]\u001b[0m\u001b[0;34m\u001b[0m\u001b[0;34m\u001b[0m\u001b[0m\n\u001b[0m",
            "\u001b[0;31mAttributeError\u001b[0m: 'list' object has no attribute 'split'"
          ]
        }
      ]
    },
    {
      "cell_type": "code",
      "metadata": {
        "colab": {
          "base_uri": "https://localhost:8080/",
          "height": 409
        },
        "id": "BFG8FbwMxMfp",
        "outputId": "8220f0b3-6bd3-443f-b190-cbe20a02113a"
      },
      "source": [
        "#Add feature_2 Contains spam in domain\n",
        "df_clean['feature_2'] = df_clean[df_clean.email.str.count('spam')]\n",
        "df_clean['feature_2']"
      ],
      "execution_count": null,
      "outputs": [
        {
          "output_type": "error",
          "ename": "KeyError",
          "evalue": "ignored",
          "traceback": [
            "\u001b[0;31m---------------------------------------------------------------------------\u001b[0m",
            "\u001b[0;31mKeyError\u001b[0m                                  Traceback (most recent call last)",
            "\u001b[0;32m<ipython-input-39-df7c7dcd0438>\u001b[0m in \u001b[0;36m<module>\u001b[0;34m()\u001b[0m\n\u001b[1;32m      1\u001b[0m \u001b[0;31m#Add feature_2 Contains spam in domain\u001b[0m\u001b[0;34m\u001b[0m\u001b[0;34m\u001b[0m\u001b[0;34m\u001b[0m\u001b[0m\n\u001b[0;32m----> 2\u001b[0;31m \u001b[0mdf_clean\u001b[0m\u001b[0;34m[\u001b[0m\u001b[0;34m'feature_2'\u001b[0m\u001b[0;34m]\u001b[0m \u001b[0;34m=\u001b[0m \u001b[0mdf_clean\u001b[0m\u001b[0;34m[\u001b[0m\u001b[0mdf_clean\u001b[0m\u001b[0;34m.\u001b[0m\u001b[0memail\u001b[0m\u001b[0;34m.\u001b[0m\u001b[0mstr\u001b[0m\u001b[0;34m.\u001b[0m\u001b[0mcount\u001b[0m\u001b[0;34m(\u001b[0m\u001b[0;34m'spam'\u001b[0m\u001b[0;34m)\u001b[0m\u001b[0;34m]\u001b[0m\u001b[0;34m\u001b[0m\u001b[0;34m\u001b[0m\u001b[0m\n\u001b[0m\u001b[1;32m      3\u001b[0m \u001b[0mdf_clean\u001b[0m\u001b[0;34m[\u001b[0m\u001b[0;34m'feature_2'\u001b[0m\u001b[0;34m]\u001b[0m\u001b[0;34m\u001b[0m\u001b[0;34m\u001b[0m\u001b[0m\n",
            "\u001b[0;32m/usr/local/lib/python3.7/dist-packages/pandas/core/frame.py\u001b[0m in \u001b[0;36m__getitem__\u001b[0;34m(self, key)\u001b[0m\n\u001b[1;32m   2910\u001b[0m             \u001b[0;32mif\u001b[0m \u001b[0mis_iterator\u001b[0m\u001b[0;34m(\u001b[0m\u001b[0mkey\u001b[0m\u001b[0;34m)\u001b[0m\u001b[0;34m:\u001b[0m\u001b[0;34m\u001b[0m\u001b[0;34m\u001b[0m\u001b[0m\n\u001b[1;32m   2911\u001b[0m                 \u001b[0mkey\u001b[0m \u001b[0;34m=\u001b[0m \u001b[0mlist\u001b[0m\u001b[0;34m(\u001b[0m\u001b[0mkey\u001b[0m\u001b[0;34m)\u001b[0m\u001b[0;34m\u001b[0m\u001b[0;34m\u001b[0m\u001b[0m\n\u001b[0;32m-> 2912\u001b[0;31m             \u001b[0mindexer\u001b[0m \u001b[0;34m=\u001b[0m \u001b[0mself\u001b[0m\u001b[0;34m.\u001b[0m\u001b[0mloc\u001b[0m\u001b[0;34m.\u001b[0m\u001b[0m_get_listlike_indexer\u001b[0m\u001b[0;34m(\u001b[0m\u001b[0mkey\u001b[0m\u001b[0;34m,\u001b[0m \u001b[0maxis\u001b[0m\u001b[0;34m=\u001b[0m\u001b[0;36m1\u001b[0m\u001b[0;34m,\u001b[0m \u001b[0mraise_missing\u001b[0m\u001b[0;34m=\u001b[0m\u001b[0;32mTrue\u001b[0m\u001b[0;34m)\u001b[0m\u001b[0;34m[\u001b[0m\u001b[0;36m1\u001b[0m\u001b[0;34m]\u001b[0m\u001b[0;34m\u001b[0m\u001b[0;34m\u001b[0m\u001b[0m\n\u001b[0m\u001b[1;32m   2913\u001b[0m \u001b[0;34m\u001b[0m\u001b[0m\n\u001b[1;32m   2914\u001b[0m         \u001b[0;31m# take() does not accept boolean indexers\u001b[0m\u001b[0;34m\u001b[0m\u001b[0;34m\u001b[0m\u001b[0;34m\u001b[0m\u001b[0m\n",
            "\u001b[0;32m/usr/local/lib/python3.7/dist-packages/pandas/core/indexing.py\u001b[0m in \u001b[0;36m_get_listlike_indexer\u001b[0;34m(self, key, axis, raise_missing)\u001b[0m\n\u001b[1;32m   1252\u001b[0m             \u001b[0mkeyarr\u001b[0m\u001b[0;34m,\u001b[0m \u001b[0mindexer\u001b[0m\u001b[0;34m,\u001b[0m \u001b[0mnew_indexer\u001b[0m \u001b[0;34m=\u001b[0m \u001b[0max\u001b[0m\u001b[0;34m.\u001b[0m\u001b[0m_reindex_non_unique\u001b[0m\u001b[0;34m(\u001b[0m\u001b[0mkeyarr\u001b[0m\u001b[0;34m)\u001b[0m\u001b[0;34m\u001b[0m\u001b[0;34m\u001b[0m\u001b[0m\n\u001b[1;32m   1253\u001b[0m \u001b[0;34m\u001b[0m\u001b[0m\n\u001b[0;32m-> 1254\u001b[0;31m         \u001b[0mself\u001b[0m\u001b[0;34m.\u001b[0m\u001b[0m_validate_read_indexer\u001b[0m\u001b[0;34m(\u001b[0m\u001b[0mkeyarr\u001b[0m\u001b[0;34m,\u001b[0m \u001b[0mindexer\u001b[0m\u001b[0;34m,\u001b[0m \u001b[0maxis\u001b[0m\u001b[0;34m,\u001b[0m \u001b[0mraise_missing\u001b[0m\u001b[0;34m=\u001b[0m\u001b[0mraise_missing\u001b[0m\u001b[0;34m)\u001b[0m\u001b[0;34m\u001b[0m\u001b[0;34m\u001b[0m\u001b[0m\n\u001b[0m\u001b[1;32m   1255\u001b[0m         \u001b[0;32mreturn\u001b[0m \u001b[0mkeyarr\u001b[0m\u001b[0;34m,\u001b[0m \u001b[0mindexer\u001b[0m\u001b[0;34m\u001b[0m\u001b[0;34m\u001b[0m\u001b[0m\n\u001b[1;32m   1256\u001b[0m \u001b[0;34m\u001b[0m\u001b[0m\n",
            "\u001b[0;32m/usr/local/lib/python3.7/dist-packages/pandas/core/indexing.py\u001b[0m in \u001b[0;36m_validate_read_indexer\u001b[0;34m(self, key, indexer, axis, raise_missing)\u001b[0m\n\u001b[1;32m   1296\u001b[0m             \u001b[0;32mif\u001b[0m \u001b[0mmissing\u001b[0m \u001b[0;34m==\u001b[0m \u001b[0mlen\u001b[0m\u001b[0;34m(\u001b[0m\u001b[0mindexer\u001b[0m\u001b[0;34m)\u001b[0m\u001b[0;34m:\u001b[0m\u001b[0;34m\u001b[0m\u001b[0;34m\u001b[0m\u001b[0m\n\u001b[1;32m   1297\u001b[0m                 \u001b[0maxis_name\u001b[0m \u001b[0;34m=\u001b[0m \u001b[0mself\u001b[0m\u001b[0;34m.\u001b[0m\u001b[0mobj\u001b[0m\u001b[0;34m.\u001b[0m\u001b[0m_get_axis_name\u001b[0m\u001b[0;34m(\u001b[0m\u001b[0maxis\u001b[0m\u001b[0;34m)\u001b[0m\u001b[0;34m\u001b[0m\u001b[0;34m\u001b[0m\u001b[0m\n\u001b[0;32m-> 1298\u001b[0;31m                 \u001b[0;32mraise\u001b[0m \u001b[0mKeyError\u001b[0m\u001b[0;34m(\u001b[0m\u001b[0;34mf\"None of [{key}] are in the [{axis_name}]\"\u001b[0m\u001b[0;34m)\u001b[0m\u001b[0;34m\u001b[0m\u001b[0;34m\u001b[0m\u001b[0m\n\u001b[0m\u001b[1;32m   1299\u001b[0m \u001b[0;34m\u001b[0m\u001b[0m\n\u001b[1;32m   1300\u001b[0m             \u001b[0;31m# We (temporarily) allow for some missing keys with .loc, except in\u001b[0m\u001b[0;34m\u001b[0m\u001b[0;34m\u001b[0m\u001b[0;34m\u001b[0m\u001b[0m\n",
            "\u001b[0;31mKeyError\u001b[0m: \"None of [Float64Index([0.0, 0.0, 1.0, 0.0, 0.0, 0.0, 0.0, 0.0, 0.0, 1.0,\\n              ...\\n              0.0, 0.0, 1.0, 0.0, 0.0, 0.0, 0.0, 1.0, 1.0, 0.0],\\n             dtype='float64', length=97970)] are in the [columns]\""
          ]
        }
      ]
    },
    {
      "cell_type": "markdown",
      "metadata": {
        "id": "znK_P5z9m-Uz"
      },
      "source": [
        "**Step 5: Model**\n",
        "\n",
        "Target variable is 'was_opened'.\n",
        "Features = transformed email column\n",
        "\n",
        "*   'contains_spam'\n",
        "*   'previous_opens' >= 2 times\n",
        "\n"
      ]
    },
    {
      "cell_type": "code",
      "metadata": {
        "id": "S_rK0bPeZmfu"
      },
      "source": [
        "#Test w/1 feature\n",
        "x = df_clean.loc[1:2200,['previous_opens']].dropna()\n",
        "y = df_clean.loc[1:2181,['was_opened']].dropna()"
      ],
      "execution_count": null,
      "outputs": []
    },
    {
      "cell_type": "code",
      "metadata": {
        "id": "2GYwfk6yapqz"
      },
      "source": [
        "x.shape"
      ],
      "execution_count": null,
      "outputs": []
    },
    {
      "cell_type": "code",
      "metadata": {
        "id": "zB8n_xVHawrm"
      },
      "source": [
        "y.shape"
      ],
      "execution_count": null,
      "outputs": []
    },
    {
      "cell_type": "code",
      "metadata": {
        "id": "tBZCOP5TtrOF"
      },
      "source": [
        "#Train model with feature: df = cleaned['col1'.notna(),['col2', 'col3']]\n",
        "\n",
        "df_model = df_clean.loc[df_clean.was_opened.notna(), ['was_opened','previous_opens']]"
      ],
      "execution_count": null,
      "outputs": []
    },
    {
      "cell_type": "code",
      "metadata": {
        "colab": {
          "base_uri": "https://localhost:8080/"
        },
        "id": "FsKZzLkhwBdW",
        "outputId": "512d5f33-a282-4e54-bd04-958a8ba60b96"
      },
      "source": [
        "df_model.shape"
      ],
      "execution_count": null,
      "outputs": [
        {
          "output_type": "execute_result",
          "data": {
            "text/plain": [
              "(97970, 2)"
            ]
          },
          "metadata": {
            "tags": []
          },
          "execution_count": 41
        }
      ]
    },
    {
      "cell_type": "code",
      "metadata": {
        "colab": {
          "base_uri": "https://localhost:8080/",
          "height": 419
        },
        "id": "fvI4a9fmxdG-",
        "outputId": "0c61d72b-e2c5-4b29-a25f-1d2e26578cb0"
      },
      "source": [
        "df_model"
      ],
      "execution_count": null,
      "outputs": [
        {
          "output_type": "execute_result",
          "data": {
            "text/html": [
              "<div>\n",
              "<style scoped>\n",
              "    .dataframe tbody tr th:only-of-type {\n",
              "        vertical-align: middle;\n",
              "    }\n",
              "\n",
              "    .dataframe tbody tr th {\n",
              "        vertical-align: top;\n",
              "    }\n",
              "\n",
              "    .dataframe thead th {\n",
              "        text-align: right;\n",
              "    }\n",
              "</style>\n",
              "<table border=\"1\" class=\"dataframe\">\n",
              "  <thead>\n",
              "    <tr style=\"text-align: right;\">\n",
              "      <th></th>\n",
              "      <th>was_opened</th>\n",
              "      <th>previous_opens</th>\n",
              "    </tr>\n",
              "  </thead>\n",
              "  <tbody>\n",
              "    <tr>\n",
              "      <th>0</th>\n",
              "      <td>NOT OPENED</td>\n",
              "      <td>4.0</td>\n",
              "    </tr>\n",
              "    <tr>\n",
              "      <th>1</th>\n",
              "      <td>NOT OPENED</td>\n",
              "      <td>0.0</td>\n",
              "    </tr>\n",
              "    <tr>\n",
              "      <th>2</th>\n",
              "      <td>NOT OPENED</td>\n",
              "      <td>5.0</td>\n",
              "    </tr>\n",
              "    <tr>\n",
              "      <th>3</th>\n",
              "      <td>NOT OPENED</td>\n",
              "      <td>4.0</td>\n",
              "    </tr>\n",
              "    <tr>\n",
              "      <th>4</th>\n",
              "      <td>NOT OPENED</td>\n",
              "      <td>10.0</td>\n",
              "    </tr>\n",
              "    <tr>\n",
              "      <th>...</th>\n",
              "      <td>...</td>\n",
              "      <td>...</td>\n",
              "    </tr>\n",
              "    <tr>\n",
              "      <th>97965</th>\n",
              "      <td>OPENED</td>\n",
              "      <td>2.0</td>\n",
              "    </tr>\n",
              "    <tr>\n",
              "      <th>97966</th>\n",
              "      <td>OPENED</td>\n",
              "      <td>NaN</td>\n",
              "    </tr>\n",
              "    <tr>\n",
              "      <th>97967</th>\n",
              "      <td>OPENED</td>\n",
              "      <td>10.0</td>\n",
              "    </tr>\n",
              "    <tr>\n",
              "      <th>97968</th>\n",
              "      <td>OPENED</td>\n",
              "      <td>2.0</td>\n",
              "    </tr>\n",
              "    <tr>\n",
              "      <th>97969</th>\n",
              "      <td>OPENED</td>\n",
              "      <td>7.0</td>\n",
              "    </tr>\n",
              "  </tbody>\n",
              "</table>\n",
              "<p>97970 rows × 2 columns</p>\n",
              "</div>"
            ],
            "text/plain": [
              "       was_opened  previous_opens\n",
              "0      NOT OPENED             4.0\n",
              "1      NOT OPENED             0.0\n",
              "2      NOT OPENED             5.0\n",
              "3      NOT OPENED             4.0\n",
              "4      NOT OPENED            10.0\n",
              "...           ...             ...\n",
              "97965      OPENED             2.0\n",
              "97966      OPENED             NaN\n",
              "97967      OPENED            10.0\n",
              "97968      OPENED             2.0\n",
              "97969      OPENED             7.0\n",
              "\n",
              "[97970 rows x 2 columns]"
            ]
          },
          "metadata": {
            "tags": []
          },
          "execution_count": 42
        }
      ]
    },
    {
      "cell_type": "code",
      "metadata": {
        "id": "D9MD5u8mwM9i"
      },
      "source": [
        "#\n",
        "X = df_model.loc[:, ['previous_opens']] #Features Used to Predict\n",
        "\n",
        "y = df_model['was_opened']  #Target"
      ],
      "execution_count": null,
      "outputs": []
    },
    {
      "cell_type": "code",
      "metadata": {
        "id": "4zlWnKapbV0f"
      },
      "source": [
        "#Running Logistic Regression Model\n",
        "from sklearn.linear_model import LogisticRegression"
      ],
      "execution_count": null,
      "outputs": []
    },
    {
      "cell_type": "code",
      "metadata": {
        "id": "uYbjS82Ibi2A"
      },
      "source": [
        "logreg = LogisticRegression()"
      ],
      "execution_count": null,
      "outputs": []
    },
    {
      "cell_type": "markdown",
      "metadata": {
        "id": "GqhqWqeXyJIj"
      },
      "source": [
        "*Add in Second Feature to Model*"
      ]
    },
    {
      "cell_type": "code",
      "metadata": {
        "colab": {
          "base_uri": "https://localhost:8080/",
          "height": 630
        },
        "id": "-75gf90WnB8j",
        "outputId": "7f062605-3bd2-460f-a12c-fb533b5da765"
      },
      "source": [
        "#Define 'X_2' features by dropping 'y'\n",
        "X_2 = df_clean['previous_opens','feature_2'].dropna() #Features Used to Predict\n",
        "y = df_clean['was_opened'] #Target"
      ],
      "execution_count": null,
      "outputs": [
        {
          "output_type": "error",
          "ename": "KeyError",
          "evalue": "ignored",
          "traceback": [
            "\u001b[0;31m---------------------------------------------------------------------------\u001b[0m",
            "\u001b[0;31mKeyError\u001b[0m                                  Traceback (most recent call last)",
            "\u001b[0;32m/usr/local/lib/python3.7/dist-packages/pandas/core/indexes/base.py\u001b[0m in \u001b[0;36mget_loc\u001b[0;34m(self, key, method, tolerance)\u001b[0m\n\u001b[1;32m   2897\u001b[0m             \u001b[0;32mtry\u001b[0m\u001b[0;34m:\u001b[0m\u001b[0;34m\u001b[0m\u001b[0;34m\u001b[0m\u001b[0m\n\u001b[0;32m-> 2898\u001b[0;31m                 \u001b[0;32mreturn\u001b[0m \u001b[0mself\u001b[0m\u001b[0;34m.\u001b[0m\u001b[0m_engine\u001b[0m\u001b[0;34m.\u001b[0m\u001b[0mget_loc\u001b[0m\u001b[0;34m(\u001b[0m\u001b[0mcasted_key\u001b[0m\u001b[0;34m)\u001b[0m\u001b[0;34m\u001b[0m\u001b[0;34m\u001b[0m\u001b[0m\n\u001b[0m\u001b[1;32m   2899\u001b[0m             \u001b[0;32mexcept\u001b[0m \u001b[0mKeyError\u001b[0m \u001b[0;32mas\u001b[0m \u001b[0merr\u001b[0m\u001b[0;34m:\u001b[0m\u001b[0;34m\u001b[0m\u001b[0;34m\u001b[0m\u001b[0m\n",
            "\u001b[0;32mpandas/_libs/index.pyx\u001b[0m in \u001b[0;36mpandas._libs.index.IndexEngine.get_loc\u001b[0;34m()\u001b[0m\n",
            "\u001b[0;32mpandas/_libs/index.pyx\u001b[0m in \u001b[0;36mpandas._libs.index.IndexEngine.get_loc\u001b[0;34m()\u001b[0m\n",
            "\u001b[0;32mpandas/_libs/hashtable_class_helper.pxi\u001b[0m in \u001b[0;36mpandas._libs.hashtable.PyObjectHashTable.get_item\u001b[0;34m()\u001b[0m\n",
            "\u001b[0;32mpandas/_libs/hashtable_class_helper.pxi\u001b[0m in \u001b[0;36mpandas._libs.hashtable.PyObjectHashTable.get_item\u001b[0;34m()\u001b[0m\n",
            "\u001b[0;31mKeyError\u001b[0m: ('previous_opens', 'feature_2')",
            "\nThe above exception was the direct cause of the following exception:\n",
            "\u001b[0;31mKeyError\u001b[0m                                  Traceback (most recent call last)",
            "\u001b[0;32m<ipython-input-48-f3984878e470>\u001b[0m in \u001b[0;36m<module>\u001b[0;34m()\u001b[0m\n\u001b[1;32m      1\u001b[0m \u001b[0;31m#Define 'X_2' features by dropping 'y'\u001b[0m\u001b[0;34m\u001b[0m\u001b[0;34m\u001b[0m\u001b[0;34m\u001b[0m\u001b[0m\n\u001b[0;32m----> 2\u001b[0;31m \u001b[0mX_2\u001b[0m \u001b[0;34m=\u001b[0m \u001b[0mdf_clean\u001b[0m\u001b[0;34m[\u001b[0m\u001b[0;34m'previous_opens'\u001b[0m\u001b[0;34m,\u001b[0m\u001b[0;34m'feature_2'\u001b[0m\u001b[0;34m]\u001b[0m\u001b[0;34m.\u001b[0m\u001b[0mdropna\u001b[0m\u001b[0;34m(\u001b[0m\u001b[0;34m)\u001b[0m \u001b[0;31m#Features Used to Predict\u001b[0m\u001b[0;34m\u001b[0m\u001b[0;34m\u001b[0m\u001b[0m\n\u001b[0m\u001b[1;32m      3\u001b[0m \u001b[0my\u001b[0m \u001b[0;34m=\u001b[0m \u001b[0mdf_clean\u001b[0m\u001b[0;34m[\u001b[0m\u001b[0;34m'was_opened'\u001b[0m\u001b[0;34m]\u001b[0m \u001b[0;31m#Target\u001b[0m\u001b[0;34m\u001b[0m\u001b[0;34m\u001b[0m\u001b[0m\n",
            "\u001b[0;32m/usr/local/lib/python3.7/dist-packages/pandas/core/frame.py\u001b[0m in \u001b[0;36m__getitem__\u001b[0;34m(self, key)\u001b[0m\n\u001b[1;32m   2904\u001b[0m             \u001b[0;32mif\u001b[0m \u001b[0mself\u001b[0m\u001b[0;34m.\u001b[0m\u001b[0mcolumns\u001b[0m\u001b[0;34m.\u001b[0m\u001b[0mnlevels\u001b[0m \u001b[0;34m>\u001b[0m \u001b[0;36m1\u001b[0m\u001b[0;34m:\u001b[0m\u001b[0;34m\u001b[0m\u001b[0;34m\u001b[0m\u001b[0m\n\u001b[1;32m   2905\u001b[0m                 \u001b[0;32mreturn\u001b[0m \u001b[0mself\u001b[0m\u001b[0;34m.\u001b[0m\u001b[0m_getitem_multilevel\u001b[0m\u001b[0;34m(\u001b[0m\u001b[0mkey\u001b[0m\u001b[0;34m)\u001b[0m\u001b[0;34m\u001b[0m\u001b[0;34m\u001b[0m\u001b[0m\n\u001b[0;32m-> 2906\u001b[0;31m             \u001b[0mindexer\u001b[0m \u001b[0;34m=\u001b[0m \u001b[0mself\u001b[0m\u001b[0;34m.\u001b[0m\u001b[0mcolumns\u001b[0m\u001b[0;34m.\u001b[0m\u001b[0mget_loc\u001b[0m\u001b[0;34m(\u001b[0m\u001b[0mkey\u001b[0m\u001b[0;34m)\u001b[0m\u001b[0;34m\u001b[0m\u001b[0;34m\u001b[0m\u001b[0m\n\u001b[0m\u001b[1;32m   2907\u001b[0m             \u001b[0;32mif\u001b[0m \u001b[0mis_integer\u001b[0m\u001b[0;34m(\u001b[0m\u001b[0mindexer\u001b[0m\u001b[0;34m)\u001b[0m\u001b[0;34m:\u001b[0m\u001b[0;34m\u001b[0m\u001b[0;34m\u001b[0m\u001b[0m\n\u001b[1;32m   2908\u001b[0m                 \u001b[0mindexer\u001b[0m \u001b[0;34m=\u001b[0m \u001b[0;34m[\u001b[0m\u001b[0mindexer\u001b[0m\u001b[0;34m]\u001b[0m\u001b[0;34m\u001b[0m\u001b[0;34m\u001b[0m\u001b[0m\n",
            "\u001b[0;32m/usr/local/lib/python3.7/dist-packages/pandas/core/indexes/base.py\u001b[0m in \u001b[0;36mget_loc\u001b[0;34m(self, key, method, tolerance)\u001b[0m\n\u001b[1;32m   2898\u001b[0m                 \u001b[0;32mreturn\u001b[0m \u001b[0mself\u001b[0m\u001b[0;34m.\u001b[0m\u001b[0m_engine\u001b[0m\u001b[0;34m.\u001b[0m\u001b[0mget_loc\u001b[0m\u001b[0;34m(\u001b[0m\u001b[0mcasted_key\u001b[0m\u001b[0;34m)\u001b[0m\u001b[0;34m\u001b[0m\u001b[0;34m\u001b[0m\u001b[0m\n\u001b[1;32m   2899\u001b[0m             \u001b[0;32mexcept\u001b[0m \u001b[0mKeyError\u001b[0m \u001b[0;32mas\u001b[0m \u001b[0merr\u001b[0m\u001b[0;34m:\u001b[0m\u001b[0;34m\u001b[0m\u001b[0;34m\u001b[0m\u001b[0m\n\u001b[0;32m-> 2900\u001b[0;31m                 \u001b[0;32mraise\u001b[0m \u001b[0mKeyError\u001b[0m\u001b[0;34m(\u001b[0m\u001b[0mkey\u001b[0m\u001b[0;34m)\u001b[0m \u001b[0;32mfrom\u001b[0m \u001b[0merr\u001b[0m\u001b[0;34m\u001b[0m\u001b[0;34m\u001b[0m\u001b[0m\n\u001b[0m\u001b[1;32m   2901\u001b[0m \u001b[0;34m\u001b[0m\u001b[0m\n\u001b[1;32m   2902\u001b[0m         \u001b[0;32mif\u001b[0m \u001b[0mtolerance\u001b[0m \u001b[0;32mis\u001b[0m \u001b[0;32mnot\u001b[0m \u001b[0;32mNone\u001b[0m\u001b[0;34m:\u001b[0m\u001b[0;34m\u001b[0m\u001b[0;34m\u001b[0m\u001b[0m\n",
            "\u001b[0;31mKeyError\u001b[0m: ('previous_opens', 'feature_2')"
          ]
        }
      ]
    },
    {
      "cell_type": "markdown",
      "metadata": {
        "id": "UZdwUYxQw5MD"
      },
      "source": [
        "**Step 6: Cross Validate**\n",
        "\n",
        "Cross validate a Model w/1 feature.\n",
        "*   *When company tested, achieved .75 AUC ROC curve.*\n",
        "*  Sample code\n",
        "X = df.loc[:, ['Pclass']]\n",
        "y = df.Survived"
      ]
    },
    {
      "cell_type": "code",
      "metadata": {
        "id": "f8utKt0EyjSa"
      },
      "source": [
        "#Import Cross Val from Sklearn library\n",
        "from sklearn.model_selection import cross_val_score"
      ],
      "execution_count": null,
      "outputs": []
    },
    {
      "cell_type": "code",
      "metadata": {
        "colab": {
          "base_uri": "https://localhost:8080/"
        },
        "id": "Lh0T6jWKyo8w",
        "outputId": "0beebd44-708f-4706-cbf7-fff041d2b791"
      },
      "source": [
        "cross_val_score(logreg, X, y, cv=5, scoring='accuracy').mean()"
      ],
      "execution_count": null,
      "outputs": [
        {
          "output_type": "stream",
          "text": [
            "/usr/local/lib/python3.7/dist-packages/sklearn/model_selection/_validation.py:536: FitFailedWarning: Estimator fit failed. The score on this train-test partition for these parameters will be set to nan. Details: \n",
            "ValueError: Input contains NaN, infinity or a value too large for dtype('float64').\n",
            "\n",
            "  FitFailedWarning)\n",
            "/usr/local/lib/python3.7/dist-packages/sklearn/model_selection/_validation.py:536: FitFailedWarning: Estimator fit failed. The score on this train-test partition for these parameters will be set to nan. Details: \n",
            "ValueError: Input contains NaN, infinity or a value too large for dtype('float64').\n",
            "\n",
            "  FitFailedWarning)\n",
            "/usr/local/lib/python3.7/dist-packages/sklearn/model_selection/_validation.py:536: FitFailedWarning: Estimator fit failed. The score on this train-test partition for these parameters will be set to nan. Details: \n",
            "ValueError: Input contains NaN, infinity or a value too large for dtype('float64').\n",
            "\n",
            "  FitFailedWarning)\n",
            "/usr/local/lib/python3.7/dist-packages/sklearn/model_selection/_validation.py:536: FitFailedWarning: Estimator fit failed. The score on this train-test partition for these parameters will be set to nan. Details: \n",
            "ValueError: Input contains NaN, infinity or a value too large for dtype('float64').\n",
            "\n",
            "  FitFailedWarning)\n",
            "/usr/local/lib/python3.7/dist-packages/sklearn/model_selection/_validation.py:536: FitFailedWarning: Estimator fit failed. The score on this train-test partition for these parameters will be set to nan. Details: \n",
            "ValueError: Input contains NaN, infinity or a value too large for dtype('float64').\n",
            "\n",
            "  FitFailedWarning)\n"
          ],
          "name": "stderr"
        },
        {
          "output_type": "execute_result",
          "data": {
            "text/plain": [
              "nan"
            ]
          },
          "metadata": {
            "tags": []
          },
          "execution_count": 47
        }
      ]
    },
    {
      "cell_type": "code",
      "metadata": {
        "id": "5JKhqp7wbtZ7"
      },
      "source": [
        "from sklearn.model_selection import cross_val_score"
      ],
      "execution_count": null,
      "outputs": []
    },
    {
      "cell_type": "code",
      "metadata": {
        "id": "lHkSZvLGbySV"
      },
      "source": [
        "#Five-fold accuracy\n",
        "cross_val_score(logreg,x_2, y, cv=5, scoring='accuracy').mean()"
      ],
      "execution_count": null,
      "outputs": []
    },
    {
      "cell_type": "markdown",
      "metadata": {
        "id": "9aweawjX_qmW"
      },
      "source": [
        ""
      ]
    },
    {
      "cell_type": "markdown",
      "metadata": {
        "id": "VfTEpGpPzona"
      },
      "source": [
        "***Adding Third Feature***"
      ]
    },
    {
      "cell_type": "code",
      "metadata": {
        "id": "J3nlUVXjYbFi"
      },
      "source": [
        "#Convert 'subscribed_date' to time\n",
        "#df['transformed_time_f'] = pd.to_datetime(df['Gun Tim'], format='%H:%M:%S', errors='coerce')\n",
        "transform_subscribed_date = pd.to_datetime(df_clean['subscribed_date'], format='%H:%M:%S', errors='coerce')\n",
        "transform_subscribed_date"
      ],
      "execution_count": null,
      "outputs": []
    },
    {
      "cell_type": "code",
      "metadata": {
        "id": "pyaYHx1x2SwC"
      },
      "source": [
        "#third feature \n",
        "column_trans = make_column_transformer(\n",
        "    (OneHotEncoder(), ['previous_opens','feature_2']),\n",
        "    remainder='passthrough')"
      ],
      "execution_count": null,
      "outputs": []
    },
    {
      "cell_type": "code",
      "metadata": {
        "id": "a26FQ7LR20I_"
      },
      "source": [
        "#transform predicting variables\n",
        "column_trans.fit_transform(x_2)"
      ],
      "execution_count": null,
      "outputs": []
    },
    {
      "cell_type": "code",
      "metadata": {
        "id": "A7kGoHUB-OVZ"
      },
      "source": [
        ""
      ],
      "execution_count": null,
      "outputs": []
    },
    {
      "cell_type": "markdown",
      "metadata": {
        "id": "jnyaYk6D-Ost"
      },
      "source": [
        "*Pre-Processing: One Hot Encoding*"
      ]
    },
    {
      "cell_type": "code",
      "metadata": {
        "id": "EtIZA39U-Osu"
      },
      "source": [
        "#Transform into dummy variable\n",
        "from sklearn.preprocessing import OneHotEncoder\n",
        "ohe = OneHotEncoder(sparse=False)"
      ],
      "execution_count": null,
      "outputs": []
    },
    {
      "cell_type": "code",
      "metadata": {
        "id": "66VwFJYb-Osu"
      },
      "source": [
        "ohe.fit_transform(df_clean[['was_opened']])"
      ],
      "execution_count": null,
      "outputs": []
    },
    {
      "cell_type": "code",
      "metadata": {
        "id": "LrfPKx3x-Osu"
      },
      "source": [
        "#check dummy variable for target column\n",
        "ohe.categories_"
      ],
      "execution_count": null,
      "outputs": []
    },
    {
      "cell_type": "code",
      "metadata": {
        "id": "1H39h_ok-Osv"
      },
      "source": [
        "# use when other features need different preprocessing\n",
        "from sklearn.compose import make_column_transformer"
      ],
      "execution_count": null,
      "outputs": []
    }
  ]
}