{
 "cells": [
  {
   "cell_type": "markdown",
   "metadata": {},
   "source": [
    "Q1) Try to model the result of a coin toss. In your model, include any features that you think important in explaining the result. Discuss with your mentor about the pros and cons of adding too many features into your model.\n",
    "\n",
    "A1) Assume fairness--even sides.\n",
    "a) look at the surface friction/slipperyness\n",
    "b) Depends on height of drop/toss.\n",
    "c) angle of the toss.\n",
    "d) Humidity in the air.\n",
    "\n",
    "Cons: Including more features means we have to conduct more experment trials. Because, we need to determine the values for each factors and the more factors we have the more unknowns to determine. \n",
    "Pro: Great to account for all scenarios and plan. \n",
    "But, we should narrow down to only the most relevant factors into the model. "
   ]
  },
  {
   "cell_type": "markdown",
   "metadata": {},
   "source": [
    "Q2) If you ever used Netflix, you should already have realized that it provides some recommendations for you to watch. In data science, this is an example of the so-called recommendations systems. Read this nontechnical blog post of Netflix about how they model their recommendations systems. Then, derive the features they use in their recommendations engines and discuss what else can be incorporated into this model.\n",
    "\n",
    "A2) They identify titles' 'genre' , 'actor', 'year released'. Rows also include those trending relative to previously selected. Viewing duration, device type used, time of day, person's interactions with Netflix's service (such as the viewing history and how that person rated other titles).\n",
    "\n",
    "Also they compare with other members exhibiting similar tastes and preferences on Netflix service.\n",
    "\n",
    "Perhaps they could also use the IP address so that Recommendations knows which country, city viewer is watching from."
   ]
  },
  {
   "cell_type": "code",
   "execution_count": 1,
   "metadata": {},
   "outputs": [
    {
     "ename": "SyntaxError",
     "evalue": "invalid syntax (<ipython-input-1-b32127e0129f>, line 1)",
     "output_type": "error",
     "traceback": [
      "\u001b[0;36m  File \u001b[0;32m\"<ipython-input-1-b32127e0129f>\"\u001b[0;36m, line \u001b[0;32m1\u001b[0m\n\u001b[0;31m    Netflix Article: https://help.netflix.com/en/node/100639\u001b[0m\n\u001b[0m                  ^\u001b[0m\n\u001b[0;31mSyntaxError\u001b[0m\u001b[0;31m:\u001b[0m invalid syntax\n"
     ]
    }
   ],
   "source": [
    "Netflix Article: https://help.netflix.com/en/node/100639"
   ]
  },
  {
   "cell_type": "code",
   "execution_count": null,
   "metadata": {},
   "outputs": [],
   "source": []
  }
 ],
 "metadata": {
  "kernelspec": {
   "display_name": "Python 3",
   "language": "python",
   "name": "python3"
  },
  "language_info": {
   "codemirror_mode": {
    "name": "ipython",
    "version": 3
   },
   "file_extension": ".py",
   "mimetype": "text/x-python",
   "name": "python",
   "nbconvert_exporter": "python",
   "pygments_lexer": "ipython3",
   "version": "3.7.4"
  }
 },
 "nbformat": 4,
 "nbformat_minor": 2
}
