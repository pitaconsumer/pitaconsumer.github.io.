{
 "cells": [
  {
   "cell_type": "code",
   "execution_count": 32,
   "metadata": {},
   "outputs": [
    {
     "name": "stdout",
     "output_type": "stream",
     "text": [
      "Requirement already satisfied: tweepy in /opt/anaconda3/lib/python3.7/site-packages (3.8.0)\n",
      "Requirement already satisfied: PySocks>=1.5.7 in /opt/anaconda3/lib/python3.7/site-packages (from tweepy) (1.7.1)\n",
      "Requirement already satisfied: six>=1.10.0 in /opt/anaconda3/lib/python3.7/site-packages (from tweepy) (1.12.0)\n",
      "Requirement already satisfied: requests-oauthlib>=0.7.0 in /opt/anaconda3/lib/python3.7/site-packages (from tweepy) (1.3.0)\n",
      "Requirement already satisfied: requests>=2.11.1 in /opt/anaconda3/lib/python3.7/site-packages (from tweepy) (2.22.0)\n",
      "Requirement already satisfied: oauthlib>=3.0.0 in /opt/anaconda3/lib/python3.7/site-packages (from requests-oauthlib>=0.7.0->tweepy) (3.1.0)\n",
      "Requirement already satisfied: idna<2.9,>=2.5 in /opt/anaconda3/lib/python3.7/site-packages (from requests>=2.11.1->tweepy) (2.8)\n",
      "Requirement already satisfied: certifi>=2017.4.17 in /opt/anaconda3/lib/python3.7/site-packages (from requests>=2.11.1->tweepy) (2019.9.11)\n",
      "Requirement already satisfied: urllib3!=1.25.0,!=1.25.1,<1.26,>=1.21.1 in /opt/anaconda3/lib/python3.7/site-packages (from requests>=2.11.1->tweepy) (1.24.2)\n",
      "Requirement already satisfied: chardet<3.1.0,>=3.0.2 in /opt/anaconda3/lib/python3.7/site-packages (from requests>=2.11.1->tweepy) (3.0.4)\n"
     ]
    }
   ],
   "source": [
    "!pip install tweepy"
   ]
  },
  {
   "cell_type": "code",
   "execution_count": 38,
   "metadata": {},
   "outputs": [
    {
     "name": "stdout",
     "output_type": "stream",
     "text": [
      "Collecting folium\n",
      "\u001b[?25l  Downloading https://files.pythonhosted.org/packages/a4/f0/44e69d50519880287cc41e7c8a6acc58daa9a9acf5f6afc52bcc70f69a6d/folium-0.11.0-py2.py3-none-any.whl (93kB)\n",
      "\u001b[K     |████████████████████████████████| 102kB 1.4MB/s ta 0:00:011\n",
      "\u001b[?25hRequirement already satisfied: requests in /opt/anaconda3/lib/python3.7/site-packages (from folium) (2.24.0)\n",
      "Collecting branca>=0.3.0 (from folium)\n",
      "  Downloading https://files.pythonhosted.org/packages/13/fb/9eacc24ba3216510c6b59a4ea1cd53d87f25ba76237d7f4393abeaf4c94e/branca-0.4.1-py3-none-any.whl\n",
      "Requirement already satisfied: numpy in /opt/anaconda3/lib/python3.7/site-packages (from folium) (1.18.4)\n",
      "Requirement already satisfied: jinja2>=2.9 in /opt/anaconda3/lib/python3.7/site-packages (from folium) (2.10.3)\n",
      "Requirement already satisfied: idna<3,>=2.5 in /opt/anaconda3/lib/python3.7/site-packages (from requests->folium) (2.7)\n",
      "Requirement already satisfied: chardet<4,>=3.0.2 in /opt/anaconda3/lib/python3.7/site-packages (from requests->folium) (3.0.4)\n",
      "Requirement already satisfied: urllib3!=1.25.0,!=1.25.1,<1.26,>=1.21.1 in /opt/anaconda3/lib/python3.7/site-packages (from requests->folium) (1.24.2)\n",
      "Requirement already satisfied: certifi>=2017.4.17 in /opt/anaconda3/lib/python3.7/site-packages (from requests->folium) (2019.9.11)\n",
      "Requirement already satisfied: MarkupSafe>=0.23 in /opt/anaconda3/lib/python3.7/site-packages (from jinja2>=2.9->folium) (1.1.1)\n",
      "Installing collected packages: branca, folium\n",
      "Successfully installed branca-0.4.1 folium-0.11.0\n"
     ]
    }
   ],
   "source": [
    "!pip install folium"
   ]
  },
  {
   "cell_type": "code",
   "execution_count": 43,
   "metadata": {},
   "outputs": [
    {
     "name": "stdout",
     "output_type": "stream",
     "text": [
      "Collecting locationlistener\n",
      "\u001b[31m  ERROR: Could not find a version that satisfies the requirement locationlistener (from versions: none)\u001b[0m\n",
      "\u001b[31mERROR: No matching distribution found for locationlistener\u001b[0m\n"
     ]
    }
   ],
   "source": [
    "!pip install locationlistener"
   ]
  },
  {
   "cell_type": "code",
   "execution_count": 35,
   "metadata": {},
   "outputs": [
    {
     "name": "stdout",
     "output_type": "stream",
     "text": [
      "Collecting tweetutilities\n",
      "\u001b[31m  ERROR: Could not find a version that satisfies the requirement tweetutilities (from versions: none)\u001b[0m\n",
      "\u001b[31mERROR: No matching distribution found for tweetutilities\u001b[0m\n"
     ]
    }
   ],
   "source": [
    "!pip install tweetutilities"
   ]
  },
  {
   "cell_type": "code",
   "execution_count": 11,
   "metadata": {},
   "outputs": [
    {
     "ename": "SyntaxError",
     "evalue": "invalid syntax (<ipython-input-11-b0cf0e9238e9>, line 1)",
     "output_type": "error",
     "traceback": [
      "\u001b[0;36m  File \u001b[0;32m\"<ipython-input-11-b0cf0e9238e9>\"\u001b[0;36m, line \u001b[0;32m1\u001b[0m\n\u001b[0;31m    conda install  -c conda-forge keys\u001b[0m\n\u001b[0m                ^\u001b[0m\n\u001b[0;31mSyntaxError\u001b[0m\u001b[0;31m:\u001b[0m invalid syntax\n"
     ]
    }
   ],
   "source": [
    "conda install  -c conda-forge keys\n",
    "!pip install keys"
   ]
  },
  {
   "cell_type": "code",
   "execution_count": 7,
   "metadata": {},
   "outputs": [
    {
     "name": "stdout",
     "output_type": "stream",
     "text": [
      "Collecting geopy\n",
      "\u001b[?25l  Downloading https://files.pythonhosted.org/packages/07/e1/9c72de674d5c2b8fcb0738a5ceeb5424941fefa080bfe4e240d0bacb5a38/geopy-2.0.0-py3-none-any.whl (111kB)\n",
      "\u001b[K     |████████████████████████████████| 112kB 944kB/s eta 0:00:01\n",
      "\u001b[?25hCollecting geographiclib<2,>=1.49 (from geopy)\n",
      "  Downloading https://files.pythonhosted.org/packages/8b/62/26ec95a98ba64299163199e95ad1b0e34ad3f4e176e221c40245f211e425/geographiclib-1.50-py3-none-any.whl\n",
      "Installing collected packages: geographiclib, geopy\n",
      "Successfully installed geographiclib-1.50 geopy-2.0.0\n"
     ]
    }
   ],
   "source": [
    "!pip install geopy"
   ]
  },
  {
   "cell_type": "code",
   "execution_count": 33,
   "metadata": {},
   "outputs": [
    {
     "name": "stdout",
     "output_type": "stream",
     "text": [
      "Requirement already satisfied: textblob in /opt/anaconda3/lib/python3.7/site-packages (0.15.3)\n",
      "Requirement already satisfied: nltk>=3.1 in /opt/anaconda3/lib/python3.7/site-packages (from textblob) (3.4.5)\n",
      "Requirement already satisfied: six in /opt/anaconda3/lib/python3.7/site-packages (from nltk>=3.1->textblob) (1.12.0)\n"
     ]
    }
   ],
   "source": [
    "!pip install textblob"
   ]
  },
  {
   "cell_type": "code",
   "execution_count": 34,
   "metadata": {},
   "outputs": [
    {
     "name": "stdout",
     "output_type": "stream",
     "text": [
      "Requirement already satisfied: preprocessor in /opt/anaconda3/lib/python3.7/site-packages (1.1.3)\r\n"
     ]
    }
   ],
   "source": [
    "!pip install preprocessor"
   ]
  },
  {
   "cell_type": "markdown",
   "metadata": {},
   "source": [
    "# Building a Sentiment Analysis of Tweets \n",
    "## * Tweepy\n",
    "## * TextBlob\n",
    "## * WordCloud\n",
    "## * NLTK\n",
    "\n",
    "## Question: Which political leader is more polarizing in his tweets?\n",
    "\n",
    "## Goal:\n",
    "To analyze a prominent global leader's tweets': 1) Themes; 2) Sentiments (polarity and subjectivity)' and 3)  \n",
    "\n",
    "To map out his relation to his Followers through a Neural Network.\n",
    "\n",
    "We could  use Word2Vec on out Twitter dataset to determine which phrases appear the most frequently in tweets to compare with whether they have been retweeted or flagged.\n",
    "\n",
    "## Resources \n",
    "### Use to perform authentication: \n",
    "    auth = tweepy.0AuthHandler(consumer_key, consumer_secret)\n",
    "Twitter Sentiment Analysis: https://www.youtube.com/watch?v=o_OZdbCzHUA"
   ]
  },
  {
   "cell_type": "markdown",
   "metadata": {},
   "source": [
    "# Project 1: Javad Zarif\n",
    "@JZarif\n",
    "Foreign Minister of Islamic Republic of Iran\n",
    "https://www.youtube.com/watch?v=ujId4ipkBio&t=361s"
   ]
  },
  {
   "cell_type": "code",
   "execution_count": 39,
   "metadata": {},
   "outputs": [],
   "source": [
    "import pandas as pd\n",
    "\n",
    "import tweepy \n",
    "from textblob import TextBlob\n",
    "import re\n",
    "from wordcloud import WordCloud\n",
    "import numpy as np\n",
    "import pandas as pd\n",
    "\n",
    "import matplotlib.pyplot as plt\n",
    "plt.style.use('fivethirtyeight')\n",
    "\n",
    "import nltk\n",
    "from nltk.corpus import stopwords\n",
    "from collections import Counter\n",
    "\n",
    "import folium"
   ]
  },
  {
   "cell_type": "code",
   "execution_count": 2,
   "metadata": {},
   "outputs": [],
   "source": [
    "# from secrets import consumer_key,consumer_secret\n",
    "#Need the API\n",
    "    #consumer_key = \"\"\n",
    "    #consumer_secret = \"\"\n",
    "\n",
    "consumer_key = 'R8y38TnjdzbUMhXmiqrdOlFNo'\n",
    "consumer_secret = '0SHVRVqighg3nbvU72303AVCNmyue6usBukhB7xiUZlL5wo3nE' \n",
    "\n",
    "auth = tweepy.AppAuthHandler(consumer_key, consumer_secret)\n",
    "api = tweepy.API(auth)"
   ]
  },
  {
   "cell_type": "markdown",
   "metadata": {},
   "source": [
    "## Load Data set"
   ]
  },
  {
   "cell_type": "code",
   "execution_count": 6,
   "metadata": {},
   "outputs": [
    {
     "data": {
      "text/html": [
       "<div>\n",
       "<style scoped>\n",
       "    .dataframe tbody tr th:only-of-type {\n",
       "        vertical-align: middle;\n",
       "    }\n",
       "\n",
       "    .dataframe tbody tr th {\n",
       "        vertical-align: top;\n",
       "    }\n",
       "\n",
       "    .dataframe thead th {\n",
       "        text-align: right;\n",
       "    }\n",
       "</style>\n",
       "<table border=\"1\" class=\"dataframe\">\n",
       "  <thead>\n",
       "    <tr style=\"text-align: right;\">\n",
       "      <th></th>\n",
       "      <th>Tweets</th>\n",
       "    </tr>\n",
       "  </thead>\n",
       "  <tbody>\n",
       "    <tr>\n",
       "      <td>0</td>\n",
       "      <td>.@AmbJohnBolton has repeated today what he sai...</td>\n",
       "    </tr>\n",
       "    <tr>\n",
       "      <td>1</td>\n",
       "      <td>\"Pirates of the Caribbean\" have their own judg...</td>\n",
       "    </tr>\n",
       "    <tr>\n",
       "      <td>2</td>\n",
       "      <td>RT @TakhtRavanchi: The result of the vote in #...</td>\n",
       "    </tr>\n",
       "    <tr>\n",
       "      <td>3</td>\n",
       "      <td>In Beirut today to express the solidarity of t...</td>\n",
       "    </tr>\n",
       "    <tr>\n",
       "      <td>4</td>\n",
       "      <td>US is so desperate to show support for its str...</td>\n",
       "    </tr>\n",
       "    <tr>\n",
       "      <td>5</td>\n",
       "      <td>I just published Using Security Council to Des...</td>\n",
       "    </tr>\n",
       "    <tr>\n",
       "      <td>6</td>\n",
       "      <td>I just published The World in Transition https...</td>\n",
       "    </tr>\n",
       "    <tr>\n",
       "      <td>7</td>\n",
       "      <td>The first three (of five) talks on \"The World ...</td>\n",
       "    </tr>\n",
       "    <tr>\n",
       "      <td>8</td>\n",
       "      <td>I'll be delivering the third of five online ta...</td>\n",
       "    </tr>\n",
       "    <tr>\n",
       "      <td>9</td>\n",
       "      <td>75 years ago today, the US gained the infamy o...</td>\n",
       "    </tr>\n",
       "  </tbody>\n",
       "</table>\n",
       "</div>"
      ],
      "text/plain": [
       "                                              Tweets\n",
       "0  .@AmbJohnBolton has repeated today what he sai...\n",
       "1  \"Pirates of the Caribbean\" have their own judg...\n",
       "2  RT @TakhtRavanchi: The result of the vote in #...\n",
       "3  In Beirut today to express the solidarity of t...\n",
       "4  US is so desperate to show support for its str...\n",
       "5  I just published Using Security Council to Des...\n",
       "6  I just published The World in Transition https...\n",
       "7  The first three (of five) talks on \"The World ...\n",
       "8  I'll be delivering the third of five online ta...\n",
       "9  75 years ago today, the US gained the infamy o..."
      ]
     },
     "execution_count": 6,
     "metadata": {},
     "output_type": "execute_result"
    }
   ],
   "source": [
    "#Create a dataframe with a column and label column as 'Tweets'\n",
    "import pandas as pd\n",
    "df = pd.DataFrame([tweet.full_text for tweet in zarif_tweets], columns = ['Tweets'])\n",
    "df.head(10)"
   ]
  },
  {
   "cell_type": "code",
   "execution_count": 8,
   "metadata": {},
   "outputs": [
    {
     "ename": "ModuleNotFoundError",
     "evalue": "No module named 'keys'",
     "output_type": "error",
     "traceback": [
      "\u001b[0;31m---------------------------------------------------------------------------\u001b[0m",
      "\u001b[0;31mModuleNotFoundError\u001b[0m                       Traceback (most recent call last)",
      "\u001b[0;32m<ipython-input-8-547d026cffef>\u001b[0m in \u001b[0;36m<module>\u001b[0;34m\u001b[0m\n\u001b[1;32m      1\u001b[0m \u001b[0;32mimport\u001b[0m \u001b[0mpandas\u001b[0m \u001b[0;32mas\u001b[0m \u001b[0mpd\u001b[0m\u001b[0;34m\u001b[0m\u001b[0;34m\u001b[0m\u001b[0m\n\u001b[0;32m----> 2\u001b[0;31m \u001b[0;32mimport\u001b[0m \u001b[0mkeys\u001b[0m\u001b[0;34m\u001b[0m\u001b[0;34m\u001b[0m\u001b[0m\n\u001b[0m",
      "\u001b[0;31mModuleNotFoundError\u001b[0m: No module named 'keys'"
     ]
    }
   ],
   "source": [
    "import keys"
   ]
  },
  {
   "cell_type": "code",
   "execution_count": 27,
   "metadata": {},
   "outputs": [
    {
     "name": "stdout",
     "output_type": "stream",
     "text": [
      "Show the 10 most recent tweets: \n",
      "\n",
      "1) .@AmbJohnBolton has repeated today what he said on May 8, 2018, while National Security Advisor in the Trump administration.\n",
      "\n",
      "At least he is consistent—a trait notably absent in this US administration.\n",
      "\n",
      "US recourse to Dispute Resolution Mechanism in 2231 has NO LEG TO STAND ON. https://t.co/txNBhyOkv4\n",
      "\n",
      "2) \"Pirates of the Caribbean\" have their own judges and courts now.\n",
      "\n",
      "Sadly for them, stolen booty wasn't Iran's. Fuel was sold F.O.B. Persian Gulf. Ship and flag weren't ours either.\n",
      "\n",
      "Hollow, cheap propaganda doesn’t deflect from miserable failure of US diplomatic malpractice at UN.\n",
      "\n",
      "3) RT @TakhtRavanchi: The result of the vote in #UNSC on arms embargo against Iran shows—once more—the US' isolation.\n",
      "\n",
      "Council's message: NO t…\n",
      "\n",
      "4) In Beirut today to express the solidarity of the people of Iran with all Lebanese, and to offer our readiness to help. \n",
      "\n",
      "This is a time to assist and facilitate - not to impose and dictate.\n",
      "\n",
      "We in the region are all in this together: Lebanon's security is our security. https://t.co/8jDQ9lVFbj\n",
      "\n",
      "5) US is so desperate to show support for its struggle to illegally extend arms restrictions on Iran that it clings to the personal position of GCC SG—obtained thru coercion—as regional consensus.\n",
      "\n",
      "All knew that most in the region—even in GCC—do NOT subscribe to this.\n",
      "\n",
      "Here's proof: https://t.co/EB5527WvWk\n",
      "\n",
      "6) I just published Using Security Council to Destroy Security Council https://t.co/q0LA5U6Vrn\n",
      "\n",
      "7) I just published The World in Transition https://t.co/RXN0z7CnQX\n",
      "\n",
      "8) The first three (of five) talks on \"The World in Transition\" that I've delivered at the Faculty of World Studies, University of Tehran, are available here: \n",
      "\n",
      "First Session:\n",
      "https://t.co/1iPd6jOYJG\n",
      "\n",
      "Second Session:\n",
      "https://t.co/ulgSbCbuxK\n",
      "\n",
      "Third Session:\n",
      "https://t.co/C0DMXmQuW6\n",
      "\n",
      "9) I'll be delivering the third of five online talks at Faculty of World Studies, University of Tehran, today, Aug 10, 12:30-13:15 UTC\n",
      "\n",
      "Topic: Power Shifts and New Players in the Transitional Period\n",
      "\n",
      "Live Instagram @iranian_studies_ut\n",
      "\n",
      "Watch 2nd session @https://youtu.be/ZdcK0oRpjqk https://t.co/wiFBoOU3RM\n",
      "\n"
     ]
    }
   ],
   "source": [
    "#Extract 200 Tweets from the Twitter User\n",
    "zarif_tweets = api.user_timeline(screen_name = 'JZarif', count = 200, \n",
    "                                 lang ='en', tweet_mode = 'extended')\n",
    "\n",
    "#Show the 10 most recent tweets\n",
    "print(\"Show the 10 most recent tweets: \\n\")\n",
    "i =1\n",
    "for tweet in zarif_tweets[0:9]:\n",
    "    print (str(i) +') '+ tweet.full_text + '\\n')\n",
    "    i = i + 1"
   ]
  },
  {
   "cell_type": "code",
   "execution_count": 15,
   "metadata": {},
   "outputs": [],
   "source": [
    "#Insert additional columns: 'retweet_count', 'user'\n",
    "zarif_tweets_user = api.get_user('javed')"
   ]
  },
  {
   "cell_type": "code",
   "execution_count": 16,
   "metadata": {},
   "outputs": [
    {
     "data": {
      "text/plain": [
       "'No need to renew your password if it is not \"detected\" as compromised 😎... Microsoft provides their reasoning ...\\nhttps://t.co/nzFq5zzked'"
      ]
     },
     "execution_count": 16,
     "metadata": {},
     "output_type": "execute_result"
    }
   ],
   "source": [
    "zarif_tweets_user.status.text"
   ]
  },
  {
   "cell_type": "code",
   "execution_count": 19,
   "metadata": {},
   "outputs": [
    {
     "data": {
      "text/plain": [
       "'Dodos do tweet! ( #ProudMauritian ) . My views are my own .'"
      ]
     },
     "execution_count": 19,
     "metadata": {},
     "output_type": "execute_result"
    }
   ],
   "source": [
    "#get description for column\n",
    "zarif_tweets_user.description"
   ]
  },
  {
   "cell_type": "code",
   "execution_count": 28,
   "metadata": {},
   "outputs": [
    {
     "data": {
      "text/plain": [
       "<bound method User.followers of User(_api=<tweepy.api.API object at 0x1224ad8d0>, _json={'id': 6758372, 'id_str': '6758372', 'name': 'Javed', 'screen_name': 'javed', 'location': 'Mauritius', 'profile_location': None, 'description': 'Dodos do tweet! ( #ProudMauritian ) . My views are my own .', 'url': 'https://t.co/99COuRdDNG', 'entities': {'url': {'urls': [{'url': 'https://t.co/99COuRdDNG', 'expanded_url': 'http://javedmandary.blogspot.com', 'display_url': 'javedmandary.blogspot.com', 'indices': [0, 23]}]}, 'description': {'urls': []}}, 'protected': False, 'followers_count': 415, 'friends_count': 335, 'listed_count': 35, 'created_at': 'Tue Jun 12 04:28:27 +0000 2007', 'favourites_count': 164, 'utc_offset': None, 'time_zone': None, 'geo_enabled': True, 'verified': False, 'statuses_count': 1462, 'lang': None, 'status': {'created_at': 'Mon Jun 03 10:11:09 +0000 2019', 'id': 1135489086310014977, 'id_str': '1135489086310014977', 'text': 'No need to renew your password if it is not \"detected\" as compromised 😎... Microsoft provides their reasoning ...\\nhttps://t.co/nzFq5zzked', 'truncated': False, 'entities': {'hashtags': [], 'symbols': [], 'user_mentions': [], 'urls': [{'url': 'https://t.co/nzFq5zzked', 'expanded_url': 'https://techcrunch.com/2019/06/02/password-expiration-is-dead-long-live-your-passwords/', 'display_url': 'techcrunch.com/2019/06/02/pas…', 'indices': [114, 137]}]}, 'source': '<a href=\"http://twitter.com\" rel=\"nofollow\">Twitter Web Client</a>', 'in_reply_to_status_id': None, 'in_reply_to_status_id_str': None, 'in_reply_to_user_id': None, 'in_reply_to_user_id_str': None, 'in_reply_to_screen_name': None, 'geo': None, 'coordinates': None, 'place': None, 'contributors': None, 'is_quote_status': False, 'retweet_count': 0, 'favorite_count': 0, 'favorited': False, 'retweeted': False, 'possibly_sensitive': False, 'lang': 'en'}, 'contributors_enabled': False, 'is_translator': False, 'is_translation_enabled': False, 'profile_background_color': '131516', 'profile_background_image_url': 'http://abs.twimg.com/images/themes/theme14/bg.gif', 'profile_background_image_url_https': 'https://abs.twimg.com/images/themes/theme14/bg.gif', 'profile_background_tile': True, 'profile_image_url': 'http://pbs.twimg.com/profile_images/1107175073402798080/7q3liZgn_normal.jpg', 'profile_image_url_https': 'https://pbs.twimg.com/profile_images/1107175073402798080/7q3liZgn_normal.jpg', 'profile_banner_url': 'https://pbs.twimg.com/profile_banners/6758372/1479660753', 'profile_link_color': '009999', 'profile_sidebar_border_color': 'EEEEEE', 'profile_sidebar_fill_color': 'EFEFEF', 'profile_text_color': '333333', 'profile_use_background_image': True, 'has_extended_profile': False, 'default_profile': False, 'default_profile_image': False, 'following': None, 'follow_request_sent': None, 'notifications': None, 'translator_type': 'none'}, id=6758372, id_str='6758372', name='Javed', screen_name='javed', location='Mauritius', profile_location=None, description='Dodos do tweet! ( #ProudMauritian ) . My views are my own .', url='https://t.co/99COuRdDNG', entities={'url': {'urls': [{'url': 'https://t.co/99COuRdDNG', 'expanded_url': 'http://javedmandary.blogspot.com', 'display_url': 'javedmandary.blogspot.com', 'indices': [0, 23]}]}, 'description': {'urls': []}}, protected=False, followers_count=415, friends_count=335, listed_count=35, created_at=datetime.datetime(2007, 6, 12, 4, 28, 27), favourites_count=164, utc_offset=None, time_zone=None, geo_enabled=True, verified=False, statuses_count=1462, lang=None, status=Status(_api=<tweepy.api.API object at 0x1224ad8d0>, _json={'created_at': 'Mon Jun 03 10:11:09 +0000 2019', 'id': 1135489086310014977, 'id_str': '1135489086310014977', 'text': 'No need to renew your password if it is not \"detected\" as compromised 😎... Microsoft provides their reasoning ...\\nhttps://t.co/nzFq5zzked', 'truncated': False, 'entities': {'hashtags': [], 'symbols': [], 'user_mentions': [], 'urls': [{'url': 'https://t.co/nzFq5zzked', 'expanded_url': 'https://techcrunch.com/2019/06/02/password-expiration-is-dead-long-live-your-passwords/', 'display_url': 'techcrunch.com/2019/06/02/pas…', 'indices': [114, 137]}]}, 'source': '<a href=\"http://twitter.com\" rel=\"nofollow\">Twitter Web Client</a>', 'in_reply_to_status_id': None, 'in_reply_to_status_id_str': None, 'in_reply_to_user_id': None, 'in_reply_to_user_id_str': None, 'in_reply_to_screen_name': None, 'geo': None, 'coordinates': None, 'place': None, 'contributors': None, 'is_quote_status': False, 'retweet_count': 0, 'favorite_count': 0, 'favorited': False, 'retweeted': False, 'possibly_sensitive': False, 'lang': 'en'}, created_at=datetime.datetime(2019, 6, 3, 10, 11, 9), id=1135489086310014977, id_str='1135489086310014977', text='No need to renew your password if it is not \"detected\" as compromised 😎... Microsoft provides their reasoning ...\\nhttps://t.co/nzFq5zzked', truncated=False, entities={'hashtags': [], 'symbols': [], 'user_mentions': [], 'urls': [{'url': 'https://t.co/nzFq5zzked', 'expanded_url': 'https://techcrunch.com/2019/06/02/password-expiration-is-dead-long-live-your-passwords/', 'display_url': 'techcrunch.com/2019/06/02/pas…', 'indices': [114, 137]}]}, source='Twitter Web Client', source_url='http://twitter.com', in_reply_to_status_id=None, in_reply_to_status_id_str=None, in_reply_to_user_id=None, in_reply_to_user_id_str=None, in_reply_to_screen_name=None, geo=None, coordinates=None, place=None, contributors=None, is_quote_status=False, retweet_count=0, favorite_count=0, favorited=False, retweeted=False, possibly_sensitive=False, lang='en'), contributors_enabled=False, is_translator=False, is_translation_enabled=False, profile_background_color='131516', profile_background_image_url='http://abs.twimg.com/images/themes/theme14/bg.gif', profile_background_image_url_https='https://abs.twimg.com/images/themes/theme14/bg.gif', profile_background_tile=True, profile_image_url='http://pbs.twimg.com/profile_images/1107175073402798080/7q3liZgn_normal.jpg', profile_image_url_https='https://pbs.twimg.com/profile_images/1107175073402798080/7q3liZgn_normal.jpg', profile_banner_url='https://pbs.twimg.com/profile_banners/6758372/1479660753', profile_link_color='009999', profile_sidebar_border_color='EEEEEE', profile_sidebar_fill_color='EFEFEF', profile_text_color='333333', profile_use_background_image=True, has_extended_profile=False, default_profile=False, default_profile_image=False, following=False, follow_request_sent=None, notifications=None, translator_type='none')>"
      ]
     },
     "execution_count": 28,
     "metadata": {},
     "output_type": "execute_result"
    }
   ],
   "source": [
    "#followers as a column\n",
    "zarif_tweets_user.followers"
   ]
  },
  {
   "cell_type": "code",
   "execution_count": 21,
   "metadata": {},
   "outputs": [
    {
     "data": {
      "text/plain": [
       "415"
      ]
     },
     "execution_count": 21,
     "metadata": {},
     "output_type": "execute_result"
    }
   ],
   "source": [
    "#Number of Followers\n",
    "zarif_tweets_user.followers_count"
   ]
  },
  {
   "cell_type": "code",
   "execution_count": 22,
   "metadata": {},
   "outputs": [
    {
     "data": {
      "text/plain": [
       "335"
      ]
     },
     "execution_count": 22,
     "metadata": {},
     "output_type": "execute_result"
    }
   ],
   "source": [
    "#Number of Friends\n",
    "zarif_tweets_user.friends_count"
   ]
  },
  {
   "cell_type": "code",
   "execution_count": 23,
   "metadata": {},
   "outputs": [],
   "source": [
    "followers =[]"
   ]
  },
  {
   "cell_type": "code",
   "execution_count": 25,
   "metadata": {},
   "outputs": [
    {
     "data": {
      "text/plain": [
       "<tweepy.cursor.Cursor at 0x12291b190>"
      ]
     },
     "execution_count": 25,
     "metadata": {},
     "output_type": "execute_result"
    }
   ],
   "source": [
    "cursor = tweepy.Cursor(api.followers, screen_name ='zarif_tweets_user')\n",
    "cursor"
   ]
  },
  {
   "cell_type": "markdown",
   "metadata": {},
   "source": [
    "## Locating Tweets\n",
    "Extract Locations  to visualize on a map"
   ]
  },
  {
   "cell_type": "code",
   "execution_count": 36,
   "metadata": {},
   "outputs": [],
   "source": [
    "#drop unusuable\n",
    "df2 = df.dropna()"
   ]
  },
  {
   "cell_type": "code",
   "execution_count": 41,
   "metadata": {},
   "outputs": [
    {
     "ename": "NameError",
     "evalue": "name 'counts' is not defined",
     "output_type": "error",
     "traceback": [
      "\u001b[0;31m---------------------------------------------------------------------------\u001b[0m",
      "\u001b[0;31mNameError\u001b[0m                                 Traceback (most recent call last)",
      "\u001b[0;32m<ipython-input-41-93de1b67c6f8>\u001b[0m in \u001b[0;36m<module>\u001b[0;34m\u001b[0m\n\u001b[0;32m----> 1\u001b[0;31m \u001b[0mcounts\u001b[0m\u001b[0;34m[\u001b[0m\u001b[0;34m'locations'\u001b[0m\u001b[0;34m]\u001b[0m\u001b[0;34m\u001b[0m\u001b[0;34m\u001b[0m\u001b[0m\n\u001b[0m",
      "\u001b[0;31mNameError\u001b[0m: name 'counts' is not defined"
     ]
    }
   ],
   "source": [
    "#Create the location listener\n",
    "from location listener import LocationListener"
   ]
  },
  {
   "cell_type": "code",
   "execution_count": null,
   "metadata": {},
   "outputs": [],
   "source": [
    "counts['locations']"
   ]
  },
  {
   "cell_type": "code",
   "execution_count": 37,
   "metadata": {},
   "outputs": [
    {
     "ename": "ModuleNotFoundError",
     "evalue": "No module named 'folium'",
     "output_type": "error",
     "traceback": [
      "\u001b[0;31m---------------------------------------------------------------------------\u001b[0m",
      "\u001b[0;31mModuleNotFoundError\u001b[0m                       Traceback (most recent call last)",
      "\u001b[0;32m<ipython-input-37-173c1173bf1c>\u001b[0m in \u001b[0;36m<module>\u001b[0;34m\u001b[0m\n\u001b[0;32m----> 1\u001b[0;31m \u001b[0;32mimport\u001b[0m \u001b[0mfolium\u001b[0m\u001b[0;34m\u001b[0m\u001b[0;34m\u001b[0m\u001b[0m\n\u001b[0m",
      "\u001b[0;31mModuleNotFoundError\u001b[0m: No module named 'folium'"
     ]
    }
   ],
   "source": [
    "#Map w/Folium\n",
    "worldmap = folium.Map(location=['latitude','longiture'], \n",
    "                      tiles = 'Stamen Terrain',\n",
    "                      zoom_start =5,\n",
    "                      detect_retina = True\n",
    "                     )"
   ]
  },
  {
   "cell_type": "markdown",
   "metadata": {},
   "source": [
    "## Clean text"
   ]
  },
  {
   "cell_type": "code",
   "execution_count": 33,
   "metadata": {},
   "outputs": [
    {
     "ename": "IndentationError",
     "evalue": "unindent does not match any outer indentation level (<tokenize>, line 5)",
     "output_type": "error",
     "traceback": [
      "\u001b[0;36m  File \u001b[0;32m\"<tokenize>\"\u001b[0;36m, line \u001b[0;32m5\u001b[0m\n\u001b[0;31m    except:\u001b[0m\n\u001b[0m    ^\u001b[0m\n\u001b[0;31mIndentationError\u001b[0m\u001b[0;31m:\u001b[0m unindent does not match any outer indentation level\n"
     ]
    }
   ],
   "source": [
    "def on_status(self,status): '''Called when TWitter pushes a new tweet'''\n",
    "    #Get the tweet's text\n",
    "    try:\n",
    "        tweet_text = status.extended_tweet.full_text\n",
    "    except:\n",
    "        tweet_twext = status.text\n",
    "        \n",
    "    #ignore retweets\n",
    "    if tweet_text.startswith('RT')\n",
    "        return\n",
    "    \n",
    "    tweet_text = p.clean(tweet_text) #Clean the tweet\n",
    "    \n",
    "    #ignore the tweet if the topic is not in the tweet text\n",
    "    if self.topic.lower() not in tweet_text.lower():\n",
    "        return\n",
    "    \n",
    "    #update self.setniment_dic with the poliarty\n",
    "    blob = TextBlob(tweet_text)\n",
    "    if blob.sentiment.polarity > 0:\n",
    "        sentiment = \"+\"\n",
    "        self.sentiment_dict['positive'] += 1\n",
    "    elif blob.sentiment.polarity == 0:\n",
    "        sentiment = ''\n",
    "        self.sentiment_dict['neutral'] += 1\n",
    "    else:\n",
    "        sentiment = '-'\n",
    "        self.sentiment_dict['negative'] +=1\n",
    "        \n",
    "    #display the tweet\n",
    "    print(f'{sentiment}{status.user.screen_name}: {tweet_text}\\n')\n",
    "    \n",
    "    self.tweet_count == 1 #track number of tweets processed\n",
    "    \n",
    "    #if TWEET_LIMIT is reached, return False to terminiate streaming \n",
    "    return self.tweet_count !=self.TWEET.LIMIT\n",
    "        "
   ]
  },
  {
   "cell_type": "code",
   "execution_count": 34,
   "metadata": {},
   "outputs": [
    {
     "ename": "ModuleNotFoundError",
     "evalue": "No module named 'tweetutilities'",
     "output_type": "error",
     "traceback": [
      "\u001b[0;31m---------------------------------------------------------------------------\u001b[0m",
      "\u001b[0;31mModuleNotFoundError\u001b[0m                       Traceback (most recent call last)",
      "\u001b[0;32m<ipython-input-34-481ad3e8f919>\u001b[0m in \u001b[0;36m<module>\u001b[0;34m\u001b[0m\n\u001b[0;32m----> 1\u001b[0;31m \u001b[0;32mfrom\u001b[0m \u001b[0mtweetutilities\u001b[0m \u001b[0;32mimport\u001b[0m \u001b[0mget_geocodes\u001b[0m\u001b[0;34m\u001b[0m\u001b[0;34m\u001b[0m\u001b[0m\n\u001b[0m",
      "\u001b[0;31mModuleNotFoundError\u001b[0m: No module named 'tweetutilities'"
     ]
    }
   ],
   "source": [
    "from tweetutilities import get_geocodes"
   ]
  },
  {
   "cell_type": "code",
   "execution_count": 12,
   "metadata": {},
   "outputs": [
    {
     "data": {
      "text/html": [
       "<div>\n",
       "<style scoped>\n",
       "    .dataframe tbody tr th:only-of-type {\n",
       "        vertical-align: middle;\n",
       "    }\n",
       "\n",
       "    .dataframe tbody tr th {\n",
       "        vertical-align: top;\n",
       "    }\n",
       "\n",
       "    .dataframe thead th {\n",
       "        text-align: right;\n",
       "    }\n",
       "</style>\n",
       "<table border=\"1\" class=\"dataframe\">\n",
       "  <thead>\n",
       "    <tr style=\"text-align: right;\">\n",
       "      <th></th>\n",
       "      <th>Tweets</th>\n",
       "      <th>subjectivity</th>\n",
       "      <th>polarity</th>\n",
       "      <th>Analysis</th>\n",
       "    </tr>\n",
       "  </thead>\n",
       "  <tbody>\n",
       "    <tr>\n",
       "      <td>0</td>\n",
       "      <td>75 years ago today, the US gained the infamy o...</td>\n",
       "      <td>0.812500</td>\n",
       "      <td>-0.056250</td>\n",
       "      <td>Negative</td>\n",
       "    </tr>\n",
       "    <tr>\n",
       "      <td>1</td>\n",
       "      <td>@iabbasian ممنون از لطف شما و تذکرتان.</td>\n",
       "      <td>0.000000</td>\n",
       "      <td>0.000000</td>\n",
       "      <td>Neutral</td>\n",
       "    </tr>\n",
       "    <tr>\n",
       "      <td>2</td>\n",
       "      <td>@iabbasian سلام دوست عزیزم. من خودم به عربی و ...</td>\n",
       "      <td>0.000000</td>\n",
       "      <td>0.000000</td>\n",
       "      <td>Neutral</td>\n",
       "    </tr>\n",
       "    <tr>\n",
       "      <td>3</td>\n",
       "      <td>عندما يريد الناطقون بالفارسية تقديم التعازي لل...</td>\n",
       "      <td>0.000000</td>\n",
       "      <td>0.000000</td>\n",
       "      <td>Neutral</td>\n",
       "    </tr>\n",
       "    <tr>\n",
       "      <td>4</td>\n",
       "      <td>When Persian speakers want to express their co...</td>\n",
       "      <td>0.200000</td>\n",
       "      <td>0.000000</td>\n",
       "      <td>Neutral</td>\n",
       "    </tr>\n",
       "    <tr>\n",
       "      <td>...</td>\n",
       "      <td>...</td>\n",
       "      <td>...</td>\n",
       "      <td>...</td>\n",
       "      <td>...</td>\n",
       "    </tr>\n",
       "    <tr>\n",
       "      <td>195</td>\n",
       "      <td>At the UNSC, I explained what Hormuz Peace End...</td>\n",
       "      <td>0.000000</td>\n",
       "      <td>0.000000</td>\n",
       "      <td>Neutral</td>\n",
       "    </tr>\n",
       "    <tr>\n",
       "      <td>196</td>\n",
       "      <td>Your daily reminder that Israel possesses the ...</td>\n",
       "      <td>0.500000</td>\n",
       "      <td>0.000000</td>\n",
       "      <td>Neutral</td>\n",
       "    </tr>\n",
       "    <tr>\n",
       "      <td>197</td>\n",
       "      <td>E3's paralysis in fulfilling their obligations...</td>\n",
       "      <td>0.472576</td>\n",
       "      <td>-0.093636</td>\n",
       "      <td>Negative</td>\n",
       "    </tr>\n",
       "    <tr>\n",
       "      <td>198</td>\n",
       "      <td>9/22/1980 is a dark day for Iranians as it mar...</td>\n",
       "      <td>0.200000</td>\n",
       "      <td>-0.075000</td>\n",
       "      <td>Negative</td>\n",
       "    </tr>\n",
       "    <tr>\n",
       "      <td>199</td>\n",
       "      <td>Told @margbrennan: You sell me a building, but...</td>\n",
       "      <td>0.340000</td>\n",
       "      <td>0.060000</td>\n",
       "      <td>Positive</td>\n",
       "    </tr>\n",
       "  </tbody>\n",
       "</table>\n",
       "<p>200 rows × 4 columns</p>\n",
       "</div>"
      ],
      "text/plain": [
       "                                                Tweets  subjectivity  \\\n",
       "0    75 years ago today, the US gained the infamy o...      0.812500   \n",
       "1               @iabbasian ممنون از لطف شما و تذکرتان.      0.000000   \n",
       "2    @iabbasian سلام دوست عزیزم. من خودم به عربی و ...      0.000000   \n",
       "3    عندما يريد الناطقون بالفارسية تقديم التعازي لل...      0.000000   \n",
       "4    When Persian speakers want to express their co...      0.200000   \n",
       "..                                                 ...           ...   \n",
       "195  At the UNSC, I explained what Hormuz Peace End...      0.000000   \n",
       "196  Your daily reminder that Israel possesses the ...      0.500000   \n",
       "197  E3's paralysis in fulfilling their obligations...      0.472576   \n",
       "198  9/22/1980 is a dark day for Iranians as it mar...      0.200000   \n",
       "199  Told @margbrennan: You sell me a building, but...      0.340000   \n",
       "\n",
       "     polarity  Analysis  \n",
       "0   -0.056250  Negative  \n",
       "1    0.000000   Neutral  \n",
       "2    0.000000   Neutral  \n",
       "3    0.000000   Neutral  \n",
       "4    0.000000   Neutral  \n",
       "..        ...       ...  \n",
       "195  0.000000   Neutral  \n",
       "196  0.000000   Neutral  \n",
       "197 -0.093636  Negative  \n",
       "198 -0.075000  Negative  \n",
       "199  0.060000  Positive  \n",
       "\n",
       "[200 rows x 4 columns]"
      ]
     },
     "execution_count": 12,
     "metadata": {},
     "output_type": "execute_result"
    }
   ],
   "source": [
    "#Create a function to clean tweets\n",
    "    \n",
    "def clean_text(text):\n",
    "    text = re.sub(r'@{[A-Za-z0-9]+', '', text)  #Checking for '@' and all upper case letters following\n",
    "    text = re.sub(r'#', '', text) #Remove hashtag\n",
    "    text = re.sub(r'RT[\\s] +','', text)  #Remove Retweets\n",
    "    text = re.sub(r'https?:\\/\\/\\S+','',text) #Remove the hyperlink\n",
    "    \n",
    "    return text\n",
    "\n",
    "#Cleaning the text\n",
    "df['Tweets'] = df['Tweets'].apply(clean_text)\n",
    "df"
   ]
  },
  {
   "cell_type": "code",
   "execution_count": 13,
   "metadata": {},
   "outputs": [
    {
     "data": {
      "text/html": [
       "<div>\n",
       "<style scoped>\n",
       "    .dataframe tbody tr th:only-of-type {\n",
       "        vertical-align: middle;\n",
       "    }\n",
       "\n",
       "    .dataframe tbody tr th {\n",
       "        vertical-align: top;\n",
       "    }\n",
       "\n",
       "    .dataframe thead th {\n",
       "        text-align: right;\n",
       "    }\n",
       "</style>\n",
       "<table border=\"1\" class=\"dataframe\">\n",
       "  <thead>\n",
       "    <tr style=\"text-align: right;\">\n",
       "      <th></th>\n",
       "      <th>Tweets</th>\n",
       "      <th>subjectivity</th>\n",
       "      <th>polarity</th>\n",
       "      <th>Analysis</th>\n",
       "    </tr>\n",
       "  </thead>\n",
       "  <tbody>\n",
       "    <tr>\n",
       "      <td>0</td>\n",
       "      <td>75 years ago today, the US gained the infamy o...</td>\n",
       "      <td>0.812500</td>\n",
       "      <td>-0.056250</td>\n",
       "      <td>Negative</td>\n",
       "    </tr>\n",
       "    <tr>\n",
       "      <td>1</td>\n",
       "      <td>@iabbasian ممنون از لطف شما و تذکرتان.</td>\n",
       "      <td>0.000000</td>\n",
       "      <td>0.000000</td>\n",
       "      <td>Neutral</td>\n",
       "    </tr>\n",
       "    <tr>\n",
       "      <td>2</td>\n",
       "      <td>@iabbasian سلام دوست عزیزم. من خودم به عربی و ...</td>\n",
       "      <td>0.000000</td>\n",
       "      <td>0.000000</td>\n",
       "      <td>Neutral</td>\n",
       "    </tr>\n",
       "    <tr>\n",
       "      <td>3</td>\n",
       "      <td>عندما يريد الناطقون بالفارسية تقديم التعازي لل...</td>\n",
       "      <td>0.000000</td>\n",
       "      <td>0.000000</td>\n",
       "      <td>Neutral</td>\n",
       "    </tr>\n",
       "    <tr>\n",
       "      <td>4</td>\n",
       "      <td>When Persian speakers want to express their co...</td>\n",
       "      <td>0.200000</td>\n",
       "      <td>0.000000</td>\n",
       "      <td>Neutral</td>\n",
       "    </tr>\n",
       "    <tr>\n",
       "      <td>...</td>\n",
       "      <td>...</td>\n",
       "      <td>...</td>\n",
       "      <td>...</td>\n",
       "      <td>...</td>\n",
       "    </tr>\n",
       "    <tr>\n",
       "      <td>195</td>\n",
       "      <td>At the UNSC, I explained what Hormuz Peace End...</td>\n",
       "      <td>0.000000</td>\n",
       "      <td>0.000000</td>\n",
       "      <td>Neutral</td>\n",
       "    </tr>\n",
       "    <tr>\n",
       "      <td>196</td>\n",
       "      <td>Your daily reminder that Israel possesses the ...</td>\n",
       "      <td>0.500000</td>\n",
       "      <td>0.000000</td>\n",
       "      <td>Neutral</td>\n",
       "    </tr>\n",
       "    <tr>\n",
       "      <td>197</td>\n",
       "      <td>E3's paralysis in fulfilling their obligations...</td>\n",
       "      <td>0.472576</td>\n",
       "      <td>-0.093636</td>\n",
       "      <td>Negative</td>\n",
       "    </tr>\n",
       "    <tr>\n",
       "      <td>198</td>\n",
       "      <td>9/22/1980 is a dark day for Iranians as it mar...</td>\n",
       "      <td>0.200000</td>\n",
       "      <td>-0.075000</td>\n",
       "      <td>Negative</td>\n",
       "    </tr>\n",
       "    <tr>\n",
       "      <td>199</td>\n",
       "      <td>Told @margbrennan: You sell me a building, but...</td>\n",
       "      <td>0.340000</td>\n",
       "      <td>0.060000</td>\n",
       "      <td>Positive</td>\n",
       "    </tr>\n",
       "  </tbody>\n",
       "</table>\n",
       "<p>200 rows × 4 columns</p>\n",
       "</div>"
      ],
      "text/plain": [
       "                                                Tweets  subjectivity  \\\n",
       "0    75 years ago today, the US gained the infamy o...      0.812500   \n",
       "1               @iabbasian ممنون از لطف شما و تذکرتان.      0.000000   \n",
       "2    @iabbasian سلام دوست عزیزم. من خودم به عربی و ...      0.000000   \n",
       "3    عندما يريد الناطقون بالفارسية تقديم التعازي لل...      0.000000   \n",
       "4    When Persian speakers want to express their co...      0.200000   \n",
       "..                                                 ...           ...   \n",
       "195  At the UNSC, I explained what Hormuz Peace End...      0.000000   \n",
       "196  Your daily reminder that Israel possesses the ...      0.500000   \n",
       "197  E3's paralysis in fulfilling their obligations...      0.472576   \n",
       "198  9/22/1980 is a dark day for Iranians as it mar...      0.200000   \n",
       "199  Told @margbrennan: You sell me a building, but...      0.340000   \n",
       "\n",
       "     polarity  Analysis  \n",
       "0   -0.056250  Negative  \n",
       "1    0.000000   Neutral  \n",
       "2    0.000000   Neutral  \n",
       "3    0.000000   Neutral  \n",
       "4    0.000000   Neutral  \n",
       "..        ...       ...  \n",
       "195  0.000000   Neutral  \n",
       "196  0.000000   Neutral  \n",
       "197 -0.093636  Negative  \n",
       "198 -0.075000  Negative  \n",
       "199  0.060000  Positive  \n",
       "\n",
       "[200 rows x 4 columns]"
      ]
     },
     "execution_count": 13,
     "metadata": {},
     "output_type": "execute_result"
    }
   ],
   "source": [
    "#Create a function to get 'subjectivity' and 'polarity'\n",
    "\n",
    "def get_subjectivity(text):\n",
    "    return TextBlob(text).sentiment.subjectivity\n",
    "\n",
    "def get_polarity(text):\n",
    "    return TextBlob(text).sentiment.polarity\n",
    "\n",
    "#Create two new columns\n",
    "df['subjectivity'] = df['Tweets'].apply(get_subjectivity)\n",
    "df['polarity'] = df['Tweets'].apply(get_polarity)\n",
    "\n",
    "#Show the new dataframe\n",
    "df"
   ]
  },
  {
   "cell_type": "markdown",
   "metadata": {},
   "source": [
    "### Observation: \n",
    "We can now see the three columns for analysis, like wordcloud to visualize."
   ]
  },
  {
   "cell_type": "markdown",
   "metadata": {},
   "source": [
    "## Analysis: Word Cloud"
   ]
  },
  {
   "cell_type": "code",
   "execution_count": 14,
   "metadata": {},
   "outputs": [
    {
     "ename": "TypeError",
     "evalue": "'WordCloud' object is not callable",
     "output_type": "error",
     "traceback": [
      "\u001b[0;31m---------------------------------------------------------------------------\u001b[0m",
      "\u001b[0;31mTypeError\u001b[0m                                 Traceback (most recent call last)",
      "\u001b[0;32m<ipython-input-14-9dbdfc91c40d>\u001b[0m in \u001b[0;36m<module>\u001b[0;34m\u001b[0m\n\u001b[1;32m      2\u001b[0m \u001b[0mall_words\u001b[0m \u001b[0;34m=\u001b[0m \u001b[0;34m''\u001b[0m\u001b[0;34m.\u001b[0m\u001b[0mjoin\u001b[0m\u001b[0;34m(\u001b[0m\u001b[0;34m[\u001b[0m\u001b[0mtwts\u001b[0m \u001b[0;32mfor\u001b[0m \u001b[0mtwts\u001b[0m \u001b[0;32min\u001b[0m \u001b[0mdf\u001b[0m\u001b[0;34m[\u001b[0m\u001b[0;34m'Tweets'\u001b[0m\u001b[0;34m]\u001b[0m\u001b[0;34m]\u001b[0m\u001b[0;34m)\u001b[0m\u001b[0;34m\u001b[0m\u001b[0;34m\u001b[0m\u001b[0m\n\u001b[1;32m      3\u001b[0m WordCloud = WordCloud(width = 500, height= 300, random_state = 21, \n\u001b[0;32m----> 4\u001b[0;31m                       max_font_size =110).generate(all_words)\n\u001b[0m\u001b[1;32m      5\u001b[0m \u001b[0mplt\u001b[0m\u001b[0;34m.\u001b[0m\u001b[0mimshow\u001b[0m\u001b[0;34m(\u001b[0m\u001b[0mWordCloud\u001b[0m\u001b[0;34m,\u001b[0m \u001b[0minterpolation\u001b[0m\u001b[0;34m=\u001b[0m \u001b[0;34m\"bilinear\"\u001b[0m\u001b[0;34m)\u001b[0m\u001b[0;34m\u001b[0m\u001b[0;34m\u001b[0m\u001b[0m\n\u001b[1;32m      6\u001b[0m \u001b[0mplt\u001b[0m\u001b[0;34m.\u001b[0m\u001b[0maxis\u001b[0m\u001b[0;34m(\u001b[0m\u001b[0;34m'off'\u001b[0m\u001b[0;34m)\u001b[0m\u001b[0;34m\u001b[0m\u001b[0;34m\u001b[0m\u001b[0m\n",
      "\u001b[0;31mTypeError\u001b[0m: 'WordCloud' object is not callable"
     ]
    }
   ],
   "source": [
    "#Plot the Word Cloud\n",
    "all_words = ''.join([twts for twts in df['Tweets']])\n",
    "WordCloud = WordCloud(width = 500, height= 300, random_state = 21, \n",
    "                      max_font_size =110).generate(all_words)\n",
    "plt.imshow(WordCloud, interpolation= \"bilinear\")\n",
    "plt.axis('off')\n",
    "plt.show"
   ]
  },
  {
   "cell_type": "markdown",
   "metadata": {},
   "source": [
    "s### Observation:\n",
    "* We see that Iran and US are most noticeable.\n",
    "* We see that JCPOA, which stands for joint agreement between Iran, US, Iran, Germany, and UK promoting nuclear nonproliferation goals achieved during Obama-Biden administration.\n",
    "\n"
   ]
  },
  {
   "cell_type": "code",
   "execution_count": 15,
   "metadata": {},
   "outputs": [
    {
     "data": {
      "text/html": [
       "<div>\n",
       "<style scoped>\n",
       "    .dataframe tbody tr th:only-of-type {\n",
       "        vertical-align: middle;\n",
       "    }\n",
       "\n",
       "    .dataframe tbody tr th {\n",
       "        vertical-align: top;\n",
       "    }\n",
       "\n",
       "    .dataframe thead th {\n",
       "        text-align: right;\n",
       "    }\n",
       "</style>\n",
       "<table border=\"1\" class=\"dataframe\">\n",
       "  <thead>\n",
       "    <tr style=\"text-align: right;\">\n",
       "      <th></th>\n",
       "      <th>Tweets</th>\n",
       "      <th>subjectivity</th>\n",
       "      <th>polarity</th>\n",
       "      <th>Analysis</th>\n",
       "    </tr>\n",
       "  </thead>\n",
       "  <tbody>\n",
       "    <tr>\n",
       "      <td>0</td>\n",
       "      <td>75 years ago today, the US gained the infamy o...</td>\n",
       "      <td>0.812500</td>\n",
       "      <td>-0.056250</td>\n",
       "      <td>Negative</td>\n",
       "    </tr>\n",
       "    <tr>\n",
       "      <td>1</td>\n",
       "      <td>@iabbasian ممنون از لطف شما و تذکرتان.</td>\n",
       "      <td>0.000000</td>\n",
       "      <td>0.000000</td>\n",
       "      <td>Neutral</td>\n",
       "    </tr>\n",
       "    <tr>\n",
       "      <td>2</td>\n",
       "      <td>@iabbasian سلام دوست عزیزم. من خودم به عربی و ...</td>\n",
       "      <td>0.000000</td>\n",
       "      <td>0.000000</td>\n",
       "      <td>Neutral</td>\n",
       "    </tr>\n",
       "    <tr>\n",
       "      <td>3</td>\n",
       "      <td>عندما يريد الناطقون بالفارسية تقديم التعازي لل...</td>\n",
       "      <td>0.000000</td>\n",
       "      <td>0.000000</td>\n",
       "      <td>Neutral</td>\n",
       "    </tr>\n",
       "    <tr>\n",
       "      <td>4</td>\n",
       "      <td>When Persian speakers want to express their co...</td>\n",
       "      <td>0.200000</td>\n",
       "      <td>0.000000</td>\n",
       "      <td>Neutral</td>\n",
       "    </tr>\n",
       "    <tr>\n",
       "      <td>...</td>\n",
       "      <td>...</td>\n",
       "      <td>...</td>\n",
       "      <td>...</td>\n",
       "      <td>...</td>\n",
       "    </tr>\n",
       "    <tr>\n",
       "      <td>195</td>\n",
       "      <td>At the UNSC, I explained what Hormuz Peace End...</td>\n",
       "      <td>0.000000</td>\n",
       "      <td>0.000000</td>\n",
       "      <td>Neutral</td>\n",
       "    </tr>\n",
       "    <tr>\n",
       "      <td>196</td>\n",
       "      <td>Your daily reminder that Israel possesses the ...</td>\n",
       "      <td>0.500000</td>\n",
       "      <td>0.000000</td>\n",
       "      <td>Neutral</td>\n",
       "    </tr>\n",
       "    <tr>\n",
       "      <td>197</td>\n",
       "      <td>E3's paralysis in fulfilling their obligations...</td>\n",
       "      <td>0.472576</td>\n",
       "      <td>-0.093636</td>\n",
       "      <td>Negative</td>\n",
       "    </tr>\n",
       "    <tr>\n",
       "      <td>198</td>\n",
       "      <td>9/22/1980 is a dark day for Iranians as it mar...</td>\n",
       "      <td>0.200000</td>\n",
       "      <td>-0.075000</td>\n",
       "      <td>Negative</td>\n",
       "    </tr>\n",
       "    <tr>\n",
       "      <td>199</td>\n",
       "      <td>Told @margbrennan: You sell me a building, but...</td>\n",
       "      <td>0.340000</td>\n",
       "      <td>0.060000</td>\n",
       "      <td>Positive</td>\n",
       "    </tr>\n",
       "  </tbody>\n",
       "</table>\n",
       "<p>200 rows × 4 columns</p>\n",
       "</div>"
      ],
      "text/plain": [
       "                                                Tweets  subjectivity  \\\n",
       "0    75 years ago today, the US gained the infamy o...      0.812500   \n",
       "1               @iabbasian ممنون از لطف شما و تذکرتان.      0.000000   \n",
       "2    @iabbasian سلام دوست عزیزم. من خودم به عربی و ...      0.000000   \n",
       "3    عندما يريد الناطقون بالفارسية تقديم التعازي لل...      0.000000   \n",
       "4    When Persian speakers want to express their co...      0.200000   \n",
       "..                                                 ...           ...   \n",
       "195  At the UNSC, I explained what Hormuz Peace End...      0.000000   \n",
       "196  Your daily reminder that Israel possesses the ...      0.500000   \n",
       "197  E3's paralysis in fulfilling their obligations...      0.472576   \n",
       "198  9/22/1980 is a dark day for Iranians as it mar...      0.200000   \n",
       "199  Told @margbrennan: You sell me a building, but...      0.340000   \n",
       "\n",
       "     polarity  Analysis  \n",
       "0   -0.056250  Negative  \n",
       "1    0.000000   Neutral  \n",
       "2    0.000000   Neutral  \n",
       "3    0.000000   Neutral  \n",
       "4    0.000000   Neutral  \n",
       "..        ...       ...  \n",
       "195  0.000000   Neutral  \n",
       "196  0.000000   Neutral  \n",
       "197 -0.093636  Negative  \n",
       "198 -0.075000  Negative  \n",
       "199  0.060000  Positive  \n",
       "\n",
       "[200 rows x 4 columns]"
      ]
     },
     "execution_count": 15,
     "metadata": {},
     "output_type": "execute_result"
    }
   ],
   "source": [
    "#Create a function to denote the positive, negative, and neutral analysis\n",
    "def getAnalysis(score):\n",
    "    if score < 0:\n",
    "        return 'Negative'\n",
    "    if score == 0:\n",
    "        return 'Neutral'\n",
    "    if score > 0:\n",
    "        return 'Positive'\n",
    "    \n",
    "df['Analysis'] = df['polarity'].apply(getAnalysis)\n",
    "\n",
    "#Show df\n",
    "df"
   ]
  },
  {
   "cell_type": "code",
   "execution_count": 16,
   "metadata": {},
   "outputs": [
    {
     "name": "stdout",
     "output_type": "stream",
     "text": [
      "1Reiterated Iran's strong and steadfast solidarity with people of Lebanon in call with FM Wehbeh. \n",
      "\n",
      "Iran is sending field hospital &amp; medicine to assist with disaster relief. \n",
      "\n",
      "Iran stands with Lebanon. \n",
      "\n",
      "2Our thoughts and prayers are with the great and resilient people of Lebanon. \n",
      "\n",
      "As always, Iran is fully prepared to render assistance in any way necessary. \n",
      "\n",
      "Stay strong, Lebanon.\n",
      "\n",
      "🖤🇱🇧\n",
      "\n",
      "3Today, Iranians mark their seismic achievement in 1906\n",
      "\n",
      "Demanding accountability from the king, they compelled him to allow formation of the first parliament in our region\n",
      "\n",
      "While mostly ignored before Islamic Revolution, we in government are now held to account by the Parliament. \n",
      "\n",
      "4Just had a very substantive, frank and friendly video conversation with UAE FM @ABZayed, discussing Covid as well as bilateral, regional and global situations. \n",
      "\n",
      "We agreed to continue dialog on theme of hope—especially as region faces tough challenges, and tougher choices ahead. \n",
      "\n",
      "5Very productive meeting with Chairman of the International Affairs Committee of the Russian @state_duma, Leonid Stutsky. \n",
      "\n",
      "Followed up on important discussions I held with Russian leaders in Moscow two weeks ago. \n",
      "\n",
      "6The west must cease financing and harboring terrorists. From their safe havens in US and Europe, they promote hatred, agitate &amp; organize murder &amp; mayhem, and shamelessly claim responsibility for the murder of innocent Iranian civilians.\n",
      "\n",
      "Smokescreens can’t obscure this hypocrisy.\n",
      "\n",
      "7In the age of 280-character diplomacy, it is important to also reflect on the bigger picture. \n",
      "\n",
      "To that end, I'll be addressing 'World in Transition' in a 5-part series of talks on Mondays @ 12:30 UTC. Live on Instagram: @iranian_studies_ut.\n",
      "\n",
      "Session 1: \n",
      "\n",
      "8I'll be delivering the first of five online talks at the Faculty of World Studies/University of Tehran titled “World In Transition” this Monday, July 27, at 13:30 GMT. \n",
      "\n",
      "It will be live-streamed on instagram (iranian_studies_ut). All are welcome to attend.\n",
      "https:/fws.ut.ac.ir/en/ \n",
      "\n",
      "9In Moscow, \n",
      "\n",
      "- Delivered important msg to President Putin. \n",
      "\n",
      "- Extensive talks with FM Lavrov on bilat coop + regional/global coordination.\n",
      "\n",
      "- Identical views on JCPOA and need to uphold int'l law.\n",
      "\n",
      "- Agreed to conclude long-term comprehensive strategic cooperation agreement. \n",
      "\n",
      "10Fruitful continuation of visit to Iraqi Kurdistan\n",
      "\n",
      "Met with KDP President @masoud_barzani, Iraqi Kurdistan Region Pres. @IKRPresident and Region PM @masrour_barzani. \n",
      "\n",
      "Strong relations with all Iraqis remain a cornerstone of Iran's policy.\n",
      "\n",
      "Our neighbors are our priority. \n",
      "\n",
      "11Today is 5th anniv. of the JCPOA—last decade’s greatest diplomatic achievement—and reminder that US lawless behavior should not be the yardstick by which int'l norms are measured.\n",
      "\n",
      "US contempt for law &amp; diplomacy places it in global disrepute &amp; threatens global—and US—security. \n",
      "\n",
      "12My virtual dialog earlier today with Rome 2020 MED (Mediterranean Dialogue) at the ISPI Center; available to watch here, ICYMI:\n",
      "\n",
      "\n",
      "13Just concluded very constructive (virtual) summit of the Astana Process, hosted by Pres. @HassanRouhani. \n",
      "\n",
      "Parties agreed to continue coordination among the three guarantors, focusing on tension reduction, political process &amp; humanitarian relief.\n",
      "\n",
      "Peace in Syria will be achieved. \n",
      "\n",
      "14Full video of my statement before the UN Security Council, on June 30, 2020.\n",
      "\n",
      "UNSC Agenda: Implementation of Resolution 2231\n",
      "\n",
      "Iran’s solution: Rule of law | Multilateralism | Accountability\n",
      "\n",
      "\n",
      "\n",
      "15The int'l community in general—and UN Security Council in particular—face an important decision: Do we maintain respect for rule of law, or do we return to law of the jungle? \n",
      "\n",
      "My address before UNSC on Res. 2231 \n",
      "\n",
      "Persian: \n",
      "English:  \n",
      "\n",
      "16BoG should not allow JCPOA enemies to jeopardize Iran's supreme interests. E3 should not be an accessory, after failing own JCPOA duties\n",
      "\n",
      "We've nothing to hide. More inspections in Iran over last 5 yrs than in IAEA history\n",
      "\n",
      "An agreeable solution is possible, but Res will ruin it. \n",
      "\n",
      "17RT @MevlutCavusoglu: 📌 My brother FM @JZarif of Iran was my first guest during the ‘new normal’.\n",
      "📌 Signed MoU on diplomatic and consular p…\n",
      "\n",
      "18If there were ever any question of WHO dictates US—&amp; Western—policy in the Mid East, this headline screams it loud &amp; clear.\n",
      "\n",
      "AIPAC has poisoned US politics for years, overtly giving instructions to Congress.\n",
      "\n",
      "Time to end APARTHEID Israel's tyranny over Western halls of power. \n",
      "\n",
      "19Pleased that Dr. Majid Taheri and Mr. White will soon be joining their families.\n",
      "\n",
      "Prof. Sirous Asgari was happily reunited with his family on Weds.\n",
      "\n",
      "This can happen for all prisoners. No need for cherry picking. \n",
      "\n",
      "Iranian hostages held in—and on behalf of—the US should come home.\n",
      "\n",
      "20US cities are scenes of brutality against protesters &amp; press, as military crackdown is threatened\n",
      "\n",
      "Europe—quick to be judge &amp; jury about non-Western societies—keeps deafeningly silent. \n",
      "\n",
      "If it wants to keep lips sealed now, it should always keep them that way\n",
      "\n",
      "WorldAgainstRacism\n",
      "\n",
      "21The “knee-on-neck” technique is nothing new: Same cabal—who've admitted to habitually “lie, cheat, steal\"—have been employing it on 80M Iranians for 2 yrs, calling it “maximum pressure”.\n",
      "\n",
      "It hasn't brought us to our knees. Nor will it abase African-Americans.\n",
      "\n",
      "WorldAgainstRacism \n",
      "\n",
      "22Congratulations on AfricaDay2020, reminding us of the brave struggles of Africans against oppression.\n",
      "\n",
      "Iran has always been—and will forever be—a reliable  partner of all fraternal African nations.\n",
      "\n",
      "Amid COVID19 ready to share our experience and expertise to help save lives. \n",
      "\n",
      "23Those who muse about injecting disinfectant to “clean” the coronavirus, also argue that they are a “participant” in a UN Security Council Resolution endorsing a deal that they long ago \"ceased participating\" in. Their own words.\n",
      "\n",
      "If only Kafka were around. \n",
      "\n",
      "24The Parsis of India—Zoroastrians whose ancestors long ago emigrated to India—have remained ever faithful in their love for Iran. Grateful for their Covid19 package for Iranians.\n",
      "\n",
      "We also sent 40,000 advanced Iran-made test kits to Germany, Turkey and others.\n",
      "\n",
      "InThisTogether\n",
      "\n",
      "25Congratulations to Prime Minister @MAKadhimi, his Cabinet, the Parliament and most importantly the people of Iraq for success in forming  a new Government.  \n",
      "\n",
      "Iran always stands with the Iraqi people and their choice of administration.\n",
      "\n",
      "26The U.S. has long been the world's top\n",
      "\n",
      "- Military spender\n",
      "- Arms seller\n",
      "- War initiator &amp; instigator\n",
      "- Conflict profiteer.\n",
      "\n",
      "Yet @SecPompeo is apparently so worried about Iran—a huge U.S. arms customer till 1979—that he's pouring weapons all over the globe.\n",
      "\n",
      "UnitedStatesOfArms \n",
      "\n",
      "27Ramadan is for Muslims a special time for prayer &amp; reflection. \n",
      "\n",
      "This year, the COVID19 pandemic has shown that we need to reflect more on how ALL of us in the human community are in same boat, and on the same journey. \n",
      "\n",
      "Wishing all Muslims a healthy, safe, and blessed Ramadan. \n",
      "\n",
      "28The US military is hit by over 5000 covid19 infections. @realdonaldtrump should attend to their needs, not engage in threats cheered on by Saddam's terrorists.\n",
      "\n",
      "Also, US forces have no business 7,000 miles away from home, provoking our sailors off our OWN Persian Gulf shores. \n",
      "\n",
      "29Our regional peace &amp; counterterrorism efforts:\n",
      "Today I met w/Pres. Assad &amp; FM of Syria ahead of Astana ministerial video conference.\n",
      "Re Afghanistan, our Special Rep has met with all sides in Kabul in past days. On Yemen, our Special Rep working with UN &amp; Yemenis to end suffering. \n",
      "\n",
      "30The world is learning what Iran has known &amp; experienced all along: US regime's bullying, threatening &amp; vainglorious blathering isn’t just an addiction: it kills people.\n",
      "\n",
      "Like \"maximum pressure\" against Iran, the shameful defunding WHO amid a pandemic will live in infamy.\n",
      "\n",
      "31Despite US sanctions, Iran has made significant progress in fighting the pandemic, thanks to its human &amp; scientific resources, and friends abroad.\n",
      "\n",
      "Covid19 was opportunity for US to kick its addiction to sanctions. Instead, it will now live in infamy in the memory of our people.\n",
      "\n",
      "32Iran is rich in human &amp; natural resources. We don't need charity from @realDonaldTrump—who's forced to buy ventilators from sources he's sanctioned.\n",
      "\n",
      "What we want is for him to STOP preventing Iran from selling oil &amp; other products, buying its needs &amp; making &amp; receiving payments. \n",
      "\n",
      "33Important message of President @HassanRouhani to American people:\n",
      "\n",
      "\n",
      "\n",
      "34US administration gleefully takes pride in killing Iranians citizens on Nowruz—our New Year.\n",
      "  \n",
      "The White House takes its \"maximum pressure\" to a new level of inhumanity with its utter contempt for human life.\n",
      "\n",
      "Iran to US: Your policy will live in infamy. But Iran won't break. \n",
      "\n",
      "35\"If we are to make the world that will emerge from COVID19 a better one, we must seize the opportunity to forge new path.\" \n",
      "\n",
      "My thoughts on the occasion of Nowruz, the Persian New Year. \n",
      "\n",
      "Videos \n",
      "\n",
      "English:\n",
      "\n",
      "\n",
      "Persian: \n",
      "\n",
      "\n",
      "36Unlawful US sanctions drained Iran's economic resources, impairing ability to fight COVID19. \n",
      "\n",
      "They literally kill innocents \n",
      "\n",
      "It is immoral to observe them: doing so has never saved anyone from future US wrath\n",
      "\n",
      "Join the growing global campaign to disregard US sanctions on Iran.\n",
      "\n",
      "37URGENT\n",
      "\n",
      "Iranian care personnel are courageously battling COVID19 on frontlines\n",
      "\n",
      "Their efforts are stymied by vast shortages caused by restrictions on our people's access to medicine/equipment\n",
      "\n",
      "Most urgent needs are outlined below\n",
      "\n",
      "Viruses don't discriminate. Nor should humankind \n",
      "\n",
      "38IMF's @KGeorgieva has stated that countries affected by COVID19 will be supported via Rapid Financial Instrument. Our Central Bank requested access to this facility immediately. \n",
      "\n",
      "IMF/IMF Board should adhere to Fund's mandate, stand on right side of history &amp; act responsibly.\n",
      "\n",
      "39We have citizens stranded abroad with flight cancellations due to the COVID19 pandemic.  \n",
      "\n",
      "In Tehran, and at our missions abroad, we are doing our utmost to arrange for their safe return home.  \n",
      "\n",
      "We urge relevant govts and airlines to assist them in line with @WHO guidelines.\n",
      "\n",
      "40We're closely engaged w/ @WHO to battle COVID19  in Iran &amp; ensure proper care for those infected\n",
      "\n",
      "Strict preventive measures—including screening of air travelers at departure gates—are being implemented\n",
      "\n",
      "Global &amp; regional coop imperative. We either win together or lose together.  \n",
      "\n",
      "41Saddened to hear of the passing of Javier Pérez de Cuéllar, UN Secretary General from 1982 to 91. \n",
      "\n",
      "As a young diplomat, I came to appreciate his skill—he oversaw the end to many conflicts, including a cease fire in the war Saddam imposed on Iran. \n",
      "\n",
      "My condolences to his family.\n",
      "\n",
      "42Grateful to @WHO &amp; friendly nations for solidarity in fighting COVID19—in face of US EconomicTerrorism, which has endangered Iranian patients.\n",
      "\n",
      "Urgent need in Iran for:\n",
      "\n",
      "- N95 Face &amp; 3-Layer Masks\n",
      "- Ventilators\n",
      "- Surgical Gowns \n",
      "- Coronavirus Test Kits\n",
      "- PPF\n",
      "- Face/Body Shields\n",
      "\n",
      "43Iran condemns the wave of organized violence against Indian Muslims.\n",
      "\n",
      "For centuries, Iran has been a friend of India. We urge Indian authorities to ensure the wellbeing of ALL Indians &amp; not let senseless thuggery prevail.\n",
      "\n",
      "Path forward lies in peaceful dialogue and rule of law.\n",
      "\n",
      "44Like other viruses - incl terrorism - COVID19 knows no borders and doesn't distinguish between ethnicities or faiths.\n",
      "\n",
      "To combat it, neither should we.\n",
      "\n",
      "In line with HOPE, Iran calls for more regional cooperation incl long overdue Joint Center for Disease Control &amp; Prevention.\n",
      "\n",
      "45Over the last 2 days in Tehran, good meetings with Dutch FM @ministerBlok and Austrian FM Schallenberg. Emphasized importance of preserving the JCPOA through action—living up to commitments made—on the part of the EU. \n",
      "\n",
      "46Wrapping up three days in Munich, where I met with my counterparts from across the globe, as well as many other officials, think tanks, NGOs and media representatives on the sidelines of the @MunSecConf. Advancing the cause of peace and de-escalation in our region and beyond. \n",
      "\n",
      "47Iranians turned out in huge numbers to rally on the 41st anniversary of their revolution–and to honor their fallen heroes.\n",
      "Message to Trump (+vassals): Time to abandon your delusions\n",
      "With all challenges &amp; differences, in defending country &amp; honor, all 82 million Iranians are ONE. \n",
      "\n",
      "48Could Mandela ever have imagined re-emergence of BANTUSTANS, decades after liberation of South Africa? \n",
      "\n",
      "\"Vision for Peace\" looks more like \"Highway to Hell\".\n",
      "\n",
      "We Muslims need to wake up: The U.S. never was—and can never be—anything resembling an honest broker.\n",
      "\n",
      "Unite4Palestine \n",
      "\n",
      "49RT @ebtekarm: Fatima Zahra(s) is not only daughter of the Prophet but one of most influential role models of Islam. Her life, her deeds &amp; a…\n",
      "\n",
      "50Instead of a delusional “Deal of the Century”—which will be D.O.A.—self-described \"champions of democracy” would do better to accept Iran's democratic solution proposed by Ayatollah @khamenei_ir:\n",
      "\n",
      "A referendum whereby ALL Palestinians—Muslim, Jew or Christian—decide their future.\n",
      "\n",
      "51.@realdonaldtrump is better advised to base his foreign policy comments &amp; decisions on facts, rather than @FoxNews headlines or his Farsi translators\n",
      "\n",
      "To be better informed, he can read my entire interview (in English) \n",
      "\n",
      "Too many words? Then just read this: \n",
      "\n",
      "52“Normal” countries don’t operate abattoirs disguised as consulates.\n",
      "\n",
      "“Normal” countries don’t attack their neighbors, cause a humanitarian crisis, and refuse to talk.  \n",
      "\n",
      "Nonetheless, WE don’t set preconditions for dialog.\n",
      "\n",
      "53In Oman today, met with Canadian FM @FP_Champagne to discuss consular, technical &amp; legal cooperation among nations impacted by PS752 tragedy. \n",
      "\n",
      "Agreed on continued exchanges between respective experts.\n",
      "\n",
      "Politicization of this tragedy must be rejected. Focus on victims’ families. \n",
      "\n",
      "54Appeasement confirmed.\n",
      "\n",
      "E3 sold out remnants of JCPOA to avoid new Trump tariffs.\n",
      "\n",
      "It won't work my friends. You only whet his appetite. Remember your high school bully?\n",
      "\n",
      "If you want to sell your integrity, go ahead. But DO NOT assume high moral/legal ground.\n",
      "\n",
      "YOU DON'T HAVE IT. \n",
      "\n",
      "55E3 think they’re living in the 19th Century, when they dictated to countries, lied, &amp; got away with it.\n",
      "\n",
      "-IRAN triggered the DRM\n",
      "\n",
      "-IRAN is NOT the one emptying the accord of its substance—the E3 is\n",
      "\n",
      "Forget about compensating for U.S: fulfill your own obligations. \n",
      "\n",
      "EVEN JUST ONE. \n",
      "\n",
      "56Here's what E3 HAS been busy w/ since the US left JCPOA: \n",
      "\n",
      "✔️Reality Check 2:\n",
      "\n",
      "- Issued empty statements\n",
      "- Violated its own laws by bowing to US extraterritorial sanctions\n",
      "- Ignored Iran's 3 notifications of DRM activation\n",
      "- Set up INSTEX w/o single transaction\n",
      "\n",
      "Enough is enough.\n",
      "\n",
      "57E3's response to US attack on JCPOA has been to cut trade/investment in Iran while embargoing our oil.\n",
      "\n",
      "Told Raisina2020 it's sad that biggest economy has allowed itself to be bullied into violating own obligations. JCPOA's future depends on E3, not Iran.\n",
      "\n",
      "\n",
      "58For 20 months, the E3-following UK appeasement policy-has bowed to US diktat.\n",
      "\n",
      "That hasn't gotten it anywhere-and it never will.\n",
      "\n",
      "E3 can save JCPOA but not by appeasing the bully &amp; pressuring the complying party\n",
      "\n",
      "Rather it should muster the courage to fulfill its own obligations.\n",
      "\n",
      "59Unprecedented floods are ravaging Iran's Sistan &amp; Baluchistan province, with significant human &amp; material costs.\n",
      "\n",
      "Even as search and rescue ops continue, focus will be on restoring livelihoods.\n",
      "\n",
      "Our thoughts and prayers are with our affected compatriots.\n",
      "\n",
      "سیل_سیستان_و_بلوچستان \n",
      "\n",
      "60My interview w/ CNN on sidelines of TDF2020, before we carried out proportionate military response—delivering on our promise.\n",
      "\n",
      "@realdonaldtrump has been fed disinformation.\n",
      "\n",
      "\"Beautiful military equipment\" do not rule the world: people do.\n",
      "\n",
      "And people of our region want U.S. out. \n",
      "\n",
      "61What the US has accomplished in its terrorist assassination of anti-ISIS heroes is to unleash global anti-US fury and a worldwide rancor—on a scale not seen in recent memory.\n",
      "\n",
      "End of malign U.S. presence in West Asia has begun. \n",
      "\n",
      "62.@realDonaldTrump threatens Iran with violations of intl law— even war crimes such as use of force, “disproportionate response” &amp; bombing cultural sites.\n",
      "\n",
      "Iranian people responded today. Does he still hope to frighten them?\n",
      "\n",
      "Or realize he’s turned the U.S. into a RogueRegime? \n",
      "\n",
      "63Have you EVER seen such a sea of humanity in your life, @realdonaldtrump?\n",
      "\n",
      "Do you still want to listen to the clowns advising you on our region?\n",
      "\n",
      "And do you still imagine you can break the will of this great nation &amp; its people?\n",
      "\n",
      "End of malign US presence in West Asia has begun. \n",
      "\n",
      "64As 5th &amp; final REMEDIAL step under paragraph 36 of JCPOA, there will no longer be any restriction on number of centrifuges\n",
      "\n",
      "This step is within JCPOA &amp; all 5 steps are reversible upon EFFECTIVE implementation of reciprocal obligations\n",
      "\n",
      "Iran's full cooperation w/IAEA will continue\n",
      "\n",
      "65A reminder to those hallucinating about emulating ISIS war crimes by targeting our cultural heritage: \n",
      "Through MILLENNIA of history, barbarians have come and ravaged our cities, razed our monuments and burnt our libraries. \n",
      "\n",
      "Where are they now?\n",
      "\n",
      "We’re still here, &amp; standing tall.\n",
      "\n",
      "66@realDonaldTrump Those masquerading as diplomats and those who shamelessly sat to identify Iranian cultural &amp; civilian targets should not even bother to open a law dictionary.\n",
      "\n",
      "Jus cogens refers to peremptory norms of international law, i.e. international red lines. That is, a big(ly) \"no no\".\n",
      "\n",
      "67-Having committed grave breaches of int'l law in Friday's cowardly assassinations, @realdonaldtrump threatens to commit again new breaches of JUS COGENS;\n",
      "\n",
      "-Targeting cultural sites is a WAR CRIME;\n",
      "\n",
      "-Whether kicking or screaming, end of US malign presence in West Asia has begun.\n",
      "\n",
      "6824 hrs ago, an arrogant clown— masquerading as a diplomat— claimed people were dancing in the cities of Iraq.\n",
      "\n",
      "Today, hundreds of thousands of our proud Iraqi brothers and sisters offered him their response across their soil.\n",
      "\n",
      "End of US malign presence in West Asia has begun. \n",
      "\n",
      "69The US' act of international terrorism, targeting &amp; assassinating General Soleimani—THE most effective force fighting Daesh (ISIS), Al Nusrah, Al Qaeda et al—is extremely dangerous &amp; a foolish escalation.\n",
      "\n",
      "The US bears responsibility for all consequences of its rogue adventurism.\n",
      "\n",
      "70On my final trip of this decade, consensus among Iran, Russia &amp; China that:\n",
      "\n",
      "-Multilateralism is in grave danger due to US actions\n",
      "\n",
      "-US violations have jeopardized JCPOA &amp; intl security\n",
      "\n",
      "-Only way E3/EU can save JCPOA is to stop posturing &amp; begin fulfilling their own obligations.\n",
      "\n",
      "71Delighted to welcome 2020 with our Chinese friends in Beijing.\n",
      "\n",
      "Potentials of 25-year bilateral roadmap to further solidify Iran-China comprehensive strategic partnership are immense. \n",
      "\n",
      "We intend to realize them, while also pursuing closer regional and global cooperation. \n",
      "\n",
      "72Fruitful talks with FM Lavrov in Russia. \n",
      "\n",
      "Unlike others who embark on \"defensive\" warmongering 1000s of miles from their own shores, Iran and Russia have cooperated for peace in Syria and are now presenting important proposals for peace in the Persian Gulf.\n",
      "\n",
      "Next stop: China \n",
      "\n",
      "73Iran has long stated its readiness to work w/our neighbors to secure Persian Gulf. HOPE-Hormuz Peace Endeavour-is on table right now\n",
      "\n",
      "Our joint military drills in Oman Sea/Indian Ocean w/ our Russian &amp; Chinese partners make clear our broader commitment to secure vital waterways.\n",
      "\n",
      "74Wishing my Christian compatriots, and all across our globe who are observing, a very Happy Christmas and a joyous, peaceful holiday season. The birth of Jesus Christ, prophet in Islam, is a wondrous occasion to celebrate. Christmas2019\n",
      "\n",
      "75A pleasure to co-chair 19th Joint Commission Meeting w/ India’s External Affairs Minister @DrSJaishankar in Tehran. \n",
      "\n",
      "Excellent discussions on closer bilateral relations &amp; regional &amp; global issues affecting our respective countries.\n",
      "\n",
      "Our ties are ancient, historic &amp; unbreakable. \n",
      "\n",
      "76Wrapping up a presidential visit to Tokyo—with a packed schedule—and heading home on Yalda. On 1st such visit in 19 years, we engaged with Japan's foreign policy and industry leaders, and, importantly. celebrated the 90th anniversary of Iran-Japan diplomatic relations. \n",
      "\n",
      "77Substantive, friendly and frank summit between President @HassanRouhani and Prime Minister @AbeShizo: further strengthening bilateral, regional and global cooperation. \n",
      "\n",
      "Also grateful to our Japanese hosts for celebrating the winter solstice with us. Yalda \n",
      "\n",
      "78Excellent bilateral &amp; multilateral meetings with friends at KLSummit2019.\n",
      "\n",
      "Initiatives on good governance, inclusive dialogue, media, digital economy, tech r&amp;d, innovation fund, trade &amp; barter, alternative finance &amp; unified cryptocurrency.\n",
      "\n",
      "Moving forward on inclusive synergy. \n",
      "\n",
      "79Good to be in Kuala Lumpur with Pres. @HassanRouhani to attend KLSummit2019\n",
      "\n",
      "Held fruitful mtgs with King Abdullah and PM Mahathir Bin Mohamad (@chedetofficial) on bilateral relations, regional affairs, and the state of of the Islamic world\n",
      "\n",
      "Also a warm get together w/ Iranians. \n",
      "\n",
      "80Taking unprecedented step of punishing those who seek to COMPLY with UN Security Council isn't enough for this @statedept. \n",
      "\n",
      "Now it claims that US can use snapback bec it's a JCPOA participant.\n",
      "\n",
      "NEWS FLASH:@realdonaldtrump explicitly long ago \"ceased US participation.\" Shameless. \n",
      "\n",
      "81After getting our hostage back this week, fully ready for comprehensive prisoner exchange.\n",
      " \n",
      "The ball is in the US’ court.\n",
      "\n",
      "Today, back to regional diplomacy in Istanbul, at the Ministerial Heart of Asia mtg, joining forces for peace &amp; development in Afghanistan.\n",
      "\n",
      "NeighborsFirst \n",
      "\n",
      "82Glad that Professor Massoud Soleimani and Mr. Xiyue Wang will be joining their families shortly.  Many thanks to all engaged, particularly the Swiss government. \n",
      "\n",
      "83Israel today tested a nuke-missile, aimed at Iran.\n",
      "\n",
      "E3 &amp; US never complain about the only nuclear arsenal in West Asia—armed with missiles actually DESIGNED to be capable of carrying nukes—but has fits of apoplexy over our conventional &amp; defensive ones. \n",
      "\n",
      "\n",
      "\n",
      "84Detailed, legal rebuttal of the E3 letter to the UN by Iran's Ambassador and Permanent Representative: \n",
      "\n",
      "85@SecPompeo once again admits that US EconomicTerrorism on Iran is designed to starve, and in the case of medical supplies, kill our innocent citizens.\n",
      "\n",
      "86To my EU/E3 Colleagues \n",
      "1.\"Fully upheld commitments under JCPOA\"\n",
      "YOU? Really?\n",
      "Just show ONE  that you've upheld in the last 18 months\n",
      "2.Iran triggered-&amp; exhausted-dispute resolution mechanism while you were procrastinating\n",
      "We're now using para36 remedies\n",
      "Look at my 6/11/18 letter \n",
      "\n",
      "87Pleased to be in Turkey, attending 24th ministerial meeting of the ECO.\n",
      "\n",
      "In keeping with Iran’s foreign policy that posits our neighbors should always come first, regional cooperation remains a priority.  \n",
      "\n",
      "We hope this cooperation can be welcomed by neighbors to our south, too.\n",
      "\n",
      "88Our response to US EconomicTerrorism &amp; blackmail is opposite of what @realDonaldTrump was led to believe.\n",
      "\n",
      "Our 4th step to suspend a JCPOA provision is foreseen in Para 36 as remedy to US+E3 violations.\n",
      "\n",
      "Easy solution for E3/EU: Abide by your obligations &amp; we'll reverse course. \n",
      "\n",
      "89Contrary to its deceptive claims, new US regulations will aggravate EconomicTerrorism on ordinary Iranians. @SecPompeo voiced his delusion that Iranian people must bow to US \"if they want to eat\". Now, @USTreasury is targeting not merely food but also our imports of medicine.\n",
      "\n",
      "90Met with Yemen’s Mohammad Abdul-Salam in Tehran today. Discussed range of issues, incl latest efforts to end the Saudi-led war &amp; humanitarian catatastrophe.\n",
      "There is only a political solution to this man-made calamity, and it can only be achieved with participation of all actors. \n",
      "\n",
      "91Iran's Leader has long made it abundantly clear that nuclear weapons are immoral &amp; contravene Islamic principles.\n",
      "\n",
      "Their development, acquisition, stockpiling &amp; use is thus forbidden.\n",
      "\n",
      "We're categorically opposed to nuclear arms as a religious/moral duty &amp; strategic imperative. \n",
      "\n",
      "92The Adana Agreement between Turkey and Syria—still valid—can be the better path to achieve security. Iran can help bring together the Syrian Kurds, the Syrian Govt, and Turkey so that the Syrian Army together with Turkey can guard the border. \n",
      "\n",
      "From my interview with @trtworld: \n",
      "\n",
      "93Important progress in Yerevan as Iran joins EEU Summit, and together with Member States, ratifies PTA.\n",
      "\n",
      "With parallel work on North-South &amp; South-West Transit Corridors, ground paved for expansion in regional trade &amp; cementing of our role as vital transit hub.\n",
      "\n",
      "NeighborsFirst \n",
      "\n",
      "94On Rūmī's 812th birthday, our region and the world need his insight and wisdom more than ever before.\n",
      "\n",
      "~Jalāl ad-Dīn Muhammad Rūmī, September 30, 1207—December 17, 1273 \n",
      "\n",
      "95\"Any war that the United Starts, it won't be able to finish.\" \n",
      "\n",
      "My full interview with @ChuckTodd for @MeetThePress on Sunday, September 29. \n",
      "\n",
      "\n",
      "\n",
      "96Thanks to technology, I was able to see and talk to my friend of 40 years and our UN ambassador Ravanchi, who is in hospital here in New York only a few blocks away. \n",
      "\n",
      "97Told @margbrennan: You sell me a building, but a year later the person who inherits your company comes &amp; says, you didn't pay enough money, &amp; he wants a better deal for himself &amp; a worse one for me. In which \"history\", to use Mr. Trump's words, has someone agreed to that? \n",
      "\n"
     ]
    }
   ],
   "source": [
    "#Print all the positive tweets\n",
    "j =1\n",
    "sorted_DF = df.sort_values(by = 'polarity')\n",
    "for i in range(0, sorted_DF.shape[0]):\n",
    "    if (sorted_DF['Analysis'][i] == 'Positive'):\n",
    "        print(str(j) + sorted_DF['Tweets'][i])\n",
    "        print()  #print a new line\n",
    "        j = j+1\n",
    "      "
   ]
  },
  {
   "cell_type": "markdown",
   "metadata": {},
   "source": [
    "### Observation:\n",
    "94 out of the 200 tweets are positive."
   ]
  },
  {
   "cell_type": "code",
   "execution_count": 17,
   "metadata": {},
   "outputs": [
    {
     "name": "stdout",
     "output_type": "stream",
     "text": [
      "1)75 years ago today, the US gained the infamy of becoming the 1st and ONLY user of nuclear weapons. And against innocents.\n",
      "\n",
      "Today, US &amp; Israeli nukes threaten our region.\n",
      "\n",
      "It's long overdue to end nuclear nightmare &amp; the MAD doctrine of Mutually Assured Destruction.\n",
      "\n",
      "Hiroshima75 \n",
      "\n",
      "2)As we mark EidAlAdha (Feast of the Sacrifice), let us all pray and commit ourselves to sacrifice what some—sadly—are willing to kill for: short-sighted, zero-sum and selfish interests.\n",
      "\n",
      "Our Ummah and our global community require this paradigm shift for survival.\n",
      "\n",
      "3)Productive talks in Baghdad with PM @MAKadhimi, Pres. @BarhamSalih, Speaker Halbousi, FM @Fuad_Hussein1 and judicial, political and military leaders.\n",
      "\n",
      "Agenda: Expanding cooperation to benefit our peoples—and the region.\n",
      "\n",
      "Next stop: Erbil for meetings with Kurdish leadership. \n",
      "\n",
      "4)25 yrs ago today, SrebrenicaGenocide began as Europe failed to uphold its basic duties. Quarter of a century later Europe is plagued by same ineptitude.\n",
      "\n",
      "The failure of the @UN to take any action at the time—to forever haunt the world body—should remain a lesson for the present. \n",
      "\n",
      "5)Don't believe the hype: Iran triggered JCPOA DRM on at least 6 occasions (in ref to U.S. AND E3 violations)\n",
      "\n",
      "16 Dec 2016 (U.S.)\n",
      "10 May 2018 (U.S.)\n",
      "17 June 2018 (U.S.)\n",
      "6 Nov 2018 (U.S. &amp; E3)\n",
      "8 May 2019 (U.S. &amp; E3)\n",
      "2 July 2020 (E3)\n",
      "\n",
      "I will be publishing all my letters shortly. \n",
      "\n",
      "6)The US isn't merely violating JCPOA and bullying others to do so, too. It also has dishonor of being first in UN history to punish law-abiding countries for NOT violating a Security Council res.\n",
      "\n",
      "I will present Iran's case to the Council @ abt noon ET, Tues.\n",
      "\n",
      "Livestream: @UNWebTV\n",
      "\n",
      "7).@SecPompeo is so desperate to mislead the world that he claims come October, Iran will purchase fighter aircraft. \n",
      "\n",
      "And then send them off to the limits of their ONE-WAY ranges.\n",
      "\n",
      "Perhaps he could also say how they would fly back to Iran having exhausted their fuel.\n",
      "\n",
      "Shameless \n",
      "\n",
      "8)E3 must stop public face-saving &amp; muster the courage to state publicly what they admit privately: their failure to fulfill even own JCPOA duties due to total impotence in resisting US bullying\n",
      "Behind facade, E3 are accessories to Trump &amp; Netanyahu—&amp; in no position to counsel Iran \n",
      "\n",
      "9)Iran &amp; Russia are \"determined to deal with unilateral &amp; illegal approaches to resolve global crises.”\n",
      "\n",
      "From joint statement with FM Lavrov in Moscow today, where we reaffirmed commitment to int'l law as US &amp; cronies attack foundation of int'l relations at IAEA &amp; Security Council. \n",
      "\n",
      "10)Productive talks with my friend @MevlutCavusoglu &amp; other senior officials in  Istanbul.\n",
      "\n",
      "In-depth exchange &amp; fruitful decisions on bilateral cooperation, and also regional &amp; global issues. \n",
      "\n",
      "Close consultations imperative.\n",
      "\n",
      "Next stop: Moscow\n",
      "\n",
      "Neighbors always our priority. \n",
      "\n",
      "11)International Criminal COURT now blackmailed by lawless gang posing as diplomats.\n",
      "\n",
      "What else will it take for the global community to wake up &amp; smell the consequences of appeasing the bully?  \n",
      "\n",
      "And who else should the US terrorize before appeasers realize EVEN they might be next? \n",
      "\n",
      "12)US has tried to heighten tension w/ Iran &amp; bully others to follow. \n",
      "\n",
      "But having admitted to:\n",
      "-Terror assassination in Iraq\n",
      "-Complicity in war crimes in Yemen &amp; Palestine\n",
      "-Piracy\n",
      "-Breaching JCPOA, UNSCR 2231, &amp; IAEA decisions\n",
      "\n",
      "It retains NO right to abuse UN &amp; IAEA to vilify Iran. \n",
      "\n",
      "13)We achieved humanitarian swap *despite* your subordinates' efforts, @realDonaldTrump\n",
      "\n",
      "And we had a deal when you entered office. Iran &amp; other JCPOA participants never left the table.\n",
      "\n",
      "Your advisors—most fired by now—made a dumb bet.\n",
      "\n",
      "Up to you to decide *when* you want to fix it. \n",
      "\n",
      "14)Some don't think BlackLivesMatter.\n",
      "\n",
      "To those of us who do: it is long overdue for the entire world to wage war against racism.\n",
      "\n",
      "Time for a WorldAgainstRacism. \n",
      "\n",
      "15)Disgusting that those whose civilization found a \"Final Solution\" in gas chambers attack those who seek a real solution at the ballot box, through a REFERENDUM. \n",
      "\n",
      "Why are US and West so afraid of democracy?\n",
      "\n",
      "Palestinians should not have to pay for your crimes, or for your guilt. \n",
      "\n",
      "16)Today is \"Honoring Philanthropists' Day\" in our calendar. Charity is an ancient tradition of the Iranian nation. \n",
      "\n",
      "Over Ramadan, poor people aided \n",
      "with empathy and millions of masks/disinfectants supplied. \n",
      "\n",
      "Humanity defeats Covid19 and US EconomicTerrorism.\n",
      "\n",
      "InThisTogether \n",
      "\n",
      "17)2 yrs ago, @SecPompeo and his boss declared \"CEASING US participation\" in JCPOA, dreaming that their \"max pressure\" would bring Iran to its knees.\n",
      "\n",
      "Given that policy's abject failure, he now wants to be JCPOA participant.\n",
      "\n",
      "Stop dreaming: Iranian Nation always decides its destiny. \n",
      "\n",
      "18)US has been bullying all against UNSC Resolution 2231 since 2017.\n",
      "\n",
      "Europe obeyed US instead of 2231.\n",
      "\n",
      "Neither can lecture Iran based on flimsy misreadings of UNSCR 2231.\n",
      "\n",
      "Iran neither has nukes nor missiles “DESIGNED to be capable of carrying” such horrific arms.\n",
      "\n",
      "Guess who do? \n",
      "\n",
      "19)Iran will be EXPORTING ventilators in a few months, @realdonaldtrump. \n",
      "\n",
      "All you need to do is stop interfering in the affairs of other nations; mine especially.\n",
      "\n",
      "And believe me, we do not take advice from ANY American politician.\n",
      "\n",
      "20)Don’t be mislead by usual warmongers, AGAIN, @realDonaldTrump:\n",
      "\n",
      "Iran has FRIENDS: No one can have MILLIONS of\"proxies\"\n",
      "\n",
      "Unlike the US—which surreptitiously lies, cheats &amp; assassinates—Iran only acts in self-defense. Openly\n",
      "\n",
      "Iran starts no wars, but teaches lessons to those who do\n",
      "\n",
      "21)US has gone from sabotage &amp; assassinations to waging an economic war &amp; EconomicTerrorism on Iranians—to MedicalTerror amidst covid19iran.\n",
      "\n",
      "This even \"exceeds what would be permissible on the battlefield.\" \n",
      "\n",
      "STOP aiding WAR CRIMES.\n",
      "\n",
      "STOP obeying IMMORAL &amp; ILLEGAL US sanctions. \n",
      "\n",
      "22)US has taken several Iranian scientists hostage—without charge or on spurious sanctions charges—&amp; not releasing them; even when its OWN courts reject the absurd charges\n",
      "\n",
      "US even refuses medical furlough—amid covid19—for innocent men jailed in horrific facilities\n",
      "\n",
      "Release our men \n",
      "\n",
      "23)Even a pandemic won't stop @SecPompeo from spouting 3rd-rate propaganda.\n",
      "\n",
      "One wonders whether he's Sec of State or Secretary of Hate.\n",
      "\n",
      "No amount of trolling will gloss over his infamous warmongering &amp; EconomicTerrorism; killing innocents &amp; impeding global fight against COVID19.\n",
      "\n",
      "24)Iranian people appreciate the growing global campaign of government &amp; civil society leaders calling for lifting of illegal U.S. sanctions.\n",
      "\n",
      "U.S. is NOT listening, impeding global fight against COVID19.\n",
      "\n",
      "The ONLY remedy: DEFY U.S. mass punishment. \n",
      "\n",
      "MORAL &amp; PRAGMATIC imperative.\n",
      "\n",
      "25).@realDonaldTrump is maliciously tightening US' illegal sanctions with aim of draining Iran's resources needed in the fight against COVID19—while our citizens are dying from it. \n",
      "\n",
      "The world can no longer be silent as US EconomicTerrorism is supplanted by its MedicalTerrorism.\n",
      "\n",
      "26)US occupiers should've never invaded Afghanistan. But they did, and blamed everyone else for consequences\n",
      "\n",
      "Now after 19 yrs of humiliation, US has tendered its surrender\n",
      "\n",
      "Whether in Afghanistan, Syria, Iraq or Yemen, US is THE problem\n",
      "\n",
      "It will leave—while leaving huge mess behind\n",
      "\n",
      "27)On the sidelines of the @MunSecConf, my full interview with @RichardEngel of @NBCNews. \n",
      "\n",
      "\"Bad advice to President Trump has led him to make the wrong decisions.\"\n",
      "\n",
      "And thus,\n",
      "\n",
      "\"The end of the United States in the region has already begun.”\n",
      "\n",
      "\n",
      "\n",
      "28)The so-called \"Vision for Peace\" is simply the dream project of a bankruptcy-ridden real estate developer.  \n",
      "\n",
      "But it is a nightmare for the region and the world\n",
      "\n",
      "And, hopefully, a wake-up call for all the Muslims who have been barking up the wrong tree.\n",
      "\n",
      "LetsUniteForPalestinians \n",
      "\n",
      "29)E3 claims it has kept its obligations under JCPOA. \n",
      "\n",
      "✔️Reality Check:\n",
      "\n",
      "- Zero imports of Iranian oil\n",
      "- Embargoing of Iranian banks &amp; SWIFT disconnect\n",
      "- Non-implementation of Blocking Statute\n",
      "- Exodus of European firms in Iran\n",
      "- Failure to even sell \"exempted\" food/medicine\n",
      "\n",
      "30)Diplomatic malpractice?\n",
      "\n",
      "UK is parroting US line &amp; blindly abetting its terrorist adventurism in our region\n",
      "\n",
      "The last time UK was dragged along to infamy by the US was in Iraq war. How did that work out?\n",
      "\n",
      "Take the honorable path for a change: settle court-ordered debt to Iranians\n",
      "\n",
      "31)As part of practical measures to assist families of victims of PS752 tragic disaster, the Ministry of Foreign Affairs has set up a hotline. It is manned 24/7.\n",
      "\n",
      "Number: +98 21 61153009\n",
      "\n",
      "Embassies have also been instructed to facilitate assistance to families/friends of victims.\n",
      "\n",
      "32)My colleagues in the foreign ministry—and in embassies, missions and consulates worldwide—share the nation’s grief in the aftermath of the tragedy and stand ready to offer any needed assistance to families of the victims. \n",
      "\n",
      "33)A sad day. Preliminary conclusions of internal investigation by Armed Forces: \n",
      "\n",
      "Human error at time of crisis caused by US adventurism led to disaster\n",
      "\n",
      "Our profound regrets, apologies and condolences to our people, to the families of all victims, and to other affected nations.\n",
      "💔\n",
      "\n",
      "34)Iran took &amp; concluded proportionate measures in self-defense under Article 51 of UN Charter targeting base from which cowardly armed attack against our citizens &amp; senior officials were launched.\n",
      "\n",
      "We do not seek escalation or war, but will defend ourselves against any aggression.\n",
      "\n",
      "35)Denying me a visa in violation of 1947 UNHQ Agreement pales in comparison to:\n",
      "\n",
      "-Pompeo's threat to starve Iranians (crime against humanity)\n",
      "-Trump's bluster about cultural heritage (war crime)\n",
      "-EconomicTerrorism\n",
      "-Cowardly assassination\n",
      "\n",
      "But what are they really afraid of? Truth?\n",
      "\n",
      "36)Realpolitik has failed miserably in providing security for anyone in the Persian Gulf. Let's try more ‘realistic' cooperation: the HOPE initiative\n",
      "\n",
      "But, “Like the nuclear accord, no good idea can be pursued by only one party”\n",
      "\n",
      "My speech at DohaForum2019\n",
      "\n",
      "\n",
      "37)Latest E3 letter to UNSG on missiles is a desperate falsehood to cover up their miserable incompetence in fulfilling bare minimum of their own JCPOA obligations\n",
      "\n",
      "If E3 want a modicum of global credibility, they can begin by exerting sovereignty rather than bowing to US bullying. \n",
      "\n",
      "38)Instead of arrogant threats or hollow paper promises, E3/EU—and future INSTEX shareholder Sweden—should start with something very simple; a minimal human duty: \n",
      "\n",
      "Ask @molnlyckehc to SELL products enabling Iranian kids with EB to cover their wounds.\n",
      " \n",
      " EconomicTerrorism kills.\n",
      "\n",
      "39)Subjecting construction workers to EconomicTerrorism only manifests maximum failure of \"maximum pressure”.\n",
      "\n",
      "US can sanction every man, woman &amp; child but Iranians will never submit to bullying.\n",
      "\n",
      "Rather than dig itself deeper, US should abandon failed policies &amp; return to JCPOA.\n",
      "\n",
      "40)Returned from Geneva where I met with Russian &amp; Turkish FMs, &amp; UN's GeirOPederson, on eve of inauguration of Syria Constitutional Committee. \n",
      "\n",
      "After years of devastating war, path to rule of law begins— thanks to Astana process.\n",
      "\n",
      "Difficult road ahead, but no other alternative. \n",
      "\n",
      "41)2500 young entrepreneurs have turned an old building in Tehran into an innovation factory to develop cutting edge tech—gaming, nano medicine, AI, IoT.... \n",
      "\n",
      ".@realDonaldTrump 's EconomicTerrorism is out to block them and their ideas, but they're relentless in pursuit of dreams. \n",
      "\n",
      "42)The imperative now is to end the incursion into Syria &amp; address all concerns through ADANA.\n",
      "\n",
      "Meanwhile, it is essential that the core principles of JUS IN BELLO are fully observed: distinction between civilians and combatant, &amp; prohibition on inflicting unnecessary suffering.\n",
      "\n",
      "43)Grateful to PM @ImranKhanPTI for his efforts toward peace in the PersianGulf\n",
      "\n",
      "Reiterating HOPE (Hormuz Peace Endeavour) I again invite colleagues in the leaderships of other regional states to join Iran in forging a blueprint for peace, security, stability &amp; prosperity. \n",
      "\n",
      "44)@FT We all have grievances about the past.\n",
      "\n",
      "Iran, after 8 yrs of regionally-financed aggression &amp; 40 yrs of foreign-sponsored attacks, has much to complain about.\n",
      "\n",
      "But as Rumi wrote 800 years ago: “Out beyond ideas of wrongdoing and right-doing there is a field. I’ll meet you there.”\n",
      "\n",
      "45)\"I invite my colleagues in the leaderships of other regional states, and in the academic and diplomatic communities, to join us in forging a blueprint for peace, security, stability and prosperity.”\n",
      "\n",
      "My OpEd on HOPE—Hormuz Peace Endeavor—in the @FT today. \n",
      "\n",
      "\n",
      "46)US is an irrelevant occupier in Syria—futile to seek its permission or rely on it for security.\n",
      "\n",
      "Achieving peace &amp; fighting terror in Syria will only succeed thru respect for its territorial integrity &amp; its people.\n",
      "\n",
      "Adana provides framework for Turkey &amp; Syria—Iran ready to help.\n",
      "\n",
      "47)E3's paralysis in fulfilling their obligations w/o US permission has been clear since May 2018.\n",
      "\n",
      "Solution to this deficiency: mustering will to forge independent path—not parroting absurd US claims &amp; requests INCONSISTENT with JCPOA.\n",
      "\n",
      "No new deal before compliance w/ current one.\n",
      "\n",
      "48)9/22/1980 is a dark day for Iranians as it marks Saddam's invasion - with support of global powers. Our region has been in turmoil ever since.\n",
      "\n",
      "We want to make 9/22 a day of peace- not war\n",
      "\n",
      "Today @HassanRouhani launched Coalition for HOPE: Hormuz Peace Endeavour.\n",
      "\n",
      "Details at UNGA\n",
      "\n"
     ]
    }
   ],
   "source": [
    "#Let's see Negative Tweets in new df\n",
    "j = 1\n",
    "sorted_DF = df.sort_values(by = 'polarity')\n",
    "for i in range(0, sorted_DF.shape[0]):\n",
    "    if (sorted_DF['Analysis'][i] == 'Negative'):\n",
    "        print(str(j) + ')' + sorted_DF['Tweets'][i])\n",
    "        print()  #print a new line\n",
    "        j = j+1"
   ]
  },
  {
   "cell_type": "markdown",
   "metadata": {},
   "source": [
    "### Observation:\n",
    "57 out of the 200 tweets are negative. In contrast, there are almost double the number of positive tweets by Foreign Minister Javed Zarif.\n",
    "* Interesting: Mentioning Uniting for Palestinians is considered 'negative'.\n",
    "* Arguing for \"Stop War\" as a theme came up as negative."
   ]
  },
  {
   "cell_type": "markdown",
   "metadata": {},
   "source": [
    "## Visualize Tweets by Foreign Minister Javed Zarif."
   ]
  },
  {
   "cell_type": "code",
   "execution_count": 18,
   "metadata": {},
   "outputs": [
    {
     "data": {
      "image/png": "[encoded data removed]",
      "text/plain": [
       "<Figure size 432x216 with 1 Axes>"
      ]
     },
     "metadata": {
      "needs_background": "light"
     },
     "output_type": "display_data"
    }
   ],
   "source": [
    "#Plot the polarity and subjectivity\n",
    "plt.figure(figsize=(6,3)) \n",
    "for i in range(0, sorted_DF.shape[0]): \n",
    "    plt.scatter(df['polarity'][i], df['subjectivity'][i], color = 'Pink') \n",
    "\n",
    "plt.title ('Sentiment Analysis' ) \n",
    "plt.xlabel ('Polarity') \n",
    "plt.ylabel ('Subjectivity')     \n",
    "plt.show()\n",
    "    "
   ]
  },
  {
   "cell_type": "markdown",
   "metadata": {},
   "source": [
    "### Observation:\n",
    "We see that Javed's tweets mostly skew positive. "
   ]
  },
  {
   "cell_type": "code",
   "execution_count": 19,
   "metadata": {},
   "outputs": [
    {
     "name": "stdout",
     "output_type": "stream",
     "text": [
      "5      Reiterated Iran's strong and steadfast solidar...\n",
      "6      Our thoughts and prayers are with the great an...\n",
      "9      Today, Iranians mark their seismic achievement...\n",
      "12     Just had a very substantive, frank and friendl...\n",
      "13     Very productive meeting with Chairman of the I...\n",
      "                             ...                        \n",
      "190    Important progress in Yerevan as Iran joins EE...\n",
      "192    On Rūmī's 812th birthday, our region and the w...\n",
      "193    \"Any war that the United Starts, it won't be a...\n",
      "194    Thanks to technology, I was able to see and ta...\n",
      "199    Told @margbrennan: You sell me a building, but...\n",
      "Name: Tweets, Length: 97, dtype: object\n"
     ]
    }
   ],
   "source": [
    "# Get the percentage of positive tweets\n",
    "ptweets = df[df.Analysis == 'Positive']\n",
    "ptweets = ptweets['Tweets']\n",
    "\n",
    "#round ((ptweets.shape[0] / df.shape[0])*100,1)\n",
    "\n",
    "print(ptweets)"
   ]
  },
  {
   "cell_type": "code",
   "execution_count": 20,
   "metadata": {},
   "outputs": [
    {
     "data": {
      "text/plain": [
       "48.5"
      ]
     },
     "execution_count": 20,
     "metadata": {},
     "output_type": "execute_result"
    }
   ],
   "source": [
    "round ((ptweets.shape[0] / df.shape[0])*100,1)"
   ]
  },
  {
   "cell_type": "code",
   "execution_count": 49,
   "metadata": {},
   "outputs": [
    {
     "name": "stdout",
     "output_type": "stream",
     "text": [
      "1      Productive talks in Baghdad with PM @MAKadhimi...\n",
      "3      25 yrs ago today, SrebrenicaGenocide began as ...\n",
      "5      Don't believe the hype: Iran triggered JCPOA D...\n",
      "9      The US isn't merely violating JCPOA and bullyi...\n",
      "11     .@SecPompeo is so desperate to mislead the wor...\n",
      "12     E3 must stop public face-saving &amp; muster t...\n",
      "14     Iran &amp; Russia are \"determined to deal with...\n",
      "16     Productive talks with my friend @MevlutCavusog...\n",
      "17     International Criminal COURT now blackmailed b...\n",
      "19     US has tried to heighten tension w/ Iran &amp;...\n",
      "20     We achieved humanitarian swap *despite* your s...\n",
      "24     Some don't think BlackLivesMatter.\\n\\nTo those...\n",
      "29     Disgusting that those whose civilization found...\n",
      "33     Today is \"Honoring Philanthropists' Day\" in ou...\n",
      "38     2 yrs ago, @SecPompeo and his boss declared \"C...\n",
      "41     US has been bullying all against UNSC Resoluti...\n",
      "44     Iran will be EXPORTING ventilators in a few mo...\n",
      "53     Don’t be mislead by usual warmongers, AGAIN, @...\n",
      "55     US has gone from sabotage &amp; assassinations...\n",
      "56     US has taken several Iranian scientists hostag...\n",
      "58     Even a pandemic won't stop @SecPompeo from spo...\n",
      "59     Iranian people appreciate the growing global c...\n",
      "70     .@realDonaldTrump is maliciously tightening US...\n",
      "76     US occupiers should've never invaded Afghanist...\n",
      "81     On the sidelines of the @MunSecConf, my full i...\n",
      "89     The so-called \"Vision for Peace\" is simply the...\n",
      "102    E3 claims it has kept its obligations under JC...\n",
      "106    Diplomatic malpractice?\\n\\nUK is parroting US ...\n",
      "108    As part of practical measures to assist famili...\n",
      "110    My colleagues in the foreign ministry—and in e...\n",
      "112    A sad day. Preliminary conclusions of internal...\n",
      "114    Iran took &amp; concluded proportionate measur...\n",
      "115    Denying me a visa in violation of 1947 UNHQ Ag...\n",
      "141    Realpolitik has failed miserably in providing ...\n",
      "149    Latest E3 letter to UNSG on missiles is a desp...\n",
      "151    Instead of arrogant threats or hollow paper pr...\n",
      "155    Subjecting construction workers to EconomicTer...\n",
      "156    Returned from Geneva where I met with Russian ...\n",
      "159    2500 young entrepreneurs have turned an old bu...\n",
      "160    The imperative now is to end the incursion int...\n",
      "161    Grateful to PM @ImranKhanPTI for his efforts t...\n",
      "164    @FT We all have grievances about the past.\\n\\n...\n",
      "165    \"I invite my colleagues in the leaderships of ...\n",
      "167    US is an irrelevant occupier in Syria—futile t...\n",
      "175    E3's paralysis in fulfilling their obligations...\n",
      "176    9/22/1980 is a dark day for Iranians as it mar...\n",
      "179    US' new designation of Central Bank displays: ...\n",
      "181    .@SecPompeo has it the other way around: \\n\\nI...\n",
      "183    Arab blood vs. Arab oil / A primer on U.S. pol...\n",
      "185    On @CNN, I emphasized that here's no such thin...\n",
      "186    .@SecPompeo tries to dodge US obligation to is...\n",
      "187    Old habits clearly die hard, @SecPompeo. \\n\\n\"...\n",
      "189    Escalating US economic WAR on Iranians, @realD...\n",
      "190    Just imagine: The US isn’t upset when its alli...\n",
      "191    US is in denial if it thinks that Yemeni victi...\n",
      "192    Having failed at \"max pressure\", @SecPompeo's ...\n",
      "193    The B_Team Strikes again.\\n\\n.@realDonaldTrump...\n",
      "Name: Tweets, dtype: object\n"
     ]
    }
   ],
   "source": [
    "# Get the percentage of negative tweets\n",
    "ntweets = df[df.Analysis == 'Negative']\n",
    "ntweets = ntweets['Tweets']\n",
    "\n",
    "#round ((ptweets.shape[0] / df.shape[0])*100,1)\n",
    "\n",
    "print(ntweets)"
   ]
  },
  {
   "cell_type": "code",
   "execution_count": 50,
   "metadata": {},
   "outputs": [
    {
     "data": {
      "text/plain": [
       "28.5"
      ]
     },
     "execution_count": 50,
     "metadata": {},
     "output_type": "execute_result"
    }
   ],
   "source": [
    "round ((ntweets.shape[0] / df.shape[0])*100,1)"
   ]
  },
  {
   "cell_type": "code",
   "execution_count": 21,
   "metadata": {},
   "outputs": [
    {
     "data": {
      "image/png": "[encoded data removed]",
      "text/plain": [
       "<Figure size 432x288 with 1 Axes>"
      ]
     },
     "metadata": {
      "needs_background": "light"
     },
     "output_type": "display_data"
    }
   ],
   "source": [
    "#Show the value counts\n",
    "df['Analysis'].value_counts()\n",
    "\n",
    "#Plot and show\n",
    "plt.title('Sentiment Analysis')\n",
    "plt.xlabel('Sentiment')\n",
    "plt.ylabel ('Counts')\n",
    "df['Analysis'].value_counts().plot(kind='bar')\n",
    "plt.show()"
   ]
  },
  {
   "cell_type": "markdown",
   "metadata": {},
   "source": [
    "### Observation:\n",
    "As mentioned earlier, this Twitter account's sample of 200 tweets reflects mostly positive tweets. Approximimately 75 percent of the tweets are , thus 25 percent are neutral. \n",
    "Let's look at 200 of his followers below:"
   ]
  },
  {
   "cell_type": "code",
   "execution_count": 22,
   "metadata": {},
   "outputs": [],
   "source": [
    "#Create a list of followers\n",
    "followers = []"
   ]
  },
  {
   "cell_type": "code",
   "execution_count": 23,
   "metadata": {},
   "outputs": [],
   "source": [
    "cursor = tweepy.Cursor(api.followers, screen_name = 'JZarif', count= 200) #Default is groups of 20.\n",
    "for account in cursor.items(10):\n",
    "    followers.append(account.screen_name)"
   ]
  },
  {
   "cell_type": "code",
   "execution_count": 24,
   "metadata": {},
   "outputs": [
    {
     "name": "stdout",
     "output_type": "stream",
     "text": [
      "Followers: Abolfaz36015828Alakpalak1caglayankejeFatima22011159Hadi65722210miss_khodaiemmehdipiranMohsen99744875QWVb99P3L3uFYRISadiIbnul\n"
     ]
    }
   ],
   "source": [
    "print(\"Followers:\", ''.join(sorted(followers, key=lambda s:s.lower())))\n",
    "#normalize by number of followers based on RT's"
   ]
  },
  {
   "cell_type": "code",
   "execution_count": 25,
   "metadata": {},
   "outputs": [],
   "source": [
    "#Get Followers' ID Method\n",
    "followers_ids = []\n",
    "#Below is protected info"
   ]
  },
  {
   "cell_type": "raw",
   "metadata": {},
   "source": [
    "cursor = tweepy.Cursor(api.followers_ids, screen_name = 'JZarif', count= 200) #Default is groups of 20.\n",
    "for account in cursor.items(10):\n",
    "    followers_ids.append(account.screen_name)"
   ]
  },
  {
   "cell_type": "code",
   "execution_count": 27,
   "metadata": {},
   "outputs": [],
   "source": [
    "#Determine who Javed Zarif follows: 'friends'\n",
    "friends = []\n",
    "cursor = tweepy.Cursor(api.friends, screen_name = 'JZarif')\n",
    "for friend in cursor.items(10):\n",
    "    friends.append(friend.screen_name)"
   ]
  },
  {
   "cell_type": "code",
   "execution_count": 28,
   "metadata": {},
   "outputs": [
    {
     "name": "stdout",
     "output_type": "stream",
     "text": [
      "Friends: araghchiebtekarmHassanRouhaniIPIS_IranIranForMinIRIMFA_ARIRIMFA_ENkhamenei_irSAMOUSAVI9TakhtRavanchi\n"
     ]
    }
   ],
   "source": [
    "print('Friends:', ''.join(sorted(friends, key =  lambda s: s.lower())))"
   ]
  },
  {
   "cell_type": "raw",
   "metadata": {},
   "source": [
    "#Create two new columns capturing 'followers' and 'friends' and readd to df\n",
    "\n",
    "#df['friends'] = df['Tweets'].apply(friends)\n",
    "df['followers'] = df['Tweets'].apply(followers)\n",
    "\n",
    "    #attempt 2\n",
    "#df['friends'] = df.append(df['friends'])\n",
    "\n",
    "        #attempt 3\n",
    "#df2 = df.insert(df[4,'friends',[for friend in cursor.items()],True])\n",
    "\n",
    "#Show the new dataframe\n",
    "df2"
   ]
  },
  {
   "cell_type": "markdown",
   "metadata": {},
   "source": [
    "### Trending Topics"
   ]
  },
  {
   "cell_type": "code",
   "execution_count": 30,
   "metadata": {},
   "outputs": [
    {
     "data": {
      "text/plain": [
       "467"
      ]
     },
     "execution_count": 30,
     "metadata": {},
     "output_type": "execute_result"
    }
   ],
   "source": [
    "#Trending Topics\n",
    "trends_available = api.trends_available()\n",
    "len(trends_available)"
   ]
  },
  {
   "cell_type": "code",
   "execution_count": 31,
   "metadata": {},
   "outputs": [
    {
     "data": {
      "text/plain": [
       "{'name': 'Worldwide',\n",
       " 'placeType': {'code': 19, 'name': 'Supername'},\n",
       " 'url': 'http://where.yahooapis.com/v1/place/1',\n",
       " 'parentid': 0,\n",
       " 'country': '',\n",
       " 'woeid': 1,\n",
       " 'countryCode': None}"
      ]
     },
     "execution_count": 31,
     "metadata": {},
     "output_type": "execute_result"
    }
   ],
   "source": [
    "trends_available[0]"
   ]
  },
  {
   "cell_type": "code",
   "execution_count": 32,
   "metadata": {},
   "outputs": [
    {
     "data": {
      "text/plain": [
       "{'name': 'Winnipeg',\n",
       " 'placeType': {'code': 7, 'name': 'Town'},\n",
       " 'url': 'http://where.yahooapis.com/v1/place/2972',\n",
       " 'parentid': 23424775,\n",
       " 'country': 'Canada',\n",
       " 'woeid': 2972,\n",
       " 'countryCode': 'CA'}"
      ]
     },
     "execution_count": 32,
     "metadata": {},
     "output_type": "execute_result"
    }
   ],
   "source": [
    "trends_available[1]"
   ]
  },
  {
   "cell_type": "code",
   "execution_count": 33,
   "metadata": {},
   "outputs": [],
   "source": [
    "#Trending Places\n",
    "world_trends = api.trends_place(id=1)"
   ]
  },
  {
   "cell_type": "code",
   "execution_count": 34,
   "metadata": {},
   "outputs": [],
   "source": [
    "trends_list =world_trends[0]['trends']"
   ]
  },
  {
   "cell_type": "code",
   "execution_count": 35,
   "metadata": {},
   "outputs": [
    {
     "data": {
      "text/plain": [
       "{'name': '#우리워너원_3주년에도_사랑해',\n",
       " 'url': 'http://twitter.com/search?q=%23%EC%9A%B0%EB%A6%AC%EC%9B%8C%EB%84%88%EC%9B%90_3%EC%A3%BC%EB%85%84%EC%97%90%EB%8F%84_%EC%82%AC%EB%9E%91%ED%95%B4',\n",
       " 'promoted_content': None,\n",
       " 'query': '%23%EC%9A%B0%EB%A6%AC%EC%9B%8C%EB%84%88%EC%9B%90_3%EC%A3%BC%EB%85%84%EC%97%90%EB%8F%84_%EC%82%AC%EB%9E%91%ED%95%B4',\n",
       " 'tweet_volume': 470624}"
      ]
     },
     "execution_count": 35,
     "metadata": {},
     "output_type": "execute_result"
    }
   ],
   "source": [
    "#Aug 6th's Trend topic list\n",
    "trends_list[0]"
   ]
  },
  {
   "cell_type": "code",
   "execution_count": 36,
   "metadata": {},
   "outputs": [],
   "source": [
    "#Volume of 10,000 tweets\n",
    "trends_list = [t for t in trends_list if t['tweet_volume']]"
   ]
  },
  {
   "cell_type": "code",
   "execution_count": 37,
   "metadata": {},
   "outputs": [],
   "source": [
    "from operator import itemgetter\n",
    "trends_list.sort(key = itemgetter('tweet_volume'),reverse= True)"
   ]
  },
  {
   "cell_type": "code",
   "execution_count": 38,
   "metadata": {},
   "outputs": [
    {
     "name": "stdout",
     "output_type": "stream",
     "text": [
      "#우리워너원_3주년에도_사랑해\n",
      "#DishaAndSSRHomicide\n",
      "#SevgiLimitTanimaz\n",
      "Hiroshima\n",
      "#TREASURE_DEBUT_DDAY\n"
     ]
    }
   ],
   "source": [
    "for trend in trends_list[:5]:\n",
    "    print(trend['name'])"
   ]
  },
  {
   "cell_type": "code",
   "execution_count": 39,
   "metadata": {},
   "outputs": [
    {
     "name": "stdout",
     "output_type": "stream",
     "text": [
      "Biden\n",
      "Lebanon\n",
      "Hiroshima\n",
      "#BB22\n",
      "#FOURTHCOUNTDOWN\n",
      "The NRA\n",
      "Pence\n",
      "Lakers\n",
      "Letitia James\n",
      "Independence Day\n"
     ]
    }
   ],
   "source": [
    "#Let's get top trending topics in Washington, DC on July 19th\n",
    "dc_trends = api.trends_place(id= 2514815) #WOEID = Washington, District of Columbia, 2514815\n",
    "dc_list = dc_trends[0]['trends']\n",
    "dc_list = [t for t in dc_list if t['tweet_volume']]\n",
    "dc_list.sort(key =itemgetter('tweet_volume'), reverse = True)\n",
    "for trend in dc_list[:10]:\n",
    "    print(trend['name'])"
   ]
  },
  {
   "cell_type": "markdown",
   "metadata": {},
   "source": [
    "### Observation:\n",
    "We see that the top 10 trending topics in DC are Biden, Lebanon, Hiroshima, two hashtags, The NRA, Pence, Lakers, Letitia James, and Independence Day. "
   ]
  },
  {
   "cell_type": "markdown",
   "metadata": {},
   "source": [
    "## Sentiment Analysis"
   ]
  },
  {
   "cell_type": "code",
   "execution_count": 41,
   "metadata": {},
   "outputs": [],
   "source": [
    "#Select tweets for review\n",
    "df['tweets_fixed'] = df['Tweets'].apply(lambda x: x if type(x) == str else '')"
   ]
  },
  {
   "cell_type": "code",
   "execution_count": 42,
   "metadata": {},
   "outputs": [
    {
     "data": {
      "text/html": [
       "<div>\n",
       "<style scoped>\n",
       "    .dataframe tbody tr th:only-of-type {\n",
       "        vertical-align: middle;\n",
       "    }\n",
       "\n",
       "    .dataframe tbody tr th {\n",
       "        vertical-align: top;\n",
       "    }\n",
       "\n",
       "    .dataframe thead th {\n",
       "        text-align: right;\n",
       "    }\n",
       "</style>\n",
       "<table border=\"1\" class=\"dataframe\">\n",
       "  <thead>\n",
       "    <tr style=\"text-align: right;\">\n",
       "      <th></th>\n",
       "      <th>Tweets</th>\n",
       "      <th>subjectivity</th>\n",
       "      <th>polarity</th>\n",
       "      <th>Analysis</th>\n",
       "      <th>tweets_fixed</th>\n",
       "    </tr>\n",
       "  </thead>\n",
       "  <tbody>\n",
       "    <tr>\n",
       "      <td>0</td>\n",
       "      <td>75 years ago today, the US gained the infamy o...</td>\n",
       "      <td>0.812500</td>\n",
       "      <td>-0.056250</td>\n",
       "      <td>Negative</td>\n",
       "      <td>75 years ago today, the US gained the infamy o...</td>\n",
       "    </tr>\n",
       "    <tr>\n",
       "      <td>1</td>\n",
       "      <td>@iabbasian ممنون از لطف شما و تذکرتان.</td>\n",
       "      <td>0.000000</td>\n",
       "      <td>0.000000</td>\n",
       "      <td>Neutral</td>\n",
       "      <td>@iabbasian ممنون از لطف شما و تذکرتان.</td>\n",
       "    </tr>\n",
       "    <tr>\n",
       "      <td>2</td>\n",
       "      <td>@iabbasian سلام دوست عزیزم. من خودم به عربی و ...</td>\n",
       "      <td>0.000000</td>\n",
       "      <td>0.000000</td>\n",
       "      <td>Neutral</td>\n",
       "      <td>@iabbasian سلام دوست عزیزم. من خودم به عربی و ...</td>\n",
       "    </tr>\n",
       "    <tr>\n",
       "      <td>3</td>\n",
       "      <td>عندما يريد الناطقون بالفارسية تقديم التعازي لل...</td>\n",
       "      <td>0.000000</td>\n",
       "      <td>0.000000</td>\n",
       "      <td>Neutral</td>\n",
       "      <td>عندما يريد الناطقون بالفارسية تقديم التعازي لل...</td>\n",
       "    </tr>\n",
       "    <tr>\n",
       "      <td>4</td>\n",
       "      <td>When Persian speakers want to express their co...</td>\n",
       "      <td>0.200000</td>\n",
       "      <td>0.000000</td>\n",
       "      <td>Neutral</td>\n",
       "      <td>When Persian speakers want to express their co...</td>\n",
       "    </tr>\n",
       "    <tr>\n",
       "      <td>...</td>\n",
       "      <td>...</td>\n",
       "      <td>...</td>\n",
       "      <td>...</td>\n",
       "      <td>...</td>\n",
       "      <td>...</td>\n",
       "    </tr>\n",
       "    <tr>\n",
       "      <td>195</td>\n",
       "      <td>At the UNSC, I explained what Hormuz Peace End...</td>\n",
       "      <td>0.000000</td>\n",
       "      <td>0.000000</td>\n",
       "      <td>Neutral</td>\n",
       "      <td>At the UNSC, I explained what Hormuz Peace End...</td>\n",
       "    </tr>\n",
       "    <tr>\n",
       "      <td>196</td>\n",
       "      <td>Your daily reminder that Israel possesses the ...</td>\n",
       "      <td>0.500000</td>\n",
       "      <td>0.000000</td>\n",
       "      <td>Neutral</td>\n",
       "      <td>Your daily reminder that Israel possesses the ...</td>\n",
       "    </tr>\n",
       "    <tr>\n",
       "      <td>197</td>\n",
       "      <td>E3's paralysis in fulfilling their obligations...</td>\n",
       "      <td>0.472576</td>\n",
       "      <td>-0.093636</td>\n",
       "      <td>Negative</td>\n",
       "      <td>E3's paralysis in fulfilling their obligations...</td>\n",
       "    </tr>\n",
       "    <tr>\n",
       "      <td>198</td>\n",
       "      <td>9/22/1980 is a dark day for Iranians as it mar...</td>\n",
       "      <td>0.200000</td>\n",
       "      <td>-0.075000</td>\n",
       "      <td>Negative</td>\n",
       "      <td>9/22/1980 is a dark day for Iranians as it mar...</td>\n",
       "    </tr>\n",
       "    <tr>\n",
       "      <td>199</td>\n",
       "      <td>Told @margbrennan: You sell me a building, but...</td>\n",
       "      <td>0.340000</td>\n",
       "      <td>0.060000</td>\n",
       "      <td>Positive</td>\n",
       "      <td>Told @margbrennan: You sell me a building, but...</td>\n",
       "    </tr>\n",
       "  </tbody>\n",
       "</table>\n",
       "<p>200 rows × 5 columns</p>\n",
       "</div>"
      ],
      "text/plain": [
       "                                                Tweets  subjectivity  \\\n",
       "0    75 years ago today, the US gained the infamy o...      0.812500   \n",
       "1               @iabbasian ممنون از لطف شما و تذکرتان.      0.000000   \n",
       "2    @iabbasian سلام دوست عزیزم. من خودم به عربی و ...      0.000000   \n",
       "3    عندما يريد الناطقون بالفارسية تقديم التعازي لل...      0.000000   \n",
       "4    When Persian speakers want to express their co...      0.200000   \n",
       "..                                                 ...           ...   \n",
       "195  At the UNSC, I explained what Hormuz Peace End...      0.000000   \n",
       "196  Your daily reminder that Israel possesses the ...      0.500000   \n",
       "197  E3's paralysis in fulfilling their obligations...      0.472576   \n",
       "198  9/22/1980 is a dark day for Iranians as it mar...      0.200000   \n",
       "199  Told @margbrennan: You sell me a building, but...      0.340000   \n",
       "\n",
       "     polarity  Analysis                                       tweets_fixed  \n",
       "0   -0.056250  Negative  75 years ago today, the US gained the infamy o...  \n",
       "1    0.000000   Neutral             @iabbasian ممنون از لطف شما و تذکرتان.  \n",
       "2    0.000000   Neutral  @iabbasian سلام دوست عزیزم. من خودم به عربی و ...  \n",
       "3    0.000000   Neutral  عندما يريد الناطقون بالفارسية تقديم التعازي لل...  \n",
       "4    0.000000   Neutral  When Persian speakers want to express their co...  \n",
       "..        ...       ...                                                ...  \n",
       "195  0.000000   Neutral  At the UNSC, I explained what Hormuz Peace End...  \n",
       "196  0.000000   Neutral  Your daily reminder that Israel possesses the ...  \n",
       "197 -0.093636  Negative  E3's paralysis in fulfilling their obligations...  \n",
       "198 -0.075000  Negative  9/22/1980 is a dark day for Iranians as it mar...  \n",
       "199  0.060000  Positive  Told @margbrennan: You sell me a building, but...  \n",
       "\n",
       "[200 rows x 5 columns]"
      ]
     },
     "execution_count": 42,
     "metadata": {},
     "output_type": "execute_result"
    }
   ],
   "source": [
    "#Review subjectivity and polarity of Zarif\n",
    "pol = lambda x: TextBlob(x).sentiment.polarity\n",
    "sub = lambda x: TextBlob(x).sentiment.subjectivity\n",
    "\n",
    "df['polarity'] = df['tweets_fixed'].apply(pol)\n",
    "df['subjectivity'] = df['tweets_fixed'].apply(sub)\n",
    "df"
   ]
  },
  {
   "cell_type": "code",
   "execution_count": null,
   "metadata": {},
   "outputs": [],
   "source": []
  },
  {
   "cell_type": "markdown",
   "metadata": {},
   "source": [
    "## Analysis: Bag of Words"
   ]
  },
  {
   "cell_type": "code",
   "execution_count": 89,
   "metadata": {},
   "outputs": [
    {
     "ename": "NameError",
     "evalue": "name 'Tweets' is not defined",
     "output_type": "error",
     "traceback": [
      "\u001b[0;31m---------------------------------------------------------------------------\u001b[0m",
      "\u001b[0;31mNameError\u001b[0m                                 Traceback (most recent call last)",
      "\u001b[0;32m<ipython-input-89-8967d395a98a>\u001b[0m in \u001b[0;36m<module>\u001b[0;34m\u001b[0m\n\u001b[1;32m      2\u001b[0m \u001b[0;31m# Parse the cleaned tweets. This can take a bit.\u001b[0m\u001b[0;34m\u001b[0m\u001b[0;34m\u001b[0m\u001b[0;34m\u001b[0m\u001b[0m\n\u001b[1;32m      3\u001b[0m \u001b[0mnlp\u001b[0m \u001b[0;34m=\u001b[0m \u001b[0mspacy\u001b[0m\u001b[0;34m.\u001b[0m\u001b[0mload\u001b[0m\u001b[0;34m(\u001b[0m\u001b[0;34m'en'\u001b[0m\u001b[0;34m)\u001b[0m\u001b[0;34m\u001b[0m\u001b[0;34m\u001b[0m\u001b[0m\n\u001b[0;32m----> 4\u001b[0;31m \u001b[0mtweets_doc\u001b[0m \u001b[0;34m=\u001b[0m \u001b[0mnlp\u001b[0m\u001b[0;34m(\u001b[0m\u001b[0mTweets\u001b[0m\u001b[0;34m)\u001b[0m\u001b[0;34m\u001b[0m\u001b[0;34m\u001b[0m\u001b[0m\n\u001b[0m",
      "\u001b[0;31mNameError\u001b[0m: name 'Tweets' is not defined"
     ]
    }
   ],
   "source": [
    "import spacy\n",
    "# Parse the cleaned tweets. This can take a bit.\n",
    "nlp = spacy.load('en')\n",
    "tweets_doc = nlp()"
   ]
  },
  {
   "cell_type": "code",
   "execution_count": 84,
   "metadata": {},
   "outputs": [],
   "source": [
    "# Utility function to create a list of the 2000 most common words.\n",
    "def bag_of_words(text):\n",
    "    \n",
    "    # Filter out punctuation and stop words.\n",
    "    allwords = [token.lemma_\n",
    "                for token in text\n",
    "                if not token.is_punct\n",
    "                and not token.is_stop]\n",
    "    \n",
    "    # Return the most common words.\n",
    "    return [item[0] for item in Counter(allwords).most_common(2000)]"
   ]
  },
  {
   "cell_type": "code",
   "execution_count": null,
   "metadata": {},
   "outputs": [],
   "source": [
    "# Creates a data frame with features for each word in our common word set.\n",
    "# Each value is the count of the times the word appears in each sentence.\n",
    "def bow_features(sentences, common_words):\n",
    "    \n",
    "    # Scaffold the data frame and initialize counts to zero.\n",
    "    df2 = pd.DataFrame(columns=common_words)\n",
    "    df['text_sentence'] = sentences[0]\n",
    "    df['text_source'] = sentences[1]\n",
    "    df.loc[:, common_words] = 0\n",
    "    \n",
    "    # Process each row, counting the occurrence of words in each sentence.\n",
    "    for i, sentence in enumerate(df['text_sentence']):\n",
    "        \n",
    "        # Convert the sentence to lemmas, then filter out punctuation,\n",
    "        # stop words, and uncommon words.\n",
    "        words = [token.lemma_\n",
    "                 for token in sentence\n",
    "                 if (\n",
    "                     not token.is_punct\n",
    "                     and not token.is_stop\n",
    "                     and token.lemma_ in common_words\n",
    "                 )]\n",
    "        \n",
    "        # Populate the row with word counts.\n",
    "        for word in words:\n",
    "            df.loc[i, word] += 1\n",
    "        \n",
    "        # This counter is just to make sure the kernel didn't hang.\n",
    "        if i % 50 == 0:\n",
    "            print(\"Processing row {}\".format(i))\n",
    "            \n",
    "    return df\n",
    "\n",
    "# Set up the bags.\n",
    "alicewords = bag_of_words(alice_doc)\n",
    "persuasionwords = bag_of_words(persuasion_doc)\n",
    "\n",
    "# Combine bags to create a set of unique words.\n",
    "common_words = set(alicewords + persuasionwords)"
   ]
  },
  {
   "cell_type": "markdown",
   "metadata": {},
   "source": [
    "## Analysis:  Conducting TFIDF"
   ]
  },
  {
   "cell_type": "code",
   "execution_count": 66,
   "metadata": {},
   "outputs": [
    {
     "data": {
      "text/html": [
       "<div>\n",
       "<style scoped>\n",
       "    .dataframe tbody tr th:only-of-type {\n",
       "        vertical-align: middle;\n",
       "    }\n",
       "\n",
       "    .dataframe tbody tr th {\n",
       "        vertical-align: top;\n",
       "    }\n",
       "\n",
       "    .dataframe thead th {\n",
       "        text-align: right;\n",
       "    }\n",
       "</style>\n",
       "<table border=\"1\" class=\"dataframe\">\n",
       "  <thead>\n",
       "    <tr style=\"text-align: right;\">\n",
       "      <th></th>\n",
       "      <th>Tweets</th>\n",
       "      <th>subjectivity</th>\n",
       "      <th>polarity</th>\n",
       "      <th>Analysis</th>\n",
       "    </tr>\n",
       "  </thead>\n",
       "  <tbody>\n",
       "    <tr>\n",
       "      <td>0</td>\n",
       "      <td>Fruitful continuation of visit to Iraqi Kurdis...</td>\n",
       "      <td>0.733333</td>\n",
       "      <td>0.433333</td>\n",
       "      <td>Positive</td>\n",
       "    </tr>\n",
       "    <tr>\n",
       "      <td>1</td>\n",
       "      <td>Productive talks in Baghdad with PM @MAKadhimi...</td>\n",
       "      <td>0.066667</td>\n",
       "      <td>-0.033333</td>\n",
       "      <td>Negative</td>\n",
       "    </tr>\n",
       "    <tr>\n",
       "      <td>2</td>\n",
       "      <td>Today is 5th anniv. of the JCPOA—last decade’s...</td>\n",
       "      <td>0.500000</td>\n",
       "      <td>0.500000</td>\n",
       "      <td>Positive</td>\n",
       "    </tr>\n",
       "    <tr>\n",
       "      <td>3</td>\n",
       "      <td>25 yrs ago today, SrebrenicaGenocide began as ...</td>\n",
       "      <td>0.135714</td>\n",
       "      <td>-0.102381</td>\n",
       "      <td>Negative</td>\n",
       "    </tr>\n",
       "    <tr>\n",
       "      <td>4</td>\n",
       "      <td>My virtual dialog earlier today with Rome 2020...</td>\n",
       "      <td>0.333333</td>\n",
       "      <td>0.100000</td>\n",
       "      <td>Positive</td>\n",
       "    </tr>\n",
       "    <tr>\n",
       "      <td>...</td>\n",
       "      <td>...</td>\n",
       "      <td>...</td>\n",
       "      <td>...</td>\n",
       "      <td>...</td>\n",
       "    </tr>\n",
       "    <tr>\n",
       "      <td>195</td>\n",
       "      <td>As the world—minus 3 or 2 panicked cohorts—was...</td>\n",
       "      <td>0.250000</td>\n",
       "      <td>0.000000</td>\n",
       "      <td>Neutral</td>\n",
       "    </tr>\n",
       "    <tr>\n",
       "      <td>196</td>\n",
       "      <td>Did you know, @realdonaldtrump, that Netanyahu...</td>\n",
       "      <td>0.063889</td>\n",
       "      <td>0.000000</td>\n",
       "      <td>Neutral</td>\n",
       "    </tr>\n",
       "    <tr>\n",
       "      <td>197</td>\n",
       "      <td></td>\n",
       "      <td>0.000000</td>\n",
       "      <td>0.000000</td>\n",
       "      <td>Neutral</td>\n",
       "    </tr>\n",
       "    <tr>\n",
       "      <td>198</td>\n",
       "      <td>The possessor of REAL nukes cries wolf—on an A...</td>\n",
       "      <td>0.411364</td>\n",
       "      <td>0.206818</td>\n",
       "      <td>Positive</td>\n",
       "    </tr>\n",
       "    <tr>\n",
       "      <td>199</td>\n",
       "      <td>Gravely concerned about Afghanistan: \\nDefeate...</td>\n",
       "      <td>0.500000</td>\n",
       "      <td>0.000000</td>\n",
       "      <td>Neutral</td>\n",
       "    </tr>\n",
       "  </tbody>\n",
       "</table>\n",
       "<p>200 rows × 4 columns</p>\n",
       "</div>"
      ],
      "text/plain": [
       "                                                Tweets  subjectivity  \\\n",
       "0    Fruitful continuation of visit to Iraqi Kurdis...      0.733333   \n",
       "1    Productive talks in Baghdad with PM @MAKadhimi...      0.066667   \n",
       "2    Today is 5th anniv. of the JCPOA—last decade’s...      0.500000   \n",
       "3    25 yrs ago today, SrebrenicaGenocide began as ...      0.135714   \n",
       "4    My virtual dialog earlier today with Rome 2020...      0.333333   \n",
       "..                                                 ...           ...   \n",
       "195  As the world—minus 3 or 2 panicked cohorts—was...      0.250000   \n",
       "196  Did you know, @realdonaldtrump, that Netanyahu...      0.063889   \n",
       "197                                                         0.000000   \n",
       "198  The possessor of REAL nukes cries wolf—on an A...      0.411364   \n",
       "199  Gravely concerned about Afghanistan: \\nDefeate...      0.500000   \n",
       "\n",
       "     polarity  Analysis  \n",
       "0    0.433333  Positive  \n",
       "1   -0.033333  Negative  \n",
       "2    0.500000  Positive  \n",
       "3   -0.102381  Negative  \n",
       "4    0.100000  Positive  \n",
       "..        ...       ...  \n",
       "195  0.000000   Neutral  \n",
       "196  0.000000   Neutral  \n",
       "197  0.000000   Neutral  \n",
       "198  0.206818  Positive  \n",
       "199  0.000000   Neutral  \n",
       "\n",
       "[200 rows x 4 columns]"
      ]
     },
     "execution_count": 66,
     "metadata": {},
     "output_type": "execute_result"
    }
   ],
   "source": [
    "X_train = df['Tweets']\n",
    "X = df['Tweets']\n",
    "df"
   ]
  },
  {
   "cell_type": "code",
   "execution_count": 70,
   "metadata": {},
   "outputs": [
    {
     "data": {
      "text/plain": [
       "CountVectorizer()"
      ]
     },
     "execution_count": 70,
     "metadata": {},
     "output_type": "execute_result"
    }
   ],
   "source": [
    "import nltk\n",
    "from sklearn.feature_extraction.text import TfidfVectorizer\n",
    "import re\n",
    "from sklearn.model_selection import train_test_split\n",
    "\n",
    "vect = CountVectorizer()\n",
    "vect.fit(X)"
   ]
  },
  {
   "cell_type": "code",
   "execution_count": 74,
   "metadata": {},
   "outputs": [
    {
     "name": "stdout",
     "output_type": "stream",
     "text": [
      "Number of features: 682\n",
      "['000', '11', '15', '17', '19', '1979', '19th', '2017', '2018', '2020', '2231', '24', '25', '30', '36', '40', '5th', 'abandon', 'able', 'abroad', 'absurd', 'access', 'accord', 'achieved', 'achieving', 'act', 'action', 'adana', 'addiction', 'address', 'administration', 'admitted', 'adventurism', 'advice', 'affairs', 'affected', 'afghan', 'afghanistan', 'afraid', 'african', 'agenda', 'aggression', 'ago', 'agreed', 'agreement', 'ahead', 'allies', 'alternative', 'ambassador', 'american', 'amid', 'amp', 'ancient', 'anniversary', 'antonioguterres', 'apartheid', 'appeasement', 'appeasing', 'appetite', 'appreciate', 'armed', 'arms', 'arrogant', 'asia', 'assassination', 'assassinations', 'assist', 'assistance', 'astana', 'attack', 'attacks', 'attend', 'avoid', 'away', 'b_team', 'bank', 'base', 'begin', 'begun', 'behavior', 'believe', 'better', 'bilateral', 'blamed', 'blaming', 'blood', 'bloodshed', 'blueprint', 'body', 'bowing', 'break', 'bring', 'brother', 'building', 'bully', 'bullying', 'calling', 'campaign', 'capable', 'care', 'carrying', 'case', 'cause', 'caused', 'cease', 'ceased', 'ceasing', 'celebrating', 'center', 'central', 'century', 'change', 'charity', 'charter', 'check', 'china', 'chinese', 'christian', 'cities', 'citizens', 'claims', 'clear', 'clients', 'clip', 'closer', 'cnn', 'coalition', 'cogens', 'colleagues', 'come', 'commitment', 'commitments', 'community', 'compatriots', 'compensating', 'complain', 'complying', 'comprehensive', 'concluded', 'condolences', 'congratulations', 'consequences', 'consular', 'consulates', 'contempt', 'continue', 'cooperation', 'coronavirus', 'council', 'counterparts', 'countries', 'country', 'courage', 'court', 'cover', 'covid19', 'cowardly', 'credibility', 'crime', 'crimes', 'crisis', 'cronies', 'cultural', 'day', 'days', 'deal', 'decade', 'decide', 'decisions', 'declared', 'defend', 'defense', 'defensive', 'democracy', 'designed', 'desperate', 'despite', 'development', 'dialog', 'dialogue', 'did', 'didn', 'diplomacy', 'diplomat', 'diplomatic', 'diplomats', 'disaster', 'discriminate', 'discuss', 'displays', 'disregard', 'does', 'doesn', 'doing', 'don', 'dreaming', 'drm', 'duties', 'duty', 'e3', 'easy', 'economic', 'economicterrorism', 'economy', 'effective', 'efforts', 'embargoing', 'embassies', 'emphasized', 'enabling', 'end', 'endeavor', 'endeavour', 'enemies', 'engaged', 'english', 'ensure', 'entire', 'equipment', 'escalation', 'especially', 'et', 'eu', 'europe', 'excellent', 'exchange', 'exhausted', 'face', 'facilitate', 'facilities', 'failed', 'failure', 'families', 'family', 'fight', 'fighting', 'final', 'fm', 'focus', 'follow', 'food', 'force', 'forces', 'foreign', 'forever', 'forge', 'forging', 'forum', 'forward', 'friend', 'friendly', 'friends', 'fruitful', 'ft', 'fulfill', 'fulfilling', 'fully', 'fund', 'future', 'general', 'given', 'global', 'globe', 'good', 'government', 'govt', 'grateful', 'grave', 'ground', 'growing', 'gulf', 'hasn', 'hassanrouhani', 'having', 'held', 'help', 'heritage', 'heroes', 'high', 'history', 'home', 'hope', 'hormuz', 'horrific', 'hostage', 'hosts', 'house', 'huge', 'human', 'humanitarian', 'humanity', 'iaea', 'ideas', 'illegal', 'imagine', 'immoral', 'impeding', 'imperative', 'implementation', 'important', 'importantly', 'imports', 'incl', 'including', 'independent', 'india', 'indian', 'industry', 'infamy', 'inhuman', 'innocent', 'innocents', 'innovation', 'instead', 'instex', 'int', 'integrity', 'interests', 'international', 'interview', 'inthistogether', 'intl', 'invite', 'iran', 'iranian', 'iranians', 'iraq', 'iraqi', 'isis', 'islam', 'islamic', 'isn', 'israel', 'issues', 'istanbul', 'jcpoa', 'join', 'joining', 'joint', 'june', 'jus', 'just', 'kill', 'killing', 'kills', 'kits', 'klsummit2019', 'knees', 'later', 'latest', 'launched', 'lavrov', 'law', 'lawless', 'leaders', 'leaderships', 'leave', 'led', 'left', 'legal', 'lesson', 'let', 'letter', 'lied', 'lies', 'life', 'like', 'line', 'live', 'living', 'll', 'long', 'longer', 'makadhimi', 'make', 'malign', 'man', 'mandela', 'masks', 'masquerading', 'max', 'maximum', 'measures', 'media', 'medical', 'medicine', 'meeting', 'meetings', 'member', 'memory', 'merely', 'message', 'met', 'mevlutcavusoglu', 'miles', 'military', 'millions', 'minister', 'ministerial', 'ministry', 'mislead', 'missile', 'missiles', 'missions', 'months', 'moral', 'moscow', 'mr', 'multilateralism', 'munsecconf', 'muslims', 'muster', 'nation', 'nations', 'need', 'needed', 'needs', 'neighbors', 'neighborsfirst', 'netanyahu', 'new', 'non', 'normal', 'norms', 'nowruz', 'nuclear', 'nukes', 'number', 'obligations', 'observing', 'occasion', 'officials', 'oil', 'old', 'oman', 'openly', 'opportunity', 'ordered', 'ordinary', 'outlined', 'overdue', 'palestinians', 'pandemic', 'parroting', 'participant', 'participation', 'parties', 'partners', 'party', 'past', 'path', 'pay', 'peace', 'peaceful', 'people', 'permission', 'persian', 'pleased', 'pm', 'policy', 'political', 'politics', 'pompeo', 'possible', 'pres', 'presence', 'present', 'president', 'pressure', 'preventing', 'prime', 'principles', 'priority', 'process', 'productive', 'products', 'progress', 'prohibition', 'prophet', 'proportionate', 'prosperity', 'ps752', 'pushed', 'raisina2020', 'ramadan', 'ravages', 'read', 'readiness', 'ready', 'real', 'realdonaldtrump', 'reality', 'realize', 'really', 'receiving', 'recognize', 'referendum', 'refuses', 'regime', 'region', 'regional', 'relations', 'relief', 'remain', 'remedy', 'remember', 'reminder', 'remnants', 'res', 'resolution', 'resources', 'respect', 'respective', 'response', 'return', 'right', 'role', 'rt', 'rule', 'russia', 'russian', 'sad', 'saddam', 'safe', 'sanctions', 'saudi', 'save', 'say', 'sea', 'secpompeo', 'secretary', 'security', 'seek', 'seen', 'self', 'sell', 'selling', 'senior', 'september', 'set', 'shameless', 'share', 'shores', 'shortly', 'sidelines', 'significant', 'silent', 'sites', 'sold', 'soldier', 'soleimani', 'solution', 'south', 'sovereignty', 'special', 'stability', 'stand', 'standing', 'starts', 'starve', 'state', 'stated', 'statement', 'states', 'step', 'stop', 'strategic', 'strike', 'suffering', 'summit', 'syria', 'table', 'takes', 'talk', 'talks', 'tanks', 'targeting', 'tariffs', 'tdf2020', 'tech', 'tehran', 'tension', 'territorial', 'terror', 'terrorism', 'terrorist', 'terrorists', 'test', 'thanks', 'think', 'thoughts', 'threat', 'threatens', 'threats', 'time', 'today', 'told', 'took', 'trade', 'tragedy', 'triggered', 'trump', 'try', 'turkey', 'turned', 'uk', 'united', 'unlike', 'unprecedented', 'unsc', 'unscr', 'urge', 'urgent', 'use', 'utter', 've', 'ventilators', 'victims', 'video', 'violated', 'violating', 'violations', 'violence', 'virtual', 'viruses', 'vision', 'visit', 'vital', 'wake', 'want', 'wants', 'war', 'warmongering', 'watch', 'way', 'weapons', 'week', 'west', 'western', 'whet', 'white', 'wishing', 'won', 'words', 'work', 'world', 'worldagainstracism', 'worldwide', 'wrapping', 'wrong', 'yalda', 'year', 'years', 'yemen', 'yemeni', 'yemenis', 'young', 'yrs', 'санкций', 'страны', 'целях', 'أن', 'الإنسان', 'العالم', 'الله', 'المنطقة', 'الى', 'ان', 'ايران', 'ایران', 'شعوبها', 'على', 'علی', 'عمان', 'في', 'فی', 'مع', 'من', 'نحو', 'ها', 'هذا', 'کما']\n"
     ]
    }
   ],
   "source": [
    "vectorizer = TfidfVectorizer(max_df=.6, # drop words that occur in more than 60% the tweets\n",
    "                             min_df=2, # only use words that appear at least twice\n",
    "                             stop_words='english', \n",
    "                             lowercase=True, #convert everything to lower case (since shouting uses CAPITALIZING WORDS for EMPHASIS)\n",
    "                             use_idf=True,#we definitely want to use inverse document frequencies in our weighting\n",
    "                             norm=u'l2', #Applies a correction factor so that longer paragraphs and shorter paragraphs get treated equally\n",
    "                             smooth_idf=True #Adds 1 to all document frequencies, as if an extra document existed that used every word once.  Prevents divide-by-zero errors\n",
    "                            )\n",
    "\n",
    "\n",
    "#Applying the vectorizer to 'X', which is the 'Tweets' column to produce zarif_tweets_tfidf\n",
    "zarif_tweets_tfidf = vectorizer.fit_transform(X)\n",
    "print(\"Number of features: %d\" % zarif_tweets_tfidf.get_shape()[1])\n",
    "\n",
    "#splitting into training and test sets\n",
    "X_train_tfidf, X_test_tfidf= train_test_split(zarif_tweets_tfidf, test_size=0.4, random_state=0)\n",
    "\n",
    "\n",
    "#Reshapes the vectorizer output into something people can read\n",
    "X_train_tweets_tfidf_csr = X_train_tfidf.tocsr()\n",
    "\n",
    "#number of paragraphs\n",
    "n = X_train_tweets_tfidf_csr.shape[0]\n",
    "\n",
    "#A list of dictionaries, one per paragraph\n",
    "tfidf_bypara = [{} for _ in range(0,n)]\n",
    "#List of features\n",
    "terms = vectorizer.get_feature_names()\n",
    "print(terms)"
   ]
  },
  {
   "cell_type": "code",
   "execution_count": 77,
   "metadata": {},
   "outputs": [
    {
     "name": "stdout",
     "output_type": "stream",
     "text": [
      "Original sentence: 在中国端午节来临前夕，很高兴同中国国务委员兼外长王毅举行视频会晤。我们就深化两国全面战略伙伴关系、推动25年双边合作计划、加强在国际事务中相互支持等议题达成共识。我们都重申对伊核协议、多边主义及国际法的支持，共同反对单边主义、反对削弱伊核协议。借此机会，要特别祝中国朋友们端午安康！\n",
      "Tf_idf vector: {'worldwide': 0.26495932987212667, 'colleagues': 0.238954333063999, 'assistance': 0.25031407515543835, 'embassies': 0.26495932987212667, 'ministry': 0.26495932987212667, 'victims': 0.22182527956262918, 'tragedy': 0.26495932987212667, 'consulates': 0.26495932987212667, 'foreign': 0.20903142075597836, 'missions': 0.26495932987212667, 'needed': 0.26495932987212667, 'stand': 0.26495932987212667, 'nation': 0.22182527956262918, 'share': 0.26495932987212667, 'ready': 0.238954333063999, 'families': 0.22182527956262918}\n"
     ]
    }
   ],
   "source": [
    "#for each paragraph, lists the feature words and their tf-idf scores\n",
    "for i, j in zip(*X_train_tweets_tfidf_csr.nonzero()):\n",
    "    tfidf_bypara[i][terms[j]] = X_train_tweets_tfidf_csr[i, j]\n",
    "\n",
    "#Keep in mind that the log base 2 of 1 is 0, so a tf-idf score of 0 indicates that the word was present once in that sentence.\n",
    "print('Original sentence:', X[10])\n",
    "print('Tf_idf vector:', tfidf_bypara[25])"
   ]
  },
  {
   "cell_type": "markdown",
   "metadata": {},
   "source": [
    "#### Observation:\n",
    "We see that the highest score is .264 and includes terms: 'embassies','worldwide', 'missions', 'tragedy'.\n",
    "Let's plot the TF-IDF vectors and their appearance.\n"
   ]
  },
  {
   "cell_type": "markdown",
   "metadata": {},
   "source": [
    "### Dimension Reduction"
   ]
  },
  {
   "cell_type": "code",
   "execution_count": 79,
   "metadata": {},
   "outputs": [
    {
     "name": "stdout",
     "output_type": "stream",
     "text": [
      "Percent variance captured by all components: 95.74242589767863\n"
     ]
    }
   ],
   "source": [
    "from sklearn.decomposition import TruncatedSVD\n",
    "from sklearn.pipeline import make_pipeline\n",
    "from sklearn.preprocessing import Normalizer\n",
    "\n",
    "#Our SVD data reducer.  We are going to reduce the feature space from 682 to 100.\n",
    "svd= TruncatedSVD(100)\n",
    "lsa = make_pipeline(svd, Normalizer(copy=False))\n",
    "# Run SVD on the training data, then project the training data.\n",
    "X_train_lsa = lsa.fit_transform(X_train_tweets_tfidf_csr)\n",
    "\n",
    "variance_explained=svd.explained_variance_ratio_\n",
    "total_variance = variance_explained.sum()\n",
    "print(\"Percent variance captured by all components:\",total_variance*100)"
   ]
  },
  {
   "cell_type": "markdown",
   "metadata": {},
   "source": [
    "#### Observation:\n",
    "Capturing 95.7 percent of the components' variance is promising."
   ]
  },
  {
   "cell_type": "code",
   "execution_count": 81,
   "metadata": {},
   "outputs": [
    {
     "ename": "ValueError",
     "evalue": "Shape of passed values is (120, 100), indices imply (200, 100)",
     "output_type": "error",
     "traceback": [
      "\u001b[0;31m---------------------------------------------------------------------------\u001b[0m",
      "\u001b[0;31mValueError\u001b[0m                                Traceback (most recent call last)",
      "\u001b[0;32m/opt/anaconda3/lib/python3.7/site-packages/pandas/core/internals/managers.py\u001b[0m in \u001b[0;36mcreate_block_manager_from_blocks\u001b[0;34m(blocks, axes)\u001b[0m\n\u001b[1;32m   1680\u001b[0m \u001b[0;34m\u001b[0m\u001b[0m\n\u001b[0;32m-> 1681\u001b[0;31m         \u001b[0mmgr\u001b[0m \u001b[0;34m=\u001b[0m \u001b[0mBlockManager\u001b[0m\u001b[0;34m(\u001b[0m\u001b[0mblocks\u001b[0m\u001b[0;34m,\u001b[0m \u001b[0maxes\u001b[0m\u001b[0;34m)\u001b[0m\u001b[0;34m\u001b[0m\u001b[0;34m\u001b[0m\u001b[0m\n\u001b[0m\u001b[1;32m   1682\u001b[0m         \u001b[0mmgr\u001b[0m\u001b[0;34m.\u001b[0m\u001b[0m_consolidate_inplace\u001b[0m\u001b[0;34m(\u001b[0m\u001b[0;34m)\u001b[0m\u001b[0;34m\u001b[0m\u001b[0;34m\u001b[0m\u001b[0m\n",
      "\u001b[0;32m/opt/anaconda3/lib/python3.7/site-packages/pandas/core/internals/managers.py\u001b[0m in \u001b[0;36m__init__\u001b[0;34m(self, blocks, axes, do_integrity_check)\u001b[0m\n\u001b[1;32m    142\u001b[0m         \u001b[0;32mif\u001b[0m \u001b[0mdo_integrity_check\u001b[0m\u001b[0;34m:\u001b[0m\u001b[0;34m\u001b[0m\u001b[0;34m\u001b[0m\u001b[0m\n\u001b[0;32m--> 143\u001b[0;31m             \u001b[0mself\u001b[0m\u001b[0;34m.\u001b[0m\u001b[0m_verify_integrity\u001b[0m\u001b[0;34m(\u001b[0m\u001b[0;34m)\u001b[0m\u001b[0;34m\u001b[0m\u001b[0;34m\u001b[0m\u001b[0m\n\u001b[0m\u001b[1;32m    144\u001b[0m \u001b[0;34m\u001b[0m\u001b[0m\n",
      "\u001b[0;32m/opt/anaconda3/lib/python3.7/site-packages/pandas/core/internals/managers.py\u001b[0m in \u001b[0;36m_verify_integrity\u001b[0;34m(self)\u001b[0m\n\u001b[1;32m    344\u001b[0m             \u001b[0;32mif\u001b[0m \u001b[0mblock\u001b[0m\u001b[0;34m.\u001b[0m\u001b[0m_verify_integrity\u001b[0m \u001b[0;32mand\u001b[0m \u001b[0mblock\u001b[0m\u001b[0;34m.\u001b[0m\u001b[0mshape\u001b[0m\u001b[0;34m[\u001b[0m\u001b[0;36m1\u001b[0m\u001b[0;34m:\u001b[0m\u001b[0;34m]\u001b[0m \u001b[0;34m!=\u001b[0m \u001b[0mmgr_shape\u001b[0m\u001b[0;34m[\u001b[0m\u001b[0;36m1\u001b[0m\u001b[0;34m:\u001b[0m\u001b[0;34m]\u001b[0m\u001b[0;34m:\u001b[0m\u001b[0;34m\u001b[0m\u001b[0;34m\u001b[0m\u001b[0m\n\u001b[0;32m--> 345\u001b[0;31m                 \u001b[0mconstruction_error\u001b[0m\u001b[0;34m(\u001b[0m\u001b[0mtot_items\u001b[0m\u001b[0;34m,\u001b[0m \u001b[0mblock\u001b[0m\u001b[0;34m.\u001b[0m\u001b[0mshape\u001b[0m\u001b[0;34m[\u001b[0m\u001b[0;36m1\u001b[0m\u001b[0;34m:\u001b[0m\u001b[0;34m]\u001b[0m\u001b[0;34m,\u001b[0m \u001b[0mself\u001b[0m\u001b[0;34m.\u001b[0m\u001b[0maxes\u001b[0m\u001b[0;34m)\u001b[0m\u001b[0;34m\u001b[0m\u001b[0;34m\u001b[0m\u001b[0m\n\u001b[0m\u001b[1;32m    346\u001b[0m         \u001b[0;32mif\u001b[0m \u001b[0mlen\u001b[0m\u001b[0;34m(\u001b[0m\u001b[0mself\u001b[0m\u001b[0;34m.\u001b[0m\u001b[0mitems\u001b[0m\u001b[0;34m)\u001b[0m \u001b[0;34m!=\u001b[0m \u001b[0mtot_items\u001b[0m\u001b[0;34m:\u001b[0m\u001b[0;34m\u001b[0m\u001b[0;34m\u001b[0m\u001b[0m\n",
      "\u001b[0;32m/opt/anaconda3/lib/python3.7/site-packages/pandas/core/internals/managers.py\u001b[0m in \u001b[0;36mconstruction_error\u001b[0;34m(tot_items, block_shape, axes, e)\u001b[0m\n\u001b[1;32m   1718\u001b[0m     raise ValueError(\n\u001b[0;32m-> 1719\u001b[0;31m         \u001b[0;34m\"Shape of passed values is {0}, indices imply {1}\"\u001b[0m\u001b[0;34m.\u001b[0m\u001b[0mformat\u001b[0m\u001b[0;34m(\u001b[0m\u001b[0mpassed\u001b[0m\u001b[0;34m,\u001b[0m \u001b[0mimplied\u001b[0m\u001b[0;34m)\u001b[0m\u001b[0;34m\u001b[0m\u001b[0;34m\u001b[0m\u001b[0m\n\u001b[0m\u001b[1;32m   1720\u001b[0m     )\n",
      "\u001b[0;31mValueError\u001b[0m: Shape of passed values is (120, 100), indices imply (200, 100)",
      "\nDuring handling of the above exception, another exception occurred:\n",
      "\u001b[0;31mValueError\u001b[0m                                Traceback (most recent call last)",
      "\u001b[0;32m<ipython-input-81-ca9ab5823f39>\u001b[0m in \u001b[0;36m<module>\u001b[0;34m\u001b[0m\n\u001b[1;32m      1\u001b[0m \u001b[0;31m#Looking at what sorts of paragraphs our solution considers similar, for the first 10 identified topics\u001b[0m\u001b[0;34m\u001b[0m\u001b[0;34m\u001b[0m\u001b[0;34m\u001b[0m\u001b[0m\n\u001b[0;32m----> 2\u001b[0;31m \u001b[0mparas_by_component\u001b[0m\u001b[0;34m=\u001b[0m\u001b[0mpd\u001b[0m\u001b[0;34m.\u001b[0m\u001b[0mDataFrame\u001b[0m\u001b[0;34m(\u001b[0m\u001b[0mX_train_lsa\u001b[0m\u001b[0;34m,\u001b[0m\u001b[0mindex\u001b[0m\u001b[0;34m=\u001b[0m\u001b[0mX_train\u001b[0m\u001b[0;34m)\u001b[0m\u001b[0;34m\u001b[0m\u001b[0;34m\u001b[0m\u001b[0m\n\u001b[0m\u001b[1;32m      3\u001b[0m \u001b[0;32mfor\u001b[0m \u001b[0mi\u001b[0m \u001b[0;32min\u001b[0m \u001b[0mrange\u001b[0m\u001b[0;34m(\u001b[0m\u001b[0;36m10\u001b[0m\u001b[0;34m)\u001b[0m\u001b[0;34m:\u001b[0m\u001b[0;34m\u001b[0m\u001b[0;34m\u001b[0m\u001b[0m\n\u001b[1;32m      4\u001b[0m     \u001b[0mprint\u001b[0m\u001b[0;34m(\u001b[0m\u001b[0;34m'Component {}:'\u001b[0m\u001b[0;34m.\u001b[0m\u001b[0mformat\u001b[0m\u001b[0;34m(\u001b[0m\u001b[0mi\u001b[0m\u001b[0;34m)\u001b[0m\u001b[0;34m)\u001b[0m\u001b[0;34m\u001b[0m\u001b[0;34m\u001b[0m\u001b[0m\n\u001b[1;32m      5\u001b[0m     \u001b[0mprint\u001b[0m\u001b[0;34m(\u001b[0m\u001b[0mparas_by_component\u001b[0m\u001b[0;34m.\u001b[0m\u001b[0mloc\u001b[0m\u001b[0;34m[\u001b[0m\u001b[0;34m[\u001b[0m\u001b[0mdf\u001b[0m\u001b[0;34m]\u001b[0m\u001b[0;34m:\u001b[0m\u001b[0;34m,\u001b[0m\u001b[0mi\u001b[0m\u001b[0;34m]\u001b[0m\u001b[0;34m.\u001b[0m\u001b[0msort_values\u001b[0m\u001b[0;34m(\u001b[0m\u001b[0mascending\u001b[0m\u001b[0;34m=\u001b[0m\u001b[0;32mFalse\u001b[0m\u001b[0;34m)\u001b[0m\u001b[0;34m[\u001b[0m\u001b[0;36m0\u001b[0m\u001b[0;34m:\u001b[0m\u001b[0;36m10\u001b[0m\u001b[0;34m]\u001b[0m\u001b[0;34m)\u001b[0m\u001b[0;34m\u001b[0m\u001b[0;34m\u001b[0m\u001b[0m\n",
      "\u001b[0;32m/opt/anaconda3/lib/python3.7/site-packages/pandas/core/frame.py\u001b[0m in \u001b[0;36m__init__\u001b[0;34m(self, data, index, columns, dtype, copy)\u001b[0m\n\u001b[1;32m    438\u001b[0m                 \u001b[0mmgr\u001b[0m \u001b[0;34m=\u001b[0m \u001b[0minit_dict\u001b[0m\u001b[0;34m(\u001b[0m\u001b[0;34m{\u001b[0m\u001b[0mdata\u001b[0m\u001b[0;34m.\u001b[0m\u001b[0mname\u001b[0m\u001b[0;34m:\u001b[0m \u001b[0mdata\u001b[0m\u001b[0;34m}\u001b[0m\u001b[0;34m,\u001b[0m \u001b[0mindex\u001b[0m\u001b[0;34m,\u001b[0m \u001b[0mcolumns\u001b[0m\u001b[0;34m,\u001b[0m \u001b[0mdtype\u001b[0m\u001b[0;34m=\u001b[0m\u001b[0mdtype\u001b[0m\u001b[0;34m)\u001b[0m\u001b[0;34m\u001b[0m\u001b[0;34m\u001b[0m\u001b[0m\n\u001b[1;32m    439\u001b[0m             \u001b[0;32melse\u001b[0m\u001b[0;34m:\u001b[0m\u001b[0;34m\u001b[0m\u001b[0;34m\u001b[0m\u001b[0m\n\u001b[0;32m--> 440\u001b[0;31m                 \u001b[0mmgr\u001b[0m \u001b[0;34m=\u001b[0m \u001b[0minit_ndarray\u001b[0m\u001b[0;34m(\u001b[0m\u001b[0mdata\u001b[0m\u001b[0;34m,\u001b[0m \u001b[0mindex\u001b[0m\u001b[0;34m,\u001b[0m \u001b[0mcolumns\u001b[0m\u001b[0;34m,\u001b[0m \u001b[0mdtype\u001b[0m\u001b[0;34m=\u001b[0m\u001b[0mdtype\u001b[0m\u001b[0;34m,\u001b[0m \u001b[0mcopy\u001b[0m\u001b[0;34m=\u001b[0m\u001b[0mcopy\u001b[0m\u001b[0;34m)\u001b[0m\u001b[0;34m\u001b[0m\u001b[0;34m\u001b[0m\u001b[0m\n\u001b[0m\u001b[1;32m    441\u001b[0m \u001b[0;34m\u001b[0m\u001b[0m\n\u001b[1;32m    442\u001b[0m         \u001b[0;31m# For data is list-like, or Iterable (will consume into list)\u001b[0m\u001b[0;34m\u001b[0m\u001b[0;34m\u001b[0m\u001b[0;34m\u001b[0m\u001b[0m\n",
      "\u001b[0;32m/opt/anaconda3/lib/python3.7/site-packages/pandas/core/internals/construction.py\u001b[0m in \u001b[0;36minit_ndarray\u001b[0;34m(values, index, columns, dtype, copy)\u001b[0m\n\u001b[1;32m    211\u001b[0m         \u001b[0mblock_values\u001b[0m \u001b[0;34m=\u001b[0m \u001b[0;34m[\u001b[0m\u001b[0mvalues\u001b[0m\u001b[0;34m]\u001b[0m\u001b[0;34m\u001b[0m\u001b[0;34m\u001b[0m\u001b[0m\n\u001b[1;32m    212\u001b[0m \u001b[0;34m\u001b[0m\u001b[0m\n\u001b[0;32m--> 213\u001b[0;31m     \u001b[0;32mreturn\u001b[0m \u001b[0mcreate_block_manager_from_blocks\u001b[0m\u001b[0;34m(\u001b[0m\u001b[0mblock_values\u001b[0m\u001b[0;34m,\u001b[0m \u001b[0;34m[\u001b[0m\u001b[0mcolumns\u001b[0m\u001b[0;34m,\u001b[0m \u001b[0mindex\u001b[0m\u001b[0;34m]\u001b[0m\u001b[0;34m)\u001b[0m\u001b[0;34m\u001b[0m\u001b[0;34m\u001b[0m\u001b[0m\n\u001b[0m\u001b[1;32m    214\u001b[0m \u001b[0;34m\u001b[0m\u001b[0m\n\u001b[1;32m    215\u001b[0m \u001b[0;34m\u001b[0m\u001b[0m\n",
      "\u001b[0;32m/opt/anaconda3/lib/python3.7/site-packages/pandas/core/internals/managers.py\u001b[0m in \u001b[0;36mcreate_block_manager_from_blocks\u001b[0;34m(blocks, axes)\u001b[0m\n\u001b[1;32m   1686\u001b[0m         \u001b[0mblocks\u001b[0m \u001b[0;34m=\u001b[0m \u001b[0;34m[\u001b[0m\u001b[0mgetattr\u001b[0m\u001b[0;34m(\u001b[0m\u001b[0mb\u001b[0m\u001b[0;34m,\u001b[0m \u001b[0;34m\"values\"\u001b[0m\u001b[0;34m,\u001b[0m \u001b[0mb\u001b[0m\u001b[0;34m)\u001b[0m \u001b[0;32mfor\u001b[0m \u001b[0mb\u001b[0m \u001b[0;32min\u001b[0m \u001b[0mblocks\u001b[0m\u001b[0;34m]\u001b[0m\u001b[0;34m\u001b[0m\u001b[0;34m\u001b[0m\u001b[0m\n\u001b[1;32m   1687\u001b[0m         \u001b[0mtot_items\u001b[0m \u001b[0;34m=\u001b[0m \u001b[0msum\u001b[0m\u001b[0;34m(\u001b[0m\u001b[0mb\u001b[0m\u001b[0;34m.\u001b[0m\u001b[0mshape\u001b[0m\u001b[0;34m[\u001b[0m\u001b[0;36m0\u001b[0m\u001b[0;34m]\u001b[0m \u001b[0;32mfor\u001b[0m \u001b[0mb\u001b[0m \u001b[0;32min\u001b[0m \u001b[0mblocks\u001b[0m\u001b[0;34m)\u001b[0m\u001b[0;34m\u001b[0m\u001b[0;34m\u001b[0m\u001b[0m\n\u001b[0;32m-> 1688\u001b[0;31m         \u001b[0mconstruction_error\u001b[0m\u001b[0;34m(\u001b[0m\u001b[0mtot_items\u001b[0m\u001b[0;34m,\u001b[0m \u001b[0mblocks\u001b[0m\u001b[0;34m[\u001b[0m\u001b[0;36m0\u001b[0m\u001b[0;34m]\u001b[0m\u001b[0;34m.\u001b[0m\u001b[0mshape\u001b[0m\u001b[0;34m[\u001b[0m\u001b[0;36m1\u001b[0m\u001b[0;34m:\u001b[0m\u001b[0;34m]\u001b[0m\u001b[0;34m,\u001b[0m \u001b[0maxes\u001b[0m\u001b[0;34m,\u001b[0m \u001b[0me\u001b[0m\u001b[0;34m)\u001b[0m\u001b[0;34m\u001b[0m\u001b[0;34m\u001b[0m\u001b[0m\n\u001b[0m\u001b[1;32m   1689\u001b[0m \u001b[0;34m\u001b[0m\u001b[0m\n\u001b[1;32m   1690\u001b[0m \u001b[0;34m\u001b[0m\u001b[0m\n",
      "\u001b[0;32m/opt/anaconda3/lib/python3.7/site-packages/pandas/core/internals/managers.py\u001b[0m in \u001b[0;36mconstruction_error\u001b[0;34m(tot_items, block_shape, axes, e)\u001b[0m\n\u001b[1;32m   1717\u001b[0m         \u001b[0;32mraise\u001b[0m \u001b[0mValueError\u001b[0m\u001b[0;34m(\u001b[0m\u001b[0;34m\"Empty data passed with indices specified.\"\u001b[0m\u001b[0;34m)\u001b[0m\u001b[0;34m\u001b[0m\u001b[0;34m\u001b[0m\u001b[0m\n\u001b[1;32m   1718\u001b[0m     raise ValueError(\n\u001b[0;32m-> 1719\u001b[0;31m         \u001b[0;34m\"Shape of passed values is {0}, indices imply {1}\"\u001b[0m\u001b[0;34m.\u001b[0m\u001b[0mformat\u001b[0m\u001b[0;34m(\u001b[0m\u001b[0mpassed\u001b[0m\u001b[0;34m,\u001b[0m \u001b[0mimplied\u001b[0m\u001b[0;34m)\u001b[0m\u001b[0;34m\u001b[0m\u001b[0;34m\u001b[0m\u001b[0m\n\u001b[0m\u001b[1;32m   1720\u001b[0m     )\n\u001b[1;32m   1721\u001b[0m \u001b[0;34m\u001b[0m\u001b[0m\n",
      "\u001b[0;31mValueError\u001b[0m: Shape of passed values is (120, 100), indices imply (200, 100)"
     ]
    }
   ],
   "source": [
    "#Looking at what sorts of paragraphs our solution considers similar, for the first 10 identified topics\n",
    "paras_by_component=pd.DataFrame(X_train_lsa,index=X_train)\n",
    "for i in range(10):\n",
    "    print('Component {}:'.format(i))\n",
    "    print(paras_by_component.loc[[df]:,i].sort_values(ascending=False)[0:10])"
   ]
  },
  {
   "cell_type": "markdown",
   "metadata": {},
   "source": [
    "### Heatmap: Sentence Similarity Scores"
   ]
  },
  {
   "cell_type": "code",
   "execution_count": 82,
   "metadata": {},
   "outputs": [
    {
     "ename": "ValueError",
     "evalue": "Shape of passed values is (120, 120), indices imply (200, 120)",
     "output_type": "error",
     "traceback": [
      "\u001b[0;31m---------------------------------------------------------------------------\u001b[0m",
      "\u001b[0;31mValueError\u001b[0m                                Traceback (most recent call last)",
      "\u001b[0;32m/opt/anaconda3/lib/python3.7/site-packages/pandas/core/internals/managers.py\u001b[0m in \u001b[0;36mcreate_block_manager_from_blocks\u001b[0;34m(blocks, axes)\u001b[0m\n\u001b[1;32m   1680\u001b[0m \u001b[0;34m\u001b[0m\u001b[0m\n\u001b[0;32m-> 1681\u001b[0;31m         \u001b[0mmgr\u001b[0m \u001b[0;34m=\u001b[0m \u001b[0mBlockManager\u001b[0m\u001b[0;34m(\u001b[0m\u001b[0mblocks\u001b[0m\u001b[0;34m,\u001b[0m \u001b[0maxes\u001b[0m\u001b[0;34m)\u001b[0m\u001b[0;34m\u001b[0m\u001b[0;34m\u001b[0m\u001b[0m\n\u001b[0m\u001b[1;32m   1682\u001b[0m         \u001b[0mmgr\u001b[0m\u001b[0;34m.\u001b[0m\u001b[0m_consolidate_inplace\u001b[0m\u001b[0;34m(\u001b[0m\u001b[0;34m)\u001b[0m\u001b[0;34m\u001b[0m\u001b[0;34m\u001b[0m\u001b[0m\n",
      "\u001b[0;32m/opt/anaconda3/lib/python3.7/site-packages/pandas/core/internals/managers.py\u001b[0m in \u001b[0;36m__init__\u001b[0;34m(self, blocks, axes, do_integrity_check)\u001b[0m\n\u001b[1;32m    142\u001b[0m         \u001b[0;32mif\u001b[0m \u001b[0mdo_integrity_check\u001b[0m\u001b[0;34m:\u001b[0m\u001b[0;34m\u001b[0m\u001b[0;34m\u001b[0m\u001b[0m\n\u001b[0;32m--> 143\u001b[0;31m             \u001b[0mself\u001b[0m\u001b[0;34m.\u001b[0m\u001b[0m_verify_integrity\u001b[0m\u001b[0;34m(\u001b[0m\u001b[0;34m)\u001b[0m\u001b[0;34m\u001b[0m\u001b[0;34m\u001b[0m\u001b[0m\n\u001b[0m\u001b[1;32m    144\u001b[0m \u001b[0;34m\u001b[0m\u001b[0m\n",
      "\u001b[0;32m/opt/anaconda3/lib/python3.7/site-packages/pandas/core/internals/managers.py\u001b[0m in \u001b[0;36m_verify_integrity\u001b[0;34m(self)\u001b[0m\n\u001b[1;32m    344\u001b[0m             \u001b[0;32mif\u001b[0m \u001b[0mblock\u001b[0m\u001b[0;34m.\u001b[0m\u001b[0m_verify_integrity\u001b[0m \u001b[0;32mand\u001b[0m \u001b[0mblock\u001b[0m\u001b[0;34m.\u001b[0m\u001b[0mshape\u001b[0m\u001b[0;34m[\u001b[0m\u001b[0;36m1\u001b[0m\u001b[0;34m:\u001b[0m\u001b[0;34m]\u001b[0m \u001b[0;34m!=\u001b[0m \u001b[0mmgr_shape\u001b[0m\u001b[0;34m[\u001b[0m\u001b[0;36m1\u001b[0m\u001b[0;34m:\u001b[0m\u001b[0;34m]\u001b[0m\u001b[0;34m:\u001b[0m\u001b[0;34m\u001b[0m\u001b[0;34m\u001b[0m\u001b[0m\n\u001b[0;32m--> 345\u001b[0;31m                 \u001b[0mconstruction_error\u001b[0m\u001b[0;34m(\u001b[0m\u001b[0mtot_items\u001b[0m\u001b[0;34m,\u001b[0m \u001b[0mblock\u001b[0m\u001b[0;34m.\u001b[0m\u001b[0mshape\u001b[0m\u001b[0;34m[\u001b[0m\u001b[0;36m1\u001b[0m\u001b[0;34m:\u001b[0m\u001b[0;34m]\u001b[0m\u001b[0;34m,\u001b[0m \u001b[0mself\u001b[0m\u001b[0;34m.\u001b[0m\u001b[0maxes\u001b[0m\u001b[0;34m)\u001b[0m\u001b[0;34m\u001b[0m\u001b[0;34m\u001b[0m\u001b[0m\n\u001b[0m\u001b[1;32m    346\u001b[0m         \u001b[0;32mif\u001b[0m \u001b[0mlen\u001b[0m\u001b[0;34m(\u001b[0m\u001b[0mself\u001b[0m\u001b[0;34m.\u001b[0m\u001b[0mitems\u001b[0m\u001b[0;34m)\u001b[0m \u001b[0;34m!=\u001b[0m \u001b[0mtot_items\u001b[0m\u001b[0;34m:\u001b[0m\u001b[0;34m\u001b[0m\u001b[0;34m\u001b[0m\u001b[0m\n",
      "\u001b[0;32m/opt/anaconda3/lib/python3.7/site-packages/pandas/core/internals/managers.py\u001b[0m in \u001b[0;36mconstruction_error\u001b[0;34m(tot_items, block_shape, axes, e)\u001b[0m\n\u001b[1;32m   1718\u001b[0m     raise ValueError(\n\u001b[0;32m-> 1719\u001b[0;31m         \u001b[0;34m\"Shape of passed values is {0}, indices imply {1}\"\u001b[0m\u001b[0;34m.\u001b[0m\u001b[0mformat\u001b[0m\u001b[0;34m(\u001b[0m\u001b[0mpassed\u001b[0m\u001b[0;34m,\u001b[0m \u001b[0mimplied\u001b[0m\u001b[0;34m)\u001b[0m\u001b[0;34m\u001b[0m\u001b[0;34m\u001b[0m\u001b[0m\n\u001b[0m\u001b[1;32m   1720\u001b[0m     )\n",
      "\u001b[0;31mValueError\u001b[0m: Shape of passed values is (120, 120), indices imply (200, 120)",
      "\nDuring handling of the above exception, another exception occurred:\n",
      "\u001b[0;31mValueError\u001b[0m                                Traceback (most recent call last)",
      "\u001b[0;32m<ipython-input-82-856363cd81c7>\u001b[0m in \u001b[0;36m<module>\u001b[0;34m\u001b[0m\n\u001b[1;32m      3\u001b[0m \u001b[0;34m\u001b[0m\u001b[0m\n\u001b[1;32m      4\u001b[0m \u001b[0;31m#Only taking the first 10 sentences\u001b[0m\u001b[0;34m\u001b[0m\u001b[0;34m\u001b[0m\u001b[0;34m\u001b[0m\u001b[0m\n\u001b[0;32m----> 5\u001b[0;31m \u001b[0msim_matrix\u001b[0m\u001b[0;34m=\u001b[0m\u001b[0mpd\u001b[0m\u001b[0;34m.\u001b[0m\u001b[0mDataFrame\u001b[0m\u001b[0;34m(\u001b[0m\u001b[0msimilarity\u001b[0m\u001b[0;34m,\u001b[0m\u001b[0mindex\u001b[0m\u001b[0;34m=\u001b[0m\u001b[0mX_train\u001b[0m\u001b[0;34m)\u001b[0m\u001b[0;34m.\u001b[0m\u001b[0miloc\u001b[0m\u001b[0;34m[\u001b[0m\u001b[0;36m0\u001b[0m\u001b[0;34m:\u001b[0m\u001b[0;36m10\u001b[0m\u001b[0;34m,\u001b[0m\u001b[0;36m0\u001b[0m\u001b[0;34m:\u001b[0m\u001b[0;36m10\u001b[0m\u001b[0;34m]\u001b[0m\u001b[0;34m\u001b[0m\u001b[0;34m\u001b[0m\u001b[0m\n\u001b[0m\u001b[1;32m      6\u001b[0m \u001b[0;34m\u001b[0m\u001b[0m\n\u001b[1;32m      7\u001b[0m \u001b[0;31m#Making a plot\u001b[0m\u001b[0;34m\u001b[0m\u001b[0;34m\u001b[0m\u001b[0;34m\u001b[0m\u001b[0m\n",
      "\u001b[0;32m/opt/anaconda3/lib/python3.7/site-packages/pandas/core/frame.py\u001b[0m in \u001b[0;36m__init__\u001b[0;34m(self, data, index, columns, dtype, copy)\u001b[0m\n\u001b[1;32m    438\u001b[0m                 \u001b[0mmgr\u001b[0m \u001b[0;34m=\u001b[0m \u001b[0minit_dict\u001b[0m\u001b[0;34m(\u001b[0m\u001b[0;34m{\u001b[0m\u001b[0mdata\u001b[0m\u001b[0;34m.\u001b[0m\u001b[0mname\u001b[0m\u001b[0;34m:\u001b[0m \u001b[0mdata\u001b[0m\u001b[0;34m}\u001b[0m\u001b[0;34m,\u001b[0m \u001b[0mindex\u001b[0m\u001b[0;34m,\u001b[0m \u001b[0mcolumns\u001b[0m\u001b[0;34m,\u001b[0m \u001b[0mdtype\u001b[0m\u001b[0;34m=\u001b[0m\u001b[0mdtype\u001b[0m\u001b[0;34m)\u001b[0m\u001b[0;34m\u001b[0m\u001b[0;34m\u001b[0m\u001b[0m\n\u001b[1;32m    439\u001b[0m             \u001b[0;32melse\u001b[0m\u001b[0;34m:\u001b[0m\u001b[0;34m\u001b[0m\u001b[0;34m\u001b[0m\u001b[0m\n\u001b[0;32m--> 440\u001b[0;31m                 \u001b[0mmgr\u001b[0m \u001b[0;34m=\u001b[0m \u001b[0minit_ndarray\u001b[0m\u001b[0;34m(\u001b[0m\u001b[0mdata\u001b[0m\u001b[0;34m,\u001b[0m \u001b[0mindex\u001b[0m\u001b[0;34m,\u001b[0m \u001b[0mcolumns\u001b[0m\u001b[0;34m,\u001b[0m \u001b[0mdtype\u001b[0m\u001b[0;34m=\u001b[0m\u001b[0mdtype\u001b[0m\u001b[0;34m,\u001b[0m \u001b[0mcopy\u001b[0m\u001b[0;34m=\u001b[0m\u001b[0mcopy\u001b[0m\u001b[0;34m)\u001b[0m\u001b[0;34m\u001b[0m\u001b[0;34m\u001b[0m\u001b[0m\n\u001b[0m\u001b[1;32m    441\u001b[0m \u001b[0;34m\u001b[0m\u001b[0m\n\u001b[1;32m    442\u001b[0m         \u001b[0;31m# For data is list-like, or Iterable (will consume into list)\u001b[0m\u001b[0;34m\u001b[0m\u001b[0;34m\u001b[0m\u001b[0;34m\u001b[0m\u001b[0m\n",
      "\u001b[0;32m/opt/anaconda3/lib/python3.7/site-packages/pandas/core/internals/construction.py\u001b[0m in \u001b[0;36minit_ndarray\u001b[0;34m(values, index, columns, dtype, copy)\u001b[0m\n\u001b[1;32m    211\u001b[0m         \u001b[0mblock_values\u001b[0m \u001b[0;34m=\u001b[0m \u001b[0;34m[\u001b[0m\u001b[0mvalues\u001b[0m\u001b[0;34m]\u001b[0m\u001b[0;34m\u001b[0m\u001b[0;34m\u001b[0m\u001b[0m\n\u001b[1;32m    212\u001b[0m \u001b[0;34m\u001b[0m\u001b[0m\n\u001b[0;32m--> 213\u001b[0;31m     \u001b[0;32mreturn\u001b[0m \u001b[0mcreate_block_manager_from_blocks\u001b[0m\u001b[0;34m(\u001b[0m\u001b[0mblock_values\u001b[0m\u001b[0;34m,\u001b[0m \u001b[0;34m[\u001b[0m\u001b[0mcolumns\u001b[0m\u001b[0;34m,\u001b[0m \u001b[0mindex\u001b[0m\u001b[0;34m]\u001b[0m\u001b[0;34m)\u001b[0m\u001b[0;34m\u001b[0m\u001b[0;34m\u001b[0m\u001b[0m\n\u001b[0m\u001b[1;32m    214\u001b[0m \u001b[0;34m\u001b[0m\u001b[0m\n\u001b[1;32m    215\u001b[0m \u001b[0;34m\u001b[0m\u001b[0m\n",
      "\u001b[0;32m/opt/anaconda3/lib/python3.7/site-packages/pandas/core/internals/managers.py\u001b[0m in \u001b[0;36mcreate_block_manager_from_blocks\u001b[0;34m(blocks, axes)\u001b[0m\n\u001b[1;32m   1686\u001b[0m         \u001b[0mblocks\u001b[0m \u001b[0;34m=\u001b[0m \u001b[0;34m[\u001b[0m\u001b[0mgetattr\u001b[0m\u001b[0;34m(\u001b[0m\u001b[0mb\u001b[0m\u001b[0;34m,\u001b[0m \u001b[0;34m\"values\"\u001b[0m\u001b[0;34m,\u001b[0m \u001b[0mb\u001b[0m\u001b[0;34m)\u001b[0m \u001b[0;32mfor\u001b[0m \u001b[0mb\u001b[0m \u001b[0;32min\u001b[0m \u001b[0mblocks\u001b[0m\u001b[0;34m]\u001b[0m\u001b[0;34m\u001b[0m\u001b[0;34m\u001b[0m\u001b[0m\n\u001b[1;32m   1687\u001b[0m         \u001b[0mtot_items\u001b[0m \u001b[0;34m=\u001b[0m \u001b[0msum\u001b[0m\u001b[0;34m(\u001b[0m\u001b[0mb\u001b[0m\u001b[0;34m.\u001b[0m\u001b[0mshape\u001b[0m\u001b[0;34m[\u001b[0m\u001b[0;36m0\u001b[0m\u001b[0;34m]\u001b[0m \u001b[0;32mfor\u001b[0m \u001b[0mb\u001b[0m \u001b[0;32min\u001b[0m \u001b[0mblocks\u001b[0m\u001b[0;34m)\u001b[0m\u001b[0;34m\u001b[0m\u001b[0;34m\u001b[0m\u001b[0m\n\u001b[0;32m-> 1688\u001b[0;31m         \u001b[0mconstruction_error\u001b[0m\u001b[0;34m(\u001b[0m\u001b[0mtot_items\u001b[0m\u001b[0;34m,\u001b[0m \u001b[0mblocks\u001b[0m\u001b[0;34m[\u001b[0m\u001b[0;36m0\u001b[0m\u001b[0;34m]\u001b[0m\u001b[0;34m.\u001b[0m\u001b[0mshape\u001b[0m\u001b[0;34m[\u001b[0m\u001b[0;36m1\u001b[0m\u001b[0;34m:\u001b[0m\u001b[0;34m]\u001b[0m\u001b[0;34m,\u001b[0m \u001b[0maxes\u001b[0m\u001b[0;34m,\u001b[0m \u001b[0me\u001b[0m\u001b[0;34m)\u001b[0m\u001b[0;34m\u001b[0m\u001b[0;34m\u001b[0m\u001b[0m\n\u001b[0m\u001b[1;32m   1689\u001b[0m \u001b[0;34m\u001b[0m\u001b[0m\n\u001b[1;32m   1690\u001b[0m \u001b[0;34m\u001b[0m\u001b[0m\n",
      "\u001b[0;32m/opt/anaconda3/lib/python3.7/site-packages/pandas/core/internals/managers.py\u001b[0m in \u001b[0;36mconstruction_error\u001b[0;34m(tot_items, block_shape, axes, e)\u001b[0m\n\u001b[1;32m   1717\u001b[0m         \u001b[0;32mraise\u001b[0m \u001b[0mValueError\u001b[0m\u001b[0;34m(\u001b[0m\u001b[0;34m\"Empty data passed with indices specified.\"\u001b[0m\u001b[0;34m)\u001b[0m\u001b[0;34m\u001b[0m\u001b[0;34m\u001b[0m\u001b[0m\n\u001b[1;32m   1718\u001b[0m     raise ValueError(\n\u001b[0;32m-> 1719\u001b[0;31m         \u001b[0;34m\"Shape of passed values is {0}, indices imply {1}\"\u001b[0m\u001b[0;34m.\u001b[0m\u001b[0mformat\u001b[0m\u001b[0;34m(\u001b[0m\u001b[0mpassed\u001b[0m\u001b[0;34m,\u001b[0m \u001b[0mimplied\u001b[0m\u001b[0;34m)\u001b[0m\u001b[0;34m\u001b[0m\u001b[0;34m\u001b[0m\u001b[0m\n\u001b[0m\u001b[1;32m   1720\u001b[0m     )\n\u001b[1;32m   1721\u001b[0m \u001b[0;34m\u001b[0m\u001b[0m\n",
      "\u001b[0;31mValueError\u001b[0m: Shape of passed values is (120, 120), indices imply (200, 120)"
     ]
    }
   ],
   "source": [
    "# Compute document similarity using LSA components\n",
    "similarity = np.asarray(np.asmatrix(X_train_lsa) * np.asmatrix(X_train_lsa).T)\n",
    "\n",
    "#Only taking the first 10 sentences\n",
    "sim_matrix=pd.DataFrame(similarity,index=X_train).iloc[0:10,0:10]\n",
    "\n",
    "#Making a plot\n",
    "ax = sns.heatmap(sim_matrix,yticklabels=range(10))\n",
    "plt.show()\n",
    "\n",
    "#Generating a key for the plot.\n",
    "print('Key:')\n",
    "for i in range(10):\n",
    "    print(i,sim_matrix.index[i])\n"
   ]
  },
  {
   "cell_type": "markdown",
   "metadata": {},
   "source": [
    "## Alternative Method for Count Vectorizer"
   ]
  },
  {
   "cell_type": "code",
   "execution_count": null,
   "metadata": {},
   "outputs": [],
   "source": []
  },
  {
   "cell_type": "code",
   "execution_count": 18,
   "metadata": {},
   "outputs": [
    {
     "data": {
      "text/html": [
       "<div>\n",
       "<style scoped>\n",
       "    .dataframe tbody tr th:only-of-type {\n",
       "        vertical-align: middle;\n",
       "    }\n",
       "\n",
       "    .dataframe tbody tr th {\n",
       "        vertical-align: top;\n",
       "    }\n",
       "\n",
       "    .dataframe thead th {\n",
       "        text-align: right;\n",
       "    }\n",
       "</style>\n",
       "<table border=\"1\" class=\"dataframe\">\n",
       "  <thead>\n",
       "    <tr style=\"text-align: right;\">\n",
       "      <th></th>\n",
       "      <th>negative</th>\n",
       "      <th>neutral</th>\n",
       "      <th>positive</th>\n",
       "    </tr>\n",
       "  </thead>\n",
       "  <tbody>\n",
       "    <tr>\n",
       "      <td>114</td>\n",
       "      <td>1</td>\n",
       "      <td>0</td>\n",
       "      <td>0</td>\n",
       "    </tr>\n",
       "    <tr>\n",
       "      <td>191</td>\n",
       "      <td>1</td>\n",
       "      <td>0</td>\n",
       "      <td>0</td>\n",
       "    </tr>\n",
       "    <tr>\n",
       "      <td>190</td>\n",
       "      <td>1</td>\n",
       "      <td>0</td>\n",
       "      <td>0</td>\n",
       "    </tr>\n",
       "    <tr>\n",
       "      <td>108</td>\n",
       "      <td>1</td>\n",
       "      <td>0</td>\n",
       "      <td>0</td>\n",
       "    </tr>\n",
       "    <tr>\n",
       "      <td>33</td>\n",
       "      <td>1</td>\n",
       "      <td>0</td>\n",
       "      <td>0</td>\n",
       "    </tr>\n",
       "    <tr>\n",
       "      <td>...</td>\n",
       "      <td>...</td>\n",
       "      <td>...</td>\n",
       "      <td>...</td>\n",
       "    </tr>\n",
       "    <tr>\n",
       "      <td>87</td>\n",
       "      <td>0</td>\n",
       "      <td>0</td>\n",
       "      <td>1</td>\n",
       "    </tr>\n",
       "    <tr>\n",
       "      <td>105</td>\n",
       "      <td>0</td>\n",
       "      <td>0</td>\n",
       "      <td>1</td>\n",
       "    </tr>\n",
       "    <tr>\n",
       "      <td>100</td>\n",
       "      <td>0</td>\n",
       "      <td>0</td>\n",
       "      <td>1</td>\n",
       "    </tr>\n",
       "    <tr>\n",
       "      <td>138</td>\n",
       "      <td>0</td>\n",
       "      <td>0</td>\n",
       "      <td>1</td>\n",
       "    </tr>\n",
       "    <tr>\n",
       "      <td>124</td>\n",
       "      <td>0</td>\n",
       "      <td>0</td>\n",
       "      <td>1</td>\n",
       "    </tr>\n",
       "  </tbody>\n",
       "</table>\n",
       "<p>200 rows × 3 columns</p>\n",
       "</div>"
      ],
      "text/plain": [
       "     negative  neutral  positive\n",
       "114         1        0         0\n",
       "191         1        0         0\n",
       "190         1        0         0\n",
       "108         1        0         0\n",
       "33          1        0         0\n",
       "..        ...      ...       ...\n",
       "87          0        0         1\n",
       "105         0        0         1\n",
       "100         0        0         1\n",
       "138         0        0         1\n",
       "124         0        0         1\n",
       "\n",
       "[200 rows x 3 columns]"
      ]
     },
     "execution_count": 18,
     "metadata": {},
     "output_type": "execute_result"
    }
   ],
   "source": [
    "# We are going to create a document-term matrix of where the negative tweets are by \n",
    "    #using CountVectorizer, and exclude common English stop words\n",
    "from sklearn.feature_extraction.text import CountVectorizer\n",
    "\n",
    "cv = CountVectorizer(stop_words='english')\n",
    "data_cv = cv.fit_transform(sorted_DF.Analysis) #replace transcript\n",
    "data_dtm = pd.DataFrame(data_cv.toarray(), columns=cv.get_feature_names())\n",
    "data_dtm.index = sorted_DF.index\n",
    "data_dtm"
   ]
  },
  {
   "cell_type": "code",
   "execution_count": null,
   "metadata": {},
   "outputs": [],
   "source": [
    "# We are going to create a document-term matrix using CountVectorizer, and exclude common English stop words\n",
    "from sklearn.feature_extraction.text import CountVectorizer\n",
    "\n",
    "cv = CountVectorizer(stop_words='english')\n",
    "data_cv = cv.fit_transform(clean_text.df)\n",
    "data_dtm = pd.DataFrame(data_cv.toarray(), columns=cv.get_feature_names())\n",
    "data_dtm.index = clean_text.index\n",
    "data_dtm"
   ]
  },
  {
   "cell_type": "code",
   "execution_count": null,
   "metadata": {},
   "outputs": [],
   "source": [
    "from sklearn.feature_extraction.text import TfidfVectorizer\n",
    "tfvect = TfidfVectorizer()\n",
    "trans = tfvect.fit_transform(df['Tweets'])\n",
    "pd.Dataframe(trans.toarray(), columns=tfvect).get_feature_names()"
   ]
  },
  {
   "cell_type": "markdown",
   "metadata": {},
   "source": [
    "## Analysis: Analyzing Content"
   ]
  },
  {
   "cell_type": "code",
   "execution_count": null,
   "metadata": {},
   "outputs": [],
   "source": [
    "class TweetAnalyzer():\n",
    "    \"\"\"\n",
    "    Functionality for analyzing and categorizing content from tweets.\n",
    "    \"\"\"\n",
    "    def tweets_to_data_frame(self, tweets):\n",
    "        zarif_tweets_content_df = pd.DataFrame(data=[tweet.text for tweet in tweets], columns=['Tweets'])\n",
    "        zarif_tweets_content_df['id'] = np.array([tweet.id for tweet in tweets])\n",
    "        zarif_tweets_content_df['len'] = np.array([len(tweet.text) for tweet in tweets])\n",
    "        zarif_tweets_content_df['date'] = np.array([tweet.created_at for tweet in tweets])\n",
    "        zarif_tweets_content_df['source'] = np.array([tweet.source for tweet in tweets])\n",
    "        zarif_tweets_content_df['likes'] = np.array([tweet.favorite_count for tweet in tweets])\n",
    "        zarif_tweets_content_df['retweets'] = np.array([tweet.retweet_count for tweet in tweets])\n",
    "\n",
    "        return zarif_tweets_content_df\n",
    "    print(zarif_tweets_content_df)"
   ]
  },
  {
   "cell_type": "markdown",
   "metadata": {},
   "source": [
    "## Class Sentiment Listener: \n",
    "Listening for \"America\" topic"
   ]
  },
  {
   "cell_type": "code",
   "execution_count": null,
   "metadata": {},
   "outputs": [],
   "source": [
    "!pip install keys"
   ]
  },
  {
   "cell_type": "code",
   "execution_count": null,
   "metadata": {},
   "outputs": [],
   "source": [
    "!pip install sentimentlistener"
   ]
  },
  {
   "cell_type": "code",
   "execution_count": null,
   "metadata": {},
   "outputs": [],
   "source": [
    "#Search for specific topic \"America\" in Javed Zarif handle\n",
    "#In addition to TextBlob and tweepy: \n",
    "# sentimentlistern.py\n",
    "import keys\n",
    "import preprocessor as p\n",
    "import sys\n"
   ]
  },
  {
   "cell_type": "code",
   "execution_count": null,
   "metadata": {},
   "outputs": [],
   "source": []
  },
  {
   "cell_type": "code",
   "execution_count": null,
   "metadata": {},
   "outputs": [],
   "source": []
  },
  {
   "cell_type": "markdown",
   "metadata": {},
   "source": [
    "## Project 2B: Donald Tr ump Tweets Review\n",
    "Additional Source: FiveThirtyEight https://fivethirtyeight.com/features/the-worlds-favorite-donald-trump-tweets/"
   ]
  },
  {
   "cell_type": "code",
   "execution_count": null,
   "metadata": {},
   "outputs": [],
   "source": [
    "consumer_key = 'R8y38TnjdzbUMhXmiqrdOlFNo'\n",
    "consumer_secret = '0SHVRVqighg3nbvU72303AVCNmyue6usBukhB7xiUZlL5wo3nE'\n",
    "access_token = ''\n",
    "access_token_secret = ''\n",
    "\n",
    "#Create the authentication object\n",
    "auth = tweepy.OAuthHandler(consumer_key,consumer_secret)\n",
    "auth.set_access_token = (access_token, access_token_secret)\n",
    "\n",
    "#Create the API object\n",
    "api = tweepy.API(auth)\n",
    "public_tweets = api.search('Donald Trump')\n",
    "for tweet in public_tweets:\n",
    "    print(tweet.text2)\n",
    "    analysis = TextBlob(tweet.text2)\n",
    "    print(analysis.sentiment)"
   ]
  },
  {
   "cell_type": "code",
   "execution_count": null,
   "metadata": {},
   "outputs": [],
   "source": [
    "class TweetAnalyzer():\n",
    "    \"\"\"\n",
    "    Functionality for analyzing and categorizing content from tweets.\n",
    "    \"\"\"\n",
    "    def tweets_to_data_frame(self, tweets):\n",
    "        df = pd.DataFrame(data=[tweet.text for tweet in tweets], columns=['Tweets'])\n",
    "\n",
    "        df['id'] = np.array([tweet.id for tweet in tweets])\n",
    "        df['len'] = np.array([len(tweet.text) for tweet in tweets])\n",
    "        df['date'] = np.array([tweet.created_at for tweet in tweets])\n",
    "        df['source'] = np.array([tweet.source for tweet in tweets])\n",
    "        df['likes'] = np.array([tweet.favorite_count for tweet in tweets])\n",
    "        df['retweets'] = np.array([tweet.retweet_count for tweet in tweets])\n",
    "\n",
    "        return df"
   ]
  },
  {
   "cell_type": "code",
   "execution_count": null,
   "metadata": {},
   "outputs": [],
   "source": []
  },
  {
   "cell_type": "code",
   "execution_count": null,
   "metadata": {},
   "outputs": [],
   "source": [
    "# Let's pickle it for later use\n",
    "data_dtm.to_pickle(\"dtm.pkl\")"
   ]
  },
  {
   "cell_type": "raw",
   "metadata": {},
   "source": []
  }
 ],
 "metadata": {
  "kernelspec": {
   "display_name": "Python 3",
   "language": "python",
   "name": "python3"
  },
  "language_info": {
   "codemirror_mode": {
    "name": "ipython",
    "version": 3
   },
   "file_extension": ".py",
   "mimetype": "text/x-python",
   "name": "python",
   "nbconvert_exporter": "python",
   "pygments_lexer": "ipython3",
   "version": "3.7.4"
  }
 },
 "nbformat": 4,
 "nbformat_minor": 2
}
