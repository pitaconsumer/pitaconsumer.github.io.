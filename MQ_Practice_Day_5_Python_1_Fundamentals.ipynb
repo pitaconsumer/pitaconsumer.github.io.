{
  "nbformat": 4,
  "nbformat_minor": 0,
  "metadata": {
    "kernelspec": {
      "display_name": "Python (thinkful)",
      "language": "python",
      "name": "thinkful"
    },
    "language_info": {
      "codemirror_mode": {
        "name": "ipython",
        "version": 3
      },
      "file_extension": ".py",
      "mimetype": "text/x-python",
      "name": "python",
      "nbconvert_exporter": "python",
      "pygments_lexer": "ipython3",
      "version": "3.7.3"
    },
    "colab": {
      "name": "MQ_Practice_Day 5 Python 1 Fundamentals.ipynb",
      "provenance": [],
      "collapsed_sections": [],
      "include_colab_link": true
    }
  },
  "cells": [
    {
      "cell_type": "markdown",
      "metadata": {
        "id": "view-in-github",
        "colab_type": "text"
      },
      "source": [
        "<a href=\"https://colab.research.google.com/github/pitaconsumer/pitaconsumer.github.io./blob/master/MQ_Practice_Day_5_Python_1_Fundamentals.ipynb\" target=\"_parent\"><img src=\"https://colab.research.google.com/assets/colab-badge.svg\" alt=\"Open In Colab\"/></a>"
      ]
    },
    {
      "cell_type": "markdown",
      "metadata": {
        "id": "hJs1uxYP5wAR"
      },
      "source": [
        "## Practice - Python for data scientists I - programming fundamentals\n",
        "\n",
        "Answer all **Questions**"
      ]
    },
    {
      "cell_type": "markdown",
      "metadata": {
        "id": "ZHgDmujZ5wAV"
      },
      "source": [
        "### Variables and Objects"
      ]
    },
    {
      "cell_type": "markdown",
      "metadata": {
        "id": "u9O1S55U5wAX"
      },
      "source": [
        "#### Question:\n",
        "\n",
        "Consider the following sequence of statements:\n",
        "\n",
        "```python\n",
        "n = 300\n",
        "m = n\n",
        "```\n",
        "\n",
        "Following execution of these statements, Python has created how many objects and how many references?"
      ]
    },
    {
      "cell_type": "code",
      "metadata": {
        "id": "Cw8MmpzT5wAa"
      },
      "source": [
        "# Answer:\n",
        "300 objects ; m references\n"
      ],
      "execution_count": null,
      "outputs": []
    },
    {
      "cell_type": "markdown",
      "metadata": {
        "id": "62vD1gqC5wAi"
      },
      "source": [
        "#### Question:\n",
        "\n",
        "Which of the following functions return the unique identfier of a python object?\n",
        "    \n",
        "- ref\n",
        "\n",
        "\n",
        "- identifier\n",
        "\n",
        "\n",
        "- objectId\n",
        "\n",
        "\n",
        "- id\n",
        "\n",
        "\n",
        "- route66"
      ]
    },
    {
      "cell_type": "code",
      "metadata": {
        "id": "h0vd0Pbj5wAk"
      },
      "source": [
        "# Answer: Id\n"
      ],
      "execution_count": null,
      "outputs": []
    },
    {
      "cell_type": "markdown",
      "metadata": {
        "id": "HJG8zh5f5wAo"
      },
      "source": [
        "#### Question:\n",
        "Which of the following are valid Python variable names?\n",
        "    \n",
        "- ver3.7\n",
        "\n",
        "\n",
        "- Age\n",
        "\n",
        "\n",
        "- 4square\n",
        "\n",
        "\n",
        "- return\n",
        "\n",
        "\n",
        "- home_address\n",
        "\n",
        "\n",
        "- route66"
      ]
    },
    {
      "cell_type": "code",
      "metadata": {
        "id": "617HWLow5wAq"
      },
      "source": [
        "# Answer: Age,  home_address,route66\n"
      ],
      "execution_count": null,
      "outputs": []
    },
    {
      "cell_type": "markdown",
      "metadata": {
        "id": "ygsuzrSx5wAu"
      },
      "source": [
        "#### Question:\n",
        "Which of the following styles does PEP8 recommend for multi-word variable names:\n",
        "\n",
        "\n",
        "- DistanceToNearestTown (Pascal Case)\n",
        "\n",
        "\n",
        "- distanceToNearestTown (Camel Case)\n",
        "\n",
        "\n",
        "- distance_to_nearest_town (Snake Case)"
      ]
    },
    {
      "cell_type": "code",
      "metadata": {
        "id": "6yK76Ym35wAv"
      },
      "source": [
        "# Answer: distance_to_nearest_town (Snake Case)\n"
      ],
      "execution_count": null,
      "outputs": []
    },
    {
      "cell_type": "markdown",
      "metadata": {
        "id": "fvRaPVip5wAy"
      },
      "source": [
        "## Strings\n",
        "\n",
        "#### Question:\n",
        "\n",
        "Ask the user for a string using `input` and print out whether this string is a palindrome or not. (A palindrome is a string that reads the same forwards and backwards.)\n"
      ]
    },
    {
      "cell_type": "code",
      "metadata": {
        "id": "dQlG1cOy5wA0",
        "colab": {
          "base_uri": "https://localhost:8080/"
        },
        "outputId": "7bc00b54-1be7-4cdf-81b8-fee04ff5de6f"
      },
      "source": [
        "# Answer https://www.geeksforgeeks.org/python-program-check-string-palindrome-not/\n",
        "#Check input by defining function\n",
        "#Test string as \"input\"\n",
        "def yes_palindrome(str):\n",
        "   # Run loop from 0 to len/2\n",
        "    for i in range(0, int(len(str)/2)):  #Dividing string in half and checking if reads same in reverse\n",
        "        if str[i] != str[len(str)-i-1]: #Is False for yes_palindrome \n",
        "            return False\n",
        "    return True\n",
        "\n",
        " # main function\n",
        "s = \"hannah\"\n",
        "ans = yes_palindrome(s)\n",
        " \n",
        "if (ans):\n",
        "    print(\"Yes\")\n",
        "else:\n",
        "    print(\"No\")\n",
        "\n"
      ],
      "execution_count": null,
      "outputs": [
        {
          "output_type": "stream",
          "text": [
            "Yes\n"
          ],
          "name": "stdout"
        }
      ]
    },
    {
      "cell_type": "markdown",
      "metadata": {
        "id": "h28yQ2CM5wA4"
      },
      "source": [
        "### Lists"
      ]
    },
    {
      "cell_type": "markdown",
      "metadata": {
        "id": "5pQ2O2lw5wA5"
      },
      "source": [
        "#### Question:\n",
        "\n",
        "Make a list that includes at least four people in lower case that you would like to invite to dinner. Then use your list to print a message to each person, inviting them to dinner."
      ]
    },
    {
      "cell_type": "code",
      "metadata": {
        "id": "LRcwsEQc5wA6",
        "colab": {
          "base_uri": "https://localhost:8080/"
        },
        "outputId": "84acb124-d916-43e2-9e41-1614dc55957a"
      },
      "source": [
        "# Answer = Iterate through a guest loop\n",
        "guest_list =['Afaf qayyum','imad qayyum','fawwaz qayyum', 'mehr qayyum']\n",
        "\n",
        "for guest in guest_list:\n",
        "  print(guest + \", please join us for dinner!\")\n",
        "\n",
        "\n",
        "\n"
      ],
      "execution_count": 4,
      "outputs": [
        {
          "output_type": "stream",
          "text": [
            "Afaf qayyum, please join us for dinner!\n",
            "imad qayyum, please join us for dinner!\n",
            "fawwaz qayyum, please join us for dinner!\n",
            "mehr qayyum, please join us for dinner!\n"
          ],
          "name": "stdout"
        }
      ]
    },
    {
      "cell_type": "markdown",
      "metadata": {
        "id": "03MHsGAY5wA-"
      },
      "source": [
        "#### Question:\n",
        "The 3rd person in your list alphabetically can’t make the dinner, replace this guest with a new guest.\n",
        "\n",
        "You realize you should properly capitalize names, so properly capitalize each name.\n",
        "\n",
        "Print out an updated invitation list."
      ]
    },
    {
      "cell_type": "code",
      "metadata": {
        "id": "9eeIKs9-5wA_",
        "colab": {
          "base_uri": "https://localhost:8080/"
        },
        "outputId": "424678d8-ed51-4fff-cc60-c9a3c118374b"
      },
      "source": [
        "# Answer use .replace .upper()\n",
        "guest_list =['afaf qayyum','imad qayyum','mehr qayyum','fawwaz qayyum']\n",
        "\n",
        "#will sort list first:  guest_list.sort()\n",
        "\n",
        "#Replace 3rd person\n",
        "guest_list[2]='anisa qayyum'\n",
        "\n",
        "#guest_list= [guest_list.capitalize() for guest in guest_list]\n",
        "\n",
        "#Use .title() function\n",
        "for guest in guest_list:\n",
        "    print(guest.title() + \", please come to dinner.\")\n"
      ],
      "execution_count": 18,
      "outputs": [
        {
          "output_type": "stream",
          "text": [
            "Afaf Qayyum, please come to dinner.\n",
            "Imad Qayyum, please come to dinner.\n",
            "Anisa Qayyum, please come to dinner.\n",
            "Fawwaz Qayyum, please come to dinner.\n"
          ],
          "name": "stdout"
        }
      ]
    },
    {
      "cell_type": "markdown",
      "metadata": {
        "id": "j_ImShuA5wBC"
      },
      "source": [
        "#### Question:\n",
        "\n",
        "Your significant other, a sports fan, would like to invite the following additional guests:\n",
        "    \n",
        "additional_guests = ['michael phelps', 'roger federer', 'bonnie blair', 'usain bolt', 'simone biles']\n",
        "\n",
        "Append the additional guests to the original guest list.\n",
        "\n",
        "Print out the updated invitation list."
      ]
    },
    {
      "cell_type": "code",
      "metadata": {
        "id": "sbxzvO0n5wBE",
        "colab": {
          "base_uri": "https://localhost:8080/"
        },
        "outputId": "2e613ca1-90fd-4bd4-cb0c-d928ced7725f"
      },
      "source": [
        "# Answer:\n",
        "guest_list =['afaf qayyum','imad qayyum','mehr qayyum','fawwaz qayyum']\n",
        "\n",
        "#Replace 3rd person\n",
        "guest_list[2]='anisa qayyum'\n",
        "\n",
        "#Add additional_guests = ['michael phelps', 'roger federer', 'bonnie blair', 'usain bolt', 'simone biles']\n",
        "additional_guests = ['michael phelps', 'roger federer', 'bonnie blair', 'usain bolt', 'simone biles']\n",
        "\n",
        "guest_list2 = guest_list + additional_guests\n",
        "\n",
        "for guest in guest_list2:\n",
        "  print(guest.title() + \", please come to dinner.\")\n"
      ],
      "execution_count": 19,
      "outputs": [
        {
          "output_type": "stream",
          "text": [
            "Afaf Qayyum, please come to dinner.\n",
            "Imad Qayyum, please come to dinner.\n",
            "Anisa Qayyum, please come to dinner.\n",
            "Fawwaz Qayyum, please come to dinner.\n",
            "Michael Phelps, please come to dinner.\n",
            "Roger Federer, please come to dinner.\n",
            "Bonnie Blair, please come to dinner.\n",
            "Usain Bolt, please come to dinner.\n",
            "Simone Biles, please come to dinner.\n"
          ],
          "name": "stdout"
        }
      ]
    },
    {
      "cell_type": "code",
      "metadata": {
        "colab": {
          "base_uri": "https://localhost:8080/"
        },
        "id": "vcoLYEYniXDy",
        "outputId": "c21d8445-3695-46c8-d7ea-cae2da46226c"
      },
      "source": [
        "#Method using .append()\n",
        "guest_list =['afaf qayyum','imad qayyum','mehr qayyum','fawwaz qayyum']\n",
        "additional_guests = ['michael phelps', 'roger federer', 'bonnie blair', 'usain bolt', 'simone biles']\n",
        "\n",
        "#add 'additional_guests' list to the guest_list\n",
        "additional_guests = [guest.title() for guest in additional_guests]\n",
        "\n",
        "guest_list.extend(additional_guests)\n",
        "\n",
        "guest_list.sort()\n",
        "\n",
        "for guest in guest_list:\n",
        "    print(guest.title() + \", please come to dinner.\")"
      ],
      "execution_count": 25,
      "outputs": [
        {
          "output_type": "stream",
          "text": [
            "Bonnie Blair, please come to dinner.\n",
            "Michael Phelps, please come to dinner.\n",
            "Roger Federer, please come to dinner.\n",
            "Simone Biles, please come to dinner.\n",
            "Usain Bolt, please come to dinner.\n",
            "Afaf Qayyum, please come to dinner.\n",
            "Fawwaz Qayyum, please come to dinner.\n",
            "Imad Qayyum, please come to dinner.\n",
            "Mehr Qayyum, please come to dinner.\n"
          ],
          "name": "stdout"
        }
      ]
    },
    {
      "cell_type": "markdown",
      "metadata": {
        "id": "eihDRHiO5wBL"
      },
      "source": [
        "#### Question:\n",
        "Your brother-in-law, \"Slacks Moodring\", insists on coming. Please add him to the list.\n",
        "\n",
        "Re-sort the list.\n",
        "\n",
        "Print the updated list."
      ]
    },
    {
      "cell_type": "code",
      "metadata": {
        "id": "dCyptA5G5wBN",
        "colab": {
          "base_uri": "https://localhost:8080/"
        },
        "outputId": "d67ee9ad-89de-454f-c319-c55a1c4b01eb"
      },
      "source": [
        "# Answer: Add \"Slacks Moodring\"\n",
        "guest_list.append(\"Slacks Moodring\")\n",
        "\n",
        "\n",
        "#Re-Sort\n",
        "guest_list.sort()\n",
        "\n",
        "#print the list\n",
        "for guest in guest_list:\n",
        "    print(guest.title() + \", please come to dinner.\")"
      ],
      "execution_count": 26,
      "outputs": [
        {
          "output_type": "stream",
          "text": [
            "Bonnie Blair, please come to dinner.\n",
            "Michael Phelps, please come to dinner.\n",
            "Roger Federer, please come to dinner.\n",
            "Simone Biles, please come to dinner.\n",
            "Slacks Moodring, please come to dinner.\n",
            "Usain Bolt, please come to dinner.\n",
            "Afaf Qayyum, please come to dinner.\n",
            "Fawwaz Qayyum, please come to dinner.\n",
            "Imad Qayyum, please come to dinner.\n",
            "Mehr Qayyum, please come to dinner.\n"
          ],
          "name": "stdout"
        }
      ]
    },
    {
      "cell_type": "markdown",
      "metadata": {
        "id": "ieZKVMB75wBU"
      },
      "source": [
        "#### Question:\n",
        "You realize you cannot afford to feed the large number of people on your guest list.\n",
        "\n",
        "Select a subset of guests by splicing your list on every 3rd person starting from the end of the list.\n",
        "\n",
        "Sort the list.\n",
        "\n",
        "Print the updated invitation list.\n"
      ]
    },
    {
      "cell_type": "code",
      "metadata": {
        "id": "-XgUgnAo5wBV",
        "colab": {
          "base_uri": "https://localhost:8080/"
        },
        "outputId": "0faafa5d-5ac0-4a4c-e96c-f4babd99fd44"
      },
      "source": [
        "# Answer: starting from end of list, keeping \"Mehr Qayyum\", Afaf Qayyum, Simone Biles, Bonnie Blair\n",
        "guest_list = guest_list[::-3]\n",
        "guest_list.sort()\n",
        "\n",
        "for guest in guest_list:\n",
        "    print(guest + \", please come to dinner.\")\n",
        "  "
      ],
      "execution_count": 28,
      "outputs": [
        {
          "output_type": "stream",
          "text": [
            "Bonnie Blair, please come to dinner.\n",
            "Simone Biles, please come to dinner.\n",
            "afaf qayyum, please come to dinner.\n",
            "mehr qayyum, please come to dinner.\n"
          ],
          "name": "stdout"
        }
      ]
    },
    {
      "cell_type": "markdown",
      "metadata": {
        "id": "Jbn3pTZz5wBc"
      },
      "source": [
        "#### Question:\n",
        "\n",
        "Generate the following list:\n",
        "\n",
        "```\n",
        "[0, 1, 2, 3, 4, 5, 6, 7, 8, 9]\n",
        "```"
      ]
    },
    {
      "cell_type": "code",
      "metadata": {
        "id": "gyJaQYYh5wBe",
        "colab": {
          "base_uri": "https://localhost:8080/"
        },
        "outputId": "95cd3123-a92d-4eed-a51c-42f8d2f4c079"
      },
      "source": [
        "# Answer:\n",
        "\n",
        "list(range(10))\n",
        "\n"
      ],
      "execution_count": 39,
      "outputs": [
        {
          "output_type": "execute_result",
          "data": {
            "text/plain": [
              "[0, 1, 2, 3, 4, 5, 6, 7, 8, 9]"
            ]
          },
          "metadata": {
            "tags": []
          },
          "execution_count": 39
        }
      ]
    },
    {
      "cell_type": "code",
      "metadata": {
        "colab": {
          "base_uri": "https://localhost:8080/"
        },
        "id": "h-fUkWe_l-UF",
        "outputId": "943c23b4-9384-4fac-efcb-e1a12679a05c"
      },
      "source": [
        "#OR \n",
        "[i for i in range(10)]\n"
      ],
      "execution_count": 43,
      "outputs": [
        {
          "output_type": "execute_result",
          "data": {
            "text/plain": [
              "[0, 1, 2, 3, 4, 5, 6, 7, 8, 9]"
            ]
          },
          "metadata": {
            "tags": []
          },
          "execution_count": 43
        }
      ]
    },
    {
      "cell_type": "markdown",
      "metadata": {
        "id": "PpAJdB_VmWST"
      },
      "source": [
        "Generate the following list: \n",
        "[0,3,6,9,12,15,18,21,24,27]"
      ]
    },
    {
      "cell_type": "code",
      "metadata": {
        "colab": {
          "base_uri": "https://localhost:8080/"
        },
        "id": "UIS3hV-ZmUJX",
        "outputId": "58c5eb51-99f0-4e2c-9462-0628b14e6d54"
      },
      "source": [
        "# Answer:\n",
        "\n",
        "result = []\n",
        "for i in range(10):\n",
        "    result.append(i*3)\n",
        "print(result)\n",
        "# or\n",
        "[i*2 for i in range(10)]"
      ],
      "execution_count": 44,
      "outputs": [
        {
          "output_type": "stream",
          "text": [
            "[0, 3, 6, 9, 12, 15, 18, 21, 24, 27]\n"
          ],
          "name": "stdout"
        },
        {
          "output_type": "execute_result",
          "data": {
            "text/plain": [
              "[0, 2, 4, 6, 8, 10, 12, 14, 16, 18]"
            ]
          },
          "metadata": {
            "tags": []
          },
          "execution_count": 44
        }
      ]
    },
    {
      "cell_type": "markdown",
      "metadata": {
        "id": "0ptdH0EK5wBk"
      },
      "source": [
        "### Dictionaries\n",
        "\n",
        "Below is a table of the top 10 most popular computer languages for professional developers taken from the 2019 Stack Overflow survey.\n",
        "\n",
        "https://insights.stackoverflow.com/survey/2019#technology\n",
        "\n",
        "|Language|Popularity (%)|\n",
        "|-|-|\n",
        "|JavaScript|69.7%|\n",
        "|HTML/CSS|63.1%|\n",
        "|SQL|56.5%|\n",
        "|Python|39.4%|\n",
        "|Java|39.2%|\n",
        "|Bash/Shell/PowerShell|37.9%|\n",
        "|C#|31.9%|\n",
        "|PHP|25.8%|\n",
        "|TypeScript|23.5%|\n",
        "|C++|20.4%|\n",
        "\n",
        "#### Question:\n",
        "\n",
        "Construct a dictionary `lang_pop` from this list.\n",
        "\n",
        "Print out each key-value pair with a ':' immediately after each key.\n"
      ]
    },
    {
      "cell_type": "code",
      "metadata": {
        "id": "IUlyxWkYi0Nw",
        "colab": {
          "base_uri": "https://localhost:8080/"
        },
        "outputId": "73690745-027d-460e-f1df-b8f91acecc4c"
      },
      "source": [
        "#Iterate for  Answer\n",
        "  ## Dictionary lang_pop_1\n",
        "lang_pop_1 = {'JavaScript': '69.7%', 'HTML/CSS': '63.1%','SQL':'56.5%',\n",
        "       'Python':'39.4%','Java':'39.2%','Bash/Shell/PowerShell':'37.9%',\n",
        "        'C#':'31.9%','PhP':'25.8%','TypeScript':'23.5%','C++': '20.4%'}\n",
        "print(lang_pop_1)"
      ],
      "execution_count": 55,
      "outputs": [
        {
          "output_type": "stream",
          "text": [
            "{'JavaScript': '69.7%', 'HTML/CSS': '63.1%', 'SQL': '56.5%', 'Python': '39.4%', 'Java': '39.2%', 'Bash/Shell/PowerShell': '37.9%', 'C#': '31.9%', 'PhP': '25.8%', 'TypeScript': '23.5%', 'C++': '20.4%'}\n"
          ],
          "name": "stdout"
        }
      ]
    },
    {
      "cell_type": "code",
      "metadata": {
        "id": "NWMEtGyIX23E",
        "colab": {
          "base_uri": "https://localhost:8080/"
        },
        "outputId": "25472317-3d68-42d6-8e66-641ec1400e19"
      },
      "source": [
        "#Final Answer\n",
        "  ##Print key-value pair w/:\n",
        "for key in lang_pop_1:\n",
        "   print(key, ':', lang_pop_1[key])"
      ],
      "execution_count": 56,
      "outputs": [
        {
          "output_type": "stream",
          "text": [
            "JavaScript : 69.7%\n",
            "HTML/CSS : 63.1%\n",
            "SQL : 56.5%\n",
            "Python : 39.4%\n",
            "Java : 39.2%\n",
            "Bash/Shell/PowerShell : 37.9%\n",
            "C# : 31.9%\n",
            "PhP : 25.8%\n",
            "TypeScript : 23.5%\n",
            "C++ : 20.4%\n"
          ],
          "name": "stdout"
        }
      ]
    },
    {
      "cell_type": "code",
      "metadata": {
        "id": "AmdApTbO5wBn",
        "colab": {
          "base_uri": "https://localhost:8080/"
        },
        "outputId": "3b5bab39-c504-4c64-e387-5b0e869c28ae"
      },
      "source": [
        "# Incomplete Answer:\n",
        "lang = {'Language':'JavaScript','Language':'HTML/CSS',\n",
        "           'Language':'SQL','Language':'Python',\n",
        "           'Language':'Java','Language':'Bash/Shell/PowerShell',\n",
        "           'Language':'C#','Language':'PHP','Language':'TypeScript',\n",
        "           'Language':'C++'\n",
        "}\n",
        "#iterate through loop\n",
        "for k in lang: \n",
        "  print(k)"
      ],
      "execution_count": 45,
      "outputs": [
        {
          "output_type": "stream",
          "text": [
            "Language\n"
          ],
          "name": "stdout"
        }
      ]
    },
    {
      "cell_type": "code",
      "metadata": {
        "id": "HwNi8BbBf5Q5",
        "colab": {
          "base_uri": "https://localhost:8080/"
        },
        "outputId": "8655d4e9-4130-4f97-c6a4-a82ce8cae1a6"
      },
      "source": [
        "print(lang['Language'])"
      ],
      "execution_count": null,
      "outputs": [
        {
          "output_type": "stream",
          "text": [
            "C++\n"
          ],
          "name": "stdout"
        }
      ]
    },
    {
      "cell_type": "code",
      "metadata": {
        "id": "8XlrbqcqgmGL",
        "colab": {
          "base_uri": "https://localhost:8080/"
        },
        "outputId": "356ffc44-074d-46c4-b5fd-bf0939403330"
      },
      "source": [
        "print(k, ':', lang[k])"
      ],
      "execution_count": null,
      "outputs": [
        {
          "output_type": "stream",
          "text": [
            "Language : C++\n"
          ],
          "name": "stdout"
        }
      ]
    },
    {
      "cell_type": "code",
      "metadata": {
        "id": "gbs4YCjZfed2",
        "colab": {
          "base_uri": "https://localhost:8080/"
        },
        "outputId": "ffce2fcd-1b20-43d1-dd1c-b3ddcf30f6cf"
      },
      "source": [
        "#create second dictionary called 'pop' to add to 'lang'\n",
        "pop = {'Popularity (%)': '69.7%', 'Popularity (%)': '63.1%','Popularity (%)':'56.5%',\n",
        "       'Popularity (%)':'39.4%','Popularity (%)':'39.2%','Popularity (%)':'37.9%',\n",
        "        'Popularity (%)':'31.9%','Popularity (%)':'25.8%','Popularity (%)':'23.5%','Popularity (%)': '20.4%'}\n",
        "for key in pop.values():\n",
        "  print(key)"
      ],
      "execution_count": 47,
      "outputs": [
        {
          "output_type": "stream",
          "text": [
            "20.4%\n"
          ],
          "name": "stdout"
        }
      ]
    },
    {
      "cell_type": "code",
      "metadata": {
        "id": "sl7Ud7mViIIn",
        "colab": {
          "base_uri": "https://localhost:8080/"
        },
        "outputId": "07592b5c-d0b2-4d8a-dcef-05c324f5b452"
      },
      "source": [
        "for key in pop:\n",
        "   print(key, ':', pop[key])"
      ],
      "execution_count": 48,
      "outputs": [
        {
          "output_type": "stream",
          "text": [
            "Popularity (%) : 20.4%\n"
          ],
          "name": "stdout"
        }
      ]
    },
    {
      "cell_type": "code",
      "metadata": {
        "id": "a4FVRTHIidYo",
        "colab": {
          "base_uri": "https://localhost:8080/"
        },
        "outputId": "4c2cc4ad-183b-422f-ec98-935f10dc0ca8"
      },
      "source": [
        "# Here n_items is a view of items\n",
        "n_items = pop.items()\n",
        "print(n_items)\n"
      ],
      "execution_count": 52,
      "outputs": [
        {
          "output_type": "stream",
          "text": [
            "dict_items([('Popularity (%)', '20.4%')])\n"
          ],
          "name": "stdout"
        }
      ]
    },
    {
      "cell_type": "code",
      "metadata": {
        "id": "QQgxAZIpiucD",
        "colab": {
          "base_uri": "https://localhost:8080/"
        },
        "outputId": "38d4d783-aac4-48d3-a397-9e831b373f6d"
      },
      "source": [
        "#practice to debug above\n",
        "a_dict = {'color': 'blue', 'fruit': 'apple', 'pet': 'dog'}\n",
        "d_items = a_dict.items()\n",
        "d_items"
      ],
      "execution_count": 57,
      "outputs": [
        {
          "output_type": "execute_result",
          "data": {
            "text/plain": [
              "dict_items([('color', 'blue'), ('fruit', 'apple'), ('pet', 'dog')])"
            ]
          },
          "metadata": {
            "tags": []
          },
          "execution_count": 57
        }
      ]
    },
    {
      "cell_type": "code",
      "metadata": {
        "id": "Qk_s5Im0j3xN",
        "colab": {
          "base_uri": "https://localhost:8080/"
        },
        "outputId": "9aa2382b-d9e6-48e3-9ec6-2a9a8976eb8e"
      },
      "source": [
        "#Print just value\n",
        "for key in lang_pop_1.values():\n",
        "  print(key)"
      ],
      "execution_count": 58,
      "outputs": [
        {
          "output_type": "stream",
          "text": [
            "69.7%\n",
            "63.1%\n",
            "56.5%\n",
            "39.4%\n",
            "39.2%\n",
            "37.9%\n",
            "31.9%\n",
            "25.8%\n",
            "23.5%\n",
            "20.4%\n"
          ],
          "name": "stdout"
        }
      ]
    },
    {
      "cell_type": "code",
      "metadata": {
        "id": "MrwuFWAkYPQ5",
        "colab": {
          "base_uri": "https://localhost:8080/"
        },
        "outputId": "aa778af7-865a-42ce-904d-405b86c4aa1a"
      },
      "source": [
        "#Try for key and value pair\n",
        "for k, v in lang_pop_1.items():\n",
        "    print(k, v)"
      ],
      "execution_count": 60,
      "outputs": [
        {
          "output_type": "stream",
          "text": [
            "JavaScript 69.7%\n",
            "HTML/CSS 63.1%\n",
            "SQL 56.5%\n",
            "Python 39.4%\n",
            "Java 39.2%\n",
            "Bash/Shell/PowerShell 37.9%\n",
            "C# 31.9%\n",
            "PhP 25.8%\n",
            "TypeScript 23.5%\n",
            "C++ 20.4%\n"
          ],
          "name": "stdout"
        }
      ]
    },
    {
      "cell_type": "code",
      "metadata": {
        "id": "X_AItFkjYvVT",
        "colab": {
          "base_uri": "https://localhost:8080/"
        },
        "outputId": "d10a2620-2377-4984-bb2b-9781bb898786"
      },
      "source": [
        "#Print as tuple\n",
        "for t in lang_pop.items():\n",
        "    print(t)\n",
        "    print(type(t))\n",
        "    print(t[0])\n",
        "    print(t[1])\n",
        "    print('---')"
      ],
      "execution_count": null,
      "outputs": [
        {
          "output_type": "stream",
          "text": [
            "('Language', 'C++')\n",
            "<class 'tuple'>\n",
            "Language\n",
            "C++\n",
            "---\n"
          ],
          "name": "stdout"
        }
      ]
    },
    {
      "cell_type": "code",
      "metadata": {
        "id": "C5Fxb85hY8wH",
        "colab": {
          "base_uri": "https://localhost:8080/"
        },
        "outputId": "4245a03f-00f2-4c35-bae8-608b8076d8d1"
      },
      "source": [
        "#The items() method returns dict_items. It can be converted to a list with list().\n",
        "items = lang_pop_1.items()\n",
        "print(items)\n",
        "print(type(items))\n",
        "# dict_items([('key1', 1), ('key2', 2), ('key3', 3)])\n",
        "# <class 'dict_items'>\n",
        "\n",
        "i_list = list(lang_pop_1.items())\n",
        "print(i_list)\n",
        "print(type(i_list))\n",
        "# [('key1', 1), ('key2', 2), ('key3', 3)]\n",
        "# <class 'list'>\n",
        "\n",
        "print(i_list[0])\n",
        "print(type(i_list[0]))\n",
        "# ('key1', 1)\n",
        "# <class 'tuple'>"
      ],
      "execution_count": 62,
      "outputs": [
        {
          "output_type": "stream",
          "text": [
            "dict_items([('JavaScript', '69.7%'), ('HTML/CSS', '63.1%'), ('SQL', '56.5%'), ('Python', '39.4%'), ('Java', '39.2%'), ('Bash/Shell/PowerShell', '37.9%'), ('C#', '31.9%'), ('PhP', '25.8%'), ('TypeScript', '23.5%'), ('C++', '20.4%')])\n",
            "<class 'dict_items'>\n",
            "[('JavaScript', '69.7%'), ('HTML/CSS', '63.1%'), ('SQL', '56.5%'), ('Python', '39.4%'), ('Java', '39.2%'), ('Bash/Shell/PowerShell', '37.9%'), ('C#', '31.9%'), ('PhP', '25.8%'), ('TypeScript', '23.5%'), ('C++', '20.4%')]\n",
            "<class 'list'>\n",
            "('JavaScript', '69.7%')\n",
            "<class 'tuple'>\n"
          ],
          "name": "stdout"
        }
      ]
    },
    {
      "cell_type": "code",
      "metadata": {
        "id": "-N41NI9qZJkZ",
        "colab": {
          "base_uri": "https://localhost:8080/"
        },
        "outputId": "8e0235f4-9410-410f-ebc0-3cf2430741ee"
      },
      "source": [
        "#Get value for specified key \"Language\"\n",
        "print(lang_pop.get('Language'))"
      ],
      "execution_count": null,
      "outputs": [
        {
          "output_type": "stream",
          "text": [
            "C++\n"
          ],
          "name": "stdout"
        }
      ]
    },
    {
      "cell_type": "code",
      "metadata": {
        "id": "okcGu6TXa5SD",
        "colab": {
          "base_uri": "https://localhost:8080/"
        },
        "outputId": "36e0d885-f26c-40a5-9ffa-0ac1a83b6435"
      },
      "source": [
        "#print dictionary\n",
        "lang_pop= {'Language':'JavaScript','Language':'HTML/CSS',\n",
        "           'Language':'SQL','Language':'Python',\n",
        "           'Language':'Java','Language':'Bash/Shell/PowerShell',\n",
        "           'Language':'C#','Language':'PHP','Language':'TypeScript',\n",
        "           'Language':'C++'}\n",
        "print(lang_pop)"
      ],
      "execution_count": null,
      "outputs": [
        {
          "output_type": "stream",
          "text": [
            "{'Language': 'C++'}\n"
          ],
          "name": "stdout"
        }
      ]
    },
    {
      "cell_type": "code",
      "metadata": {
        "id": "0ocubXH5bUcq",
        "colab": {
          "base_uri": "https://localhost:8080/"
        },
        "outputId": "be1d10e7-de71-451a-d2c0-9281ac889aaa"
      },
      "source": [
        "#Print all values\n",
        "for x in lang_pop:\n",
        "  print(lang_pop[x])"
      ],
      "execution_count": null,
      "outputs": [
        {
          "output_type": "stream",
          "text": [
            "C++\n"
          ],
          "name": "stdout"
        }
      ]
    },
    {
      "cell_type": "code",
      "metadata": {
        "id": "6bIEgWzwc3WE",
        "colab": {
          "base_uri": "https://localhost:8080/"
        },
        "outputId": "345edf5c-c703-439e-d514-b5d70cf93547"
      },
      "source": [
        "#Looop through all values \n",
        "for x in lang_pop_1.values():\n",
        "  print(x)"
      ],
      "execution_count": null,
      "outputs": [
        {
          "output_type": "stream",
          "text": [
            "69.7%\n",
            "63.1%\n",
            "56.5%\n",
            "39.4%\n",
            "39.2%\n",
            "37.9%\n",
            "31.9%\n",
            "25.8%\n",
            "23.5%\n",
            "20.4%\n"
          ],
          "name": "stdout"
        }
      ]
    },
    {
      "cell_type": "code",
      "metadata": {
        "id": "Jl17TNhWabYB",
        "colab": {
          "base_uri": "https://localhost:8080/"
        },
        "outputId": "f656c7e3-6a51-4d56-c7d5-49290a1b386f"
      },
      "source": [
        "#iterate the dictionary object dict with a for loop, use keys(), values(), items(). \n",
        "#You can also get a list of all keys and values in the dictionary with list().\n",
        "\n",
        " ## Iterate keys of dict: keys()\n",
        " ## Iterate values of dict: values()\n",
        " ## Iterate key-value pairs of dict: items()\n",
        "\n",
        "for v in lang_pop.items():\n",
        "    print(v)"
      ],
      "execution_count": null,
      "outputs": [
        {
          "output_type": "stream",
          "text": [
            "('Language', 'C++')\n"
          ],
          "name": "stdout"
        }
      ]
    },
    {
      "cell_type": "code",
      "metadata": {
        "id": "kZmykjn4d5SX",
        "colab": {
          "base_uri": "https://localhost:8080/"
        },
        "outputId": "69c85838-a8d5-4aa9-ac85-b064e9293c0c"
      },
      "source": [
        ""
      ],
      "execution_count": null,
      "outputs": [
        {
          "output_type": "stream",
          "text": [
            "C++\n"
          ],
          "name": "stdout"
        }
      ]
    },
    {
      "cell_type": "markdown",
      "metadata": {
        "id": "TVKA42Fi5wB-"
      },
      "source": [
        "#### Question:\n",
        "\n",
        "Print out the languages from `lang_pop` in sorted order."
      ]
    },
    {
      "cell_type": "code",
      "metadata": {
        "id": "RurHvkUx5wCA",
        "colab": {
          "base_uri": "https://localhost:8080/"
        },
        "outputId": "48366791-0dd6-4f2f-dbfe-7ef722f6e058"
      },
      "source": [
        "# Answer: https://realpython.com/iterate-through-dictionary-python/\n",
        "  # k is the key \n",
        "sorted_lang_pop_1 = {k: lang_pop_1[k] for k in sorted(lang_pop_1)}\n",
        "sorted_lang_pop_1\n",
        "\n",
        "# Python 3.6, and beyond\n",
        "##>>> incomes = {'apple': 5600.00, 'orange': 3500.00, 'banana': 5000.00}\n",
        "##>>> sorted_income = {k: incomes[k] for k in sorted(incomes)}\n",
        "##>>> sorted_income\n"
      ],
      "execution_count": null,
      "outputs": [
        {
          "output_type": "execute_result",
          "data": {
            "text/plain": [
              "{'Bash/Shell/PowerShell': '37.9%',\n",
              " 'C#': '31.9%',\n",
              " 'C++': '20.4%',\n",
              " 'HTML/CSS': '63.1%',\n",
              " 'Java': '39.2%',\n",
              " 'JavaScript': '69.7%',\n",
              " 'PhP': '25.8%',\n",
              " 'Python': '39.4%',\n",
              " 'SQL': '56.5%',\n",
              " 'TypeScript': '23.5%'}"
            ]
          },
          "metadata": {
            "tags": []
          },
          "execution_count": 83
        }
      ]
    },
    {
      "cell_type": "markdown",
      "metadata": {
        "id": "Nig9M6bd5wCE"
      },
      "source": [
        "#### Question:\n",
        "\n",
        "Python has we know is very popular. Update the % of Python by 2x.\n",
        "\n",
        "Print out each key-value pair with a ':' immediately after each key."
      ]
    },
    {
      "cell_type": "code",
      "metadata": {
        "id": "Qeh-a8F95wCG",
        "colab": {
          "base_uri": "https://localhost:8080/",
          "height": 35
        },
        "outputId": "be81ec13-e447-438b-86d8-353da7d0a4d7"
      },
      "source": [
        "# Answer to update 'Python' multiplied by *2\n",
        "\n",
        "lang_pop_1['Python'] = str(float(lang_pop_1['Python'][:4]) *2) + '%'\n",
        "lang_pop_1['Python']"
      ],
      "execution_count": 66,
      "outputs": [
        {
          "output_type": "execute_result",
          "data": {
            "application/vnd.google.colaboratory.intrinsic+json": {
              "type": "string"
            },
            "text/plain": [
              "'66.0%'"
            ]
          },
          "metadata": {
            "tags": []
          },
          "execution_count": 66
        }
      ]
    },
    {
      "cell_type": "code",
      "metadata": {
        "colab": {
          "base_uri": "https://localhost:8080/"
        },
        "id": "2jzZMFHYqQLV",
        "outputId": "0c5f368d-1d71-4886-fa1a-5412cb95727d"
      },
      "source": [
        "#Update dictionary w/first 4 rows {Javascript, HTML/CSS, SQL, Python} * doubled percent\n",
        "\n",
        "for k,v in lang_pop_1.items():\n",
        "  print(k+': ', v)"
      ],
      "execution_count": 68,
      "outputs": [
        {
          "output_type": "stream",
          "text": [
            "JavaScript:  69.7%\n",
            "HTML/CSS:  63.1%\n",
            "SQL:  56.5%\n",
            "Python:  66.0%\n",
            "Java:  39.2%\n",
            "Bash/Shell/PowerShell:  37.9%\n",
            "C#:  31.9%\n",
            "PhP:  25.8%\n",
            "TypeScript:  23.5%\n",
            "C++:  20.4%\n"
          ],
          "name": "stdout"
        }
      ]
    },
    {
      "cell_type": "markdown",
      "metadata": {
        "id": "-1WqdM0g5wCN"
      },
      "source": [
        "### Working with numbers"
      ]
    },
    {
      "cell_type": "markdown",
      "metadata": {
        "id": "YTgbYmVI5wCQ"
      },
      "source": [
        "#### Question:\n",
        "\n",
        "Create a program that asks the user for a number and then prints out a list of all the divisors of that number. \n",
        "\n",
        "A divisor is a number that divides evenly into another number. For example, 4 is a divisor of 1. 3 is not a divisor of 5."
      ]
    },
    {
      "cell_type": "code",
      "metadata": {
        "id": "DaynFX6Z5wCT",
        "colab": {
          "base_uri": "https://localhost:8080/"
        },
        "outputId": "ece1a90f-840e-47a2-b1c7-b752c8279a5c"
      },
      "source": [
        "# Answer\n",
        "def divisor(num, denom):\n",
        "    return num % denom == 0\n",
        "\n",
        "print(divisor(12, 4)) #4 IS a divisor of 12, so True\n",
        "print(divisor(12, 5)) #5 is not a divisor of 12"
      ],
      "execution_count": 69,
      "outputs": [
        {
          "output_type": "stream",
          "text": [
            "True\n",
            "False\n"
          ],
          "name": "stdout"
        }
      ]
    },
    {
      "cell_type": "markdown",
      "metadata": {
        "id": "TvMqWRzo5wCf"
      },
      "source": [
        "### Functions, Iteration, and Logic"
      ]
    },
    {
      "cell_type": "markdown",
      "metadata": {
        "id": "RbH30DD-5wCm"
      },
      "source": [
        "#### Question:\n",
        "\n",
        "Rock Paper Scissors \n",
        "\n",
        "Make a two-player Rock-Paper-Scissors game. \n",
        "\n",
        "Ask each player player for their name (using `input`).\n",
        "\n",
        "Prompt each player for their name, and ask each player by name + `do you want to choose rock, paper or scissors?`\n",
        "\n",
        "Compare the selection from each player.  Print out a message of congratulations to the winner, or a message if there is a tie, or if their input was invalid, i.e., if both user made the same selection.\n",
        "\n",
        "Remember the rules:  \n",
        "- Rock beats scissors  \n",
        "- Scissors beats paper  \n",
        "- Paper beats rock\n"
      ]
    },
    {
      "cell_type": "code",
      "metadata": {
        "id": "s2wp7I3A5wCp",
        "colab": {
          "base_uri": "https://localhost:8080/"
        },
        "outputId": "4120576d-198e-4de8-b9a7-b068eb680cc8"
      },
      "source": [
        "# Answer: Player 1 is random\n",
        "#Rules: Rock smashes scissors.\n",
        "#Paper covers rock.\n",
        "#Scissors cut paper.\n",
        "import random\n",
        "\n",
        "name =input(\"What's your name?\")\n",
        "user_name = input(name + \"Enter a choice (rock, paper, scissors): \") \n",
        "\n",
        "#rock_paper_scissor = name.title()\n",
        "user_name_action = [\"rock\", \"paper\", \"scissors\"]\n",
        "computer_action = random.choice(user_name_action)\n",
        "\n",
        "print(f\"\\nYou chose {user_name_action}, computer chose {computer_action}.\\n\")\n",
        "\n",
        "if user_name_action == computer_action:\n",
        "  print(f\"Both players selected {user_name_action}. It's a tie!\")\n",
        "elif user_name_action== 'rock':\n",
        "  if computer_action== 'scissors':\n",
        "    print('Rock smashes scissors. You win!')\n",
        "  else: #if computer_action == 'paper':\n",
        "    print('Paper covers rock. You lose!')\n",
        "elif user_name_action == 'paper':\n",
        "  if computer_action == 'rock':\n",
        "    print('Paper covers rock. You win!')\n",
        "  else: #computer_action == 'scissors':\n",
        "    print('Scissors cut paper. You lose!')\n",
        "elif user_name_action == 'scissors':\n",
        "  if computer_action == 'rock':\n",
        "    print('Rock smashes scissors. You lose!')\n",
        "  else:\n",
        "    print('Scissors cuts paper. You win!')\n",
        "\n",
        "#https://realpython.com/python-rock-paper-scissors/\n",
        "\n",
        "\n",
        "\n"
      ],
      "execution_count": 83,
      "outputs": [
        {
          "output_type": "stream",
          "text": [
            "What's your name?Mehr\n",
            "MehrEnter a choice (rock, paper, scissors): rock\n",
            "\n",
            "You chose ['rock', 'paper', 'scissors'], computer chose paper.\n",
            "\n"
          ],
          "name": "stdout"
        }
      ]
    },
    {
      "cell_type": "markdown",
      "metadata": {
        "id": "NYqMK_bx5wCt"
      },
      "source": [
        "#### Question:\n",
        "\n",
        "Longest word - looping, logic, and functions.\n",
        "\n",
        "Create a function called `longest_word` that takes one argument, a list of words, and returns the word and length of the longest word in the list.\n",
        "\n",
        "For example, longest_word(['simple', 'is', 'better', 'than', 'complex']) should return ('complex', 7) because the longest word there is complex, at 7 characters.\n",
        "\n",
        "Your function should not modify the input list.\n"
      ]
    },
    {
      "cell_type": "code",
      "metadata": {
        "id": "zcuf3FA15wCw",
        "colab": {
          "base_uri": "https://localhost:8080/"
        },
        "outputId": "e6ef9ff1-53f0-47a6-8498-076419e38e89"
      },
      "source": [
        "# Answer: Define longest_word\n",
        "\n",
        "def longest_word(words_list):\n",
        "  word_length = []\n",
        "  for n in words_list:\n",
        "    word_length.append((len(n),n))\n",
        "  word_length.sort()\n",
        "  return word_length[-1][0], word_length[-1][1]\n",
        "result = longest_word(['blessing','fabulous','gratitude'])\n",
        "print('\\nLongest word: ',result[1])\n"
      ],
      "execution_count": 89,
      "outputs": [
        {
          "output_type": "stream",
          "text": [
            "\n",
            "Longest word:  gratitude\n"
          ],
          "name": "stdout"
        }
      ]
    },
    {
      "cell_type": "markdown",
      "metadata": {
        "id": "PtlGRnbh5wC1"
      },
      "source": [
        "### Custom objects "
      ]
    },
    {
      "cell_type": "markdown",
      "metadata": {
        "id": "tfqH3UCE5wC3"
      },
      "source": [
        "#### Question:\n",
        "\n",
        "Create a `Person` class.\n",
        "\n",
        "Each person will have the attributes:\n",
        "- name(int)\n",
        "- gender(int)\n",
        "- age (int)\n",
        "\n",
        "Each attribute is provided to `__init__()`\n",
        "\n",
        "Provide a `__repr__()` method to generate a formated string for printing.\n",
        "\n",
        "Create a list with at least 3 people objects.\n",
        "\n",
        "Iterate through the list and print each object."
      ]
    },
    {
      "cell_type": "code",
      "metadata": {
        "id": "Yc0jFh445wC4",
        "colab": {
          "base_uri": "https://localhost:8080/",
          "height": 35
        },
        "outputId": "cde6f760-195e-4ab4-af88-0a55d2bbf63b"
      },
      "source": [
        "# Answer: Create a Person class\n",
        "#https://www.tutorialgateway.org/python-class/\n",
        "\n",
        "class Person: \n",
        "  def __init__(self, name, gender, age):\n",
        "        self.name = name\n",
        "        self.gender = gender\n",
        "        self.age = age\n",
        "  def __repr__(self):\n",
        "        return f\"{self.name} {self.gender} is {self.age}. Surprise!\"\n",
        "new_munchkin = Person(\"Minnah\", \"girl\", \"4\")\n",
        "f\"{new_munchkin}\"\n"
      ],
      "execution_count": 98,
      "outputs": [
        {
          "output_type": "execute_result",
          "data": {
            "application/vnd.google.colaboratory.intrinsic+json": {
              "type": "string"
            },
            "text/plain": [
              "'Minnah girl is 4. Surprise!'"
            ]
          },
          "metadata": {
            "tags": []
          },
          "execution_count": 98
        }
      ]
    },
    {
      "cell_type": "markdown",
      "metadata": {
        "id": "v94YO9ss5wC8"
      },
      "source": [
        "### Importing modules"
      ]
    },
    {
      "cell_type": "markdown",
      "metadata": {
        "id": "7Ro0niJw5wC9"
      },
      "source": [
        "#### Question:\n",
        "\n",
        "From the python `random` module import the `seed` and `random` functions. Set `seed()` to `1`, i.e., `seed(1)`.\n",
        "\n",
        "Use the `random` number to generate `10` numbers between `0-100`"
      ]
    },
    {
      "cell_type": "code",
      "metadata": {
        "id": "lkxxNKOF5wC-",
        "colab": {
          "base_uri": "https://localhost:8080/"
        },
        "outputId": "c1e01672-5b1c-4878-d82c-501b14a254f9"
      },
      "source": [
        "# Answer: \n",
        "from random import random\n",
        "from random import seed\n",
        "\n",
        "# Random seed with randrange\n",
        "seed(1)\n",
        "\n",
        "# generate random numbers between 0-1\n",
        "for _ in range(10):\n",
        "    value = random()*100\n",
        "    print(value)\n"
      ],
      "execution_count": 81,
      "outputs": [
        {
          "output_type": "stream",
          "text": [
            "13.436424411240122\n",
            "84.74337369372327\n",
            "76.3774618976614\n",
            "25.50690257394217\n",
            "49.54350870919409\n",
            "44.949106478873816\n",
            "65.15929727227629\n",
            "78.87233511355132\n",
            "9.385958677423488\n",
            "2.834747652200631\n"
          ],
          "name": "stdout"
        }
      ]
    },
    {
      "cell_type": "code",
      "metadata": {
        "id": "ZKW3zFUc5wDF"
      },
      "source": [
        ""
      ],
      "execution_count": null,
      "outputs": []
    }
  ]
}