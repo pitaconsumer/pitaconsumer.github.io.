{
  "nbformat": 4,
  "nbformat_minor": 0,
  "metadata": {
    "kernelspec": {
      "display_name": "Python (thinkful)",
      "language": "python",
      "name": "thinkful"
    },
    "language_info": {
      "codemirror_mode": {
        "name": "ipython",
        "version": 3
      },
      "file_extension": ".py",
      "mimetype": "text/x-python",
      "name": "python",
      "nbconvert_exporter": "python",
      "pygments_lexer": "ipython3",
      "version": "3.7.3"
    },
    "colab": {
      "name": "Qayyum_M_script.ipynb",
      "provenance": [],
      "include_colab_link": true
    }
  },
  "cells": [
    {
      "cell_type": "markdown",
      "metadata": {
        "id": "view-in-github",
        "colab_type": "text"
      },
      "source": [
        "<a href=\"https://colab.research.google.com/github/pitaconsumer/pitaconsumer.github.io./blob/master/Qayyum_M_script.ipynb\" target=\"_parent\"><img src=\"https://colab.research.google.com/assets/colab-badge.svg\" alt=\"Open In Colab\"/></a>"
      ]
    },
    {
      "cell_type": "markdown",
      "metadata": {
        "id": "cXGqn4Oksi2Q"
      },
      "source": [
        ""
      ]
    },
    {
      "cell_type": "markdown",
      "metadata": {
        "id": "9LxQr4dFBNhi"
      },
      "source": [
        "What to submit:\n",
        "\n",
        "●Scripts used to complete the task\n",
        "  ■IMPORTANT: Use the following filename convention for your script submissions: “<last_name>_<first_name>_script”.<file_extension>\n",
        "\n",
        "●Testing outputs: a json file of all extracted text contents from the images\n",
        "  ■IMPORTANT:Use the following filename convention for your results set: “<last_name>_<first_name>_results”.<file_extension>\n",
        "  \n",
        "  ■The standard format of the json file should be a dictionary. Each key of the dictionary is an image name, and its value is a list of lists (containing the text entries, organized by line).  Below we illustrate the expected output for the first image:{‘testimage1’:[ [‘111020’,‘111020’,‘21’,‘’,‘95940’,‘59’,‘’,‘’,‘’,‘A’,‘1354’,‘00’,‘2’],[‘111020’,‘111020’,‘21’,‘’,‘95861’,‘TC’,‘’,‘’,‘’,‘A’,‘3460’,‘00’,‘1’],...],‘testimage2’:...}(Note that the first two entries in each row are date strings, so you may need to group text in neighboring boxes.)Due to constraints on image and OCR quality the accuracy of the parser may not be perfect, so just try your best.\n",
        "  \n",
        "  How to submit:Please upload your completed results and scripts to the following folder:https://hgmcloud.egnyte.com/ul/orFhX1lTo1Due \n",
        "\n",
        "Date:Please submit your results no later than Sunday, September 12th, 2021 at 11:59pm"
      ]
    },
    {
      "cell_type": "code",
      "metadata": {
        "id": "dZe-9AI6rnXN"
      },
      "source": [
        "#Each key of the dictionary is an image name, and its value is a list of lists (containing the text entries, organized by line). \n",
        "#Below we illustrate the expected output for the first image:{‘testimage1’:[ [‘111020’,‘111020’,‘21’,‘’,‘95940’,‘59’,‘’,‘’,‘’,‘A’,‘1354’,‘00’,‘2’],\n",
        "#[‘111020’,‘111020’,‘21’,‘’,‘95861’,‘TC’,‘’,‘’,‘’,‘A’,‘3460’,‘00’,‘1’],...],‘testimage2’:...}(Note that the first two entries in each row are date strings, \n",
        "#so you may need to group text in neighboring boxes.)\n"
      ],
      "execution_count": null,
      "outputs": []
    },
    {
      "cell_type": "markdown",
      "metadata": {
        "id": "SUkpSmXM2ECE"
      },
      "source": [
        "Goal: {'testimage1':[['111020','111020','21','',‘95940’,‘59’,‘’,‘’,‘’,‘A’,‘1354’,‘00’,‘2’]]}"
      ]
    },
    {
      "cell_type": "code",
      "metadata": {
        "id": "8_a_7wrOCljS"
      },
      "source": [
        "#step 1: import and upload \n",
        "import json\n",
        "import pandas as pd\n",
        "import seaborns as sns\n",
        "from bs4 import BeautifulSoup "
      ],
      "execution_count": null,
      "outputs": []
    },
    {
      "cell_type": "code",
      "metadata": {
        "id": "htjM7YLJuoD6"
      },
      "source": [
        "#Open first and then repeat for other 4 json files\n",
        "with open('testimage1.json','r') as json_file: \n",
        "  json_data=json.load(json_file)"
      ],
      "execution_count": null,
      "outputs": []
    },
    {
      "cell_type": "code",
      "metadata": {
        "id": "1xzcoUiovPVR"
      },
      "source": [
        "#Check to see if imported as dictionary\n",
        "type(json_data)"
      ],
      "execution_count": null,
      "outputs": []
    },
    {
      "cell_type": "code",
      "metadata": {
        "id": "a-e7WyI8vKI_"
      },
      "source": [
        "#iterate over other key-value pairs using for loop\n",
        "for key,value in json_data.items():\n",
        "  print(key + ':', value)\n",
        "\n",
        "#for k in json_data.keys():\n",
        " #   print(k + ': ', json_data[k])\n"
      ],
      "execution_count": null,
      "outputs": []
    },
    {
      "cell_type": "code",
      "metadata": {
        "id": "jRWtMyPGw_sf"
      },
      "source": [
        "json_data[k]"
      ],
      "execution_count": null,
      "outputs": []
    },
    {
      "cell_type": "markdown",
      "metadata": {
        "id": "Ac4lDd4BxhEp"
      },
      "source": [
        "2nd json file"
      ]
    },
    {
      "cell_type": "code",
      "metadata": {
        "id": "lpHgKuMJxEZx"
      },
      "source": [
        "#Open 2nd json\n",
        "with open('testimage2.json','r') as json_file_2: \n",
        "  json_data_2=json.load(json_file_2)"
      ],
      "execution_count": null,
      "outputs": []
    },
    {
      "cell_type": "code",
      "metadata": {
        "id": "sUxq-cJqxcQw"
      },
      "source": [
        "#iterate over other key-value pairs using for loop\n",
        "for key,value in json_data_2.items():\n",
        "  print(key + ':', value)"
      ],
      "execution_count": null,
      "outputs": []
    },
    {
      "cell_type": "markdown",
      "metadata": {
        "id": "UshNzRfzxv6W"
      },
      "source": [
        "3rd json file"
      ]
    },
    {
      "cell_type": "code",
      "metadata": {
        "id": "nfGfgBVSxtH2"
      },
      "source": [
        "#Open 3rd json\n",
        "with open('testimage3.json','r') as json_file_3: \n",
        "  json_data_3=json.load(json_file_3)"
      ],
      "execution_count": null,
      "outputs": []
    },
    {
      "cell_type": "code",
      "metadata": {
        "id": "N5tyZB1Fxth4"
      },
      "source": [
        "#iterate over other key-value pairs using for loop\n",
        "for key,value in json_data_3.items():\n",
        "  print(key + ':', value)"
      ],
      "execution_count": null,
      "outputs": []
    },
    {
      "cell_type": "markdown",
      "metadata": {
        "id": "4L5qqo6Xx4Kn"
      },
      "source": [
        "4th json file"
      ]
    },
    {
      "cell_type": "code",
      "metadata": {
        "id": "71EnHgsvxttm"
      },
      "source": [
        "#Open 4th json\n",
        "with open('testimage4.json','r') as json_file_4: \n",
        "  json_data_4=json.load(json_file_4)"
      ],
      "execution_count": null,
      "outputs": []
    },
    {
      "cell_type": "code",
      "metadata": {
        "id": "MgcEt0jcx_dR"
      },
      "source": [
        "#iterate over other key-value pairs using for loop\n",
        "for key,value in json_data_4.items():\n",
        "  print(key + ':', value)"
      ],
      "execution_count": null,
      "outputs": []
    },
    {
      "cell_type": "markdown",
      "metadata": {
        "id": "sDLWWLkHx_oZ"
      },
      "source": [
        "5th json file"
      ]
    },
    {
      "cell_type": "code",
      "metadata": {
        "id": "V3MRP1wkyBQN"
      },
      "source": [
        "#Open 5th json\n",
        "with open('testimage5.json','r') as json_file_5: \n",
        "  json_data_5=json.load(json_file_5)"
      ],
      "execution_count": null,
      "outputs": []
    },
    {
      "cell_type": "code",
      "metadata": {
        "id": "vG6lOkyHyEWy"
      },
      "source": [
        "#iterate over other key-value pairs using for loop\n",
        "for key,value in json_data_5.items():\n",
        "  print(key + ':', value)"
      ],
      "execution_count": null,
      "outputs": []
    },
    {
      "cell_type": "markdown",
      "metadata": {
        "id": "Pq5ofgGeyKP1"
      },
      "source": [
        "Combine each of 5 json pieces into single dictionary"
      ]
    },
    {
      "cell_type": "code",
      "metadata": {
        "id": "dC3lzSQQyTzF"
      },
      "source": [
        "# Merge contents \n",
        "new_merged_json_file = {**json_data,**json_data_2, **json_data_3, **json_data_3, **json_data_4, **json_data_5}"
      ],
      "execution_count": null,
      "outputs": []
    },
    {
      "cell_type": "code",
      "metadata": {
        "id": "2Jqa7DBh2QG7"
      },
      "source": [
        "#Show results\n",
        "print(new_merged_json_file)"
      ],
      "execution_count": null,
      "outputs": []
    },
    {
      "cell_type": "markdown",
      "metadata": {
        "id": "yis_7Qs22WEB"
      },
      "source": [
        "*Exercise Complete*"
      ]
    },
    {
      "cell_type": "code",
      "metadata": {
        "id": "39AHtgqACPIK"
      },
      "source": [
        "#document needs to be parsed so we can extract data.\n",
        "   \n",
        "soup = BeautifulSoup(page.content, 'html.parser')\n",
        "type(soup)"
      ],
      "execution_count": null,
      "outputs": []
    },
    {
      "cell_type": "code",
      "metadata": {
        "id": "aK9NHz1PCx2f"
      },
      "source": [
        "#prettify method formats \n",
        "print(soup.prettify())"
      ],
      "execution_count": null,
      "outputs": []
    },
    {
      "cell_type": "code",
      "metadata": {
        "id": "6JR4LB2uszNO"
      },
      "source": [
        "#list items identified through Soup\n",
        "[item for item in list(soup.children)]"
      ],
      "execution_count": null,
      "outputs": []
    },
    {
      "cell_type": "code",
      "metadata": {
        "id": "woZtarQTs6M6"
      },
      "source": [
        "#Top level\n",
        "[type(item) for item in list(soup.children)]"
      ],
      "execution_count": null,
      "outputs": []
    },
    {
      "cell_type": "raw",
      "metadata": {
        "id": "jXH-UJQC8Idf"
      },
      "source": [
        "# In addition to Python 3, make sure the following libraries are installed\n",
        "# Note: This is a non-executable cell\n",
        "\n",
        "$ pip install pandas   \n",
        "$ pip install requests\n",
        "$ pip install beautifulsoup4"
      ]
    }
  ]
}